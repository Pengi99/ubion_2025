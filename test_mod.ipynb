{
 "cells": [
  {
   "cell_type": "code",
   "execution_count": null,
   "metadata": {},
   "outputs": [],
   "source": [
    "import database"
   ]
  },
  {
   "cell_type": "code",
   "execution_count": null,
   "metadata": {},
   "outputs": [],
   "source": [
    "from database import MyDB"
   ]
  },
  {
   "cell_type": "code",
   "execution_count": 1,
   "metadata": {},
   "outputs": [],
   "source": [
    "import sys"
   ]
  },
  {
   "cell_type": "code",
   "execution_count": 3,
   "metadata": {},
   "outputs": [
    {
     "data": {
      "text/plain": [
       "['c:/ubion_2025',\n",
       " 'C:/pyCode/packages',\n",
       " 'C:/pyCode/modules',\n",
       " 'c:/Users/moons/AppData/Local/Programs/Python/Python311/python311.zip',\n",
       " 'c:/Users/moons/AppData/Local/Programs/Python/Python311/Lib',\n",
       " 'c:/Users/moons/AppData/Local/Programs/Python/Python311/DLLs',\n",
       " '',\n",
       " 'C:/Users/moons/AppData/Roaming/Python/Python311/site-packages',\n",
       " 'C:/Users/moons/AppData/Roaming/Python/Python311/site-packages/win32',\n",
       " 'C:/Users/moons/AppData/Roaming/Python/Python311/site-packages/win32/lib',\n",
       " 'C:/Users/moons/AppData/Roaming/Python/Python311/site-packages/Pythonwin',\n",
       " 'c:/Users/moons/AppData/Local/Programs/Python/Python311',\n",
       " 'c:/Users/moons/AppData/Local/Programs/Python/Python311/Lib/site-packages']"
      ]
     },
     "execution_count": 3,
     "metadata": {},
     "output_type": "execute_result"
    }
   ],
   "source": [
    "# window 경우\n",
    "list(map(\n",
    "    lambda x : x.replace(\"\\\\\", \"/\"),\n",
    "    sys.path\n",
    "))"
   ]
  },
  {
   "cell_type": "code",
   "execution_count": 2,
   "metadata": {},
   "outputs": [
    {
     "data": {
      "text/plain": [
       "['c:\\\\ubion_2025',\n",
       " 'C:\\\\pyCode\\\\packages',\n",
       " 'C:\\\\pyCode\\\\modules',\n",
       " 'c:\\\\Users\\\\moons\\\\AppData\\\\Local\\\\Programs\\\\Python\\\\Python311\\\\python311.zip',\n",
       " 'c:\\\\Users\\\\moons\\\\AppData\\\\Local\\\\Programs\\\\Python\\\\Python311\\\\Lib',\n",
       " 'c:\\\\Users\\\\moons\\\\AppData\\\\Local\\\\Programs\\\\Python\\\\Python311\\\\DLLs',\n",
       " '',\n",
       " 'C:\\\\Users\\\\moons\\\\AppData\\\\Roaming\\\\Python\\\\Python311\\\\site-packages',\n",
       " 'C:\\\\Users\\\\moons\\\\AppData\\\\Roaming\\\\Python\\\\Python311\\\\site-packages\\\\win32',\n",
       " 'C:\\\\Users\\\\moons\\\\AppData\\\\Roaming\\\\Python\\\\Python311\\\\site-packages\\\\win32\\\\lib',\n",
       " 'C:\\\\Users\\\\moons\\\\AppData\\\\Roaming\\\\Python\\\\Python311\\\\site-packages\\\\Pythonwin',\n",
       " 'c:\\\\Users\\\\moons\\\\AppData\\\\Local\\\\Programs\\\\Python\\\\Python311',\n",
       " 'c:\\\\Users\\\\moons\\\\AppData\\\\Local\\\\Programs\\\\Python\\\\Python311\\\\Lib\\\\site-packages']"
      ]
     },
     "execution_count": 2,
     "metadata": {},
     "output_type": "execute_result"
    }
   ],
   "source": [
    "# mac \n",
    "sys.path"
   ]
  }
 ],
 "metadata": {
  "kernelspec": {
   "display_name": "Python 3",
   "language": "python",
   "name": "python3"
  },
  "language_info": {
   "codemirror_mode": {
    "name": "ipython",
    "version": 3
   },
   "file_extension": ".py",
   "mimetype": "text/x-python",
   "name": "python",
   "nbconvert_exporter": "python",
   "pygments_lexer": "ipython3",
   "version": "3.11.1"
  }
 },
 "nbformat": 4,
 "nbformat_minor": 2
}
