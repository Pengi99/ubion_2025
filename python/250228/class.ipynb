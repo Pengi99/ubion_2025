{
 "cells": [
  {
   "cell_type": "code",
   "execution_count": null,
   "metadata": {},
   "outputs": [],
   "source": [
    "# 클래스 변수 존재하는 class 생성\n",
    "class Test:\n",
    "    # 클래스 변수 생성\n",
    "    user_cnt = 0\n",
    "    user_list = []\n",
    "\n",
    "    # 생성자 함수 생성 \n",
    "    def __init__(self, _name, _age):\n",
    "        self.name = _name\n",
    "        self.age = _age\n",
    "        # 클래스 변수 user_list에 _name을 추가\n",
    "        # 클래스 변수 user_list = self.user_list\n",
    "        # self.user_list.append(_name) (잘못된 방법)\n",
    "        # 클래스(Test) 안에(.) 변수인 user_list에 추가 \n",
    "        Test.user_list.append(_name)\n",
    "        # Class가 생성될때 마다 cnt의 값을 1씩 증가 시킨다\n",
    "        Test.user_cnt += 1\n",
    "\n",
    "    # 클래스 내부의 self 변수들을 출력하는 함수 \n",
    "    def user_info(self):\n",
    "        print(f\"이름은  {self.name}, 나이는 {self.age}\")\n",
    "        # print(f\"이름은 {slef.aa}, 나이는 {slef.age}\")\n",
    "    # 클래스 변수을 출력하는 함수 \n",
    "    def users_info(self):\n",
    "        print(f\"등록된 유저의 수는 {Test.user_cnt}\")\n",
    "        print(f\"등록된 유저의 목록은 {Test.user_list}\")\n",
    "\n",
    "\n",
    "\n"
   ]
  },
  {
   "cell_type": "code",
   "execution_count": null,
   "metadata": {},
   "outputs": [],
   "source": [
    "# class 생성 \n",
    "# __init__(self, _name, _age) 함수가 호출\n",
    "# self -> user_1 값(주소값)\n",
    "# _name -> 'kim' 대입\n",
    "# _age -> 20 대입\n",
    "# class가 생성되는 공간에 name 변수를 생성하여 'kim' 저장 \n",
    "# class가 생성되는 공간에 age 변수를 생성하여 20 대입\n",
    "# Test class 안에 존재하는 user_list 클래스 변수에 'kim' 추가\n",
    "# user_list는 [] --> user_list는 ['kim']\n",
    "# Test class 안에 존재하는 user_cnt 클래스 변수를 1 증가시킨다.\n",
    "# user_cnt는 0 --> user_cnt는 1\n",
    "\n",
    "user_1 = Test('kim', 20)"
   ]
  },
  {
   "cell_type": "code",
   "execution_count": null,
   "metadata": {},
   "outputs": [],
   "source": [
    "# class 안에 있는 함수를 호출 \n",
    "user_1.user_info()\n",
    "user_1.users_info()"
   ]
  },
  {
   "cell_type": "code",
   "execution_count": null,
   "metadata": {},
   "outputs": [],
   "source": [
    "# __init__(self, _name, _age) 호출\n",
    "# self에는 user_2(주소값)\n",
    "# _name에는 'park' 대입\n",
    "# _age에는 30 대입\n",
    "# class가 생성되는 공간 안에 name에 'park' 데이터를 저장 \n",
    "# class가 생성되는 공간 안에 age에 30 데이터를 저장\n",
    "# Test class 안에 존재하는 클래스 변수 user_list에 'park' 추가 \n",
    "# user_list는 ['kim'] --> user_list는 ['kim', 'park']\n",
    "# Test class 안에 존재하는 클래스 변수 user_cnt를 1 증가시킨다\n",
    "# user_cnt는 1 --> user_cnt는 2\n",
    "\n",
    "user_2 = Test('park', 30)"
   ]
  },
  {
   "cell_type": "code",
   "execution_count": null,
   "metadata": {},
   "outputs": [],
   "source": [
    "user_2.user_info()\n",
    "user_2.users_info()"
   ]
  },
  {
   "cell_type": "markdown",
   "metadata": {},
   "source": [
    "### 은행 계좌 class 하나 생성 \n",
    "\n",
    "- 생성자 함수\n",
    "    - 이름\n",
    "        - name [str]\n",
    "    - 종류(\n",
    "        '00', '01' : 기본 (비대면, 대면), \n",
    "        '10', '11' : 급여 통장(비대면, 대면), \n",
    "        '20', '21' : 모임 통장(비대면, 대면) \n",
    "    )\n",
    "        - type [str]\n",
    "    - 잔액 (기본 값 : 0)\n",
    "        - cost  [int]\n",
    "    - 생년월일\n",
    "        - birth [str]\n",
    "    - 입/출금 내역\n",
    "        - log\n",
    "\n",
    "- 함수 생성\n",
    "    - 입금\n",
    "        - 종류 (0 : 일반, 1 : 급여)\n",
    "            - type [int]\n",
    "        - 금액 \n",
    "            - cost [int]\n",
    "        - 입금자명 (기본값 : \"\")\n",
    "            - s_name [str]\n",
    "        - 잔액에 금액을 합해서 잔액에 저장\n",
    "        - 종류, 금액, 입금자명를 리스트로 생성하여 입/출금 내역에 추가가\n",
    "    - 출금\n",
    "        - 종류 (10 : 현금, 11 : 계좌이체)\n",
    "            - type [int]\n",
    "        - 금액\n",
    "            - cost [int]\n",
    "        - 사유(기본값 : 10)\n",
    "            - why [str]\n",
    "        - 잔액에 금액을 빼서 잔액에 저장\n",
    "            - 조건 : 현재 잔액이 금액보다 크거나 같을 경우만 실행 \n",
    "            - 조건이 거짓이라면 \"한도 초과\"메시지를 출력하고 잔액은 유지\n",
    "        - 종류, 금액, 사유를 리스트로 생성하여 입/출금 내역에 추가 \n",
    "    - 내 통장의 정보를 출력하는 함수 \n",
    "        - 이름, 종류, 잔액를 출력해주는 함수\n",
    "    - 입/출금 히스토리를 출력하는 함수 \n",
    "        - 종류 (0 : 전체 내역 확인, 1 : 입금만, 2 : 출금만)\n",
    "        - 종류에 따라 내역을 출력\n"
   ]
  },
  {
   "cell_type": "code",
   "execution_count": 123,
   "metadata": {},
   "outputs": [],
   "source": [
    "# class 선언 \n",
    "class Bank:\n",
    "    # 클래스 변수 생성 : 은행에 생성된 계좌의 수를 확인\n",
    "    user_cnt = 0\n",
    "    # 통장 종류의 코드 데이터 딕셔너리를 생성 \n",
    "    b_type = {\n",
    "        \"00\" : \"기본, 비대면\", \n",
    "        \"01\" : \"기본, 대면\", \n",
    "        \"10\" : \"급여, 비대면\", \n",
    "        \"11\" : \"급여, 대면\", \n",
    "        \"20\" : \"모임, 비대면\", \n",
    "        \"21\" : \"모임, 대면\"\n",
    "    }\n",
    "\n",
    "    # 생성자 함수 \n",
    "    def __init__(\n",
    "        self, \n",
    "        _name, \n",
    "        _birth, \n",
    "        _type = \"00\", \n",
    "        _cost = 0\n",
    "    ):\n",
    "        self.name = _name\n",
    "        self.birth = _birth\n",
    "        self.type = _type\n",
    "        self.cost = _cost\n",
    "        self.log = []\n",
    "\n",
    "    # self 변수들을 출력하는 함수 \n",
    "    def view_info(self):\n",
    "        # class의 self 변수들을 출력\n",
    "        # name, birth, cost는 변수의 데이터를 그대로\n",
    "        # type은 \n",
    "        # 클래스 변수의 b_type의 데이터에서 대응이되는 value 출력\n",
    "        print(\n",
    "            f\"\"\"\n",
    "            계약자 이름 : {self.name} \\n\n",
    "            계약자 생년월일 : {self.birth} \\n\n",
    "            현재 잔액 : {self.cost} \\n\n",
    "            통장의 종류 : {Bank.b_type[self.type]}\n",
    "            \"\"\"\n",
    "        )\n",
    "    # b_type 코드표에 코드를 추가하는 함수 \n",
    "    # _pwd, _code, _value\n",
    "    def update_code_book(self, _pwd, _code, _value):\n",
    "        # 입력받은 pwd는 '1111'이라면 내용 수정\n",
    "        if _pwd == '1111':\n",
    "            Bank.b_type[_code] = _value\n",
    "            print('코드 수정 완료')\n",
    "        else:\n",
    "            print('관리자가 아닙니다. ')\n",
    "\n",
    "    # 입금 함수 생성 -> 잔액이 증가하는 함수 \n",
    "    # 매개변수 : 종류(0, 1), 금액, 입금자명(\"\")\n",
    "    def deposit(self, _cost, _type = 0, _s_name = \"\"):\n",
    "        # self.cost를 _cost만큼 증가시킨다. \n",
    "        self.cost += _cost\n",
    "        # 입/출금 내역을 추가 -> [종류, 입금금액, 입금자명]\n",
    "        log_data = [_type, _cost, _s_name]\n",
    "        self.log.append(log_data)\n",
    "        # 입금 금액과 입금자, 현재 잔액을 출력\n",
    "        print(\n",
    "            f\"\"\"\n",
    "                입금자 명 : {_s_name} \\n\n",
    "                입금 금액 : {_cost}   \\n\n",
    "                현재 잔액 : {self.cost}\n",
    "            \"\"\"\n",
    "        )\n",
    "\n",
    "    # 출금 함수 생성 \n",
    "    # 매개변수 (금액, 종류(10-기본값, 11), 사유 = \"\")\n",
    "    def withdrawal(self, _cost, _type=10, _why = \"\"):\n",
    "        # 조건식 생성\n",
    "        # 현재 잔액과 _cost을 비교 \n",
    "        # 현재 잔액이 _cost보다 크거나 같다면\n",
    "        if self.cost >= _cost:\n",
    "            # 현재 잔액에서 _cost만큼 빼고 저장\n",
    "            self.cost -= _cost\n",
    "            # 사유, 출금 금액, 현재 잔액을 출력\n",
    "            print(\n",
    "                f\"\"\"\n",
    "                    사유 : {_why} \n",
    "                    출금 금액 : {_cost}\n",
    "                    현재 잔액 : {self.cost}\n",
    "                \"\"\"\n",
    "            )\n",
    "            # 입/출금 내역에 [종류, 금액, 사유] 추가가\n",
    "            log_data = [_type, _cost, _why]\n",
    "            self.log.append(log_data)\n",
    "        # 위의 조건식이 거짓이라면\n",
    "        else:\n",
    "            # 잔액 부족 출력 \n",
    "            # ( 현재 잔액의 데이터는 변화가 존재하지 않는다. )\n",
    "            print(\"잔액이 부족합니다.\")\n",
    "        \n",
    "    # 로그를 출력하는 함수를 생성 \n",
    "    # 입/출금을 모두 출력 , 입금만 출력, 출금만 출력 하는 하나의 함수 생성\n",
    "    def view_log(self, _flag = 0):\n",
    "        # _flag가 0인 경우 로그 전체 출력, 1은 입금내역 출력, 2는 출금 출력\n",
    "        if _flag == 0:\n",
    "            # 전체 로그를 출력 \n",
    "            print(self.log)\n",
    "        elif _flag == 1:\n",
    "            # 입금 내역을 출력 \n",
    "            # 반복문 생성  -> log의 길이만큼\n",
    "            for i in range(len(self.log)):\n",
    "                # i는 index로 사용가능\n",
    "                # 특정 위치의 데이터가 10보다 작다\n",
    "                # if self.log[i][0] < 10:\n",
    "                # 특정 위치의 데이터의 길이가 1인 경우\n",
    "                if len(\n",
    "                    str(\n",
    "                        self.log[i][0]\n",
    "                    )\n",
    "                ) == 1:\n",
    "                    print(self.log[i])\n",
    "        elif _flag == 2:\n",
    "            for i in range(len(self.log)):\n",
    "                if len(str(self.log[i][0])) == 2:\n",
    "                    print(self.log[i])\n",
    "\n",
    "\n",
    "    def view_log_2(self, _flag = 0):\n",
    "        for i in range(len(self.log)):\n",
    "            if _flag == 0:\n",
    "                print(self.log[i])\n",
    "            else:\n",
    "                if len(str(self.log[i][0])) == _flag:\n",
    "                    print(self.log[i])\n",
    "            # elif _flag == 1:\n",
    "            #     if len(str(self.log[i][0])) == 1:\n",
    "            #         print(self.log[i])\n",
    "            # elif _flag == 2:\n",
    "            #     if len(str(self.log[i][0])) == 2:\n",
    "            #         print(self.log[i])\n"
   ]
  },
  {
   "cell_type": "code",
   "execution_count": 124,
   "metadata": {},
   "outputs": [],
   "source": [
    "# class 생성 \n",
    "bank_1 = Bank(\"kim\", \"001010\")"
   ]
  },
  {
   "cell_type": "code",
   "execution_count": 36,
   "metadata": {},
   "outputs": [
    {
     "name": "stdout",
     "output_type": "stream",
     "text": [
      "\n",
      "            계약자 이름 : kim \n",
      "\n",
      "            계약자 생년월일 : 001010 \n",
      "\n",
      "            현재 잔액 : 0 \n",
      "\n",
      "            통장의 종류 : 기본, 비대면\n",
      "            \n"
     ]
    }
   ],
   "source": [
    "# view_info() 함수 호출\n",
    "bank_1.view_info()"
   ]
  },
  {
   "cell_type": "code",
   "execution_count": null,
   "metadata": {},
   "outputs": [],
   "source": [
    "bank_1.update_code_book('1111', '30', '예금, 비대면')"
   ]
  },
  {
   "cell_type": "code",
   "execution_count": null,
   "metadata": {},
   "outputs": [],
   "source": [
    "bank_1.update_code_book('1234', '31', '예금, 대면')"
   ]
  },
  {
   "cell_type": "code",
   "execution_count": null,
   "metadata": {},
   "outputs": [],
   "source": [
    "bank_1.b_type"
   ]
  },
  {
   "cell_type": "code",
   "execution_count": 128,
   "metadata": {},
   "outputs": [
    {
     "name": "stdout",
     "output_type": "stream",
     "text": [
      "\n",
      "                입금자 명 : 나나 \n",
      "\n",
      "                입금 금액 : 20000   \n",
      "\n",
      "                현재 잔액 : 80000\n",
      "            \n"
     ]
    }
   ],
   "source": [
    "# 입금 함수 호출 \n",
    "bank_1.deposit(20000, _s_name='나나')"
   ]
  },
  {
   "cell_type": "code",
   "execution_count": 40,
   "metadata": {},
   "outputs": [
    {
     "data": {
      "text/plain": [
       "[[0, 20000, '나나'], [0, 20000, '나나'], [0, 20000, '나나']]"
      ]
     },
     "execution_count": 40,
     "metadata": {},
     "output_type": "execute_result"
    }
   ],
   "source": [
    "bank_1.log"
   ]
  },
  {
   "cell_type": "code",
   "execution_count": 129,
   "metadata": {},
   "outputs": [
    {
     "name": "stdout",
     "output_type": "stream",
     "text": [
      "\n",
      "                    사유 : 통신비 \n",
      "                    출금 금액 : 50000\n",
      "                    현재 잔액 : 30000\n",
      "                \n"
     ]
    }
   ],
   "source": [
    "# 출금 함수 \n",
    "bank_1.withdrawal(50000, _why=\"통신비\")"
   ]
  },
  {
   "cell_type": "code",
   "execution_count": 79,
   "metadata": {},
   "outputs": [
    {
     "data": {
      "text/plain": [
       "[[0, 20000, '나나'],\n",
       " [0, 20000, '나나'],\n",
       " [0, 20000, '나나'],\n",
       " [0, 20000, '나나'],\n",
       " [0, 20000, '나나'],\n",
       " [0, 20000, '나나'],\n",
       " [0, 20000, '나나'],\n",
       " [0, 20000, '나나'],\n",
       " [0, 20000, '나나'],\n",
       " [0, 20000, '나나'],\n",
       " [10, 50000, '통신비'],\n",
       " [10, 50000, '통신비'],\n",
       " [10, 50000, '통신비'],\n",
       " [10, 50000, '통신비']]"
      ]
     },
     "execution_count": 79,
     "metadata": {},
     "output_type": "execute_result"
    }
   ],
   "source": [
    "bank_1.log"
   ]
  },
  {
   "cell_type": "code",
   "execution_count": 119,
   "metadata": {},
   "outputs": [
    {
     "name": "stdout",
     "output_type": "stream",
     "text": [
      "[10, 50000, '통신비']\n"
     ]
    }
   ],
   "source": [
    "bank_1.view_log(2)"
   ]
  },
  {
   "cell_type": "code",
   "execution_count": 132,
   "metadata": {},
   "outputs": [
    {
     "name": "stdout",
     "output_type": "stream",
     "text": [
      "[0, 20000, '나나']\n",
      "[0, 20000, '나나']\n",
      "[0, 20000, '나나']\n",
      "[0, 20000, '나나']\n",
      "[10, 50000, '통신비']\n"
     ]
    }
   ],
   "source": [
    "bank_1.view_log_2()"
   ]
  },
  {
   "cell_type": "code",
   "execution_count": 152,
   "metadata": {},
   "outputs": [],
   "source": [
    "# 상속 -> 클래스가 클래스의 기능을 물려받아서 사용\n",
    "class A:\n",
    "    def __init__(self, _name):\n",
    "        self.name = _name\n",
    "        \n",
    "    def view_name(self):\n",
    "        print(f\"이름은 {self.name} 입니다.\")\n",
    "    \n",
    "# B클래스는 A클래스의 기능을 상속받아서 사용\n",
    "class B(A):\n",
    "    def __init__(self, _name, _age):\n",
    "        # 함수에 _name의 값을 받아오는 곳에 부모클래스의 생성자함수를 실행\n",
    "        # 부모클래스(super())에 있는 생성자 함수(__init__())에 인자값은 _name으로 호출\n",
    "        super().__init__(_name)\n",
    "        self.age = _age\n",
    "    \n",
    "    # view_name() 함수를 이용해서 등록된 사람의 이름과 나이를 출력하고 싶다.\n",
    "\n",
    "    def view_name(self):\n",
    "        print(f\"이름은 {self.name} 입니다.나이는 {self.age}\")\n",
    "    def view_age(self):\n",
    "        print(self.age)"
   ]
  },
  {
   "cell_type": "code",
   "execution_count": 153,
   "metadata": {},
   "outputs": [],
   "source": [
    "a = A('kim')\n",
    "c = B('kim', 20)"
   ]
  },
  {
   "cell_type": "code",
   "execution_count": 154,
   "metadata": {},
   "outputs": [
    {
     "name": "stdout",
     "output_type": "stream",
     "text": [
      "이름은 kim 입니다.\n",
      "이름은 kim 입니다.나이는 20\n"
     ]
    }
   ],
   "source": [
    "a.view_name()\n",
    "c.view_name()"
   ]
  },
  {
   "cell_type": "code",
   "execution_count": 165,
   "metadata": {},
   "outputs": [],
   "source": [
    "class InplaceTest:\n",
    "\n",
    "    def __init__(self, _num):\n",
    "        self.num = _num\n",
    "\n",
    "    def add_num(self, other_num, inplace = False):\n",
    "        # print(self.num + other_num)\n",
    "        if inplace:\n",
    "            # inplace가 True인 경우는 데이터를 변화\n",
    "            self.num = self.num + other_num\n",
    "        else:\n",
    "            # 결과값을 되돌려주고 함수를 종료 -> 데이터의 변화는 존재하지 않는다.\n",
    "            return self.num + other_num"
   ]
  },
  {
   "cell_type": "code",
   "execution_count": 166,
   "metadata": {},
   "outputs": [],
   "source": [
    "test = InplaceTest(10)"
   ]
  },
  {
   "cell_type": "code",
   "execution_count": 169,
   "metadata": {},
   "outputs": [],
   "source": [
    "test.num = test.add_num(5)"
   ]
  },
  {
   "cell_type": "code",
   "execution_count": 170,
   "metadata": {},
   "outputs": [
    {
     "name": "stdout",
     "output_type": "stream",
     "text": [
      "15\n"
     ]
    }
   ],
   "source": [
    "print(test.num)"
   ]
  },
  {
   "cell_type": "code",
   "execution_count": 171,
   "metadata": {},
   "outputs": [
    {
     "name": "stdout",
     "output_type": "stream",
     "text": [
      "20\n"
     ]
    }
   ],
   "source": [
    "# test안에 add_num() 함수를 이용하여 test 안에 있는 num 변수의 데이터를 변경\n",
    "test.num = test.add_num(5)\n",
    "print(test.num)"
   ]
  },
  {
   "cell_type": "code",
   "execution_count": 173,
   "metadata": {},
   "outputs": [],
   "source": [
    "test.add_num(-8, inplace=True)"
   ]
  },
  {
   "cell_type": "code",
   "execution_count": 174,
   "metadata": {},
   "outputs": [
    {
     "name": "stdout",
     "output_type": "stream",
     "text": [
      "12\n"
     ]
    }
   ],
   "source": [
    "print(test.num)"
   ]
  },
  {
   "cell_type": "code",
   "execution_count": 175,
   "metadata": {},
   "outputs": [],
   "source": [
    "test.num = test.add_num(5, inplace=True)"
   ]
  },
  {
   "cell_type": "code",
   "execution_count": 176,
   "metadata": {},
   "outputs": [
    {
     "name": "stdout",
     "output_type": "stream",
     "text": [
      "None\n"
     ]
    }
   ],
   "source": [
    "print(test.num)"
   ]
  },
  {
   "cell_type": "code",
   "execution_count": null,
   "metadata": {},
   "outputs": [],
   "source": []
  }
 ],
 "metadata": {
  "kernelspec": {
   "display_name": "Python 3",
   "language": "python",
   "name": "python3"
  },
  "language_info": {
   "codemirror_mode": {
    "name": "ipython",
    "version": 3
   },
   "file_extension": ".py",
   "mimetype": "text/x-python",
   "name": "python",
   "nbconvert_exporter": "python",
   "pygments_lexer": "ipython3",
   "version": "3.11.1"
  }
 },
 "nbformat": 4,
 "nbformat_minor": 2
}
