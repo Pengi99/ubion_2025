{
 "cells": [
  {
   "cell_type": "code",
   "execution_count": 2,
   "metadata": {},
   "outputs": [],
   "source": [
    "# 클래스 변수 존재하는 class 생성\n",
    "class Test:\n",
    "    # 클래스 변수 생성\n",
    "    user_cnt = 0\n",
    "    user_list = []\n",
    "\n",
    "    # 생성자 함수 생성 \n",
    "    def __init__(self, _name, _age):\n",
    "        self.name = _name\n",
    "        self.age = _age\n",
    "        # 클래스 변수 user_list에 _name을 추가\n",
    "        # 클래스 변수 user_list = self.user_list\n",
    "        # self.user_list.append(_name) (잘못된 방법)\n",
    "        # 클래스(Test) 안에(.) 변수인 user_list에 추가 \n",
    "        Test.user_list.append(_name)\n",
    "        # Class가 생성될때 마다 cnt의 값을 1씩 증가 시킨다\n",
    "        Test.user_cnt += 1\n",
    "\n",
    "    # 클래스 내부의 self 변수들을 출력하는 함수 \n",
    "    def user_info(self):\n",
    "        print(f\"이름은  {self.name}, 나이는 {self.age}\")\n",
    "        # print(f\"이름은 {slef.aa}, 나이는 {slef.age}\")\n",
    "    # 클래스 변수을 출력하는 함수 \n",
    "    def users_info(self):\n",
    "        print(f\"등록된 유저의 수는 {Test.user_cnt}\")\n",
    "        print(f\"등록된 유저의 목록은 {Test.user_list}\")\n",
    "\n",
    "\n",
    "\n"
   ]
  },
  {
   "cell_type": "code",
   "execution_count": null,
   "metadata": {},
   "outputs": [],
   "source": [
    "# class 생성 \n",
    "# __init__(self, _name, _age) 함수가 호출\n",
    "# self -> user_1 값(주소값)\n",
    "# _name -> 'kim' 대입\n",
    "# _age -> 20 대입\n",
    "# class가 생성되는 공간에 name 변수를 생성하여 'kim' 저장 \n",
    "# class가 생성되는 공간에 age 변수를 생성하여 20 대입\n",
    "# Test class 안에 존재하는 user_list 클래스 변수에 'kim' 추가\n",
    "# user_list는 [] --> user_list는 ['kim']\n",
    "# Test class 안에 존재하는 user_cnt 클래스 변수를 1 증가시킨다.\n",
    "# user_cnt는 0 --> user_cnt는 1\n",
    "\n",
    "user_1 = Test('kim', 20)"
   ]
  },
  {
   "cell_type": "code",
   "execution_count": 4,
   "metadata": {},
   "outputs": [
    {
     "name": "stdout",
     "output_type": "stream",
     "text": [
      "이름은  kim, 나이는 20\n",
      "등록된 유저의 수는 1\n",
      "등록된 유저의 목록은 ['kim']\n"
     ]
    }
   ],
   "source": [
    "# class 안에 있는 함수를 호출 \n",
    "user_1.user_info()\n",
    "user_1.users_info()"
   ]
  },
  {
   "cell_type": "code",
   "execution_count": null,
   "metadata": {},
   "outputs": [],
   "source": [
    "# __init__(self, _name, _age) 호출\n",
    "# self에는 user_2(주소값)\n",
    "# _name에는 'park' 대입\n",
    "# _age에는 30 대입\n",
    "# class가 생성되는 공간 안에 name에 'park' 데이터를 저장 \n",
    "# class가 생성되는 공간 안에 age에 30 데이터를 저장\n",
    "# Test class 안에 존재하는 클래스 변수 user_list에 'park' 추가 \n",
    "# user_list는 ['kim'] --> user_list는 ['kim', 'park']\n",
    "# Test class 안에 존재하는 클래스 변수 user_cnt를 1 증가시킨다\n",
    "# user_cnt는 1 --> user_cnt는 2\n",
    "\n",
    "user_2 = Test('park', 30)"
   ]
  },
  {
   "cell_type": "code",
   "execution_count": 6,
   "metadata": {},
   "outputs": [
    {
     "name": "stdout",
     "output_type": "stream",
     "text": [
      "이름은  park, 나이는 30\n",
      "등록된 유저의 수는 2\n",
      "등록된 유저의 목록은 ['kim', 'park']\n"
     ]
    }
   ],
   "source": [
    "user_2.user_info()\n",
    "user_2.users_info()"
   ]
  },
  {
   "cell_type": "markdown",
   "metadata": {},
   "source": [
    "### 은행 계좌 class 하나 생성 \n",
    "\n",
    "- 생성자 함수\n",
    "    - 이름\n",
    "        - name [str]\n",
    "    - 종류(\n",
    "        '00', '01' : 기본 (비대면, 대면), \n",
    "        '10', '11' : 급여 통장(비대면, 대면), \n",
    "        '20', '21' : 모임 통장(비대면, 대면) \n",
    "    )\n",
    "        - type [str]\n",
    "    - 잔액 (기본 값 : 0)\n",
    "        - cost  [int]\n",
    "    - 생년월일\n",
    "        - birth [str]\n",
    "    - 입/출금 내역\n",
    "        - log\n",
    "\n",
    "- 함수 생성\n",
    "    - 입금\n",
    "        - 종류 (0 : 일반, 1 : 급여)\n",
    "            - type [int]\n",
    "        - 금액 \n",
    "            - cost [int]\n",
    "        - 입금자명 (기본값 : \"\")\n",
    "            - s_name [str]\n",
    "        - 잔액에 금액을 합해서 잔액에 저장\n",
    "        - 종류, 금액, 입금자명를 리스트로 생성하여 입/출금 내역에 추가가\n",
    "    - 출금\n",
    "        - 종류 (10 : 현금, 11 : 계좌이체)\n",
    "            - type [int]\n",
    "        - 금액\n",
    "            - cost [int]\n",
    "        - 사유(기본값 : 10)\n",
    "            - why [str]\n",
    "        - 잔액에 금액을 빼서 잔액에 저장\n",
    "            - 조건 : 현재 잔액이 금액보다 크거나 같을 경우만 실행 \n",
    "            - 조건이 거짓이라면 \"한도 초과\"메시지를 출력하고 잔액은 유지\n",
    "        - 종류, 금액, 사유를 리스트로 생성하여 입/출금 내역에 추가 \n",
    "    - 내 통장의 정보를 출력하는 함수 \n",
    "        - 이름, 종류, 잔액를 출력해주는 함수\n",
    "    - 입/출금 히스토리를 출력하는 함수 \n",
    "        - 종류 (0 : 전체 내역 확인, 1 : 입금만, 2 : 출금만)\n",
    "        - 종류에 따라 내역을 출력\n"
   ]
  },
  {
   "cell_type": "code",
   "execution_count": null,
   "metadata": {},
   "outputs": [],
   "source": [
    "# class 선언 \n",
    "class Bank:\n",
    "    # 클래스 변수 생성 : 은행에 생성된 계좌의 수를 확인\n",
    "    user_cnt = 0\n",
    "    # 통장 종류의 코드 데이터 딕셔너리를 생성 \n",
    "    b_type = {\n",
    "        \"00\" : \"기본, 비대면\", \n",
    "        \"01\" : \"기본, 대면\", \n",
    "        \"10\" : \"급여, 비대면\", \n",
    "        \"11\" : \"급여, 대면\", \n",
    "        \"20\" : \"모임, 비대면\", \n",
    "        \"21\" : \"모임, 대면\"\n",
    "    }\n",
    "\n",
    "    # 생성자 함수 \n",
    "    def __init__(\n",
    "        self, \n",
    "        _name, \n",
    "        _birth, \n",
    "        _type = \"00\", \n",
    "        _cost = 0\n",
    "    ):\n",
    "        self.name = _name\n",
    "        self.birth = _birth\n",
    "        self.type = _type\n",
    "        self.cost = _cost\n",
    "        self.log = []"
   ]
  }
 ],
 "metadata": {
  "kernelspec": {
   "display_name": "Python 3",
   "language": "python",
   "name": "python3"
  },
  "language_info": {
   "codemirror_mode": {
    "name": "ipython",
    "version": 3
   },
   "file_extension": ".py",
   "mimetype": "text/x-python",
   "name": "python",
   "nbconvert_exporter": "python",
   "pygments_lexer": "ipython3",
   "version": "3.11.1"
  }
 },
 "nbformat": 4,
 "nbformat_minor": 2
}
