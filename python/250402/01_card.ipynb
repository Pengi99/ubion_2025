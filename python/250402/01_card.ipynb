{
 "cells": [
  {
   "cell_type": "markdown",
   "metadata": {},
   "source": [
    "### 예제\n",
    "1. csv폴더 안 test_csv 폴더에서 '오프라인.csv' 파일을 로드 \n",
    "2. 컬럼의 이름을 변경 -> ['기준년월', '업종', '성별', '연령대', '총이용건수', '총이용금액']\n",
    "3. 결측치가 존재하는가? 확인\n",
    "4. 기준년월 데이터를 시계열 데이터로 변경 \n",
    "5. 성별을 기준으로 연도별 건당 이용금액의 평균이 어떻게 되는가?\n",
    "    - 기준년 데이터가 존재하지 않기때문에 기준년 컬럼을 생성 -> 기준년월 데이터에서 추출 \n",
    "    - 건당이용금액 데이터는 총이용금액 / 총이용건수를 계산하여 대입 \n",
    "    - 기준년 데이터를 이용하여 데이터를 그룹화/재구조화를 하고 건당이용금액의 평균을 구한다."
   ]
  },
  {
   "cell_type": "code",
   "execution_count": null,
   "metadata": {},
   "outputs": [],
   "source": [
    "import pandas as pd"
   ]
  },
  {
   "cell_type": "code",
   "execution_count": null,
   "metadata": {},
   "outputs": [],
   "source": [
    "# 데이터 로드 \n",
    "offline = pd.read_csv(\"../../csv/test_csv/오프라인.csv\", encoding='cp949')"
   ]
  },
  {
   "cell_type": "code",
   "execution_count": null,
   "metadata": {},
   "outputs": [],
   "source": [
    "offline.head()"
   ]
  },
  {
   "cell_type": "code",
   "execution_count": null,
   "metadata": {},
   "outputs": [],
   "source": [
    "# 컬럼의 이름을 변경 \n",
    "# case1 rename() 함수\n",
    "offline.rename(\n",
    "    columns={\n",
    "        'crym' : '기준년월'\n",
    "    }\n",
    ")"
   ]
  },
  {
   "cell_type": "code",
   "execution_count": null,
   "metadata": {},
   "outputs": [],
   "source": [
    "# DataFrame 안에 columns 변수의 데이터를 변경 \n",
    "offline.columns = ['기준년월', '업종', '성별', '연령대', '총이용건수', '총이용금액']"
   ]
  },
  {
   "cell_type": "code",
   "execution_count": null,
   "metadata": {},
   "outputs": [],
   "source": [
    "offline.head()"
   ]
  },
  {
   "cell_type": "code",
   "execution_count": null,
   "metadata": {},
   "outputs": [],
   "source": [
    "# 결측치를 확인하는 방법 \n",
    "# 데이터프레임의 정보 출력 \n",
    "offline.info()"
   ]
  },
  {
   "cell_type": "code",
   "execution_count": null,
   "metadata": {},
   "outputs": [],
   "source": [
    "# isna() : 결측치의 유무를 판단하는 함수 \n",
    "# sum() : 합계를 구하는 함수 (True는 1, False 0)\n",
    "offline.isna().sum()"
   ]
  },
  {
   "cell_type": "code",
   "execution_count": null,
   "metadata": {},
   "outputs": [],
   "source": [
    "# 성별 컬럼의 데이터중 '-'는 결측치라고 항목 정의서에 명시 \n",
    "# '-' 데이터의 개수를 확인 \n",
    "# 1 : 남자, 2 : 여자, 9 : 남녀무관, - : 결측치\n",
    "# isin() 함수 이용\n",
    "offline['성별'].isin(['-']).sum()"
   ]
  },
  {
   "cell_type": "code",
   "execution_count": null,
   "metadata": {},
   "outputs": [],
   "source": [
    "offline['성별'].value_counts()"
   ]
  },
  {
   "cell_type": "code",
   "execution_count": null,
   "metadata": {},
   "outputs": [],
   "source": [
    "from datetime import datetime"
   ]
  },
  {
   "cell_type": "code",
   "execution_count": null,
   "metadata": {},
   "outputs": [],
   "source": [
    "# 기준년월 데이터를 시계열 데이터를 변경\n",
    "# datetime 라이브러리 사용\n",
    "offline['기준년월']\n",
    "datetime.strptime( str(offline['기준년월'][0]), '%Y%m' )\n",
    "# python에서 제공하는 기본 map( 함수, 1차원 데이터 ) -> map 타입\n",
    "\n",
    "# series에서 제공하는 Series.map( 함수 ) -> Series 타입입\n",
    "offline['기준년월'].map(\n",
    "    lambda x : datetime.strptime(str(x), '%Y%m')\n",
    ")\n"
   ]
  },
  {
   "cell_type": "code",
   "execution_count": null,
   "metadata": {},
   "outputs": [],
   "source": [
    "\n",
    "# pandas에서 제공하는 to_datetime()\n",
    "offline['기준년월'] =  pd.to_datetime(offline['기준년월'], format ='%Y%m')"
   ]
  },
  {
   "cell_type": "code",
   "execution_count": null,
   "metadata": {},
   "outputs": [],
   "source": [
    "# 기준년 컬럼을 생성하여 기준년월에서 년도만 추출\n",
    "# datetime라이브러리 사용\n",
    "# map()\n",
    "offline['기준년월'].map(\n",
    "    lambda x : x.strftime('%Y')\n",
    ")\n"
   ]
  },
  {
   "cell_type": "code",
   "execution_count": null,
   "metadata": {},
   "outputs": [],
   "source": [
    "# Series dt 사용\n",
    "offline['기준년월'].dt.strftime('%Y')"
   ]
  },
  {
   "cell_type": "code",
   "execution_count": null,
   "metadata": {},
   "outputs": [],
   "source": [
    "offline['기준년'] = offline['기준년월'].dt.year"
   ]
  },
  {
   "cell_type": "code",
   "execution_count": null,
   "metadata": {},
   "outputs": [],
   "source": [
    "# 건당이용금액 = 총이용금액(series) / 총이용건수(series)\n",
    "offline['건당이용금액'] = offline['총이용금액'] / offline['총이용건수']\n"
   ]
  },
  {
   "cell_type": "code",
   "execution_count": null,
   "metadata": {},
   "outputs": [],
   "source": [
    "# groupby()를 이용한 그룹화 연산 \n",
    "# 성별, 년도별 데이터를 이용하여 그룹화를하고 건당이용금액의 평균 \n",
    "group_data = \\\n",
    "    offline[ [ '성별', '기준년', '건당이용금액' ] ].groupby(['성별', '기준년']).mean()"
   ]
  },
  {
   "cell_type": "code",
   "execution_count": null,
   "metadata": {},
   "outputs": [],
   "source": [
    "# unstack() -> 인덱스의 기준을 컬럼의 기준으로 변경\n",
    "# stack() -> 컬럼의 기준을 인덱스의 기준으로 변경\n",
    "group_data.unstack()"
   ]
  },
  {
   "cell_type": "code",
   "execution_count": null,
   "metadata": {},
   "outputs": [],
   "source": [
    "# pivot_table() \n",
    "# 성별, 년도별 총이용금액의 합계를 확인 \n",
    "offline.pivot_table(\n",
    "    index = '성별',\n",
    "    columns= '기준년', \n",
    "    values= '총이용금액', \n",
    "    aggfunc= 'sum'\n",
    ")"
   ]
  },
  {
   "cell_type": "code",
   "execution_count": null,
   "metadata": {},
   "outputs": [],
   "source": [
    "import matplotlib.pyplot as plt\n",
    "import platform"
   ]
  },
  {
   "cell_type": "code",
   "execution_count": null,
   "metadata": {},
   "outputs": [],
   "source": [
    "# 그래프 시각화 한글 깨짐 방지 -> 폰트 변경 \n",
    "if platform.system() == 'Darwin':\n",
    "    plt.rc('font', family='AppleGothic')\n",
    "else:\n",
    "    plt.rc('font', family='Malgun Gothic')"
   ]
  },
  {
   "cell_type": "code",
   "execution_count": null,
   "metadata": {},
   "outputs": [],
   "source": [
    "# 기준년월,업종 별 총이용금액 합계 -> 그래프 시각화(라인그래프)\n",
    "group_data2 = offline.groupby(['기준년월', '업종'])['총이용금액'].sum()\n",
    "group_data2.unstack().plot()"
   ]
  },
  {
   "cell_type": "markdown",
   "metadata": {},
   "source": [
    "1.  온라인.csv 파일을 로드 \n",
    "2. 두개의 데이터프레임을 단순한 행 결합 (유니언 결합)\n",
    "    - 오프라인 데이터와 온라인 데이터의 컬럼의 이름이 다른 문제 \n",
    "        - 온라인 데이터의 컬럼의 이름을 변경 \n",
    "    - 오프라인 데이터에서 기준년월 컬럼은 지금 시계열, 온라인의 기준년월 숫자\n",
    "        - 온라인의 기준년월을 시계열로 변경\n",
    "    - 오프라인 데이터에서 기준년, 건당이용금액 제거 \n",
    "    - 온라인 데이터에서 결측치가 존재하는가?\n",
    "    - 단순 행 결합 \n",
    "3. 온라인 데이터에서는 업종 컬럼이 존재하지 않기때문에 결측치 생성\n",
    "    - 결측치를 '온라인' 대체"
   ]
  },
  {
   "cell_type": "code",
   "execution_count": null,
   "metadata": {},
   "outputs": [],
   "source": [
    "online = pd.read_csv(\"../../csv/test_csv/온라인.csv\")"
   ]
  },
  {
   "cell_type": "code",
   "execution_count": null,
   "metadata": {},
   "outputs": [],
   "source": [
    "online.head()"
   ]
  },
  {
   "cell_type": "code",
   "execution_count": null,
   "metadata": {},
   "outputs": [],
   "source": [
    "online.columns = ['기준년월', '성별', '연령대', '총이용건수', '총이용금액']"
   ]
  },
  {
   "cell_type": "code",
   "execution_count": null,
   "metadata": {},
   "outputs": [],
   "source": [
    "online.head()"
   ]
  },
  {
   "cell_type": "code",
   "execution_count": null,
   "metadata": {},
   "outputs": [],
   "source": [
    "offline.head(1)"
   ]
  },
  {
   "cell_type": "code",
   "execution_count": null,
   "metadata": {},
   "outputs": [],
   "source": [
    "online['기준년월'] = pd.to_datetime(online['기준년월'], format='%Y%m')"
   ]
  },
  {
   "cell_type": "code",
   "execution_count": null,
   "metadata": {},
   "outputs": [],
   "source": [
    "# 특정 컬럼을 제거 \n",
    "# 특정 컬럼만 선택해서 필터 \n",
    "offline.loc[:,'기준년월' : '총이용금액']"
   ]
  },
  {
   "cell_type": "code",
   "execution_count": null,
   "metadata": {},
   "outputs": [],
   "source": [
    "offline.drop(['기준년', '건당이용금액'], axis=1, inplace=True)"
   ]
  },
  {
   "cell_type": "code",
   "execution_count": null,
   "metadata": {},
   "outputs": [],
   "source": [
    "# 온라인 데이터에서 결측치가 존재하는가?\n",
    "online.isna().sum()"
   ]
  },
  {
   "cell_type": "code",
   "execution_count": null,
   "metadata": {},
   "outputs": [],
   "source": [
    "online.isin(['-']).sum()"
   ]
  },
  {
   "cell_type": "code",
   "execution_count": 82,
   "metadata": {},
   "outputs": [],
   "source": [
    "df = pd.concat([offline, online], axis=0)"
   ]
  },
  {
   "cell_type": "code",
   "execution_count": null,
   "metadata": {},
   "outputs": [],
   "source": [
    "# df에서 업종에 존재하는 결측치는 '온라인' 대체\n",
    "df['업종'].fillna('온라인')"
   ]
  },
  {
   "cell_type": "code",
   "execution_count": null,
   "metadata": {},
   "outputs": [],
   "source": [
    "# if문 한줄 -> '참인경우결과' if 조건식 else '거짓인경우결과'\n",
    "df['업종'].map(\n",
    "    lambda x : '온라인' if pd.isna(x) else x\n",
    ")"
   ]
  },
  {
   "cell_type": "code",
   "execution_count": 88,
   "metadata": {},
   "outputs": [],
   "source": [
    "flag = df['업종'].isna()\n",
    "df.loc[flag, '업종'] = '온라인'"
   ]
  },
  {
   "cell_type": "code",
   "execution_count": 89,
   "metadata": {},
   "outputs": [
    {
     "data": {
      "text/plain": [
       "기준년월     0\n",
       "업종       0\n",
       "성별       0\n",
       "연령대      0\n",
       "총이용건수    0\n",
       "총이용금액    0\n",
       "dtype: int64"
      ]
     },
     "execution_count": 89,
     "metadata": {},
     "output_type": "execute_result"
    }
   ],
   "source": [
    "df.isna().sum()"
   ]
  },
  {
   "cell_type": "code",
   "execution_count": 90,
   "metadata": {},
   "outputs": [
    {
     "data": {
      "text/plain": [
       "연령대\n",
       "10    330\n",
       "20    330\n",
       "30    330\n",
       "40    330\n",
       "50    330\n",
       "60    330\n",
       "70    330\n",
       "80    330\n",
       "90    330\n",
       "0     284\n",
       "1      45\n",
       "Name: count, dtype: int64"
      ]
     },
     "execution_count": 90,
     "metadata": {},
     "output_type": "execute_result"
    }
   ],
   "source": [
    "df['연령대'].value_counts()"
   ]
  },
  {
   "cell_type": "code",
   "execution_count": 94,
   "metadata": {},
   "outputs": [],
   "source": [
    "df2 = df.loc[df['연령대'] != 0 ] "
   ]
  },
  {
   "cell_type": "code",
   "execution_count": 96,
   "metadata": {},
   "outputs": [],
   "source": [
    "group_data3 = df2.groupby(['기준년월', '업종'])['총이용금액'].sum()"
   ]
  },
  {
   "cell_type": "code",
   "execution_count": 98,
   "metadata": {},
   "outputs": [
    {
     "data": {
      "text/plain": [
       "<AxesSubplot: xlabel='기준년월'>"
      ]
     },
     "execution_count": 98,
     "metadata": {},
     "output_type": "execute_result"
    },
    {
     "data": {
      "image/png": "[encoded data removed]",
      "text/plain": [
       "<Figure size 640x480 with 1 Axes>"
      ]
     },
     "metadata": {},
     "output_type": "display_data"
    }
   ],
   "source": [
    "group_data3.unstack().plot()"
   ]
  },
  {
   "cell_type": "code",
   "execution_count": 103,
   "metadata": {},
   "outputs": [],
   "source": [
    "# df2에서 '업종' 컬럼의 데이터가 온라인이라면 0\n",
    "# 온라인이 아니면 1\n",
    "# 새로운 컬럼을 생성\n",
    "flag = df2['업종'] == '온라인'\n",
    "df2.loc[flag, '온/오프'] = 0\n",
    "df2.loc[~flag, '온/오프'] = 1"
   ]
  },
  {
   "cell_type": "code",
   "execution_count": 104,
   "metadata": {},
   "outputs": [
    {
     "data": {
      "text/plain": [
       "온/오프\n",
       "1.0    2415\n",
       "0.0     600\n",
       "Name: count, dtype: int64"
      ]
     },
     "execution_count": 104,
     "metadata": {},
     "output_type": "execute_result"
    }
   ],
   "source": [
    "df2['온/오프'].value_counts()"
   ]
  },
  {
   "cell_type": "code",
   "execution_count": 106,
   "metadata": {},
   "outputs": [
    {
     "name": "stderr",
     "output_type": "stream",
     "text": [
      "C:\\Users\\moons\\AppData\\Local\\Temp\\ipykernel_1912\\1179003264.py:1: SettingWithCopyWarning: \n",
      "A value is trying to be set on a copy of a slice from a DataFrame.\n",
      "Try using .loc[row_indexer,col_indexer] = value instead\n",
      "\n",
      "See the caveats in the documentation: https://pandas.pydata.org/pandas-docs/stable/user_guide/indexing.html#returning-a-view-versus-a-copy\n",
      "  df2['온/오프'] = df2['온/오프'].map(\n"
     ]
    }
   ],
   "source": [
    "df2['온/오프'] = df2['온/오프'].map(\n",
    "    {\n",
    "        0 : '온라인', \n",
    "        1 : '오프라인'\n",
    "    }\n",
    ")"
   ]
  },
  {
   "cell_type": "code",
   "execution_count": 107,
   "metadata": {},
   "outputs": [
    {
     "data": {
      "text/plain": [
       "온/오프\n",
       "오프라인    2415\n",
       "온라인      600\n",
       "Name: count, dtype: int64"
      ]
     },
     "execution_count": 107,
     "metadata": {},
     "output_type": "execute_result"
    }
   ],
   "source": [
    "df2['온/오프'].value_counts()"
   ]
  },
  {
   "cell_type": "code",
   "execution_count": 109,
   "metadata": {},
   "outputs": [
    {
     "data": {
      "text/plain": [
       "<AxesSubplot: xlabel='기준년월'>"
      ]
     },
     "execution_count": 109,
     "metadata": {},
     "output_type": "execute_result"
    },
    {
     "data": {
      "image/png": "[encoded data removed]",
      "text/plain": [
       "<Figure size 640x480 with 1 Axes>"
      ]
     },
     "metadata": {},
     "output_type": "display_data"
    }
   ],
   "source": [
    "df2.pivot_table(\n",
    "    index = '기준년월', \n",
    "    columns = '온/오프', \n",
    "    values= '총이용금액', \n",
    "    aggfunc= 'sum'\n",
    ").plot()"
   ]
  },
  {
   "cell_type": "code",
   "execution_count": 114,
   "metadata": {},
   "outputs": [
    {
     "data": {
      "text/plain": [
       "기준년월\n",
       "2019-01-01    8.717631e+11\n",
       "2019-02-01    7.755976e+11\n",
       "2019-03-01    9.027591e+11\n",
       "2019-04-01    8.850398e+11\n",
       "2019-05-01    9.427933e+11\n",
       "2019-06-01    8.651151e+11\n",
       "2019-07-01    8.757612e+11\n",
       "2019-08-01    8.503992e+11\n",
       "2019-09-01    9.243531e+11\n",
       "2019-10-01    9.305805e+11\n",
       "2019-11-01    9.497805e+11\n",
       "2019-12-01    9.788375e+11\n",
       "2020-01-01    8.988757e+11\n",
       "2020-02-01    7.081419e+11\n",
       "2020-03-01    7.232443e+11\n",
       "2020-04-01    7.884673e+11\n",
       "2020-05-01    8.671467e+11\n",
       "2020-06-01    8.476793e+11\n",
       "2020-07-01    7.958787e+11\n",
       "2020-08-01    8.421468e+11\n",
       "2020-09-01    8.638141e+11\n",
       "2020-10-01    9.075309e+11\n",
       "2020-11-01    9.155384e+11\n",
       "2020-12-01    8.032180e+11\n",
       "2021-01-01    8.091106e+11\n",
       "2021-02-01    7.698740e+11\n",
       "2021-03-01    8.747353e+11\n",
       "2021-04-01    8.403194e+11\n",
       "2021-05-01    9.169465e+11\n",
       "2021-06-01    8.168607e+11\n",
       "2021-07-01    7.840303e+11\n",
       "2021-08-01    8.560502e+11\n",
       "2021-09-01    8.163272e+11\n",
       "dtype: float64"
      ]
     },
     "execution_count": 114,
     "metadata": {},
     "output_type": "execute_result"
    }
   ],
   "source": [
    "group_data3.unstack().drop('온라인', axis=1).sum(axis=1)"
   ]
  }
 ],
 "metadata": {
  "kernelspec": {
   "display_name": "Python 3",
   "language": "python",
   "name": "python3"
  },
  "language_info": {
   "codemirror_mode": {
    "name": "ipython",
    "version": 3
   },
   "file_extension": ".py",
   "mimetype": "text/x-python",
   "name": "python",
   "nbconvert_exporter": "python",
   "pygments_lexer": "ipython3",
   "version": "3.11.1"
  }
 },
 "nbformat": 4,
 "nbformat_minor": 2
}
