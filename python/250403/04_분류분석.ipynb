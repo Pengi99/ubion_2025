{
 "cells": [
  {
   "cell_type": "markdown",
   "metadata": {},
   "source": [
    "### 분류분석 \n",
    "- 실제 분류와 예측 분류가 얼마나 일치하는가를 기반으로 알고리즘 성능을 평가\n",
    "\n",
    "#### 정확도 \n",
    "- 실제 데이터에서 예측 데이터가 얼마나 같은지 판단하는 지표\n",
    "- 데이터 구성에 따라 머신러닝 모델의 성능을 왜곡할 가능성이 존재 "
   ]
  },
  {
   "cell_type": "code",
   "execution_count": null,
   "metadata": {},
   "outputs": [],
   "source": [
    "from sklearn.datasets import load_iris\n",
    "import pandas as pd"
   ]
  },
  {
   "cell_type": "code",
   "execution_count": null,
   "metadata": {},
   "outputs": [],
   "source": [
    "iris_data = load_iris()"
   ]
  },
  {
   "cell_type": "code",
   "execution_count": null,
   "metadata": {},
   "outputs": [],
   "source": [
    "df = pd.DataFrame(iris_data['data'], columns=iris_data['feature_names'])\n",
    "df.head()"
   ]
  },
  {
   "cell_type": "code",
   "execution_count": null,
   "metadata": {},
   "outputs": [],
   "source": [
    "iris_target = iris_data['target']"
   ]
  },
  {
   "cell_type": "code",
   "execution_count": null,
   "metadata": {},
   "outputs": [],
   "source": [
    "from sklearn.model_selection import train_test_split"
   ]
  },
  {
   "cell_type": "code",
   "execution_count": null,
   "metadata": {},
   "outputs": [],
   "source": [
    "x_train, x_test, y_train, y_test = train_test_split(\n",
    "    df, iris_target, \n",
    "    test_size=0.3, \n",
    "    stratify= iris_target, \n",
    "    random_state=10\n",
    ")"
   ]
  },
  {
   "cell_type": "code",
   "execution_count": null,
   "metadata": {},
   "outputs": [],
   "source": [
    "df.isna().sum()"
   ]
  },
  {
   "cell_type": "code",
   "execution_count": null,
   "metadata": {},
   "outputs": [],
   "source": [
    "# 모델 학습 \n",
    "# 의사결정나무 사용해서 분류 분석 \n",
    "#  트리 깊이는 1, 3, 5, 7로 설정한 모델 네가지를 선택 \n",
    "from sklearn.tree import DecisionTreeClassifier\n",
    "dtree_clf_7 = DecisionTreeClassifier(max_depth=7, random_state=10)\n",
    "dtree_clf_5 = DecisionTreeClassifier(max_depth=5, random_state=10)\n",
    "dtree_clf_3 = DecisionTreeClassifier(max_depth=3, random_state=10)\n",
    "dtree_clf_1 = DecisionTreeClassifier(max_depth=1, random_state=10)"
   ]
  },
  {
   "cell_type": "code",
   "execution_count": null,
   "metadata": {},
   "outputs": [],
   "source": [
    "import numpy as np\n",
    "import warnings\n",
    "warnings.filterwarnings('ignore')"
   ]
  },
  {
   "cell_type": "code",
   "execution_count": null,
   "metadata": {},
   "outputs": [],
   "source": [
    "# 검증 평가 10회 \n",
    "from sklearn.model_selection import cross_val_score\n",
    "scores = cross_val_score(dtree_clf_7, x_train, y_train, cv=10, scoring='accuracy')\n",
    "print('교차 검증 정확도 : ', np.round(scores, 3))\n",
    "print('평균 검증 정확도 : ', np.mean(scores))"
   ]
  },
  {
   "cell_type": "code",
   "execution_count": null,
   "metadata": {},
   "outputs": [],
   "source": [
    "scores = cross_val_score(dtree_clf_5, x_train, y_train, cv=10, scoring='accuracy')\n",
    "print('교차 검증 정확도 : ', np.round(scores, 3))\n",
    "print('평균 검증 정확도 : ', np.mean(scores))"
   ]
  },
  {
   "cell_type": "code",
   "execution_count": null,
   "metadata": {},
   "outputs": [],
   "source": [
    "scores = cross_val_score(dtree_clf_3, x_train, y_train, cv=10, scoring='accuracy')\n",
    "print('교차 검증 정확도 : ', np.round(scores, 3))\n",
    "print('평균 검증 정확도 : ', np.mean(scores))"
   ]
  },
  {
   "cell_type": "code",
   "execution_count": null,
   "metadata": {},
   "outputs": [],
   "source": [
    "scores = cross_val_score(dtree_clf_1, x_train, y_train, cv=10, scoring='accuracy')\n",
    "print('교차 검증 정확도 : ', np.round(scores, 3))\n",
    "print('평균 검증 정확도 : ', np.mean(scores))"
   ]
  },
  {
   "cell_type": "code",
   "execution_count": null,
   "metadata": {},
   "outputs": [],
   "source": [
    "# 깊이가 5인 트리가 적합\n",
    "# 학습\n",
    "dtree_clf_5.fit(x_train, y_train)\n",
    "# 예측\n",
    "pred = dtree_clf_5.predict(x_test)"
   ]
  },
  {
   "cell_type": "code",
   "execution_count": null,
   "metadata": {},
   "outputs": [],
   "source": [
    "# 예측 정확도 \n",
    "from sklearn.metrics import accuracy_score"
   ]
  },
  {
   "cell_type": "code",
   "execution_count": null,
   "metadata": {},
   "outputs": [],
   "source": [
    "print('의사결정나무 깊이가 5인 예측 정확도는 ', round(accuracy_score(y_test, pred), 2))"
   ]
  },
  {
   "cell_type": "code",
   "execution_count": null,
   "metadata": {},
   "outputs": [],
   "source": [
    "pred_df = pd.DataFrame(pred, columns=['Pred'])\n",
    "test_df = pd.DataFrame(y_test, columns=['Test'])"
   ]
  },
  {
   "cell_type": "code",
   "execution_count": null,
   "metadata": {},
   "outputs": [],
   "source": [
    "pd.concat([pred_df, test_df], axis=1)"
   ]
  },
  {
   "cell_type": "code",
   "execution_count": null,
   "metadata": {},
   "outputs": [],
   "source": [
    "### load_wine 데이터에 로드해서 데이터 분할은 75:25\n",
    "# 교차 검증 1,3,5 확인하여 가장 높은 깊이를 선택\n",
    "# 학습 -> 정확도 확인 "
   ]
  },
  {
   "cell_type": "code",
   "execution_count": null,
   "metadata": {},
   "outputs": [],
   "source": [
    "from sklearn.datasets import load_wine"
   ]
  },
  {
   "cell_type": "code",
   "execution_count": null,
   "metadata": {},
   "outputs": [],
   "source": [
    "wine_data = load_wine()"
   ]
  },
  {
   "cell_type": "code",
   "execution_count": null,
   "metadata": {},
   "outputs": [],
   "source": [
    "wine_df = pd.DataFrame(wine_data['data'], columns=wine_data['feature_names'])\n",
    "wine_target = wine_data['target']"
   ]
  },
  {
   "cell_type": "code",
   "execution_count": null,
   "metadata": {},
   "outputs": [],
   "source": [
    "# 데이터의 분할 75:25\n",
    "x_train, x_test, y_train, y_test = train_test_split(\n",
    "    wine_df, \n",
    "    wine_target, \n",
    "    test_size= 0.25, random_state=42, \n",
    "    stratify=wine_target\n",
    ")"
   ]
  },
  {
   "cell_type": "code",
   "execution_count": null,
   "metadata": {},
   "outputs": [],
   "source": [
    "dtree_clf_5 = DecisionTreeClassifier(max_depth=5, random_state=42)\n",
    "dtree_clf_3 = DecisionTreeClassifier(max_depth=3, random_state=42)\n",
    "dtree_clf_1 = DecisionTreeClassifier(max_depth=1, random_state=42)"
   ]
  },
  {
   "cell_type": "code",
   "execution_count": null,
   "metadata": {},
   "outputs": [],
   "source": [
    "scores = cross_val_score(dtree_clf_5, x_train, y_train, cv = 10, scoring='accuracy')\n",
    "print('교차 검증 정확도 : ', np.round( scores, 2 ))\n",
    "print('평균 검증 정확도 : ', np.mean(scores))"
   ]
  },
  {
   "cell_type": "code",
   "execution_count": null,
   "metadata": {},
   "outputs": [],
   "source": [
    "scores = cross_val_score(dtree_clf_3, x_train, y_train, cv = 10, scoring='accuracy')\n",
    "print('교차 검증 정확도 : ', np.round( scores, 2 ))\n",
    "print('평균 검증 정확도 : ', np.mean(scores))"
   ]
  },
  {
   "cell_type": "code",
   "execution_count": null,
   "metadata": {},
   "outputs": [],
   "source": [
    "scores = cross_val_score(dtree_clf_1, x_train, y_train, cv = 10, scoring='accuracy')\n",
    "print('교차 검증 정확도 : ', np.round( scores, 2 ))\n",
    "print('평균 검증 정확도 : ', np.mean(scores))"
   ]
  },
  {
   "cell_type": "code",
   "execution_count": null,
   "metadata": {},
   "outputs": [],
   "source": [
    "# 깊이가 3인 트리를 선택 \n",
    "dtree_clf_3.fit(x_train, y_train)"
   ]
  },
  {
   "cell_type": "code",
   "execution_count": null,
   "metadata": {},
   "outputs": [],
   "source": [
    "pred = dtree_clf_3.predict(x_test)\n",
    "print(\"의사결정나무(깊이3) 예측 정확도 :\", \n",
    "      round(accuracy_score(y_test, pred), 2) )"
   ]
  },
  {
   "cell_type": "code",
   "execution_count": null,
   "metadata": {},
   "outputs": [],
   "source": [
    "pred_df = pd.DataFrame(pred, columns=['pred'])\n",
    "test_df = pd.DataFrame(y_test, columns=['test'])\n",
    "pd.concat([pred_df, test_df], axis=1)"
   ]
  }
 ],
 "metadata": {
  "kernelspec": {
   "display_name": "Python 3",
   "language": "python",
   "name": "python3"
  },
  "language_info": {
   "codemirror_mode": {
    "name": "ipython",
    "version": 3
   },
   "file_extension": ".py",
   "mimetype": "text/x-python",
   "name": "python",
   "nbconvert_exporter": "python",
   "pygments_lexer": "ipython3",
   "version": "3.11.1"
  }
 },
 "nbformat": 4,
 "nbformat_minor": 2
}
