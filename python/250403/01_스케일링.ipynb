{
 "cells": [
  {
   "cell_type": "markdown",
   "metadata": {},
   "source": [
    "### 데이터 스케일링\n",
    "- 대부분 분석알고리즘은 컬럼 간 데이터의 범위가 크게 차이나는 경우에는 작동이 잘 되지 않는다. \n",
    "- 값의 범위가 작은 컬럼에 비해서 값의 범위가 큰 컬럼이 타겟 범수를 예측하는데 큰 영향을 준다. \n",
    "- 스케일링 작업은 모든 컬럼의 값의 범위를 같게 만들어주는 작업\n",
    "- 스케일링 순서 \n",
    "    - 데이터 스케일링의 주의할 점 train데이터와 test데이터를 같은 scaler 객체로 스케일링 해야한다. \n",
    "    1. Scaler 선택 및 import \n",
    "    2. Scaler 객체 생성 (Class)\n",
    "    3. train 데이터 분포를 저장\n",
    "    4. train 데이터 스케일링 \n",
    "    5. test 데이터 스케일링\n",
    "    6. 원래의 데이터로 변경"
   ]
  },
  {
   "cell_type": "markdown",
   "metadata": {},
   "source": [
    "#### Standard Scaler\n",
    "- 표준화 방식으로 기본 스케일링으로 컬럼들을 평균이 0, 분산이 1인 정규분포로 스케일링\n",
    "- 최솟값과 최댓값의 크기를 제한하지 않아 이상치에 민감하기 때문에 이상치에 대한 확인 및 정제를 한 후 사용 \n",
    "- 회귀보다는 분류분석에서 유용"
   ]
  },
  {
   "cell_type": "code",
   "execution_count": null,
   "metadata": {},
   "outputs": [],
   "source": [
    "from sklearn.datasets import load_iris\n",
    "from sklearn.model_selection import train_test_split\n",
    "import pandas as pd"
   ]
  },
  {
   "cell_type": "code",
   "execution_count": null,
   "metadata": {},
   "outputs": [],
   "source": [
    "iris_data = load_iris()\n",
    "iris = pd.DataFrame(iris_data['data'], columns = iris_data['feature_names'])\n",
    "iris['Class'] = iris_data['target']\n",
    "\n",
    "iris['Class'] = iris['Class'].map(\n",
    "    {\n",
    "        0 : 'Setosa', \n",
    "        1 : 'Versicolour', \n",
    "        2 : 'Virginaca'\n",
    "    }\n",
    ")"
   ]
  },
  {
   "cell_type": "code",
   "execution_count": null,
   "metadata": {},
   "outputs": [],
   "source": [
    "iris.head()"
   ]
  },
  {
   "cell_type": "code",
   "execution_count": 5,
   "metadata": {},
   "outputs": [
    {
     "name": "stderr",
     "output_type": "stream",
     "text": [
      "c:\\Users\\moons\\AppData\\Local\\Programs\\Python\\Python311\\Lib\\site-packages\\sklearn\\utils\\validation.py:605: FutureWarning: is_sparse is deprecated and will be removed in a future version. Check `isinstance(dtype, pd.SparseDtype)` instead.\n",
      "  if is_sparse(pd_dtype):\n",
      "c:\\Users\\moons\\AppData\\Local\\Programs\\Python\\Python311\\Lib\\site-packages\\sklearn\\utils\\validation.py:614: FutureWarning: is_sparse is deprecated and will be removed in a future version. Check `isinstance(dtype, pd.SparseDtype)` instead.\n",
      "  if is_sparse(pd_dtype) or not is_extension_array_dtype(pd_dtype):\n"
     ]
    }
   ],
   "source": [
    "X_train, X_test, Y_train, Y_test = train_test_split(\n",
    "    iris.drop('Class', axis=1), \n",
    "    iris['Class'], \n",
    "    test_size= 0.3, \n",
    "    random_state= 1000, \n",
    "    stratify= iris['Class']\n",
    ")"
   ]
  },
  {
   "cell_type": "code",
   "execution_count": null,
   "metadata": {},
   "outputs": [],
   "source": [
    "Y_test"
   ]
  },
  {
   "cell_type": "code",
   "execution_count": 8,
   "metadata": {},
   "outputs": [],
   "source": [
    "# Scaler 선택 : Standard\n",
    "from sklearn.preprocessing import StandardScaler"
   ]
  },
  {
   "cell_type": "code",
   "execution_count": 9,
   "metadata": {},
   "outputs": [],
   "source": [
    "# scaler 객체 생성 -> Class 생성\n",
    "StdScaler = StandardScaler()"
   ]
  },
  {
   "cell_type": "code",
   "execution_count": null,
   "metadata": {},
   "outputs": [],
   "source": [
    "# Train 데이터의 분포를 저장\n",
    "StdScaler.fit(X_train)"
   ]
  },
  {
   "cell_type": "code",
   "execution_count": null,
   "metadata": {},
   "outputs": [],
   "source": [
    "# train 데이터 스케일링\n",
    "X_train_sc = StdScaler.transform(X_train)\n",
    "# test 데이터 스케일링 \n",
    "X_test_sc = StdScaler.transform(X_test)"
   ]
  },
  {
   "cell_type": "code",
   "execution_count": 14,
   "metadata": {},
   "outputs": [
    {
     "name": "stdout",
     "output_type": "stream",
     "text": [
      "X_Train min : -1.8148176152734814, \n",
      "      max : 2.9247930249692984, \n",
      "      mean : -1.3005469717037547e-15, \n",
      "      std : 1.0\n"
     ]
    }
   ],
   "source": [
    "# Standaer Scaler는 평균이 0 분산 1\n",
    "print(f\"\"\"X_Train min : {X_train_sc.min()}, \n",
    "      max : {X_train_sc.max()}, \n",
    "      mean : {X_train_sc.mean()}, \n",
    "      std : {X_train_sc.std()}\"\"\")"
   ]
  },
  {
   "cell_type": "code",
   "execution_count": 16,
   "metadata": {},
   "outputs": [
    {
     "name": "stdout",
     "output_type": "stream",
     "text": [
      "X_Test min : -2.3777094375649708, \n",
      "      max : 2.257400415227029, \n",
      "      mean : 0.007383725095262762, \n",
      "      std : 0.9554677587702913\n"
     ]
    }
   ],
   "source": [
    "print(f\"\"\"X_Test min : {X_test_sc.min()}, \n",
    "      max : {X_test_sc.max()}, \n",
    "      mean : {X_test_sc.mean()}, \n",
    "      std : {X_test_sc.std()}\"\"\")"
   ]
  },
  {
   "cell_type": "markdown",
   "metadata": {},
   "source": [
    "#### Min-Max Scaler\n",
    "- 정규화 방식으로 컬럼들의 데이터를 0과 1사이의 값으로 스케일링하는 방식\n",
    "- 최솟값 0, 최댓값1\n",
    "- 이상치에 매우 민감함으로 이상치를 미리 정제 \n",
    "- 분류보다는 회귀에서 유용"
   ]
  },
  {
   "cell_type": "code",
   "execution_count": 18,
   "metadata": {},
   "outputs": [],
   "source": [
    "import warnings\n",
    "warnings.filterwarnings('ignore')"
   ]
  },
  {
   "cell_type": "code",
   "execution_count": 19,
   "metadata": {},
   "outputs": [],
   "source": [
    "from sklearn.preprocessing import MinMaxScaler\n",
    "\n",
    "MmScaler = MinMaxScaler()\n",
    "\n",
    "MmScaler.fit(X_train)\n",
    "\n",
    "X_train_sc = MmScaler.transform(X_train)\n",
    "X_test_sc = MmScaler.transform(X_test)"
   ]
  },
  {
   "cell_type": "code",
   "execution_count": 20,
   "metadata": {},
   "outputs": [
    {
     "name": "stdout",
     "output_type": "stream",
     "text": [
      "X train min : 0.0\n",
      "        max : 1.0, \n",
      "        mean : 0.42773341916804386, \n",
      "        std : 0.27177729343402823\n"
     ]
    }
   ],
   "source": [
    "print(f\"\"\"X train min : {X_train_sc.min()}\n",
    "        max : {X_train_sc.max()}, \n",
    "        mean : {X_train_sc.mean()}, \n",
    "        std : {X_train_sc.std()}\"\"\")"
   ]
  },
  {
   "cell_type": "code",
   "execution_count": 23,
   "metadata": {},
   "outputs": [
    {
     "name": "stdout",
     "output_type": "stream",
     "text": [
      "X test min : -0.1428571428571428\n",
      "        max : 0.9583333333333334, \n",
      "        mean : 0.43099852778525105, \n",
      "        std : 0.2655839625136389\n"
     ]
    }
   ],
   "source": [
    "print(f\"\"\"X test min : {X_test_sc.min()}\n",
    "        max : {X_test_sc.max()}, \n",
    "        mean : {X_test_sc.mean()}, \n",
    "        std : {X_test_sc.std()}\"\"\")"
   ]
  },
  {
   "cell_type": "markdown",
   "metadata": {},
   "source": [
    "#### Max Abs Scaler\n",
    "- 최대절대값과 0이 각각 1, 0이 되도록 스케일링 하는 정규화 방식으로 모든 값은 -1과 1 사이로 표현\n",
    "- 스케일링의 데이터가 양수라면 MinMaxScaler와 동일\n",
    "- 이상치에 매우 민감\n",
    "- 분류보단 회귀에서 유용"
   ]
  },
  {
   "cell_type": "code",
   "execution_count": 24,
   "metadata": {},
   "outputs": [],
   "source": [
    "from sklearn.preprocessing import MaxAbsScaler\n",
    "\n",
    "MaScaler = MaxAbsScaler()\n",
    "\n",
    "MaScaler.fit(X_train)\n",
    "\n",
    "X_train_sc = MaScaler.transform(X_train)\n",
    "X_test_sc = MaScaler.transform(X_test)"
   ]
  },
  {
   "cell_type": "code",
   "execution_count": 25,
   "metadata": {},
   "outputs": [
    {
     "name": "stdout",
     "output_type": "stream",
     "text": [
      "X train min : 0.04\n",
      "        max : 1.0, \n",
      "        mean : 0.6137900579821328, \n",
      "        std : 0.23731657060779845\n"
     ]
    }
   ],
   "source": [
    "print(f\"\"\"X train min : {X_train_sc.min()}\n",
    "        max : {X_train_sc.max()}, \n",
    "        mean : {X_train_sc.mean()}, \n",
    "        std : {X_train_sc.std()}\"\"\")"
   ]
  },
  {
   "cell_type": "code",
   "execution_count": 26,
   "metadata": {},
   "outputs": [
    {
     "name": "stdout",
     "output_type": "stream",
     "text": [
      "X test min : 0.08\n",
      "        max : 0.9746835443037974, \n",
      "        mean : 0.6168914868738754, \n",
      "        std : 0.23360011644218148\n"
     ]
    }
   ],
   "source": [
    "print(f\"\"\"X test min : {X_test_sc.min()}\n",
    "        max : {X_test_sc.max()}, \n",
    "        mean : {X_test_sc.mean()}, \n",
    "        std : {X_test_sc.std()}\"\"\")"
   ]
  },
  {
   "cell_type": "markdown",
   "metadata": {},
   "source": [
    "#### Robust Scaler\n",
    "- 평균과 분산 대신 중앙값과 사분위 값을 활용하는 방식\n",
    "- 중앙값을 0으로 설정하고  IQR을 사용하여 이상치의 영향을 최소화하는 방식 \n",
    "- quantile_range 매개변수(기본값[0.25, 0.75])를 조정하여 더 넓거나 좁은 범위의 값을 이상치로 설정하여 정제할수 있다."
   ]
  },
  {
   "cell_type": "code",
   "execution_count": 27,
   "metadata": {},
   "outputs": [],
   "source": [
    "# 스케일러 로드 \n",
    "from sklearn.preprocessing import RobustScaler\n",
    "# 객체 생성\n",
    "RuScaler = RobustScaler()\n",
    "# 범위 지정\n",
    "RuScaler.fit(X_train)\n",
    "# 변경\n",
    "X_train_sc = RuScaler.transform(X_train)\n",
    "X_test_sc = RuScaler.transform(X_test)"
   ]
  },
  {
   "cell_type": "code",
   "execution_count": 30,
   "metadata": {},
   "outputs": [],
   "source": [
    "import numpy as np"
   ]
  },
  {
   "cell_type": "code",
   "execution_count": 31,
   "metadata": {},
   "outputs": [
    {
     "data": {
      "text/plain": [
       "0.0"
      ]
     },
     "execution_count": 31,
     "metadata": {},
     "output_type": "execute_result"
    }
   ],
   "source": [
    "np.median(X_train_sc)"
   ]
  },
  {
   "cell_type": "code",
   "execution_count": 32,
   "metadata": {},
   "outputs": [
    {
     "data": {
      "text/plain": [
       "0.08333333333333329"
      ]
     },
     "execution_count": 32,
     "metadata": {},
     "output_type": "execute_result"
    }
   ],
   "source": [
    "np.median(X_test_sc)"
   ]
  },
  {
   "cell_type": "code",
   "execution_count": 33,
   "metadata": {},
   "outputs": [
    {
     "name": "stdout",
     "output_type": "stream",
     "text": [
      "X train min : -1.1666666666666667\n",
      "        max : 2.3333333333333335, \n",
      "        mean : 0.00435693935693929, \n",
      "        std : 0.6171960849999448\n"
     ]
    }
   ],
   "source": [
    "print(f\"\"\"X train min : {X_train_sc.min()}\n",
    "        max : {X_train_sc.max()}, \n",
    "        mean : {X_train_sc.mean()}, \n",
    "        std : {X_train_sc.std()}\"\"\")"
   ]
  },
  {
   "cell_type": "code",
   "execution_count": 34,
   "metadata": {},
   "outputs": [
    {
     "name": "stdout",
     "output_type": "stream",
     "text": [
      "X test min : -1.6666666666666665\n",
      "        max : 1.5384615384615377, \n",
      "        mean : 0.0031030389363722044, \n",
      "        std : 0.5750228163861976\n"
     ]
    }
   ],
   "source": [
    "print(f\"\"\"X test min : {X_test_sc.min()}\n",
    "        max : {X_test_sc.max()}, \n",
    "        mean : {X_test_sc.mean()}, \n",
    "        std : {X_test_sc.std()}\"\"\")"
   ]
  },
  {
   "cell_type": "code",
   "execution_count": 35,
   "metadata": {},
   "outputs": [],
   "source": [
    "# Robust Scaler에 quantile_range [0.20, 0.80]를 설정\n",
    "RuScaler2 = RobustScaler(\n",
    "    quantile_range= (0.2, 0.8)\n",
    ")"
   ]
  },
  {
   "cell_type": "code",
   "execution_count": 36,
   "metadata": {},
   "outputs": [
    {
     "data": {
      "text/html": [
       "<style>#sk-container-id-3 {color: black;background-color: white;}#sk-container-id-3 pre{padding: 0;}#sk-container-id-3 div.sk-toggleable {background-color: white;}#sk-container-id-3 label.sk-toggleable__label {cursor: pointer;display: block;width: 100%;margin-bottom: 0;padding: 0.3em;box-sizing: border-box;text-align: center;}#sk-container-id-3 label.sk-toggleable__label-arrow:before {content: \"▸\";float: left;margin-right: 0.25em;color: #696969;}#sk-container-id-3 label.sk-toggleable__label-arrow:hover:before {color: black;}#sk-container-id-3 div.sk-estimator:hover label.sk-toggleable__label-arrow:before {color: black;}#sk-container-id-3 div.sk-toggleable__content {max-height: 0;max-width: 0;overflow: hidden;text-align: left;background-color: #f0f8ff;}#sk-container-id-3 div.sk-toggleable__content pre {margin: 0.2em;color: black;border-radius: 0.25em;background-color: #f0f8ff;}#sk-container-id-3 input.sk-toggleable__control:checked~div.sk-toggleable__content {max-height: 200px;max-width: 100%;overflow: auto;}#sk-container-id-3 input.sk-toggleable__control:checked~label.sk-toggleable__label-arrow:before {content: \"▾\";}#sk-container-id-3 div.sk-estimator input.sk-toggleable__control:checked~label.sk-toggleable__label {background-color: #d4ebff;}#sk-container-id-3 div.sk-label input.sk-toggleable__control:checked~label.sk-toggleable__label {background-color: #d4ebff;}#sk-container-id-3 input.sk-hidden--visually {border: 0;clip: rect(1px 1px 1px 1px);clip: rect(1px, 1px, 1px, 1px);height: 1px;margin: -1px;overflow: hidden;padding: 0;position: absolute;width: 1px;}#sk-container-id-3 div.sk-estimator {font-family: monospace;background-color: #f0f8ff;border: 1px dotted black;border-radius: 0.25em;box-sizing: border-box;margin-bottom: 0.5em;}#sk-container-id-3 div.sk-estimator:hover {background-color: #d4ebff;}#sk-container-id-3 div.sk-parallel-item::after {content: \"\";width: 100%;border-bottom: 1px solid gray;flex-grow: 1;}#sk-container-id-3 div.sk-label:hover label.sk-toggleable__label {background-color: #d4ebff;}#sk-container-id-3 div.sk-serial::before {content: \"\";position: absolute;border-left: 1px solid gray;box-sizing: border-box;top: 0;bottom: 0;left: 50%;z-index: 0;}#sk-container-id-3 div.sk-serial {display: flex;flex-direction: column;align-items: center;background-color: white;padding-right: 0.2em;padding-left: 0.2em;position: relative;}#sk-container-id-3 div.sk-item {position: relative;z-index: 1;}#sk-container-id-3 div.sk-parallel {display: flex;align-items: stretch;justify-content: center;background-color: white;position: relative;}#sk-container-id-3 div.sk-item::before, #sk-container-id-3 div.sk-parallel-item::before {content: \"\";position: absolute;border-left: 1px solid gray;box-sizing: border-box;top: 0;bottom: 0;left: 50%;z-index: -1;}#sk-container-id-3 div.sk-parallel-item {display: flex;flex-direction: column;z-index: 1;position: relative;background-color: white;}#sk-container-id-3 div.sk-parallel-item:first-child::after {align-self: flex-end;width: 50%;}#sk-container-id-3 div.sk-parallel-item:last-child::after {align-self: flex-start;width: 50%;}#sk-container-id-3 div.sk-parallel-item:only-child::after {width: 0;}#sk-container-id-3 div.sk-dashed-wrapped {border: 1px dashed gray;margin: 0 0.4em 0.5em 0.4em;box-sizing: border-box;padding-bottom: 0.4em;background-color: white;}#sk-container-id-3 div.sk-label label {font-family: monospace;font-weight: bold;display: inline-block;line-height: 1.2em;}#sk-container-id-3 div.sk-label-container {text-align: center;}#sk-container-id-3 div.sk-container {/* jupyter's `normalize.less` sets `[hidden] { display: none; }` but bootstrap.min.css set `[hidden] { display: none !important; }` so we also need the `!important` here to be able to override the default hidden behavior on the sphinx rendered scikit-learn.org. See: https://github.com/scikit-learn/scikit-learn/issues/21755 */display: inline-block !important;position: relative;}#sk-container-id-3 div.sk-text-repr-fallback {display: none;}</style><div id=\"sk-container-id-3\" class=\"sk-top-container\"><div class=\"sk-text-repr-fallback\"><pre>RobustScaler(quantile_range=(0.2, 0.8))</pre><b>In a Jupyter environment, please rerun this cell to show the HTML representation or trust the notebook. <br />On GitHub, the HTML representation is unable to render, please try loading this page with nbviewer.org.</b></div><div class=\"sk-container\" hidden><div class=\"sk-item\"><div class=\"sk-estimator sk-toggleable\"><input class=\"sk-toggleable__control sk-hidden--visually\" id=\"sk-estimator-id-3\" type=\"checkbox\" checked><label for=\"sk-estimator-id-3\" class=\"sk-toggleable__label sk-toggleable__label-arrow\">RobustScaler</label><div class=\"sk-toggleable__content\"><pre>RobustScaler(quantile_range=(0.2, 0.8))</pre></div></div></div></div></div>"
      ],
      "text/plain": [
       "RobustScaler(quantile_range=(0.2, 0.8))"
      ]
     },
     "execution_count": 36,
     "metadata": {},
     "output_type": "execute_result"
    }
   ],
   "source": [
    "RuScaler2.fit(X_train)"
   ]
  },
  {
   "cell_type": "code",
   "execution_count": 37,
   "metadata": {},
   "outputs": [],
   "source": [
    "X_train_sc2 = RuScaler2.transform(X_train)\n",
    "X_test_sc2 = RuScaler2.transform(X_test)"
   ]
  },
  {
   "cell_type": "code",
   "execution_count": 38,
   "metadata": {},
   "outputs": [
    {
     "data": {
      "text/plain": [
       "0.0"
      ]
     },
     "execution_count": 38,
     "metadata": {},
     "output_type": "execute_result"
    }
   ],
   "source": [
    "np.median(X_train_sc2)"
   ]
  },
  {
   "cell_type": "code",
   "execution_count": 39,
   "metadata": {},
   "outputs": [
    {
     "name": "stdout",
     "output_type": "stream",
     "text": [
      "X train min : -51.28205128205109\n",
      "        max : 43.26923076923061, \n",
      "        mean : -1.4146336996336961, \n",
      "        std : 16.041356384801144\n"
     ]
    }
   ],
   "source": [
    "print(f\"\"\"X train min : {X_train_sc2.min()}\n",
    "        max : {X_train_sc2.max()}, \n",
    "        mean : {X_train_sc2.mean()}, \n",
    "        std : {X_train_sc2.std()}\"\"\")"
   ]
  },
  {
   "cell_type": "code",
   "execution_count": 40,
   "metadata": {},
   "outputs": [
    {
     "name": "stdout",
     "output_type": "stream",
     "text": [
      "X test min : -46.47435897435881\n",
      "        max : 32.05128205128193, \n",
      "        mean : -0.7239031339031325, \n",
      "        std : 15.79567076654151\n"
     ]
    }
   ],
   "source": [
    "print(f\"\"\"X test min : {X_test_sc2.min()}\n",
    "        max : {X_test_sc2.max()}, \n",
    "        mean : {X_test_sc2.mean()}, \n",
    "        std : {X_test_sc2.std()}\"\"\")"
   ]
  }
 ],
 "metadata": {
  "kernelspec": {
   "display_name": "Python 3",
   "language": "python",
   "name": "python3"
  },
  "language_info": {
   "codemirror_mode": {
    "name": "ipython",
    "version": 3
   },
   "file_extension": ".py",
   "mimetype": "text/x-python",
   "name": "python",
   "nbconvert_exporter": "python",
   "pygments_lexer": "ipython3",
   "version": "3.11.1"
  }
 },
 "nbformat": 4,
 "nbformat_minor": 2
}
