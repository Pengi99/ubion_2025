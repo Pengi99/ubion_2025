{
 "cells": [
  {
   "cell_type": "code",
   "execution_count": null,
   "metadata": {},
   "outputs": [],
   "source": [
    "import boll"
   ]
  },
  {
   "cell_type": "code",
   "execution_count": null,
   "metadata": {},
   "outputs": [],
   "source": [
    "import importlib\n",
    "importlib.reload(boll)"
   ]
  },
  {
   "cell_type": "code",
   "execution_count": null,
   "metadata": {},
   "outputs": [],
   "source": [
    "import yfinance as yf"
   ]
  },
  {
   "cell_type": "code",
   "execution_count": null,
   "metadata": {},
   "outputs": [],
   "source": [
    "from datetime import datetime"
   ]
  },
  {
   "cell_type": "code",
   "execution_count": null,
   "metadata": {},
   "outputs": [],
   "source": [
    "# 티커를 기준으로 데이털 로드 \n",
    "ticker_aapl = yf.Ticker('AAPL')"
   ]
  },
  {
   "cell_type": "code",
   "execution_count": null,
   "metadata": {},
   "outputs": [],
   "source": [
    "df_aapl = ticker_aapl.history(\n",
    "    start = '2020-01-01'\n",
    ")"
   ]
  },
  {
   "cell_type": "code",
   "execution_count": null,
   "metadata": {},
   "outputs": [],
   "source": [
    "df_aapl.index"
   ]
  },
  {
   "cell_type": "code",
   "execution_count": null,
   "metadata": {},
   "outputs": [],
   "source": [
    "band_aapl = boll.create_band(df_aapl, _col='Close', _start='2010-01-01')"
   ]
  },
  {
   "cell_type": "code",
   "execution_count": null,
   "metadata": {},
   "outputs": [],
   "source": [
    "band_aapl.head()"
   ]
  },
  {
   "cell_type": "code",
   "execution_count": null,
   "metadata": {},
   "outputs": [],
   "source": [
    "trade_aapl = boll.create_trade(band_aapl)"
   ]
  },
  {
   "cell_type": "code",
   "execution_count": null,
   "metadata": {},
   "outputs": [],
   "source": [
    "trade_aapl['trade'].value_counts()"
   ]
  },
  {
   "cell_type": "code",
   "execution_count": null,
   "metadata": {},
   "outputs": [],
   "source": [
    "rtn_aapl, acc_rtn_aapl = boll.create_rtn(trade_aapl)"
   ]
  },
  {
   "cell_type": "code",
   "execution_count": null,
   "metadata": {},
   "outputs": [],
   "source": [
    "acc_rtn_aapl"
   ]
  },
  {
   "cell_type": "code",
   "execution_count": 21,
   "metadata": {},
   "outputs": [
    {
     "name": "stdout",
     "output_type": "stream",
     "text": [
      "매수일 : 2022-01-19 00:00:00, 매수가 : 163.3712921142578\n",
      "매도일 : 2022-03-24 00:00:00, 매도가 : 171.29443359375\n",
      "수익율 : 1.0484977585532649\n",
      "매수일 : 2022-04-26 00:00:00, 매수가 : 154.29978942871094\n",
      "매도일 : 2022-07-21 00:00:00, 매도가 : 153.09754943847656\n",
      "수익율 : 0.99220841457603\n",
      "매수일 : 2022-08-30 00:00:00, 매수가 : 156.82345581054688\n",
      "매도일 : 2022-10-25 00:00:00, 매도가 : 150.33970642089844\n",
      "수익율 : 0.9586557421774888\n",
      "매수일 : 2022-12-15 00:00:00, 매수가 : 134.93113708496094\n",
      "매도일 : 2023-01-23 00:00:00, 매도가 : 139.4881591796875\n",
      "수익율 : 1.0337729466539454\n",
      "매수일 : 2023-08-04 00:00:00, 매수가 : 180.42222595214844\n",
      "매도일 : 2023-08-31 00:00:00, 매도가 : 186.50308227539062\n",
      "수익율 : 1.0337034768923368\n",
      "매수일 : 2023-10-26 00:00:00, 매수가 : 165.6757049560547\n",
      "매도일 : 2023-11-10 00:00:00, 매도가 : 185.28753662109375\n",
      "수익율 : 1.1183748194718175\n",
      "매수일 : 2024-01-02 00:00:00, 매수가 : 184.53208923339844\n",
      "매도일 : 2024-05-03 00:00:00, 매도가 : 182.51817321777344\n",
      "수익율 : 0.9890863641982736\n",
      "매수일 : 2024-08-05 00:00:00, 매수가 : 208.5690155029297\n",
      "매도일 : 2024-09-30 00:00:00, 매도가 : 232.48831176757812\n",
      "수익율 : 1.1146828842576209\n",
      "매수일 : 2024-11-04 00:00:00, 매수가 : 221.52244567871094\n",
      "매도일 : 2024-11-26 00:00:00, 매도가 : 234.8018341064453\n",
      "수익율 : 1.059946017601279\n",
      "매수일 : 2025-01-10 00:00:00, 매수가 : 236.58987426757812\n"
     ]
    },
    {
     "name": "stderr",
     "output_type": "stream",
     "text": [
      "c:\\ubion_2025\\python\\250324\\boll.py:105: FutureWarning: Setting an item of incompatible dtype is deprecated and will raise in a future error of pandas. Value '1.0484977585532649' has dtype incompatible with int64, please explicitly cast to a compatible dtype first.\n",
      "  result.loc[idx, 'rtn'] = rtn\n"
     ]
    },
    {
     "data": {
      "text/plain": [
       "(                 Close      center          up        down trade  rtn  \\\n",
       " Date                                                                    \n",
       " 2022-01-03  178.879913  172.472047  180.676457  164.267637        1.0   \n",
       " 2022-01-04  176.609650  173.178682  180.091141  166.266223        1.0   \n",
       " 2022-01-05  171.911835  173.362465  179.907305  166.817624        1.0   \n",
       " 2022-01-06  169.042084  173.211115  180.016696  166.405533        1.0   \n",
       " 2022-01-07  169.209152  173.093671  180.097547  166.089794        1.0   \n",
       " ...                ...         ...         ...         ...   ...  ...   \n",
       " 2025-03-18  212.690002  232.457500  258.495777  206.419222   buy  1.0   \n",
       " 2025-03-19  215.240005  230.976000  257.409379  204.542621   buy  1.0   \n",
       " 2025-03-20  214.100006  229.389500  255.877849  202.901152   buy  1.0   \n",
       " 2025-03-21  218.270004  228.025500  253.810140  202.240861   buy  1.0   \n",
       " 2025-03-24  220.729996  226.707000  251.040841  202.373159   buy  1.0   \n",
       " \n",
       "              acc_rtn  \n",
       " Date                  \n",
       " 2022-01-03  1.000000  \n",
       " 2022-01-04  1.000000  \n",
       " 2022-01-05  1.000000  \n",
       " 2022-01-06  1.000000  \n",
       " 2022-01-07  1.000000  \n",
       " ...              ...  \n",
       " 2025-03-18  1.392871  \n",
       " 2025-03-19  1.392871  \n",
       " 2025-03-20  1.392871  \n",
       " 2025-03-21  1.392871  \n",
       " 2025-03-24  1.392871  \n",
       " \n",
       " [808 rows x 7 columns],\n",
       " 1.3928710274606468)"
      ]
     },
     "execution_count": 21,
     "metadata": {},
     "output_type": "execute_result"
    }
   ],
   "source": [
    "boll.create_rtn(\n",
    "    boll.create_trade(\n",
    "        boll.create_band(\n",
    "            df_aapl, _col = 'Close', _start = '2022-01-01', \n",
    "            _cnt = 20\n",
    "        )\n",
    "    )\n",
    ")"
   ]
  },
  {
   "cell_type": "code",
   "execution_count": 23,
   "metadata": {},
   "outputs": [],
   "source": [
    "# 20일 기준 보유 내역 데이터프레임을 생성 \n",
    "trade_20 = boll.create_trade(\n",
    "    boll.create_band(df_aapl, _col = 'Close', _start = \"2022-01-01\")\n",
    ")\n",
    "trade_30 = boll.create_trade(\n",
    "    boll.create_band(df_aapl, _col = 'Close', _start = \"2022-01-01\", \n",
    "                     _cnt = 30)\n",
    ")"
   ]
  },
  {
   "cell_type": "code",
   "execution_count": 27,
   "metadata": {},
   "outputs": [],
   "source": [
    "trade_20 = trade_20[['Close', 'trade']]"
   ]
  },
  {
   "cell_type": "code",
   "execution_count": 29,
   "metadata": {},
   "outputs": [],
   "source": [
    "trade_30.drop(['center', 'up', 'down'], axis=1, inplace=True)"
   ]
  },
  {
   "cell_type": "code",
   "execution_count": 30,
   "metadata": {},
   "outputs": [],
   "source": [
    "import pandas as pd"
   ]
  },
  {
   "cell_type": "code",
   "execution_count": 33,
   "metadata": {},
   "outputs": [],
   "source": [
    "# trade_20, trade_30은 단순한 열 결합 \n",
    "trade_df = \\\n",
    "    pd.concat( [trade_20, trade_30] , axis=1 , ignore_index=True)"
   ]
  },
  {
   "cell_type": "code",
   "execution_count": 35,
   "metadata": {},
   "outputs": [],
   "source": [
    "# trade_df에 2 컬럼을 삭제\n",
    "trade_df.drop(2, axis=1, inplace=True)"
   ]
  },
  {
   "cell_type": "code",
   "execution_count": 36,
   "metadata": {},
   "outputs": [],
   "source": [
    "# 컬럼의 이름을 재지정\n",
    "trade_df.columns = ['Close', 'trade_20', 'trade_30']"
   ]
  },
  {
   "cell_type": "code",
   "execution_count": 38,
   "metadata": {},
   "outputs": [],
   "source": [
    "# trade_20, trade_30에 둘다 buy라는 값을 \n",
    "# 가진다면 trade 컬럼에 데이터가 buy\n",
    "trade_df['trade'] = ''\n",
    "for idx in trade_df.index:\n",
    "    if (trade_df.loc[idx, 'trade_20'] == 'buy') & \\\n",
    "        (trade_df.loc[idx, 'trade_30'] == 'buy'):\n",
    "        trade_df.loc[idx, 'trade'] = 'buy'"
   ]
  },
  {
   "cell_type": "code",
   "execution_count": 39,
   "metadata": {},
   "outputs": [
    {
     "data": {
      "text/plain": [
       "trade\n",
       "       512\n",
       "buy    296\n",
       "Name: count, dtype: int64"
      ]
     },
     "execution_count": 39,
     "metadata": {},
     "output_type": "execute_result"
    }
   ],
   "source": [
    "trade_df['trade'].value_counts()"
   ]
  },
  {
   "cell_type": "code",
   "execution_count": 44,
   "metadata": {},
   "outputs": [],
   "source": [
    "# trade_20, trade_30에 buy가 포함되어있는가?\n",
    "flag = \\\n",
    "    trade_df[['trade_20', 'trade_30']].isin(['buy']).all(axis=1)"
   ]
  },
  {
   "cell_type": "code",
   "execution_count": 45,
   "metadata": {},
   "outputs": [],
   "source": [
    "trade_df['trade_2'] = ''"
   ]
  },
  {
   "cell_type": "code",
   "execution_count": 48,
   "metadata": {},
   "outputs": [],
   "source": [
    "trade_df.loc[flag, 'trade_2'] = 'buy'"
   ]
  },
  {
   "cell_type": "code",
   "execution_count": 49,
   "metadata": {},
   "outputs": [
    {
     "data": {
      "text/plain": [
       "trade_2\n",
       "       512\n",
       "buy    296\n",
       "Name: count, dtype: int64"
      ]
     },
     "execution_count": 49,
     "metadata": {},
     "output_type": "execute_result"
    }
   ],
   "source": [
    "trade_df['trade_2'].value_counts()"
   ]
  },
  {
   "cell_type": "code",
   "execution_count": 50,
   "metadata": {},
   "outputs": [
    {
     "name": "stdout",
     "output_type": "stream",
     "text": [
      "매수일 : 2022-01-19 00:00:00, 매수가 : 163.3712921142578\n",
      "매도일 : 2022-03-24 00:00:00, 매도가 : 171.29443359375\n",
      "수익율 : 1.0484977585532649\n",
      "매수일 : 2022-05-11 00:00:00, 매수가 : 144.37586975097656\n",
      "매도일 : 2022-07-21 00:00:00, 매도가 : 153.09754943847656\n",
      "수익율 : 1.0604095386752883\n",
      "매수일 : 2022-09-29 00:00:00, 매수가 : 140.60916137695312\n",
      "매도일 : 2022-10-25 00:00:00, 매도가 : 150.33970642089844\n",
      "수익율 : 1.069202781302842\n",
      "매수일 : 2022-12-15 00:00:00, 매수가 : 134.93113708496094\n",
      "매도일 : 2023-01-23 00:00:00, 매도가 : 139.4881591796875\n",
      "수익율 : 1.0337729466539454\n",
      "매수일 : 2023-08-04 00:00:00, 매수가 : 180.42222595214844\n",
      "매도일 : 2023-08-31 00:00:00, 매도가 : 186.50308227539062\n",
      "수익율 : 1.0337034768923368\n",
      "매수일 : 2023-10-26 00:00:00, 매수가 : 165.6757049560547\n",
      "매도일 : 2023-11-10 00:00:00, 매도가 : 185.28753662109375\n",
      "수익율 : 1.1183748194718175\n",
      "매수일 : 2024-01-02 00:00:00, 매수가 : 184.53208923339844\n",
      "매도일 : 2024-05-03 00:00:00, 매도가 : 182.51817321777344\n",
      "수익율 : 0.9890863641982736\n",
      "매수일 : 2025-01-16 00:00:00, 매수가 : 228.00930786132812\n"
     ]
    },
    {
     "name": "stderr",
     "output_type": "stream",
     "text": [
      "c:\\ubion_2025\\python\\250324\\boll.py:105: FutureWarning: Setting an item of incompatible dtype is deprecated and will raise in a future error of pandas. Value '1.0484977585532649' has dtype incompatible with int64, please explicitly cast to a compatible dtype first.\n",
      "  result.loc[idx, 'rtn'] = rtn\n"
     ]
    },
    {
     "data": {
      "text/plain": [
       "(                 Close trade_20 trade_30 trade trade_2  rtn   acc_rtn\n",
       " Date                                                                 \n",
       " 2022-01-03  178.879913                                  1.0  1.000000\n",
       " 2022-01-04  176.609650                                  1.0  1.000000\n",
       " 2022-01-05  171.911835                                  1.0  1.000000\n",
       " 2022-01-06  169.042084                                  1.0  1.000000\n",
       " 2022-01-07  169.209152                                  1.0  1.000000\n",
       " ...                ...      ...      ...   ...     ...  ...       ...\n",
       " 2025-03-18  212.690002      buy      buy   buy     buy  1.0  1.405219\n",
       " 2025-03-19  215.240005      buy      buy   buy     buy  1.0  1.405219\n",
       " 2025-03-20  214.100006      buy      buy   buy     buy  1.0  1.405219\n",
       " 2025-03-21  218.270004      buy      buy   buy     buy  1.0  1.405219\n",
       " 2025-03-24  220.729996      buy      buy   buy     buy  1.0  1.405219\n",
       " \n",
       " [808 rows x 7 columns],\n",
       " 1.4052187838464785)"
      ]
     },
     "execution_count": 50,
     "metadata": {},
     "output_type": "execute_result"
    }
   ],
   "source": [
    "boll.create_rtn(trade_df)"
   ]
  }
 ],
 "metadata": {
  "kernelspec": {
   "display_name": "Python 3",
   "language": "python",
   "name": "python3"
  },
  "language_info": {
   "codemirror_mode": {
    "name": "ipython",
    "version": 3
   },
   "file_extension": ".py",
   "mimetype": "text/x-python",
   "name": "python",
   "nbconvert_exporter": "python",
   "pygments_lexer": "ipython3",
   "version": "3.11.1"
  }
 },
 "nbformat": 4,
 "nbformat_minor": 2
}
