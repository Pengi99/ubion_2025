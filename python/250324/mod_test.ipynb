{
 "cells": [
  {
   "cell_type": "code",
   "execution_count": 1,
   "metadata": {},
   "outputs": [],
   "source": [
    "import boll"
   ]
  },
  {
   "cell_type": "code",
   "execution_count": 64,
   "metadata": {},
   "outputs": [
    {
     "data": {
      "text/plain": [
       "<module 'boll' from 'c:\\\\ubion_2025\\\\python\\\\250324\\\\boll.py'>"
      ]
     },
     "execution_count": 64,
     "metadata": {},
     "output_type": "execute_result"
    }
   ],
   "source": [
    "import importlib\n",
    "importlib.reload(boll)"
   ]
  },
  {
   "cell_type": "code",
   "execution_count": 2,
   "metadata": {},
   "outputs": [],
   "source": [
    "import yfinance as yf"
   ]
  },
  {
   "cell_type": "code",
   "execution_count": 45,
   "metadata": {},
   "outputs": [],
   "source": [
    "from datetime import datetime"
   ]
  },
  {
   "cell_type": "code",
   "execution_count": 19,
   "metadata": {},
   "outputs": [],
   "source": [
    "# 티커를 기준으로 데이털 로드 \n",
    "ticker_aapl = yf.Ticker('BTC-USD')"
   ]
  },
  {
   "cell_type": "code",
   "execution_count": 20,
   "metadata": {},
   "outputs": [],
   "source": [
    "df_aapl = ticker_aapl.history(\n",
    "    start = '2010-01-01'\n",
    ")"
   ]
  },
  {
   "cell_type": "code",
   "execution_count": 50,
   "metadata": {},
   "outputs": [
    {
     "data": {
      "text/plain": [
       "pandas.core.indexes.datetimes.DatetimeIndex"
      ]
     },
     "execution_count": 50,
     "metadata": {},
     "output_type": "execute_result"
    }
   ],
   "source": [
    "type(df_aapl.index)"
   ]
  },
  {
   "cell_type": "code",
   "execution_count": 65,
   "metadata": {},
   "outputs": [],
   "source": [
    "band_aapl = boll.create_band(df_aapl, _col='Close', _start='2010-01-01')"
   ]
  },
  {
   "cell_type": "code",
   "execution_count": 48,
   "metadata": {},
   "outputs": [],
   "source": [
    "start = '2015-01-01'"
   ]
  },
  {
   "cell_type": "code",
   "execution_count": 46,
   "metadata": {},
   "outputs": [],
   "source": [
    "start = datetime.strptime(start, '%Y-%m-%d')"
   ]
  },
  {
   "cell_type": "code",
   "execution_count": 49,
   "metadata": {},
   "outputs": [
    {
     "data": {
      "text/html": [
       "<div>\n",
       "<style scoped>\n",
       "    .dataframe tbody tr th:only-of-type {\n",
       "        vertical-align: middle;\n",
       "    }\n",
       "\n",
       "    .dataframe tbody tr th {\n",
       "        vertical-align: top;\n",
       "    }\n",
       "\n",
       "    .dataframe thead th {\n",
       "        text-align: right;\n",
       "    }\n",
       "</style>\n",
       "<table border=\"1\" class=\"dataframe\">\n",
       "  <thead>\n",
       "    <tr style=\"text-align: right;\">\n",
       "      <th></th>\n",
       "      <th>Close</th>\n",
       "      <th>center</th>\n",
       "      <th>up</th>\n",
       "      <th>down</th>\n",
       "    </tr>\n",
       "    <tr>\n",
       "      <th>Date</th>\n",
       "      <th></th>\n",
       "      <th></th>\n",
       "      <th></th>\n",
       "      <th></th>\n",
       "    </tr>\n",
       "  </thead>\n",
       "  <tbody>\n",
       "    <tr>\n",
       "      <th>2015-01-01 00:00:00+00:00</th>\n",
       "      <td>314.248993</td>\n",
       "      <td>324.905199</td>\n",
       "      <td>349.013769</td>\n",
       "      <td>300.796628</td>\n",
       "    </tr>\n",
       "    <tr>\n",
       "      <th>2015-01-02 00:00:00+00:00</th>\n",
       "      <td>315.032013</td>\n",
       "      <td>323.287999</td>\n",
       "      <td>345.297786</td>\n",
       "      <td>301.278212</td>\n",
       "    </tr>\n",
       "    <tr>\n",
       "      <th>2015-01-03 00:00:00+00:00</th>\n",
       "      <td>281.082001</td>\n",
       "      <td>319.760500</td>\n",
       "      <td>345.017684</td>\n",
       "      <td>294.503316</td>\n",
       "    </tr>\n",
       "    <tr>\n",
       "      <th>2015-01-04 00:00:00+00:00</th>\n",
       "      <td>264.195007</td>\n",
       "      <td>315.703000</td>\n",
       "      <td>348.578640</td>\n",
       "      <td>282.827360</td>\n",
       "    </tr>\n",
       "    <tr>\n",
       "      <th>2015-01-05 00:00:00+00:00</th>\n",
       "      <td>274.473999</td>\n",
       "      <td>313.073599</td>\n",
       "      <td>350.254140</td>\n",
       "      <td>275.893058</td>\n",
       "    </tr>\n",
       "    <tr>\n",
       "      <th>...</th>\n",
       "      <td>...</td>\n",
       "      <td>...</td>\n",
       "      <td>...</td>\n",
       "      <td>...</td>\n",
       "    </tr>\n",
       "    <tr>\n",
       "      <th>2025-03-20 00:00:00+00:00</th>\n",
       "      <td>84167.195312</td>\n",
       "      <td>85127.125391</td>\n",
       "      <td>92430.525040</td>\n",
       "      <td>77823.725741</td>\n",
       "    </tr>\n",
       "    <tr>\n",
       "      <th>2025-03-21 00:00:00+00:00</th>\n",
       "      <td>84043.242188</td>\n",
       "      <td>85027.691797</td>\n",
       "      <td>92333.374373</td>\n",
       "      <td>77722.009221</td>\n",
       "    </tr>\n",
       "    <tr>\n",
       "      <th>2025-03-22 00:00:00+00:00</th>\n",
       "      <td>83832.484375</td>\n",
       "      <td>84506.898438</td>\n",
       "      <td>90391.851236</td>\n",
       "      <td>78621.945639</td>\n",
       "    </tr>\n",
       "    <tr>\n",
       "      <th>2025-03-23 00:00:00+00:00</th>\n",
       "      <td>86054.375000</td>\n",
       "      <td>84506.333594</td>\n",
       "      <td>90390.658579</td>\n",
       "      <td>78622.008608</td>\n",
       "    </tr>\n",
       "    <tr>\n",
       "      <th>2025-03-24 00:00:00+00:00</th>\n",
       "      <td>87260.156250</td>\n",
       "      <td>84508.231641</td>\n",
       "      <td>90396.268483</td>\n",
       "      <td>78620.194798</td>\n",
       "    </tr>\n",
       "  </tbody>\n",
       "</table>\n",
       "<p>3736 rows × 4 columns</p>\n",
       "</div>"
      ],
      "text/plain": [
       "                                  Close        center            up  \\\n",
       "Date                                                                  \n",
       "2015-01-01 00:00:00+00:00    314.248993    324.905199    349.013769   \n",
       "2015-01-02 00:00:00+00:00    315.032013    323.287999    345.297786   \n",
       "2015-01-03 00:00:00+00:00    281.082001    319.760500    345.017684   \n",
       "2015-01-04 00:00:00+00:00    264.195007    315.703000    348.578640   \n",
       "2015-01-05 00:00:00+00:00    274.473999    313.073599    350.254140   \n",
       "...                                 ...           ...           ...   \n",
       "2025-03-20 00:00:00+00:00  84167.195312  85127.125391  92430.525040   \n",
       "2025-03-21 00:00:00+00:00  84043.242188  85027.691797  92333.374373   \n",
       "2025-03-22 00:00:00+00:00  83832.484375  84506.898438  90391.851236   \n",
       "2025-03-23 00:00:00+00:00  86054.375000  84506.333594  90390.658579   \n",
       "2025-03-24 00:00:00+00:00  87260.156250  84508.231641  90396.268483   \n",
       "\n",
       "                                   down  \n",
       "Date                                     \n",
       "2015-01-01 00:00:00+00:00    300.796628  \n",
       "2015-01-02 00:00:00+00:00    301.278212  \n",
       "2015-01-03 00:00:00+00:00    294.503316  \n",
       "2015-01-04 00:00:00+00:00    282.827360  \n",
       "2015-01-05 00:00:00+00:00    275.893058  \n",
       "...                                 ...  \n",
       "2025-03-20 00:00:00+00:00  77823.725741  \n",
       "2025-03-21 00:00:00+00:00  77722.009221  \n",
       "2025-03-22 00:00:00+00:00  78621.945639  \n",
       "2025-03-23 00:00:00+00:00  78622.008608  \n",
       "2025-03-24 00:00:00+00:00  78620.194798  \n",
       "\n",
       "[3736 rows x 4 columns]"
      ]
     },
     "execution_count": 49,
     "metadata": {},
     "output_type": "execute_result"
    }
   ],
   "source": [
    "band_aapl[start:]"
   ]
  }
 ],
 "metadata": {
  "kernelspec": {
   "display_name": "Python 3",
   "language": "python",
   "name": "python3"
  },
  "language_info": {
   "codemirror_mode": {
    "name": "ipython",
    "version": 3
   },
   "file_extension": ".py",
   "mimetype": "text/x-python",
   "name": "python",
   "nbconvert_exporter": "python",
   "pygments_lexer": "ipython3",
   "version": "3.11.1"
  }
 },
 "nbformat": 4,
 "nbformat_minor": 2
}
