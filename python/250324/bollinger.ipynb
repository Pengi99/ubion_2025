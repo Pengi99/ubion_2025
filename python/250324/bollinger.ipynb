{
 "cells": [
  {
   "cell_type": "markdown",
   "metadata": {},
   "source": [
    "### 볼린저 밴드 투자 전략 \n",
    "1. 이동 평균선 : 데이터의 20개의 평균값\n",
    "2. 상단 밴드 : 이동 평균선 + (2 * 20개의 데이터의 표준편차)\n",
    "3. 하단 밴드 : 이동 평균선 - (2 * 20개의 데이터의 표준편차)\n",
    "4. 매수 타이밍 : 하단 밴드보다 이하로 가격이 떨어졌을때\n",
    "5. 매도 타이밍 : 상단 밴드보다 이상으로 가격이 올랐을때"
   ]
  },
  {
   "cell_type": "code",
   "execution_count": null,
   "metadata": {},
   "outputs": [],
   "source": [
    "import pandas as pd\n",
    "import numpy as np\n",
    "import matplotlib.pyplot as plt\n",
    "from datetime import datetime"
   ]
  },
  {
   "cell_type": "code",
   "execution_count": null,
   "metadata": {},
   "outputs": [],
   "source": [
    "df = pd.read_csv(\"../../csv/MSFT.csv\")\n",
    "df.head()"
   ]
  },
  {
   "cell_type": "code",
   "execution_count": null,
   "metadata": {},
   "outputs": [],
   "source": [
    "# 데이터프레임의 정보 확인 \n",
    "df.info()"
   ]
  },
  {
   "cell_type": "code",
   "execution_count": 10,
   "metadata": {},
   "outputs": [],
   "source": [
    "# Date 컬럼의 데이터를 시계열로 변경하고 인덱스 설정\n",
    "df['Date'] = pd.to_datetime(df['Date'])\n",
    "df.set_index('Date', inplace=True)"
   ]
  },
  {
   "cell_type": "code",
   "execution_count": 11,
   "metadata": {},
   "outputs": [],
   "source": [
    "# 결측치, 양의 무한대, 음의 무한대를 제외\n",
    "flag = df.isin( [np.nan, np.inf, -np.inf] ).any(axis=1)\n",
    "df = df.loc[~flag, ['Adj Close']]"
   ]
  },
  {
   "cell_type": "code",
   "execution_count": null,
   "metadata": {},
   "outputs": [],
   "source": [
    "df"
   ]
  },
  {
   "cell_type": "code",
   "execution_count": 12,
   "metadata": {},
   "outputs": [
    {
     "data": {
      "text/html": [
       "<div>\n",
       "<style scoped>\n",
       "    .dataframe tbody tr th:only-of-type {\n",
       "        vertical-align: middle;\n",
       "    }\n",
       "\n",
       "    .dataframe tbody tr th {\n",
       "        vertical-align: top;\n",
       "    }\n",
       "\n",
       "    .dataframe thead th {\n",
       "        text-align: right;\n",
       "    }\n",
       "</style>\n",
       "<table border=\"1\" class=\"dataframe\">\n",
       "  <thead>\n",
       "    <tr style=\"text-align: right;\">\n",
       "      <th></th>\n",
       "      <th>Adj Close</th>\n",
       "    </tr>\n",
       "    <tr>\n",
       "      <th>Date</th>\n",
       "      <th></th>\n",
       "    </tr>\n",
       "  </thead>\n",
       "  <tbody>\n",
       "    <tr>\n",
       "      <th>1986-03-13</th>\n",
       "      <td>0.069996</td>\n",
       "    </tr>\n",
       "    <tr>\n",
       "      <th>1986-03-14</th>\n",
       "      <td>0.072496</td>\n",
       "    </tr>\n",
       "    <tr>\n",
       "      <th>1986-03-17</th>\n",
       "      <td>0.073746</td>\n",
       "    </tr>\n",
       "    <tr>\n",
       "      <th>1986-03-18</th>\n",
       "      <td>0.071871</td>\n",
       "    </tr>\n",
       "    <tr>\n",
       "      <th>1986-03-19</th>\n",
       "      <td>0.070621</td>\n",
       "    </tr>\n",
       "  </tbody>\n",
       "</table>\n",
       "</div>"
      ],
      "text/plain": [
       "            Adj Close\n",
       "Date                 \n",
       "1986-03-13   0.069996\n",
       "1986-03-14   0.072496\n",
       "1986-03-17   0.073746\n",
       "1986-03-18   0.071871\n",
       "1986-03-19   0.070621"
      ]
     },
     "execution_count": 12,
     "metadata": {},
     "output_type": "execute_result"
    }
   ],
   "source": [
    "df.head()"
   ]
  },
  {
   "cell_type": "code",
   "execution_count": 18,
   "metadata": {},
   "outputs": [
    {
     "data": {
      "text/plain": [
       "0.06933975"
      ]
     },
     "execution_count": 18,
     "metadata": {},
     "output_type": "execute_result"
    }
   ],
   "source": [
    "# 이동 평균선 생성 \n",
    "# 20개의 데이터의 평균 값\n",
    "df.iloc[1:21, 0].mean()"
   ]
  },
  {
   "cell_type": "code",
   "execution_count": 15,
   "metadata": {},
   "outputs": [],
   "source": [
    "df2 = df.copy()"
   ]
  },
  {
   "cell_type": "code",
   "execution_count": 16,
   "metadata": {},
   "outputs": [],
   "source": [
    "# 반복문을 이용하여 이동평균선 생성\n",
    "df2['center'] = np.nan"
   ]
  },
  {
   "cell_type": "code",
   "execution_count": null,
   "metadata": {},
   "outputs": [],
   "source": [
    "for i in range(20, len(df2)+1):\n",
    "    mean_data = df2.iloc[i-20 : i, 0].mean()\n",
    "    # 평균값을 i번째 인덱스에 두번째 컬럼(1)에 대입입\n",
    "    df2.iloc[i-1, 1] = mean_data\n",
    "df2"
   ]
  },
  {
   "cell_type": "code",
   "execution_count": 23,
   "metadata": {},
   "outputs": [],
   "source": [
    "# rolling(n) : n만큼 데이터를 그룹화\n",
    "df['center'] = df['Adj Close'].rolling(20).mean()"
   ]
  },
  {
   "cell_type": "code",
   "execution_count": null,
   "metadata": {},
   "outputs": [],
   "source": [
    "df.iloc[18:22]"
   ]
  },
  {
   "cell_type": "code",
   "execution_count": 28,
   "metadata": {},
   "outputs": [],
   "source": [
    "# 상단밴드 생성 \n",
    "df['up'] = \\\n",
    "    df['center'] + (2 * df['Adj Close'].rolling(20).std())"
   ]
  },
  {
   "cell_type": "code",
   "execution_count": 29,
   "metadata": {},
   "outputs": [],
   "source": [
    "# 하단 밴드 생성\n",
    "df['down'] = \\\n",
    "    df['center'] - (2 * df['Adj Close'].rolling(20).std())"
   ]
  },
  {
   "cell_type": "code",
   "execution_count": 30,
   "metadata": {},
   "outputs": [],
   "source": [
    "df_test = df.tail(100)"
   ]
  },
  {
   "cell_type": "code",
   "execution_count": 31,
   "metadata": {},
   "outputs": [
    {
     "data": {
      "image/png": "[encoded data removed]",
      "text/plain": [
       "<Figure size 1600x800 with 1 Axes>"
      ]
     },
     "metadata": {},
     "output_type": "display_data"
    }
   ],
   "source": [
    "x = df_test.index\n",
    "center_price = df_test['center']\n",
    "up_price = df_test['up']\n",
    "down_price = df_test['down']\n",
    "\n",
    "plt.figure(figsize = (16, 8))\n",
    "plt.plot(x, center_price)\n",
    "plt.plot(x, up_price)\n",
    "plt.plot(x, down_price)\n",
    "\n",
    "plt.show()"
   ]
  },
  {
   "cell_type": "code",
   "execution_count": 32,
   "metadata": {},
   "outputs": [
    {
     "data": {
      "text/plain": [
       "<AxesSubplot: xlabel='Date'>"
      ]
     },
     "execution_count": 32,
     "metadata": {},
     "output_type": "execute_result"
    },
    {
     "data": {
      "image/png": "[encoded data removed]",
      "text/plain": [
       "<Figure size 640x480 with 1 Axes>"
      ]
     },
     "metadata": {},
     "output_type": "display_data"
    }
   ],
   "source": [
    "df_test[ ['Adj Close', 'up', 'down'] ].plot()"
   ]
  },
  {
   "cell_type": "code",
   "execution_count": 33,
   "metadata": {},
   "outputs": [],
   "source": [
    "start = '2010-01-01'"
   ]
  },
  {
   "cell_type": "code",
   "execution_count": 34,
   "metadata": {},
   "outputs": [],
   "source": [
    "start = datetime.strptime(start, '%Y-%m-%d')"
   ]
  },
  {
   "cell_type": "code",
   "execution_count": 36,
   "metadata": {},
   "outputs": [],
   "source": [
    "price_df = df.loc[start : ]"
   ]
  },
  {
   "cell_type": "markdown",
   "metadata": {},
   "source": [
    "### 보유 내역 추가 \n",
    "- 조건식 \n",
    "    - 상단 밴드보다 수정 종가가 높거나 같은 경우\n",
    "        - 현재 보유 상태라면\n",
    "            - 매도 (trade = '')\n",
    "        - 현재 보유 상태가 아니면\n",
    "            - 유지 (trade = '')\n",
    "    - 상단 밴드보다 낮고 하단 밴드보다 높은 경우 \n",
    "        - 현재 보유 상태라면 \n",
    "            - 유지 (trade = 'buy')\n",
    "        - 현재 보유 상태가 아니면\n",
    "            - 유지 (trade = '')\n",
    "    - 하단 밴드보다 수정 종가가 낮거나 같은 경우\n",
    "        - 현재 보유 상태라면 \n",
    "            - 유지 (trade = 'buy')\n",
    "        - 현재 보유 상태가 아니라면\n",
    "            - 매수 (trade = 'buy')"
   ]
  },
  {
   "cell_type": "code",
   "execution_count": 37,
   "metadata": {},
   "outputs": [
    {
     "name": "stderr",
     "output_type": "stream",
     "text": [
      "C:\\Users\\moons\\AppData\\Local\\Temp\\ipykernel_14848\\2934138610.py:2: SettingWithCopyWarning: \n",
      "A value is trying to be set on a copy of a slice from a DataFrame.\n",
      "Try using .loc[row_indexer,col_indexer] = value instead\n",
      "\n",
      "See the caveats in the documentation: https://pandas.pydata.org/pandas-docs/stable/user_guide/indexing.html#returning-a-view-versus-a-copy\n",
      "  price_df['trade'] = ''\n"
     ]
    }
   ],
   "source": [
    "# trade 컬럼을 생성\n",
    "price_df['trade'] = ''"
   ]
  },
  {
   "cell_type": "code",
   "execution_count": 38,
   "metadata": {},
   "outputs": [],
   "source": [
    "for idx in price_df.index:\n",
    "    # idx에는 price_df의 인덱스 값(시계열 데이터)\n",
    "    # 상단 밴드의 값보다 수정 종가의 값이 크거나 같다면 \n",
    "    if price_df.loc[idx, 'Adj Close'] >= price_df.loc[idx, 'up']:\n",
    "        # 현재 보유 상태라면? -> 전날의 trade가 'buy'인 경우\n",
    "        if price_df.shift().loc[idx, 'trade'] == 'buy':\n",
    "            price_df.loc[idx, 'trade'] = ''\n",
    "        else:\n",
    "            # 현재 보유 상태가 아니라면 유지\n",
    "            price_df.loc[idx, 'trade'] = ''\n",
    "    # 하단 밴드보다 낮거나 같은 경우\n",
    "    elif price_df.loc[idx, 'down'] >= price_df.loc[idx, 'Adj Close']:\n",
    "        # 현재 보유 상태라면 유지\n",
    "        if price_df.shift().loc[idx, 'trade'] == 'buy':\n",
    "            price_df.loc[idx, 'trade'] = 'buy'\n",
    "        else:\n",
    "        # 현재 보유 상태가 아니라면 매수\n",
    "            price_df.loc[idx, 'trade'] = 'buy'\n",
    "    # 밴드 사이에 수정종가가 존재하고 있을때\n",
    "    else:\n",
    "        # 현재 보유 상태라면 유지 \n",
    "        if price_df.shift().loc[idx, 'trade'] == 'buy':\n",
    "            price_df.loc[idx, 'trade'] = 'buy'\n",
    "        # 보유 상태가 아니라면 유지 \n",
    "        else:\n",
    "            price_df.loc[idx, 'trade'] = ''"
   ]
  },
  {
   "cell_type": "code",
   "execution_count": 39,
   "metadata": {},
   "outputs": [
    {
     "data": {
      "text/plain": [
       "trade\n",
       "       1400\n",
       "buy     984\n",
       "Name: count, dtype: int64"
      ]
     },
     "execution_count": 39,
     "metadata": {},
     "output_type": "execute_result"
    }
   ],
   "source": [
    "price_df['trade'].value_counts()"
   ]
  },
  {
   "cell_type": "markdown",
   "metadata": {},
   "source": [
    "### 수익율 계산\n",
    "- 구매한 날의 수정 종가\n",
    "    - 전날의 trade가 '' 이고 오늘의 trade가 'buy'인 조건의 Adj Close\n",
    "- 판매한 날의 수정 종가 \n",
    "    - 전날의 trade가 'buy' 이고 오늘의 trade가 ''인 조건의 Adj Close\n",
    "- 수익율 \n",
    "    - 판매한 날의 수정 종가 / 구매한 날의 수정 종가"
   ]
  },
  {
   "cell_type": "code",
   "execution_count": 40,
   "metadata": {},
   "outputs": [
    {
     "name": "stderr",
     "output_type": "stream",
     "text": [
      "C:\\Users\\moons\\AppData\\Local\\Temp\\ipykernel_14848\\1482309089.py:2: SettingWithCopyWarning: \n",
      "A value is trying to be set on a copy of a slice from a DataFrame.\n",
      "Try using .loc[row_indexer,col_indexer] = value instead\n",
      "\n",
      "See the caveats in the documentation: https://pandas.pydata.org/pandas-docs/stable/user_guide/indexing.html#returning-a-view-versus-a-copy\n",
      "  price_df['rtn'] = 1\n",
      "C:\\Users\\moons\\AppData\\Local\\Temp\\ipykernel_14848\\1482309089.py:17: FutureWarning: Setting an item of incompatible dtype is deprecated and will raise in a future error of pandas. Value '1.0279195322598862' has dtype incompatible with int64, please explicitly cast to a compatible dtype first.\n",
      "  price_df.loc[idx, 'rtn'] = rtn\n"
     ]
    },
    {
     "name": "stdout",
     "output_type": "stream",
     "text": [
      "매수일 : 2010-01-22 00:00:00, 매수가 : 22.948128\n",
      "매도일 : 2010-03-17 00:00:00, 매도가 : 23.588829\n",
      "수익율 : 1.0279195322598862\n",
      "매수일 : 2010-05-06 00:00:00, 매수가 : 23.07136\n",
      "매도일 : 2010-09-13 00:00:00, 매도가 : 20.187721\n",
      "수익율 : 0.875012179602763\n",
      "매수일 : 2010-11-23 00:00:00, 매수가 : 20.319853\n",
      "매도일 : 2011-01-06 00:00:00, 매도가 : 23.312819\n",
      "수익율 : 1.1472926994107686\n",
      "매수일 : 2011-03-16 00:00:00, 매수가 : 20.171436\n",
      "매도일 : 2011-04-06 00:00:00, 매도가 : 21.278055\n",
      "수익율 : 1.0548606950937949\n",
      "매수일 : 2011-05-16 00:00:00, 매수가 : 19.992422\n",
      "매도일 : 2011-06-27 00:00:00, 매도가 : 20.639456\n",
      "수익율 : 1.032363962705469\n",
      "매수일 : 2011-08-04 00:00:00, 매수가 : 21.245531\n",
      "매도일 : 2011-08-31 00:00:00, 매도가 : 21.923595\n",
      "수익율 : 1.0319156061573607\n",
      "매수일 : 2011-11-01 00:00:00, 매수가 : 21.420837\n",
      "매도일 : 2012-01-03 00:00:00, 매도가 : 22.229851\n",
      "수익율 : 1.037767618510892\n",
      "매수일 : 2012-04-04 00:00:00, 매수가 : 26.087456\n",
      "매도일 : 2012-06-19 00:00:00, 매도가 : 25.829544\n",
      "수익율 : 0.9901135626256542\n",
      "매수일 : 2012-07-12 00:00:00, 매수가 : 24.087934\n",
      "매도일 : 2012-09-06 00:00:00, 매도가 : 26.551155\n",
      "수익율 : 1.1022595379080664\n",
      "매수일 : 2012-09-28 00:00:00, 매수가 : 25.204538\n",
      "매도일 : 2013-01-25 00:00:00, 매도가 : 23.806347\n",
      "수익율 : 0.9445262198418396\n",
      "매수일 : 2013-06-20 00:00:00, 매수가 : 29.035603\n",
      "매도일 : 2013-07-11 00:00:00, 매도가 : 30.942978\n",
      "수익율 : 1.0656909036812496\n",
      "매수일 : 2013-07-19 00:00:00, 매수가 : 27.223581\n",
      "매도일 : 2013-08-23 00:00:00, 매도가 : 30.340303\n",
      "수익율 : 1.11448611407882\n",
      "매수일 : 2014-01-08 00:00:00, 매수가 : 31.458933\n",
      "매도일 : 2014-01-31 00:00:00, 매도가 : 33.288746\n",
      "수익율 : 1.0581651323012133\n",
      "매수일 : 2014-10-10 00:00:00, 매수가 : 39.545464\n",
      "매도일 : 2015-04-23 00:00:00, 매도가 : 39.450024\n",
      "수익율 : 0.9975865752896462\n",
      "매수일 : 2015-06-08 00:00:00, 매수가 : 41.896034\n",
      "매도일 : 2015-10-02 00:00:00, 매도가 : 42.024754\n",
      "수익율 : 1.0030723671839679\n",
      "매수일 : 2016-01-07 00:00:00, 매수가 : 48.435574\n",
      "매도일 : 2016-03-16 00:00:00, 매도가 : 50.821819\n",
      "수익율 : 1.04926637186131\n",
      "매수일 : 2016-04-22 00:00:00, 매수가 : 48.418652\n",
      "매도일 : 2016-05-25 00:00:00, 매도가 : 49.077465\n",
      "수익율 : 1.0136065952435023\n",
      "매수일 : 2016-06-27 00:00:00, 매수가 : 45.602867\n",
      "매도일 : 2016-07-12 00:00:00, 매도가 : 50.103844\n",
      "수익율 : 1.0986994304546684\n",
      "매수일 : 2016-09-09 00:00:00, 매수가 : 53.258598\n",
      "매도일 : 2016-10-21 00:00:00, 매도가 : 56.527447\n",
      "수익율 : 1.0613769254684475\n",
      "매수일 : 2017-08-10 00:00:00, 매수가 : 68.923355\n",
      "매도일 : 2017-08-30 00:00:00, 매도가 : 71.813408\n",
      "수익율 : 1.0419314033682776\n",
      "매수일 : 2017-12-04 00:00:00, 매수가 : 79.068665\n",
      "매도일 : 2017-12-15 00:00:00, 매도가 : 84.695534\n",
      "수익율 : 1.0711643354545066\n",
      "매수일 : 2018-02-08 00:00:00, 매수가 : 82.901184\n",
      "매도일 : 2018-04-17 00:00:00, 매도가 : 94.126915\n",
      "수익율 : 1.135410985203782\n",
      "매수일 : 2018-06-27 00:00:00, 매수가 : 95.981407\n",
      "매도일 : 2018-07-12 00:00:00, 매도가 : 102.525146\n",
      "수익율 : 1.068177152268668\n",
      "매수일 : 2018-10-10 00:00:00, 매수가 : 104.865669\n",
      "매도일 : 2019-02-21 00:00:00, 매도가 : 109.0065\n",
      "수익율 : 1.0394870031296897\n",
      "매수일 : 2019-06-03 00:00:00, 매수가 : 119.839996\n",
      "매도일 : 2019-06-07 00:00:00, 매도가 : 131.399994\n",
      "수익율 : 1.0964619357964598\n"
     ]
    }
   ],
   "source": [
    "# 수익율 컬럼을 생성 기본값을 1로 지정 \n",
    "price_df['rtn'] = 1\n",
    "\n",
    "for idx in price_df.index:\n",
    "    # 구매한 날짜의 조건식 \n",
    "    if (price_df.shift().loc[idx, 'trade'] == '') & \\\n",
    "        (price_df.loc[idx, 'trade'] == 'buy'):\n",
    "        buy = price_df.loc[idx, 'Adj Close']\n",
    "        print(f\"매수일 : {idx}, 매수가 : {buy}\")\n",
    "    # 매도한 날짜의 조건식\n",
    "    elif (price_df.shift().loc[idx, 'trade'] == 'buy') & \\\n",
    "        (price_df.loc[idx, 'trade'] == ''):\n",
    "        sell = price_df.loc[idx, 'Adj Close']\n",
    "        print(f\"매도일 : {idx}, 매도가 : {sell}\")\n",
    "        # 수익율 계산\n",
    "        rtn = sell / buy\n",
    "        price_df.loc[idx, 'rtn'] = rtn\n",
    "        print(f\"수익율 : {rtn}\")"
   ]
  },
  {
   "cell_type": "code",
   "execution_count": 42,
   "metadata": {},
   "outputs": [
    {
     "data": {
      "text/plain": [
       "2.985057953026086"
      ]
     },
     "execution_count": 42,
     "metadata": {},
     "output_type": "execute_result"
    }
   ],
   "source": [
    "acc_rtn = 1\n",
    "\n",
    "for idx in price_df.index:\n",
    "    acc_rtn *= price_df.loc[idx, 'rtn']\n",
    "acc_rtn"
   ]
  },
  {
   "cell_type": "code",
   "execution_count": 41,
   "metadata": {},
   "outputs": [
    {
     "data": {
      "text/plain": [
       "Date\n",
       "2010-01-04    1.000000\n",
       "2010-01-05    1.000000\n",
       "2010-01-06    1.000000\n",
       "2010-01-07    1.000000\n",
       "2010-01-08    1.000000\n",
       "                ...   \n",
       "2019-06-18    2.985058\n",
       "2019-06-19    2.985058\n",
       "2019-06-20    2.985058\n",
       "2019-06-21    2.985058\n",
       "2019-06-24    2.985058\n",
       "Name: rtn, Length: 2384, dtype: float64"
      ]
     },
     "execution_count": 41,
     "metadata": {},
     "output_type": "execute_result"
    }
   ],
   "source": [
    "# 누적 수익율 계산\n",
    "price_df['rtn'].cumprod()"
   ]
  },
  {
   "cell_type": "markdown",
   "metadata": {},
   "source": [
    "### 볼린저 밴드의 함수화 \n",
    "1. 첫번째 함수\n",
    "    - 밴드를 생성하는 함수 \n",
    "        - 매개변수 5개\n",
    "            - 데이터프레임\n",
    "            - 기준이 되는 컬럼의 이름 ( 'Adj Close' )\n",
    "            - 시작 시간 ( '2010-01-01' )\n",
    "            - 종료 시간 ( 현재 시간 )\n",
    "            - 볼린저 밴드의 그룹이 되는 데이터의 개수 (20)\n",
    "        - 데이터프레임을 복사사\n",
    "        - 데이터프레임에 컬럼 중 Date가 존재하는가?\n",
    "            - 존재한다면 Date 컬럼을 인덱스로 변경\n",
    "        - index를 시계열 데이터로 변경 \n",
    "        - 결측치와 무한대 값을 제외\n",
    "        - 기준이 되는 컬럼을 제외하고 모두 삭제 \n",
    "        - 이동 평균선, 상단 밴드, 하단 밴드 컬럼을 생성\n",
    "        - 시작 시간과 종료 시간을 기준으로 필터링\n",
    "        - 위에서 작업 한 결과를 되돌려준다. "
   ]
  },
  {
   "cell_type": "code",
   "execution_count": 43,
   "metadata": {},
   "outputs": [],
   "source": [
    "def create_band(\n",
    "        _df, \n",
    "        _col = 'Adj Close', \n",
    "        _start = '2010-01-01', \n",
    "        _end = datetime.now(), \n",
    "        _cnt = 20\n",
    "):\n",
    "    # 복사본을 생성 \n",
    "    result = _df.copy()\n",
    "    # 컬럼 중 Date 컬럼이 존재하는가?\n",
    "    if 'Date' in result.columns:\n",
    "        # Date를 인덱스로 변환\n",
    "        result.set_index('Date', inplace = True)\n",
    "    # index를 시계열 데이터로 변경 \n",
    "    result.index = pd.to_datetime(result.index)\n",
    "    # 결측치, 무한대를 제외시킨다. \n",
    "    flag = result.isin( [np.nan, np.inf, -np.inf] ).any(axis=1)\n",
    "    result = result.loc[~flag, [_col]]\n",
    "    # 이동평균선, 상단 밴드, 하단 밴드 생성 \n",
    "    result['center'] = result[_col].rolling(_cnt).mean()\n",
    "    result['up'] = \\\n",
    "        result['center'] + (2 * result[_col].rolling(_cnt).std())\n",
    "    result['down'] = \\\n",
    "        result['center'] - (2 * result[_col].rolling(_cnt).std())\n",
    "    # 시작 시간과 종료 시간을 시계열 데이터로 변경 \n",
    "    try :\n",
    "        start = datetime.strptime(_start, '%Y-%m-%d')\n",
    "        if type(_end) == 'str':\n",
    "            end = datetime.strptime(_end, '%Y-%m-%d')\n",
    "        else:\n",
    "            end = _end\n",
    "    except:\n",
    "        print('시작 시간과 종료 시간의 포멧은 YYYY-mm-dd 입니다.')\n",
    "        return ''\n",
    "    # 시작 시간과 종료 시간을 기준으로 데이터를 필터링 \n",
    "    result = result.loc[start : end]\n",
    "    return result\n"
   ]
  },
  {
   "cell_type": "code",
   "execution_count": 44,
   "metadata": {},
   "outputs": [],
   "source": [
    "df = pd.read_csv('../../csv/AAPL.csv')"
   ]
  },
  {
   "cell_type": "code",
   "execution_count": 46,
   "metadata": {},
   "outputs": [],
   "source": [
    "band_df = create_band(df)"
   ]
  },
  {
   "cell_type": "markdown",
   "metadata": {},
   "source": [
    "- 두번째 함수\n",
    "    - 트레이드 컬럼을 생성하는 함수 \n",
    "        - 매개변수 1개 (create_band()함수의 결과)\n",
    "    - 복사본을 생성 \n",
    "    - 데이터프레임에서 첫번째 컬럼의 이름을 변수(col)에 저장 \n",
    "    - trade 컬럼을 생성해서 ''을 대입 \n",
    "    - 보유 내역을 반복문을 이용하여 대입 \n",
    "    - 결과를 되돌려준다. "
   ]
  },
  {
   "cell_type": "code",
   "execution_count": 47,
   "metadata": {},
   "outputs": [],
   "source": [
    "def create_trade(_df):\n",
    "    result = _df.copy()\n",
    "    # 첫번째 컬럼의 이름을 변수에 저장 \n",
    "    col = result.columns[0]\n",
    "\n",
    "    # 보유 내역 컬럼을 생성 '' 대입\n",
    "    result['trade'] = ''\n",
    "\n",
    "    # 내역 추가 \n",
    "    for idx in result.index:\n",
    "        # 상단 밴드보다 기준이 되는 컬럼의 값이 크거나 같은 경우\n",
    "        if result.loc[idx, col] >= result.loc[idx, 'up']:\n",
    "            # 매수중인 경우 매도 // 보유중 아니면 유지\n",
    "            # trade = ''\n",
    "            result.loc[idx, 'trade'] = ''\n",
    "        # 하단 밴드보다 기준이 되는 컬럼의 값이 작거나 같은 경우 \n",
    "        elif result.loc[idx, 'down'] >= result.loc[idx, col]:\n",
    "            # 보유중이 아니면 매수 // 보유중이면 유지 \n",
    "            # trade = 'buy'\n",
    "            result.loc[idx, 'trade'] = 'buy'\n",
    "        # 밴드 중간에 기준이 되는 컬럼의 값이 존재한다면\n",
    "        else:\n",
    "            # 보유중이라면 보유 유지\n",
    "            if result.shift().loc[idx, 'trade'] == 'buy':\n",
    "                result.loc[idx, 'trade'] = 'buy'\n",
    "            # 보유중이 아니라면 유지\n",
    "            else:\n",
    "                result.loc[idx, 'trade'] = ''\n",
    "    return result"
   ]
  },
  {
   "cell_type": "code",
   "execution_count": 49,
   "metadata": {},
   "outputs": [],
   "source": [
    "trade_df = create_trade(band_df)"
   ]
  },
  {
   "cell_type": "code",
   "execution_count": 50,
   "metadata": {},
   "outputs": [
    {
     "data": {
      "text/plain": [
       "trade\n",
       "       1439\n",
       "buy     945\n",
       "Name: count, dtype: int64"
      ]
     },
     "execution_count": 50,
     "metadata": {},
     "output_type": "execute_result"
    }
   ],
   "source": [
    "trade_df['trade'].value_counts()"
   ]
  },
  {
   "cell_type": "markdown",
   "metadata": {},
   "source": [
    "- 세번째 함수 생성\n",
    "    - 수익율을 계산하는 함수 \n",
    "        - 매개변수 1개  : create_trade() 함수의 결과\n",
    "    - 복사본 생성 \n",
    "    - 컬럼의 첫번째 이름을 변수에 저장(col)\n",
    "    - 수익율 컬럼(rtn)을 생성하고 1을 대입\n",
    "    - 매수, 매도인 경우를 찾아서 수익율을 rtn에 대입 \n",
    "    - 수익율 데이터를 기준으로 하여 누적 수익율 컬럼을 생성하여 대입\n",
    "    - 생성된 데이터프레임과 최종 누적 수익율을 되돌려준다. "
   ]
  },
  {
   "cell_type": "code",
   "execution_count": 51,
   "metadata": {},
   "outputs": [],
   "source": [
    "def create_rtn(_df):\n",
    "    # 복사본 생성 \n",
    "    result = _df.copy()\n",
    "    # 컬럼의 첫번째 이름을 변수에 저장 \n",
    "    col = result.columns[0]\n",
    "    # 수익율 컬럼을 생성 1대입\n",
    "    result['rtn'] = 1\n",
    "\n",
    "    # 수익율 생성 \n",
    "    for idx in result.index:\n",
    "        # 매수 \n",
    "        if (result.shift().loc[idx, 'trade'] == '') & \\\n",
    "            (result.loc[idx, 'trade'] == 'buy'):\n",
    "            buy = result.loc[idx, col]\n",
    "            print(f\"매수일 : {idx}, 매수가 : {buy}\")\n",
    "        # 매도\n",
    "        elif (result.shift().loc[idx, 'trade'] == 'buy') & \\\n",
    "            (result.loc[idx, 'trade'] == ''):\n",
    "            sell = result.loc[idx, col]\n",
    "            print(f\"매도일 : {idx}, 매도가 : {sell}\")\n",
    "            # 수익율 계산 \n",
    "            rtn = sell / buy\n",
    "            # 컬럼에 대입 \n",
    "            result.loc[idx, 'rtn'] = rtn\n",
    "            print(f\"수익율 : {rtn}\")\n",
    "    # 누적 수익율 계산\n",
    "    result['acc_rtn'] = result['rtn'].cumprod()\n",
    "    # 최종 누적 수익율 변수 저장\n",
    "    acc_rtn = result.iloc[-1, -1]\n",
    "    return result, acc_rtn"
   ]
  },
  {
   "cell_type": "code",
   "execution_count": null,
   "metadata": {},
   "outputs": [],
   "source": [
    "rtn_df, acc_rtn = create_rtn(trade_df)"
   ]
  },
  {
   "cell_type": "code",
   "execution_count": null,
   "metadata": {},
   "outputs": [],
   "source": [
    "rtn_df"
   ]
  },
  {
   "cell_type": "code",
   "execution_count": 56,
   "metadata": {},
   "outputs": [
    {
     "data": {
      "text/plain": [
       "1.3923287814461949"
      ]
     },
     "execution_count": 56,
     "metadata": {},
     "output_type": "execute_result"
    }
   ],
   "source": [
    "acc_rtn"
   ]
  },
  {
   "cell_type": "code",
   "execution_count": null,
   "metadata": {},
   "outputs": [],
   "source": [
    "acc"
   ]
  }
 ],
 "metadata": {
  "kernelspec": {
   "display_name": "Python 3",
   "language": "python",
   "name": "python3"
  },
  "language_info": {
   "codemirror_mode": {
    "name": "ipython",
    "version": 3
   },
   "file_extension": ".py",
   "mimetype": "text/x-python",
   "name": "python",
   "nbconvert_exporter": "python",
   "pygments_lexer": "ipython3",
   "version": "3.11.1"
  }
 },
 "nbformat": 4,
 "nbformat_minor": 2
}
