{
 "cells": [
  {
   "cell_type": "markdown",
   "metadata": {},
   "source": [
    "### mongoDB python 연동 \n",
    "- 라이브러리 설치 (pymongo)\n",
    "- 라이브러리 로드 \n",
    "- 서버와의 연결 "
   ]
  },
  {
   "cell_type": "code",
   "execution_count": 38,
   "metadata": {},
   "outputs": [],
   "source": [
    "# 라이브러리 설치 \n",
    "# !pip install pymongo"
   ]
  },
  {
   "cell_type": "code",
   "execution_count": 39,
   "metadata": {},
   "outputs": [],
   "source": [
    "from pymongo import MongoClient"
   ]
  },
  {
   "cell_type": "code",
   "execution_count": 40,
   "metadata": {},
   "outputs": [],
   "source": [
    "# 서버와의 연결 \n",
    "# 객체 생성 -> Class 생성\n",
    "client = MongoClient(\n",
    "    host = '127.0.0.1', \n",
    "    port = 27017\n",
    ")"
   ]
  },
  {
   "cell_type": "code",
   "execution_count": 41,
   "metadata": {},
   "outputs": [
    {
     "data": {
      "text/plain": [
       "['admin', 'config', 'local', 'ubion', 'ubion2']"
      ]
     },
     "execution_count": 41,
     "metadata": {},
     "output_type": "execute_result"
    }
   ],
   "source": [
    "# 데이터베이스의 목록을 확인 \n",
    "client.list_database_names()"
   ]
  },
  {
   "cell_type": "code",
   "execution_count": 42,
   "metadata": {},
   "outputs": [],
   "source": [
    "# 기존에 존재하지않은 데이터베이스 선택 \n",
    "db = client['ubion2']"
   ]
  },
  {
   "cell_type": "code",
   "execution_count": 43,
   "metadata": {},
   "outputs": [],
   "source": [
    "# collection 생성 \n",
    "collection = db['users']"
   ]
  },
  {
   "cell_type": "code",
   "execution_count": 44,
   "metadata": {},
   "outputs": [
    {
     "data": {
      "text/plain": [
       "<pymongo.results.InsertOneResult at 0x125fed53b20>"
      ]
     },
     "execution_count": 44,
     "metadata": {},
     "output_type": "execute_result"
    }
   ],
   "source": [
    "data = {\n",
    "    'id' : 'test', \n",
    "    'pass' : '1234'\n",
    "}\n",
    "collection.insert_one(data)"
   ]
  },
  {
   "cell_type": "code",
   "execution_count": 45,
   "metadata": {},
   "outputs": [
    {
     "data": {
      "text/plain": [
       "['admin', 'config', 'local', 'ubion', 'ubion2']"
      ]
     },
     "execution_count": 45,
     "metadata": {},
     "output_type": "execute_result"
    }
   ],
   "source": [
    "client.list_database_names()"
   ]
  },
  {
   "cell_type": "code",
   "execution_count": 46,
   "metadata": {},
   "outputs": [
    {
     "data": {
      "text/plain": [
       "<pymongo.results.InsertManyResult at 0x125feade560>"
      ]
     },
     "execution_count": 46,
     "metadata": {},
     "output_type": "execute_result"
    }
   ],
   "source": [
    "data = [\n",
    "    {\n",
    "        'name' : 'kim', \n",
    "        'phone' : '01011112222', \n",
    "        'gender' : 'male'\n",
    "    }, \n",
    "    {\n",
    "        'loc' : 'seoul'\n",
    "    }\n",
    "]\n",
    "collection.insert_many(data)"
   ]
  },
  {
   "cell_type": "code",
   "execution_count": 47,
   "metadata": {},
   "outputs": [
    {
     "data": {
      "text/plain": [
       "[{'_id': ObjectId('67ef43378be90af11a3f342d'),\n",
       "  'name': 'kim',\n",
       "  'phone': '01011112222',\n",
       "  'gender': 'male'},\n",
       " {'_id': ObjectId('67ef43378be90af11a3f342e'), 'loc': 'seoul'},\n",
       " {'_id': ObjectId('67ef64478be90af11a3f3430'), 'id': 'test', 'pass': '1234'},\n",
       " {'_id': ObjectId('67ef64478be90af11a3f3431'),\n",
       "  'name': 'kim',\n",
       "  'phone': '01011112222',\n",
       "  'gender': 'male'},\n",
       " {'_id': ObjectId('67ef64478be90af11a3f3432'), 'loc': 'seoul'}]"
      ]
     },
     "execution_count": 47,
     "metadata": {},
     "output_type": "execute_result"
    }
   ],
   "source": [
    "list(collection.find())"
   ]
  },
  {
   "cell_type": "code",
   "execution_count": 48,
   "metadata": {},
   "outputs": [
    {
     "data": {
      "text/plain": [
       "{'_id': ObjectId('67ef43378be90af11a3f342d'),\n",
       " 'name': 'kim',\n",
       " 'phone': '01011112222',\n",
       " 'gender': 'male'}"
      ]
     },
     "execution_count": 48,
     "metadata": {},
     "output_type": "execute_result"
    }
   ],
   "source": [
    "collection.find_one()"
   ]
  },
  {
   "cell_type": "code",
   "execution_count": 49,
   "metadata": {},
   "outputs": [
    {
     "data": {
      "text/plain": [
       "[{'name': 'kim', 'phone': '01011112222', 'gender': 'male'},\n",
       " {'name': 'kim', 'phone': '01011112222', 'gender': 'male'}]"
      ]
     },
     "execution_count": 49,
     "metadata": {},
     "output_type": "execute_result"
    }
   ],
   "source": [
    "# find()함수는 인자값으로 옵션의 값들을 대입\n",
    "list(\n",
    "    collection.find( {\n",
    "        'name' : 'kim'\n",
    "    }, \n",
    "    {\n",
    "        '_id' : 0\n",
    "    }\n",
    "     )\n",
    ")"
   ]
  },
  {
   "cell_type": "code",
   "execution_count": 50,
   "metadata": {},
   "outputs": [
    {
     "data": {
      "text/plain": [
       "<pymongo.results.UpdateResult at 0x125fe5b29b0>"
      ]
     },
     "execution_count": 50,
     "metadata": {},
     "output_type": "execute_result"
    }
   ],
   "source": [
    "collection.update_one(\n",
    "    {\n",
    "        'id' : 'test'\n",
    "    }, {\n",
    "        '$set' :\n",
    "            {\n",
    "            'pass' : '0000'\n",
    "        }\n",
    "    }\n",
    ")\n",
    "# SQL -> update `users` set `pass` = '0000'  where `id` = 'test'"
   ]
  },
  {
   "cell_type": "code",
   "execution_count": 51,
   "metadata": {},
   "outputs": [
    {
     "data": {
      "text/plain": [
       "[{'_id': ObjectId('67ef43378be90af11a3f342d'),\n",
       "  'name': 'kim',\n",
       "  'phone': '01011112222',\n",
       "  'gender': 'male'},\n",
       " {'_id': ObjectId('67ef43378be90af11a3f342e'), 'loc': 'seoul'},\n",
       " {'_id': ObjectId('67ef64478be90af11a3f3430'), 'id': 'test', 'pass': '0000'},\n",
       " {'_id': ObjectId('67ef64478be90af11a3f3431'),\n",
       "  'name': 'kim',\n",
       "  'phone': '01011112222',\n",
       "  'gender': 'male'},\n",
       " {'_id': ObjectId('67ef64478be90af11a3f3432'), 'loc': 'seoul'}]"
      ]
     },
     "execution_count": 51,
     "metadata": {},
     "output_type": "execute_result"
    }
   ],
   "source": [
    "list(\n",
    "    collection.find()\n",
    ")"
   ]
  },
  {
   "cell_type": "code",
   "execution_count": 52,
   "metadata": {},
   "outputs": [
    {
     "data": {
      "text/plain": [
       "<pymongo.results.DeleteResult at 0x125fe5b3790>"
      ]
     },
     "execution_count": 52,
     "metadata": {},
     "output_type": "execute_result"
    }
   ],
   "source": [
    "# 삭제 \n",
    "collection.delete_one(\n",
    "    {\n",
    "        'id' : 'test'\n",
    "    }\n",
    ")\n",
    "# SQL ->  DELETE FROM `users` WHERE `id` = 'test'"
   ]
  },
  {
   "cell_type": "code",
   "execution_count": 53,
   "metadata": {},
   "outputs": [
    {
     "data": {
      "text/plain": [
       "[{'_id': ObjectId('67ef43378be90af11a3f342d'),\n",
       "  'name': 'kim',\n",
       "  'phone': '01011112222',\n",
       "  'gender': 'male'},\n",
       " {'_id': ObjectId('67ef43378be90af11a3f342e'), 'loc': 'seoul'},\n",
       " {'_id': ObjectId('67ef64478be90af11a3f3431'),\n",
       "  'name': 'kim',\n",
       "  'phone': '01011112222',\n",
       "  'gender': 'male'},\n",
       " {'_id': ObjectId('67ef64478be90af11a3f3432'), 'loc': 'seoul'}]"
      ]
     },
     "execution_count": 53,
     "metadata": {},
     "output_type": "execute_result"
    }
   ],
   "source": [
    "list(collection.find())"
   ]
  },
  {
   "cell_type": "markdown",
   "metadata": {},
   "source": [
    "#### mongoDB select 조건식\n",
    "- find(옵션1, 옵션2, ...)\n",
    "    1. db.collection.find() -> SELECT * FROM TABLE\n",
    "    2. db.collection.find({'id' : 'test', 'pass' : '1234'}) -> SELECT * FROM TABLE WHERE `id` = 'test' AND `pass` = '1234'\n",
    "    3. db.collection.find({'id' : 'test'}, {'pass' : '1234'}) -> SELECT * FROM TABLE WHERE `id` = 'test' OR `pass` = '1234'\n",
    "    4. db.collection.find({}, {'id' : 1, 'pass' : 1}) -> SELECT `id`, `pass` FROM TABLE\n",
    "    5. db.collection.find({}, {'id' : 0}) -> id 컬럼 제외한 sql쿼리문\n",
    "    6. db.collection.find({'age' : {'$gt' : 25}}) -> SELECT * FROM TABLE WHERE `age` > 25\n",
    "    7. db.collection.find({'age' : {'$lt' : 25}}) -> SELECT * FROM TABLE WHERE `age` < 25\n",
    "    8. db.collection.find({'id' : {/bc/}}) : SELECT * FROM TABLE WHERE `id` LIKE '%bc%'\n",
    "    9. db.collection.find().sort({'id' : 1}) : SELECT * FROM TABLE ORDER BY `id` ASC\n",
    "    10. db.collection.find().sort({'id' : -1}) : SELECT * FROM TABLE ORDER BY `id` DESC\n",
    "    11. db.collection.find().limit(10) : SELECT * FROM TABLE LIMIT 10"
   ]
  },
  {
   "cell_type": "code",
   "execution_count": 62,
   "metadata": {},
   "outputs": [
    {
     "data": {
      "text/plain": [
       "[{'_id': ObjectId('67ef2a5a44e3538045649dab'),\n",
       "  'EMPNO': 7521.0,\n",
       "  'ENAME': 'WARD',\n",
       "  'JOB': 'SALESMAN',\n",
       "  'MGR': 7698.0,\n",
       "  'HIREDATE': datetime.datetime(1981, 2, 22, 0, 0),\n",
       "  'SAL': 1250.0,\n",
       "  'COMM': 500.0,\n",
       "  'DEPTNO': 30.0},\n",
       " {'_id': ObjectId('67ef2a5a44e3538045649db2'),\n",
       "  'EMPNO': 7844.0,\n",
       "  'ENAME': 'TURNER',\n",
       "  'JOB': 'SALESMAN',\n",
       "  'MGR': 7698.0,\n",
       "  'HIREDATE': datetime.datetime(1981, 9, 8, 0, 0),\n",
       "  'SAL': 1500.0,\n",
       "  'COMM': 0.0,\n",
       "  'DEPTNO': 30.0},\n",
       " {'_id': ObjectId('67ef2a5a44e3538045649da9'),\n",
       "  'EMPNO': 7369.0,\n",
       "  'ENAME': 'SMITH',\n",
       "  'JOB': 'CLERK',\n",
       "  'MGR': 7902.0,\n",
       "  'HIREDATE': datetime.datetime(1980, 12, 17, 0, 0),\n",
       "  'SAL': 800.0,\n",
       "  'COMM': 0.0,\n",
       "  'DEPTNO': 20.0},\n",
       " {'_id': ObjectId('67ef2a5a44e3538045649db0'),\n",
       "  'EMPNO': 7788.0,\n",
       "  'ENAME': 'SCOTT',\n",
       "  'JOB': 'ANALYST',\n",
       "  'MGR': 7566.0,\n",
       "  'HIREDATE': datetime.datetime(1987, 6, 28, 0, 0),\n",
       "  'SAL': 3000.0,\n",
       "  'COMM': 0.0,\n",
       "  'DEPTNO': 20.0},\n",
       " {'_id': ObjectId('67ef2a5a44e3538045649db6'),\n",
       "  'EMPNO': 7934.0,\n",
       "  'ENAME': 'MILLER',\n",
       "  'JOB': 'CLERK',\n",
       "  'MGR': 7782.0,\n",
       "  'HIREDATE': datetime.datetime(1982, 1, 23, 0, 0),\n",
       "  'SAL': 1300.0,\n",
       "  'COMM': 0.0,\n",
       "  'DEPTNO': 10.0},\n",
       " {'_id': ObjectId('67ef2a5a44e3538045649dad'),\n",
       "  'EMPNO': 7654.0,\n",
       "  'ENAME': 'MARTIN',\n",
       "  'JOB': 'SALESMAN',\n",
       "  'MGR': 7698.0,\n",
       "  'HIREDATE': datetime.datetime(1981, 9, 28, 0, 0),\n",
       "  'SAL': 1250.0,\n",
       "  'COMM': 1400.0,\n",
       "  'DEPTNO': 30.0},\n",
       " {'_id': ObjectId('67ef2a5a44e3538045649db1'),\n",
       "  'EMPNO': 7839.0,\n",
       "  'ENAME': 'KING',\n",
       "  'JOB': 'PRESIDENT',\n",
       "  'MGR': 0.0,\n",
       "  'HIREDATE': datetime.datetime(1981, 11, 17, 0, 0),\n",
       "  'SAL': 5000.0,\n",
       "  'COMM': 0.0,\n",
       "  'DEPTNO': 10.0},\n",
       " {'_id': ObjectId('67ef2a5a44e3538045649dac'),\n",
       "  'EMPNO': 7566.0,\n",
       "  'ENAME': 'JONES',\n",
       "  'JOB': 'MANAGER',\n",
       "  'MGR': 7839.0,\n",
       "  'HIREDATE': datetime.datetime(1981, 4, 2, 0, 0),\n",
       "  'SAL': 2975.0,\n",
       "  'COMM': 0.0,\n",
       "  'DEPTNO': 20.0},\n",
       " {'_id': ObjectId('67ef2a5a44e3538045649db4'),\n",
       "  'EMPNO': 7900.0,\n",
       "  'ENAME': 'JAMES',\n",
       "  'JOB': 'CLERK',\n",
       "  'MGR': 7698.0,\n",
       "  'HIREDATE': datetime.datetime(1981, 12, 3, 0, 0),\n",
       "  'SAL': 950.0,\n",
       "  'COMM': 0.0,\n",
       "  'DEPTNO': 30.0},\n",
       " {'_id': ObjectId('67ef2a5a44e3538045649db5'),\n",
       "  'EMPNO': 7902.0,\n",
       "  'ENAME': 'FORD',\n",
       "  'JOB': 'ANALYST',\n",
       "  'MGR': 7566.0,\n",
       "  'HIREDATE': datetime.datetime(1981, 12, 3, 0, 0),\n",
       "  'SAL': 3000.0,\n",
       "  'COMM': 0.0,\n",
       "  'DEPTNO': 20.0},\n",
       " {'_id': ObjectId('67ef2a5a44e3538045649daf'),\n",
       "  'EMPNO': 7782.0,\n",
       "  'ENAME': 'CLARK',\n",
       "  'JOB': 'MANAGER',\n",
       "  'MGR': 7839.0,\n",
       "  'HIREDATE': datetime.datetime(1981, 6, 9, 0, 0),\n",
       "  'SAL': 2450.0,\n",
       "  'COMM': 0.0,\n",
       "  'DEPTNO': 10.0},\n",
       " {'_id': ObjectId('67ef2a5a44e3538045649dae'),\n",
       "  'EMPNO': 7698.0,\n",
       "  'ENAME': 'BLAKE',\n",
       "  'JOB': 'MANAGER',\n",
       "  'MGR': 7839.0,\n",
       "  'HIREDATE': datetime.datetime(1981, 5, 1, 0, 0),\n",
       "  'SAL': 2850.0,\n",
       "  'COMM': 0.0,\n",
       "  'DEPTNO': 30.0},\n",
       " {'_id': ObjectId('67ef2a5a44e3538045649daa'),\n",
       "  'EMPNO': 7499.0,\n",
       "  'ENAME': 'ALLEN',\n",
       "  'JOB': 'SALESMAN',\n",
       "  'MGR': 7698.0,\n",
       "  'HIREDATE': datetime.datetime(1981, 2, 20, 0, 0),\n",
       "  'SAL': 1600.0,\n",
       "  'COMM': 300.0,\n",
       "  'DEPTNO': 30.0},\n",
       " {'_id': ObjectId('67ef2a5a44e3538045649db3'),\n",
       "  'EMPNO': 7876.0,\n",
       "  'ENAME': 'ADAMS',\n",
       "  'JOB': 'CLERK',\n",
       "  'MGR': 7788.0,\n",
       "  'HIREDATE': datetime.datetime(1987, 7, 13, 0, 0),\n",
       "  'SAL': 1100.0,\n",
       "  'COMM': 0.0,\n",
       "  'DEPTNO': 20.0},\n",
       " {'_id': ObjectId('67ef2a8f44e3538045649db7'),\n",
       "  'DEPTNO': 10.0,\n",
       "  'DNAME': 'ACCOUNTING',\n",
       "  'LOC': 'NEW YORK'},\n",
       " {'_id': ObjectId('67ef2a8f44e3538045649db8'),\n",
       "  'DEPTNO': 20.0,\n",
       "  'DNAME': 'RESEARCH',\n",
       "  'LOC': 'DALLAS'},\n",
       " {'_id': ObjectId('67ef2a8f44e3538045649db9'),\n",
       "  'DEPTNO': 30.0,\n",
       "  'DNAME': 'SALES',\n",
       "  'LOC': 'CHICAGO'},\n",
       " {'_id': ObjectId('67ef2a8f44e3538045649dba'),\n",
       "  'DEPTNO': 40.0,\n",
       "  'DNAME': 'OPERATIONS',\n",
       "  'LOC': 'BOSTON'}]"
      ]
     },
     "execution_count": 62,
     "metadata": {},
     "output_type": "execute_result"
    }
   ],
   "source": [
    "# MONGODB에서 admin 데이터베이스에서 test라는 collection에 있는 데이터 중 \n",
    "# SAL의 값이 1500보다 큰 데이터에서 ENAME을 기준으로 내림차순 정렬\n",
    "\n",
    "list(client['admin'].test.find(\n",
    ").sort([('ENAME' , -1)]))"
   ]
  },
  {
   "cell_type": "code",
   "execution_count": null,
   "metadata": {},
   "outputs": [],
   "source": []
  }
 ],
 "metadata": {
  "kernelspec": {
   "display_name": "Python 3",
   "language": "python",
   "name": "python3"
  },
  "language_info": {
   "codemirror_mode": {
    "name": "ipython",
    "version": 3
   },
   "file_extension": ".py",
   "mimetype": "text/x-python",
   "name": "python",
   "nbconvert_exporter": "python",
   "pygments_lexer": "ipython3",
   "version": "3.11.1"
  }
 },
 "nbformat": 4,
 "nbformat_minor": 2
}
