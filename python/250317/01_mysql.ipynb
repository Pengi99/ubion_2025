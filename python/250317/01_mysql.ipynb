{
 "cells": [
  {
   "cell_type": "markdown",
   "metadata": {},
   "source": [
    "### python과 mysql 연동\n",
    "1. 외부의 라이브러리 설치 (pymysql)\n",
    "2. 라이브러리 로드 \n",
    "3. sql 서버의 정보를 등록 \n",
    "    - 서버의 주소 (localhost)\n",
    "    - 서버의 포트번호 (3306)\n",
    "    - sql 유저의 아이디 (root)\n",
    "    - sql 유저의 패스워드 (1234)\n",
    "    - 사용할 데이터베이스명 (ubion)\n",
    "4. sql 서버의 접속\n",
    "5. sql 쿼리문을 변수에 저장 \n",
    "6. 쿼리문을 sql 서버에 요청 \n",
    "7. 쿼리문에 따라서 응답 메시지를 확인\n",
    "    - select문인 경우에는 응답 메시지를 받아서 데이터프레임으로 변환\n",
    "8. sql 서버와의 연결을 종료"
   ]
  },
  {
   "cell_type": "code",
   "execution_count": null,
   "metadata": {},
   "outputs": [],
   "source": [
    "import pandas as pd\n",
    "import pymysql\n",
    "import dotenv"
   ]
  },
  {
   "cell_type": "code",
   "execution_count": null,
   "metadata": {},
   "outputs": [],
   "source": [
    "import os"
   ]
  },
  {
   "cell_type": "code",
   "execution_count": null,
   "metadata": {},
   "outputs": [],
   "source": [
    "# .env 안에 변수를 환경 변수에 임의로 등록\n",
    "dotenv.load_dotenv()"
   ]
  },
  {
   "cell_type": "code",
   "execution_count": null,
   "metadata": {},
   "outputs": [],
   "source": [
    "# 환경 변수에 데이터를 로드 \n",
    "os.getenv('host')"
   ]
  },
  {
   "cell_type": "code",
   "execution_count": null,
   "metadata": {},
   "outputs": [],
   "source": [
    "# 서버의 정보와 접속 \n",
    "# pymysql 라이브러리 안에 함수를 호출 \n",
    "# connect(  host = 서버의주소, port = 포트번호, user = 유저id, \n",
    "#           password = 유저비밀번호, db = 사용할 데이터베이스명 )\n",
    "_db = pymysql.connect(\n",
    "    host = os.getenv('host'), \n",
    "    port = int(os.getenv('port')), \n",
    "    user = os.getenv('user'), \n",
    "    password = os.getenv('pwd'), \n",
    "    db = os.getenv('db_name')\n",
    ")"
   ]
  },
  {
   "cell_type": "code",
   "execution_count": null,
   "metadata": {},
   "outputs": [],
   "source": [
    "# 쿼리문을 작성 \n",
    "select_sql = \"\"\"\n",
    "    SELECT \n",
    "    * \n",
    "    FROM \n",
    "    `sales records`\n",
    "    limit 5\n",
    "\"\"\""
   ]
  },
  {
   "cell_type": "code",
   "execution_count": null,
   "metadata": {},
   "outputs": [],
   "source": [
    "# 커서(Cursor) 생성\n",
    "\n",
    "# 기본값으로 커서 생성 : select문의 응답 데이터의 타입이 2차원 튜플\n",
    "cursor = _db.cursor()\n",
    "\n",
    "# DictCursor 사용 : select문의 응답 데이터의 타입이 \n",
    "# 리스트 안에 딕셔너리 형태 2차원 데이터\n",
    "cursor2 = _db.cursor(pymysql.cursors.DictCursor)"
   ]
  },
  {
   "cell_type": "code",
   "execution_count": null,
   "metadata": {},
   "outputs": [],
   "source": [
    "# 커서에 sql 질의를 보낸다. \n",
    "cursor.execute(select_sql)\n",
    "cursor2.execute(select_sql)"
   ]
  },
  {
   "cell_type": "code",
   "execution_count": null,
   "metadata": {},
   "outputs": [],
   "source": [
    "# 커서에 보낸 질의에 대한 응답을 받아온다. \n",
    "# fetchall()\n",
    "print(cursor.fetchall())"
   ]
  },
  {
   "cell_type": "code",
   "execution_count": null,
   "metadata": {},
   "outputs": [],
   "source": [
    "print(cursor2.fetchall())"
   ]
  },
  {
   "cell_type": "code",
   "execution_count": null,
   "metadata": {},
   "outputs": [],
   "source": [
    "cursor.execute(select_sql)\n",
    "sql_data = cursor.fetchall()"
   ]
  },
  {
   "cell_type": "code",
   "execution_count": null,
   "metadata": {},
   "outputs": [],
   "source": [
    "pd.DataFrame(sql_data)"
   ]
  },
  {
   "cell_type": "code",
   "execution_count": null,
   "metadata": {},
   "outputs": [],
   "source": [
    "cursor2.execute(select_sql)\n",
    "sql_data2 = cursor2.fetchall()"
   ]
  },
  {
   "cell_type": "code",
   "execution_count": null,
   "metadata": {},
   "outputs": [],
   "source": [
    "pd.DataFrame(sql_data2)"
   ]
  },
  {
   "cell_type": "code",
   "execution_count": null,
   "metadata": {},
   "outputs": [],
   "source": [
    "insert_sql = \"\"\"\n",
    "    INSERT INTO `user` VALUES (\"test10\", \"0011\", \"choi\", 25)\n",
    "\"\"\""
   ]
  },
  {
   "cell_type": "code",
   "execution_count": null,
   "metadata": {},
   "outputs": [],
   "source": [
    "cursor2.execute(insert_sql)"
   ]
  },
  {
   "cell_type": "code",
   "execution_count": null,
   "metadata": {},
   "outputs": [],
   "source": [
    "select_sql2 = \"\"\"\n",
    "    SELECT * FROM `user`\n",
    "\"\"\"\n",
    "cursor2.execute(select_sql2)\n",
    "cursor2.fetchall()"
   ]
  },
  {
   "cell_type": "code",
   "execution_count": 35,
   "metadata": {},
   "outputs": [],
   "source": [
    "_db.commit()"
   ]
  },
  {
   "cell_type": "markdown",
   "metadata": {},
   "source": [
    "- select함수 생성\n",
    "    1. 매개변수 1개 (sql 쿼리)\n",
    "    2. sql 쿼리를 cursor2에 보내는 부분\n",
    "    3. cursor에서 응답 데이터를 변수에 저장 \n",
    "    4. 3번과정의 결과를 데이터프레임을 생성 \n",
    "    5. 데이터프레임을 되돌려준다. "
   ]
  },
  {
   "cell_type": "code",
   "execution_count": 37,
   "metadata": {},
   "outputs": [
    {
     "data": {
      "text/html": [
       "<div>\n",
       "<style scoped>\n",
       "    .dataframe tbody tr th:only-of-type {\n",
       "        vertical-align: middle;\n",
       "    }\n",
       "\n",
       "    .dataframe tbody tr th {\n",
       "        vertical-align: top;\n",
       "    }\n",
       "\n",
       "    .dataframe thead th {\n",
       "        text-align: right;\n",
       "    }\n",
       "</style>\n",
       "<table border=\"1\" class=\"dataframe\">\n",
       "  <thead>\n",
       "    <tr style=\"text-align: right;\">\n",
       "      <th></th>\n",
       "      <th>id</th>\n",
       "      <th>password</th>\n",
       "      <th>name</th>\n",
       "      <th>age</th>\n",
       "    </tr>\n",
       "  </thead>\n",
       "  <tbody>\n",
       "    <tr>\n",
       "      <th>0</th>\n",
       "      <td>test</td>\n",
       "      <td>1234</td>\n",
       "      <td>kim</td>\n",
       "      <td>20</td>\n",
       "    </tr>\n",
       "    <tr>\n",
       "      <th>1</th>\n",
       "      <td>test10</td>\n",
       "      <td>0011</td>\n",
       "      <td>choi</td>\n",
       "      <td>25</td>\n",
       "    </tr>\n",
       "    <tr>\n",
       "      <th>2</th>\n",
       "      <td>test2</td>\n",
       "      <td>0000</td>\n",
       "      <td>park</td>\n",
       "      <td>30</td>\n",
       "    </tr>\n",
       "    <tr>\n",
       "      <th>3</th>\n",
       "      <td>test3</td>\n",
       "      <td>1111</td>\n",
       "      <td>lee</td>\n",
       "      <td>40</td>\n",
       "    </tr>\n",
       "    <tr>\n",
       "      <th>4</th>\n",
       "      <td>test4</td>\n",
       "      <td>12345</td>\n",
       "      <td>kim</td>\n",
       "      <td>35</td>\n",
       "    </tr>\n",
       "  </tbody>\n",
       "</table>\n",
       "</div>"
      ],
      "text/plain": [
       "       id password  name  age\n",
       "0    test     1234   kim   20\n",
       "1  test10     0011  choi   25\n",
       "2   test2     0000  park   30\n",
       "3   test3     1111   lee   40\n",
       "4   test4    12345   kim   35"
      ]
     },
     "execution_count": 37,
     "metadata": {},
     "output_type": "execute_result"
    }
   ],
   "source": [
    "# 함수를 생성\n",
    "def select_query(_sql):\n",
    "    # _sql를 커서에 질의를 보낸다. \n",
    "    cursor2.execute(_sql)\n",
    "    # cursor2에서 응답 데이터를 변수에 저장 \n",
    "    sql_data = cursor2.fetchall()\n",
    "    # 데이터프레임로 변경 \n",
    "    result = pd.DataFrame(sql_data)\n",
    "    # 결과를 되돌려준다. \n",
    "    return result\n",
    "\n",
    "\n",
    "test_sql = \"select * from `user`\"\n",
    "select_query(test_sql)"
   ]
  },
  {
   "cell_type": "code",
   "execution_count": 38,
   "metadata": {},
   "outputs": [],
   "source": [
    "# 매개변수 2개 함수 : insert, update, delete\n",
    "# 첫번째 매개변수는 sql 쿼리문\n",
    "# 두번째 매개변수는 데이터베이스를 수정할것인가? (bool)\n",
    "def cud_query(_sql, inplace = False):\n",
    "    # _sql cursor2에 질의를 보낸다. \n",
    "    cursor2.execute(_sql)\n",
    "    # inplace가 True인 경우에는 _db를 동기화\n",
    "    if inplace:\n",
    "        _db.commit()\n",
    "    return \"Query OK\""
   ]
  },
  {
   "cell_type": "code",
   "execution_count": 39,
   "metadata": {},
   "outputs": [
    {
     "data": {
      "text/plain": [
       "'Query OK'"
      ]
     },
     "execution_count": 39,
     "metadata": {},
     "output_type": "execute_result"
    }
   ],
   "source": [
    "insert_sql2 = \"\"\"\n",
    "    insert into `user` values (\"test11\", \"0123\", 'kim', 35)\n",
    "\"\"\"\n",
    "cud_query(insert_sql2)"
   ]
  },
  {
   "cell_type": "code",
   "execution_count": null,
   "metadata": {},
   "outputs": [],
   "source": [
    "select_query(select_sql2)"
   ]
  },
  {
   "cell_type": "code",
   "execution_count": 41,
   "metadata": {},
   "outputs": [],
   "source": [
    "_db.commit()"
   ]
  },
  {
   "cell_type": "code",
   "execution_count": 42,
   "metadata": {},
   "outputs": [
    {
     "data": {
      "text/plain": [
       "'Query OK'"
      ]
     },
     "execution_count": 42,
     "metadata": {},
     "output_type": "execute_result"
    }
   ],
   "source": [
    "update_sql = \"\"\"\n",
    "    update `user` set `password` = \"123456789\"\n",
    "    where `id` = \"test\"\n",
    "\"\"\"\n",
    "cud_query(update_sql, True)"
   ]
  },
  {
   "cell_type": "code",
   "execution_count": 43,
   "metadata": {},
   "outputs": [],
   "source": [
    "# 데이터베이스 서버와의 연결을 종료\n",
    "_db.close()"
   ]
  },
  {
   "cell_type": "code",
   "execution_count": null,
   "metadata": {},
   "outputs": [],
   "source": []
  }
 ],
 "metadata": {
  "kernelspec": {
   "display_name": "Python 3",
   "language": "python",
   "name": "python3"
  },
  "language_info": {
   "codemirror_mode": {
    "name": "ipython",
    "version": 3
   },
   "file_extension": ".py",
   "mimetype": "text/x-python",
   "name": "python",
   "nbconvert_exporter": "python",
   "pygments_lexer": "ipython3",
   "version": "3.11.1"
  }
 },
 "nbformat": 4,
 "nbformat_minor": 2
}
