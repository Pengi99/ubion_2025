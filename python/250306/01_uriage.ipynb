{
 "cells": [
  {
   "cell_type": "markdown",
   "metadata": {},
   "source": [
    "#### 데이터의 정형화\n",
    "- 컬럼의 데이터들끼리의 정형화 \n",
    "- 결측치 부분 특정 조건에 맞춰서 채우는 작업"
   ]
  },
  {
   "cell_type": "code",
   "execution_count": null,
   "metadata": {},
   "outputs": [],
   "source": [
    "import pandas as pd"
   ]
  },
  {
   "cell_type": "code",
   "execution_count": null,
   "metadata": {},
   "outputs": [],
   "source": [
    "# csv 폴더에 uriage.csv 파일 로드 \n",
    "df = pd.read_csv(\"../../csv/uriage.csv\")"
   ]
  },
  {
   "cell_type": "code",
   "execution_count": null,
   "metadata": {},
   "outputs": [],
   "source": [
    "df.head()"
   ]
  },
  {
   "cell_type": "markdown",
   "metadata": {},
   "source": [
    "- item_name의 데이터의 대소문자 \n",
    "    - 대문자 통일 : upper() -> 문자열 내장함수\n",
    "- item_name의 글자 사이의 공백\n",
    "    - 공백을 제거  \n",
    "        - strip()\n",
    "            - 문자열 시작과 끝의 공백을 제거 \n",
    "        - replace()\n",
    "            - 특정 문자를 다른 문자로 대체\n",
    "            - 특정 문자를 공백으로 입력하고 다른 문자를 빈 문자 사용하면 공백 제거\n",
    "- item_price 결측치가 존재 "
   ]
  },
  {
   "cell_type": "code",
   "execution_count": null,
   "metadata": {},
   "outputs": [],
   "source": [
    "# 인덱스 2의 item_name의 데이터를 \"상 품 a\" -> \"상품A\"\n",
    "data = df.loc[2, 'item_name'].upper()\n",
    "data.replace(\" \", \"\")"
   ]
  },
  {
   "cell_type": "code",
   "execution_count": null,
   "metadata": {},
   "outputs": [],
   "source": [
    "# 데이터프레임의 정보를 출력 \n",
    "df.info()"
   ]
  },
  {
   "cell_type": "code",
   "execution_count": null,
   "metadata": {},
   "outputs": [],
   "source": [
    "# 결측치의 개수를 확인\n",
    "df.isna().sum()"
   ]
  },
  {
   "cell_type": "code",
   "execution_count": null,
   "metadata": {},
   "outputs": [],
   "source": [
    "# 데이터프레임에서 item_name에 있는 모든 데이터를 대문자로 변경\n",
    "# 문자열 사이의 공백을 모두 제거 \n",
    "df['item_name'].replace(\"상 품 a\", \"상품A\")"
   ]
  },
  {
   "cell_type": "code",
   "execution_count": 15,
   "metadata": {},
   "outputs": [],
   "source": [
    "# upper()함수는 문자열에서만 사용이 가능하고\n",
    "# replace()함수는 Series에서는 문자가 기준이 아니라 원소 기준이기 때문에\n",
    "# 문자열 replace() 함수 사용\n",
    "\n",
    "# 복사본 생성\n",
    "df2 = df.copy()"
   ]
  },
  {
   "cell_type": "code",
   "execution_count": null,
   "metadata": {},
   "outputs": [],
   "source": [
    "# case1 ( 반복문 ) : for\n",
    "data_list = []\n",
    "\n",
    "# df2.loc[0, 'item_name'].upper().replace(\" \", \"\")\n",
    "# df2.loc[1, 'item_name'].upper().replace(\" \", \"\")\n",
    "# df2.loc[2, 'item_name'].upper().replace(\" \", \"\")\n",
    "# # ....\n",
    "# df2.loc[2998, 'item_name'].upper().replace(\" \", \"\")\n",
    "\n",
    "for i in range( len(df2) ):\n",
    "    data = df2.loc[i, 'item_name'].upper().replace(\" \", \"\")\n",
    "    data_list.append(data)\n",
    "\n",
    "data_list\n"
   ]
  },
  {
   "cell_type": "code",
   "execution_count": null,
   "metadata": {},
   "outputs": [],
   "source": [
    "# case2 (반복문) while\n",
    "\n",
    "# 초기값\n",
    "i = 0\n",
    "\n",
    "data_list2 = []\n",
    "\n",
    "while i < len(df2):\n",
    "    data = df2.loc[i, 'item_name'].upper().replace(\" \", \"\")\n",
    "    data_list2.append(data)\n",
    "    i += 1\n",
    "\n",
    "data_list2"
   ]
  },
  {
   "cell_type": "code",
   "execution_count": 18,
   "metadata": {},
   "outputs": [],
   "source": [
    "# 1차원 리스트로 생성하여 스리즈에 해당 데이터를 삽입 하는 것이 아니라 \n",
    "# 데이터 변환 즉시 데이터를 삽입\n",
    "\n",
    "i = 0\n",
    "\n",
    "while True:\n",
    "    try:\n",
    "        df2.loc[i, 'item_name'] = \\\n",
    "            df2.loc[i, 'item_name'].upper().replace(\" \", \"\")\n",
    "        i += 1\n",
    "    except:\n",
    "        break"
   ]
  },
  {
   "cell_type": "code",
   "execution_count": null,
   "metadata": {},
   "outputs": [],
   "source": [
    "df2.head()"
   ]
  },
  {
   "cell_type": "code",
   "execution_count": 20,
   "metadata": {},
   "outputs": [
    {
     "data": {
      "text/plain": [
       "array(['상품A', '상품S', '상품Z', '상품V', '상품O', '상품U', '상품L', '상품C', '상품I',\n",
       "       '상품R', '상품X', '상품G', '상품P', '상품Q', '상품Y', '상품N', '상품W', '상품E',\n",
       "       '상품K', '상품B', '상품F', '상품D', '상품M', '상품H', '상품T', '상품J'],\n",
       "      dtype=object)"
      ]
     },
     "execution_count": 20,
     "metadata": {},
     "output_type": "execute_result"
    }
   ],
   "source": [
    "df2['item_name'].unique()"
   ]
  }
 ],
 "metadata": {
  "kernelspec": {
   "display_name": "Python 3",
   "language": "python",
   "name": "python3"
  },
  "language_info": {
   "codemirror_mode": {
    "name": "ipython",
    "version": 3
   },
   "file_extension": ".py",
   "mimetype": "text/x-python",
   "name": "python",
   "nbconvert_exporter": "python",
   "pygments_lexer": "ipython3",
   "version": "3.11.1"
  }
 },
 "nbformat": 4,
 "nbformat_minor": 2
}
