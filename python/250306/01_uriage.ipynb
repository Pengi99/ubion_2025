{
 "cells": [
  {
   "cell_type": "markdown",
   "metadata": {},
   "source": [
    "#### 데이터의 정형화\n",
    "- 컬럼의 데이터들끼리의 정형화 \n",
    "- 결측치 부분 특정 조건에 맞춰서 채우는 작업"
   ]
  },
  {
   "cell_type": "code",
   "execution_count": null,
   "metadata": {},
   "outputs": [],
   "source": [
    "import pandas as pd"
   ]
  },
  {
   "cell_type": "code",
   "execution_count": null,
   "metadata": {},
   "outputs": [],
   "source": [
    "# csv 폴더에 uriage.csv 파일 로드 \n",
    "df = pd.read_csv(\"../../csv/uriage.csv\")"
   ]
  },
  {
   "cell_type": "code",
   "execution_count": null,
   "metadata": {},
   "outputs": [],
   "source": [
    "df.head()"
   ]
  },
  {
   "cell_type": "markdown",
   "metadata": {},
   "source": [
    "- item_name의 데이터의 대소문자 \n",
    "    - 대문자 통일 : upper() -> 문자열 내장함수\n",
    "- item_name의 글자 사이의 공백\n",
    "    - 공백을 제거  \n",
    "        - strip()\n",
    "            - 문자열 시작과 끝의 공백을 제거 \n",
    "        - replace()\n",
    "            - 특정 문자를 다른 문자로 대체\n",
    "            - 특정 문자를 공백으로 입력하고 다른 문자를 빈 문자 사용하면 공백 제거\n",
    "- item_price 결측치가 존재 "
   ]
  },
  {
   "cell_type": "code",
   "execution_count": null,
   "metadata": {},
   "outputs": [],
   "source": [
    "# 인덱스 2의 item_name의 데이터를 \"상 품 a\" -> \"상품A\"\n",
    "data = df.loc[2, 'item_name'].upper()\n",
    "data.replace(\" \", \"\")"
   ]
  },
  {
   "cell_type": "code",
   "execution_count": null,
   "metadata": {},
   "outputs": [],
   "source": [
    "# 데이터프레임의 정보를 출력 \n",
    "df.info()"
   ]
  },
  {
   "cell_type": "code",
   "execution_count": null,
   "metadata": {},
   "outputs": [],
   "source": [
    "# 결측치의 개수를 확인\n",
    "df.isna().sum()"
   ]
  },
  {
   "cell_type": "code",
   "execution_count": null,
   "metadata": {},
   "outputs": [],
   "source": [
    "# 데이터프레임에서 item_name에 있는 모든 데이터를 대문자로 변경\n",
    "# 문자열 사이의 공백을 모두 제거 \n",
    "df['item_name'].replace(\"상 품 a\", \"상품A\")"
   ]
  },
  {
   "cell_type": "code",
   "execution_count": 15,
   "metadata": {},
   "outputs": [],
   "source": [
    "# upper()함수는 문자열에서만 사용이 가능하고\n",
    "# replace()함수는 Series에서는 문자가 기준이 아니라 원소 기준이기 때문에\n",
    "# 문자열 replace() 함수 사용\n",
    "\n",
    "# 복사본 생성\n",
    "df2 = df.copy()"
   ]
  },
  {
   "cell_type": "code",
   "execution_count": null,
   "metadata": {},
   "outputs": [],
   "source": [
    "# case1 ( 반복문 ) : for\n",
    "data_list = []\n",
    "\n",
    "# df2.loc[0, 'item_name'].upper().replace(\" \", \"\")\n",
    "# df2.loc[1, 'item_name'].upper().replace(\" \", \"\")\n",
    "# df2.loc[2, 'item_name'].upper().replace(\" \", \"\")\n",
    "# # ....\n",
    "# df2.loc[2998, 'item_name'].upper().replace(\" \", \"\")\n",
    "\n",
    "for i in range( len(df2) ):\n",
    "    data = df2.loc[i, 'item_name'].upper().replace(\" \", \"\")\n",
    "    data_list.append(data)\n",
    "\n",
    "data_list\n"
   ]
  },
  {
   "cell_type": "code",
   "execution_count": null,
   "metadata": {},
   "outputs": [],
   "source": [
    "# case2 (반복문) while\n",
    "\n",
    "# 초기값\n",
    "i = 0\n",
    "\n",
    "data_list2 = []\n",
    "\n",
    "while i < len(df2):\n",
    "    data = df2.loc[i, 'item_name'].upper().replace(\" \", \"\")\n",
    "    data_list2.append(data)\n",
    "    i += 1\n",
    "\n",
    "data_list2"
   ]
  },
  {
   "cell_type": "code",
   "execution_count": 18,
   "metadata": {},
   "outputs": [],
   "source": [
    "# 1차원 리스트로 생성하여 스리즈에 해당 데이터를 삽입 하는 것이 아니라 \n",
    "# 데이터 변환 즉시 데이터를 삽입\n",
    "\n",
    "i = 0\n",
    "\n",
    "while True:\n",
    "    try:\n",
    "        df2.loc[i, 'item_name'] = \\\n",
    "            df2.loc[i, 'item_name'].upper().replace(\" \", \"\")\n",
    "        i += 1\n",
    "    except:\n",
    "        break"
   ]
  },
  {
   "cell_type": "code",
   "execution_count": null,
   "metadata": {},
   "outputs": [],
   "source": [
    "df2.head()"
   ]
  },
  {
   "cell_type": "code",
   "execution_count": 20,
   "metadata": {},
   "outputs": [
    {
     "data": {
      "text/plain": [
       "array(['상품A', '상품S', '상품Z', '상품V', '상품O', '상품U', '상품L', '상품C', '상품I',\n",
       "       '상품R', '상품X', '상품G', '상품P', '상품Q', '상품Y', '상품N', '상품W', '상품E',\n",
       "       '상품K', '상품B', '상품F', '상품D', '상품M', '상품H', '상품T', '상품J'],\n",
       "      dtype=object)"
      ]
     },
     "execution_count": 20,
     "metadata": {},
     "output_type": "execute_result"
    }
   ],
   "source": [
    "df2['item_name'].unique()"
   ]
  },
  {
   "cell_type": "code",
   "execution_count": null,
   "metadata": {},
   "outputs": [],
   "source": [
    "set(df2['item_name'])"
   ]
  },
  {
   "cell_type": "code",
   "execution_count": 28,
   "metadata": {},
   "outputs": [],
   "source": [
    "# case3 \n",
    "# df['item_name'].str.upper()\n",
    "# df['item_name'].str.replace(\" \", \"\")\n",
    "# df['item_name'].str.upper().replace(\" \", \"\")\n",
    "# df['item_name'].str.replace(\" \", \"\").upper()\n",
    "df['item_name'] = \\\n",
    "    df['item_name'].str.replace(\" \", \"\").str.upper()"
   ]
  },
  {
   "cell_type": "code",
   "execution_count": 35,
   "metadata": {},
   "outputs": [],
   "source": [
    "# unique() 함수를 간단하게 생성\n",
    "# 매개변수 1개\n",
    "    # 되돌려줄 빈 리스트 생성(result)\n",
    "    # 인자값(리스트)의 개수 만큼 반복\n",
    "        # 인자값(리스트)중 원소의 result에 포함되어있는지?\n",
    "        # 포함되어있지 않다면 result에 추가 \n",
    "        # 포함되어있다면 아무 행동도 하지 않는다. \n",
    "    # result를 되돌려준다. \n",
    "def unique_custom(input_list):\n",
    "    result = []\n",
    "\n",
    "    # for i in range(len(input_list)):\n",
    "    #     # i : 0, 1, 2 -> 위치\n",
    "    #     # 포함되어 있지 않다. \n",
    "    #     if input_list[i] not in result:\n",
    "    #         result.append(input_list[i])\n",
    "    for i in input_list:\n",
    "        # i : list의 원소들이 하나씩 대입\n",
    "        if i not in result:\n",
    "            result.append(i)\n",
    "    # result를 오름차순 정렬 변경\n",
    "    result.sort()\n",
    "    return result"
   ]
  },
  {
   "cell_type": "code",
   "execution_count": 30,
   "metadata": {},
   "outputs": [
    {
     "data": {
      "text/plain": [
       "['a', 'b', 'c', 'd']"
      ]
     },
     "execution_count": 30,
     "metadata": {},
     "output_type": "execute_result"
    }
   ],
   "source": [
    "_list = ['a', 'a', 'b', 'c', 'c', 'd']\n",
    "\n",
    "unique_custom(_list)"
   ]
  },
  {
   "cell_type": "code",
   "execution_count": null,
   "metadata": {},
   "outputs": [],
   "source": [
    "sorted(unique_custom(df['item_name']))"
   ]
  },
  {
   "cell_type": "code",
   "execution_count": null,
   "metadata": {},
   "outputs": [],
   "source": [
    "unique_custom(df['item_name'])"
   ]
  },
  {
   "cell_type": "markdown",
   "metadata": {},
   "source": [
    "- replace() 함수 생성\n",
    "    - 1차원 데이터에서 replace()\n",
    "        - 매개변수(_list,a, b) 3개\n",
    "        - 1차원 데이터의 원소들을 a와 비교해서 같다면 해당 위치의 데이터를 b로 변경\n",
    "    - 문자열에서 replace()\n"
   ]
  },
  {
   "cell_type": "code",
   "execution_count": 37,
   "metadata": {},
   "outputs": [],
   "source": [
    "list_data = ['a', 'a', 'ab', 'c']\n",
    "\n",
    "def list_replace(_list, a , b):\n",
    "    # _list 입력되는 값들 중 a와 같은 데이터가 존재한다면 변경 \n",
    "    for i in range(len(_list)):\n",
    "        # a와 _list의 i번째 항목과 같은가?\n",
    "        if _list[i] == a:\n",
    "            # _list의 i번째 항목에 b을 대입\n",
    "            _list[i] = b\n"
   ]
  },
  {
   "cell_type": "code",
   "execution_count": 38,
   "metadata": {},
   "outputs": [],
   "source": [
    "list_replace(list_data, 'a', 'A')"
   ]
  },
  {
   "cell_type": "code",
   "execution_count": 39,
   "metadata": {},
   "outputs": [
    {
     "data": {
      "text/plain": [
       "['A', 'A', 'ab', 'c']"
      ]
     },
     "execution_count": 39,
     "metadata": {},
     "output_type": "execute_result"
    }
   ],
   "source": [
    "list_data"
   ]
  },
  {
   "cell_type": "code",
   "execution_count": 40,
   "metadata": {},
   "outputs": [],
   "source": [
    "def list_replace2(_list, a, b):\n",
    "    result = []\n",
    "\n",
    "    for i in _list:\n",
    "        if i == a:\n",
    "            # result에 b를 대입\n",
    "            result.append(b)\n",
    "        else:\n",
    "            result.append(i)\n",
    "    return result"
   ]
  },
  {
   "cell_type": "code",
   "execution_count": 41,
   "metadata": {},
   "outputs": [],
   "source": [
    "list_data2 = ['a', 'a', 'b', 'c']"
   ]
  },
  {
   "cell_type": "code",
   "execution_count": 42,
   "metadata": {},
   "outputs": [
    {
     "data": {
      "text/plain": [
       "['A', 'A', 'b', 'c']"
      ]
     },
     "execution_count": 42,
     "metadata": {},
     "output_type": "execute_result"
    }
   ],
   "source": [
    "list_replace2(list_data2, 'a', 'A')"
   ]
  },
  {
   "cell_type": "code",
   "execution_count": 43,
   "metadata": {},
   "outputs": [
    {
     "data": {
      "text/plain": [
       "['a', 'a', 'b', 'c']"
      ]
     },
     "execution_count": 43,
     "metadata": {},
     "output_type": "execute_result"
    }
   ],
   "source": [
    "list_data2"
   ]
  },
  {
   "cell_type": "code",
   "execution_count": 47,
   "metadata": {},
   "outputs": [],
   "source": [
    "# 문자열에서 사용되는 replace 함수 구현 \n",
    "# 매개변수 3개 ( _str, a, b )\n",
    "# 결과(result) 값으로 \"\" 문자열 생성\n",
    "# _str의 문자 하나씩 추출하여 a와 비교\n",
    "    # 같다면 b를 result에 추가(+)\n",
    "    # 같지 않다면 원래의 문자를 result에 추가(+)\n",
    "# 결과를 되돌려준다.\n",
    "def text_replace(_str, a, b):\n",
    "    result = \"\"\n",
    "\n",
    "    # for i in range(len(_str)):\n",
    "    #     # i : 0, 1, 2 -> 위치\n",
    "    #     if _str[i] == a:\n",
    "    #         # result += b\n",
    "    #         result = result + b\n",
    "    #     else:\n",
    "    #         result += _str[i]\n",
    "    for i in _str:\n",
    "        # i : 문자열의 문자 하나씩\n",
    "        if i == a:\n",
    "            result += b\n",
    "        else:\n",
    "            result += i\n",
    "    return result"
   ]
  },
  {
   "cell_type": "code",
   "execution_count": 48,
   "metadata": {},
   "outputs": [
    {
     "data": {
      "text/plain": [
       "'Abcd'"
      ]
     },
     "execution_count": 48,
     "metadata": {},
     "output_type": "execute_result"
    }
   ],
   "source": [
    "test_text = 'abcd'\n",
    "\n",
    "text_replace(test_text, 'a', 'A')"
   ]
  },
  {
   "cell_type": "code",
   "execution_count": 49,
   "metadata": {},
   "outputs": [
    {
     "data": {
      "text/plain": [
       "'abcd'"
      ]
     },
     "execution_count": 49,
     "metadata": {},
     "output_type": "execute_result"
    }
   ],
   "source": [
    "text_replace(test_text, 'ab', 'AB')"
   ]
  }
 ],
 "metadata": {
  "kernelspec": {
   "display_name": "Python 3",
   "language": "python",
   "name": "python3"
  },
  "language_info": {
   "codemirror_mode": {
    "name": "ipython",
    "version": 3
   },
   "file_extension": ".py",
   "mimetype": "text/x-python",
   "name": "python",
   "nbconvert_exporter": "python",
   "pygments_lexer": "ipython3",
   "version": "3.11.1"
  }
 },
 "nbformat": 4,
 "nbformat_minor": 2
}
