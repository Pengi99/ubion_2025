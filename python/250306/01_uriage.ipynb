{
 "cells": [
  {
   "cell_type": "markdown",
   "metadata": {},
   "source": [
    "#### 데이터의 정형화\n",
    "- 컬럼의 데이터들끼리의 정형화 \n",
    "- 결측치 부분 특정 조건에 맞춰서 채우는 작업"
   ]
  },
  {
   "cell_type": "code",
   "execution_count": null,
   "metadata": {},
   "outputs": [],
   "source": [
    "import pandas as pd"
   ]
  },
  {
   "cell_type": "code",
   "execution_count": null,
   "metadata": {},
   "outputs": [],
   "source": [
    "# csv 폴더에 uriage.csv 파일 로드 \n",
    "df = pd.read_csv(\"../../csv/uriage.csv\")"
   ]
  },
  {
   "cell_type": "code",
   "execution_count": null,
   "metadata": {},
   "outputs": [],
   "source": [
    "df.head()"
   ]
  },
  {
   "cell_type": "markdown",
   "metadata": {},
   "source": [
    "- item_name의 데이터의 대소문자 \n",
    "    - 대문자 통일 : upper() -> 문자열 내장함수\n",
    "- item_name의 글자 사이의 공백\n",
    "    - 공백을 제거  \n",
    "        - strip()\n",
    "            - 문자열 시작과 끝의 공백을 제거 \n",
    "        - replace()\n",
    "            - 특정 문자를 다른 문자로 대체\n",
    "            - 특정 문자를 공백으로 입력하고 다른 문자를 빈 문자 사용하면 공백 제거\n",
    "- item_price 결측치가 존재 "
   ]
  },
  {
   "cell_type": "code",
   "execution_count": null,
   "metadata": {},
   "outputs": [],
   "source": [
    "# 인덱스 2의 item_name의 데이터를 \"상 품 a\" -> \"상품A\"\n",
    "data = df.loc[2, 'item_name'].upper()\n",
    "data.replace(\" \", \"\")"
   ]
  },
  {
   "cell_type": "code",
   "execution_count": null,
   "metadata": {},
   "outputs": [],
   "source": [
    "# 데이터프레임의 정보를 출력 \n",
    "df.info()"
   ]
  },
  {
   "cell_type": "code",
   "execution_count": null,
   "metadata": {},
   "outputs": [],
   "source": [
    "# 결측치의 개수를 확인\n",
    "df.isna().sum()"
   ]
  },
  {
   "cell_type": "code",
   "execution_count": null,
   "metadata": {},
   "outputs": [],
   "source": [
    "# 데이터프레임에서 item_name에 있는 모든 데이터를 대문자로 변경\n",
    "# 문자열 사이의 공백을 모두 제거 \n",
    "df['item_name'].replace(\"상 품 a\", \"상품A\")"
   ]
  },
  {
   "cell_type": "code",
   "execution_count": null,
   "metadata": {},
   "outputs": [],
   "source": [
    "# upper()함수는 문자열에서만 사용이 가능하고\n",
    "# replace()함수는 Series에서는 문자가 기준이 아니라 원소 기준이기 때문에\n",
    "# 문자열 replace() 함수 사용\n",
    "\n",
    "# 복사본 생성\n",
    "df2 = df.copy()"
   ]
  },
  {
   "cell_type": "code",
   "execution_count": null,
   "metadata": {},
   "outputs": [],
   "source": [
    "# case1 ( 반복문 ) : for\n",
    "data_list = []\n",
    "\n",
    "# df2.loc[0, 'item_name'].upper().replace(\" \", \"\")\n",
    "# df2.loc[1, 'item_name'].upper().replace(\" \", \"\")\n",
    "# df2.loc[2, 'item_name'].upper().replace(\" \", \"\")\n",
    "# # ....\n",
    "# df2.loc[2998, 'item_name'].upper().replace(\" \", \"\")\n",
    "\n",
    "for i in range( len(df2) ):\n",
    "    data = df2.loc[i, 'item_name'].upper().replace(\" \", \"\")\n",
    "    data_list.append(data)\n",
    "\n",
    "data_list\n"
   ]
  },
  {
   "cell_type": "code",
   "execution_count": null,
   "metadata": {},
   "outputs": [],
   "source": [
    "# case2 (반복문) while\n",
    "\n",
    "# 초기값\n",
    "i = 0\n",
    "\n",
    "data_list2 = []\n",
    "\n",
    "while i < len(df2):\n",
    "    data = df2.loc[i, 'item_name'].upper().replace(\" \", \"\")\n",
    "    data_list2.append(data)\n",
    "    i += 1\n",
    "\n",
    "data_list2"
   ]
  },
  {
   "cell_type": "code",
   "execution_count": null,
   "metadata": {},
   "outputs": [],
   "source": [
    "# 1차원 리스트로 생성하여 스리즈에 해당 데이터를 삽입 하는 것이 아니라 \n",
    "# 데이터 변환 즉시 데이터를 삽입\n",
    "\n",
    "i = 0\n",
    "\n",
    "while True:\n",
    "    try:\n",
    "        df2.loc[i, 'item_name'] = \\\n",
    "            df2.loc[i, 'item_name'].upper().replace(\" \", \"\")\n",
    "        i += 1\n",
    "    except:\n",
    "        break"
   ]
  },
  {
   "cell_type": "code",
   "execution_count": null,
   "metadata": {},
   "outputs": [],
   "source": [
    "df2.head()"
   ]
  },
  {
   "cell_type": "code",
   "execution_count": null,
   "metadata": {},
   "outputs": [],
   "source": [
    "df2['item_name'].unique()"
   ]
  },
  {
   "cell_type": "code",
   "execution_count": null,
   "metadata": {},
   "outputs": [],
   "source": [
    "set(df2['item_name'])"
   ]
  },
  {
   "cell_type": "code",
   "execution_count": null,
   "metadata": {},
   "outputs": [],
   "source": [
    "# case3 \n",
    "# df['item_name'].str.upper()\n",
    "# df['item_name'].str.replace(\" \", \"\")\n",
    "# df['item_name'].str.upper().replace(\" \", \"\")\n",
    "# df['item_name'].str.replace(\" \", \"\").upper()\n",
    "df['item_name'] = \\\n",
    "    df['item_name'].str.replace(\" \", \"\").str.upper()"
   ]
  },
  {
   "cell_type": "code",
   "execution_count": null,
   "metadata": {},
   "outputs": [],
   "source": [
    "# unique() 함수를 간단하게 생성\n",
    "# 매개변수 1개\n",
    "    # 되돌려줄 빈 리스트 생성(result)\n",
    "    # 인자값(리스트)의 개수 만큼 반복\n",
    "        # 인자값(리스트)중 원소의 result에 포함되어있는지?\n",
    "        # 포함되어있지 않다면 result에 추가 \n",
    "        # 포함되어있다면 아무 행동도 하지 않는다. \n",
    "    # result를 되돌려준다. \n",
    "def unique_custom(input_list):\n",
    "    result = []\n",
    "\n",
    "    # for i in range(len(input_list)):\n",
    "    #     # i : 0, 1, 2 -> 위치\n",
    "    #     # 포함되어 있지 않다. \n",
    "    #     if input_list[i] not in result:\n",
    "    #         result.append(input_list[i])\n",
    "    for i in input_list:\n",
    "        # i : list의 원소들이 하나씩 대입\n",
    "        if i not in result:\n",
    "            result.append(i)\n",
    "    # result를 오름차순 정렬 변경\n",
    "    result.sort()\n",
    "    return result"
   ]
  },
  {
   "cell_type": "code",
   "execution_count": null,
   "metadata": {},
   "outputs": [],
   "source": [
    "_list = ['a', 'a', 'b', 'c', 'c', 'd']\n",
    "\n",
    "unique_custom(_list)"
   ]
  },
  {
   "cell_type": "code",
   "execution_count": null,
   "metadata": {},
   "outputs": [],
   "source": [
    "sorted(unique_custom(df['item_name']))"
   ]
  },
  {
   "cell_type": "code",
   "execution_count": null,
   "metadata": {},
   "outputs": [],
   "source": [
    "unique_custom(df['item_name'])"
   ]
  },
  {
   "cell_type": "markdown",
   "metadata": {},
   "source": [
    "- replace() 함수 생성\n",
    "    - 1차원 데이터에서 replace()\n",
    "        - 매개변수(_list,a, b) 3개\n",
    "        - 1차원 데이터의 원소들을 a와 비교해서 같다면 해당 위치의 데이터를 b로 변경\n",
    "    - 문자열에서 replace()\n"
   ]
  },
  {
   "cell_type": "code",
   "execution_count": null,
   "metadata": {},
   "outputs": [],
   "source": [
    "list_data = ['a', 'a', 'ab', 'c']\n",
    "\n",
    "def list_replace(_list, a , b):\n",
    "    # _list 입력되는 값들 중 a와 같은 데이터가 존재한다면 변경 \n",
    "    for i in range(len(_list)):\n",
    "        # a와 _list의 i번째 항목과 같은가?\n",
    "        if _list[i] == a:\n",
    "            # _list의 i번째 항목에 b을 대입\n",
    "            _list[i] = b\n"
   ]
  },
  {
   "cell_type": "code",
   "execution_count": null,
   "metadata": {},
   "outputs": [],
   "source": [
    "list_replace(list_data, 'a', 'A')"
   ]
  },
  {
   "cell_type": "code",
   "execution_count": null,
   "metadata": {},
   "outputs": [],
   "source": [
    "list_data"
   ]
  },
  {
   "cell_type": "code",
   "execution_count": null,
   "metadata": {},
   "outputs": [],
   "source": [
    "def list_replace2(_list, a, b):\n",
    "    result = []\n",
    "\n",
    "    for i in _list:\n",
    "        if i == a:\n",
    "            # result에 b를 대입\n",
    "            result.append(b)\n",
    "        else:\n",
    "            result.append(i)\n",
    "    return result"
   ]
  },
  {
   "cell_type": "code",
   "execution_count": null,
   "metadata": {},
   "outputs": [],
   "source": [
    "list_data2 = ['a', 'a', 'b', 'c']"
   ]
  },
  {
   "cell_type": "code",
   "execution_count": null,
   "metadata": {},
   "outputs": [],
   "source": [
    "list_replace2(list_data2, 'a', 'A')"
   ]
  },
  {
   "cell_type": "code",
   "execution_count": null,
   "metadata": {},
   "outputs": [],
   "source": [
    "list_data2"
   ]
  },
  {
   "cell_type": "code",
   "execution_count": null,
   "metadata": {},
   "outputs": [],
   "source": [
    "# 문자열에서 사용되는 replace 함수 구현 \n",
    "# 매개변수 3개 ( _str, a, b )\n",
    "# 결과(result) 값으로 \"\" 문자열 생성\n",
    "# _str의 문자 하나씩 추출하여 a와 비교\n",
    "    # 같다면 b를 result에 추가(+)\n",
    "    # 같지 않다면 원래의 문자를 result에 추가(+)\n",
    "# 결과를 되돌려준다.\n",
    "def text_replace(_str, a, b):\n",
    "    result = \"\"\n",
    "\n",
    "    # for i in range(len(_str)):\n",
    "    #     # i : 0, 1, 2 -> 위치\n",
    "    #     if _str[i] == a:\n",
    "    #         # result += b\n",
    "    #         result = result + b\n",
    "    #     else:\n",
    "    #         result += _str[i]\n",
    "    for i in _str:\n",
    "        # i : 문자열의 문자 하나씩\n",
    "        if i == a:\n",
    "            result += b\n",
    "        else:\n",
    "            result += i\n",
    "    return result"
   ]
  },
  {
   "cell_type": "code",
   "execution_count": null,
   "metadata": {},
   "outputs": [],
   "source": [
    "test_text = 'abcd'\n",
    "\n",
    "text_replace(test_text, 'a', 'ABCDE')"
   ]
  },
  {
   "cell_type": "code",
   "execution_count": null,
   "metadata": {},
   "outputs": [],
   "source": [
    "text_replace(test_text, 'ab', 'AB')"
   ]
  },
  {
   "cell_type": "code",
   "execution_count": null,
   "metadata": {},
   "outputs": [],
   "source": [
    "def text_replace2(_str, a, b):\n",
    "    # a 매개변수에 입력이 되는 문자의 개수가 2개 이상\n",
    "    # text_replace()를 정상적으로 작동 x\n",
    "    # for i in _str:\n",
    "    #     print(i)\n",
    "    result = \"\"\n",
    "    stop_cnt = 0\n",
    "    for i in range(len(_str)):\n",
    "        # stop_cnt이 0보다 큰 경우에는 아래의 코드를 무시하고 반복문으로 되돌아간다. \n",
    "        if stop_cnt > 0:\n",
    "            stop_cnt -= 1\n",
    "            continue\n",
    "        # print(_str[i:i+len(a)])\n",
    "        if _str[i : i+len(a)] == a:\n",
    "            result += b\n",
    "            # 다음 반복(a의 길이의 -1)에는 아무행동도 하지 않도록 반복문 수정\n",
    "            # 임의의 변수를 하나 생성\n",
    "            stop_cnt = len(a) - 1\n",
    "        else:\n",
    "            result += _str[i]\n",
    "            # result += _str[i:i+len(a)]\n",
    "    return result\n",
    "\n",
    "# 'abcd' -> 반복 횟수 4번\n",
    "# 첫번째 반복 : i = 0, len(a) = 2,  _str[0 : 2] = 'ab'\n",
    "#               if 'ab' == 'ab' -> True -> result += 'AB'\n",
    "#               result = \"AB\"\n",
    "# 두번째 반복 : i = 1, len(a) = 2, _str[1 : 3] = 'bc'\n",
    "#               if 'bc' == 'ab' -> False -> result += 'b'\n",
    "#               result = 'ABb'\n"
   ]
  },
  {
   "cell_type": "code",
   "execution_count": null,
   "metadata": {},
   "outputs": [],
   "source": [
    "text_replace2(test_text, 'abc', 'ABC')"
   ]
  },
  {
   "cell_type": "code",
   "execution_count": null,
   "metadata": {},
   "outputs": [],
   "source": [
    "def text_replace3(_str, a, b):\n",
    "    # 초기값\n",
    "    i = 0\n",
    "    result = \"\"\n",
    "\n",
    "    # while True:\n",
    "    while i < len(_str):\n",
    "\n",
    "        if _str[i : i+len(a)] == a:\n",
    "            result += b\n",
    "            # i 얼마나 증가시키는가?\n",
    "            i += len(a)\n",
    "        else:\n",
    "            result += _str[i]\n",
    "            i += 1\n",
    "    return result"
   ]
  },
  {
   "cell_type": "code",
   "execution_count": null,
   "metadata": {},
   "outputs": [],
   "source": [
    "text_replace3(test_text, 'ab', 'AB')"
   ]
  },
  {
   "cell_type": "code",
   "execution_count": null,
   "metadata": {},
   "outputs": [],
   "source": [
    "'abcd'\n",
    "['a', 'b', 'c']"
   ]
  },
  {
   "cell_type": "code",
   "execution_count": null,
   "metadata": {},
   "outputs": [],
   "source": [
    "# 변수의 타입이 문자라면?\n",
    "type('abc') == str"
   ]
  },
  {
   "cell_type": "code",
   "execution_count": null,
   "metadata": {},
   "outputs": [],
   "source": [
    "def replace_custom(_data, a, b):\n",
    "    # 만약에 _data 변수의 타입이 문자라면?\n",
    "    if type(_data) == str:\n",
    "        # 초기값\n",
    "        i = 0\n",
    "        result = \"\"\n",
    "\n",
    "        # while True:\n",
    "        while i < len(_data):\n",
    "\n",
    "            if _data[i : i+len(a)] == a:\n",
    "                result += b\n",
    "                # i 얼마나 증가시키는가?\n",
    "                i += len(a)\n",
    "            else:\n",
    "                result += _data[i]\n",
    "                i += 1\n",
    "    else:\n",
    "        result = []\n",
    "\n",
    "        for i in _data:\n",
    "            if i == a:\n",
    "                # result에 b를 대입\n",
    "                result.append(b)\n",
    "            else:\n",
    "                result.append(i)\n",
    "    return result\n",
    "        "
   ]
  },
  {
   "cell_type": "code",
   "execution_count": null,
   "metadata": {},
   "outputs": [],
   "source": [
    "test_text = 'Hello World'\n"
   ]
  },
  {
   "cell_type": "code",
   "execution_count": null,
   "metadata": {},
   "outputs": [],
   "source": [
    "replace_custom(test_text, 'Hello', 'Hi')"
   ]
  },
  {
   "cell_type": "code",
   "execution_count": null,
   "metadata": {},
   "outputs": [],
   "source": [
    "replace_custom(df['item_name'], '상품A', '상품a')"
   ]
  },
  {
   "cell_type": "code",
   "execution_count": null,
   "metadata": {},
   "outputs": [],
   "source": [
    "# 결측치는 특정한 조건에 맞춰서 결측치를 채우는 방법\n",
    "\n",
    "# item_name이 상품A이고 item_price가 결측치인 데이터 \n",
    "\n",
    "# item_name이 상품A이고 item_price가 결측치가 아닌 데이터\n",
    "\n",
    "# item_name이 상품A인 조건식\n",
    "flag = df['item_name'] == '상품A'\n",
    "# loc[인덱스 조건]\n",
    "df.loc[flag]"
   ]
  },
  {
   "cell_type": "code",
   "execution_count": null,
   "metadata": {},
   "outputs": [],
   "source": [
    "# 데이터중 결측치가 포함되어있는 데이터 확인\n",
    "flag_null = df.isna().any(axis=1)\n",
    "df.loc[flag_null]"
   ]
  },
  {
   "cell_type": "code",
   "execution_count": null,
   "metadata": {},
   "outputs": [],
   "source": [
    "# 데이터충 결측치가 포함되어있지 않은 데이터 확인 \n",
    "df.loc[~flag_null]"
   ]
  },
  {
   "cell_type": "code",
   "execution_count": null,
   "metadata": {},
   "outputs": [],
   "source": [
    "df.loc[ df.notna().all(axis=1) ]"
   ]
  },
  {
   "cell_type": "code",
   "execution_count": null,
   "metadata": {},
   "outputs": [],
   "source": [
    "df.isna().any(axis=1)"
   ]
  },
  {
   "cell_type": "code",
   "execution_count": null,
   "metadata": {},
   "outputs": [],
   "source": [
    "# item_name이 상품A이고고 item_price가 결측치가 아닌 데이터를 확인\n",
    "# 상품A item_price의 결측치인 부분에 어떤 데이터로 채워야하는가?\n",
    "flag_null = df['item_price'].isna()\n",
    "df.loc[flag & ~flag_null]"
   ]
  },
  {
   "cell_type": "markdown",
   "metadata": {},
   "source": [
    "- 상품명에 따라 결측치를 채워준다. \n",
    "    1. 상품A인 데이터중 item_price가 결측치가 아닌 데이터들의 item_price의 평균 변수에 저장\n",
    "    2. 상품A인 데이터중 item_price가 결측치인 데이터에 평균을 대입\n",
    "    3. 위의 작업을 상품A부터 상품Z까지 반복"
   ]
  },
  {
   "cell_type": "code",
   "execution_count": null,
   "metadata": {},
   "outputs": [],
   "source": [
    "# item_name이 상품A인 경우 \n",
    "flag = df['item_name'] == '상품A'\n",
    "# item_price가 결측치인 경우 \n",
    "flag_null = df['item_price'].isna()\n",
    "# 1번작업 ( item_price 평균)\n",
    "# df.loc[flag & ~flag_null].describe().loc['mean', 'item_price']\n",
    "mean_data = \\\n",
    "    df.loc[flag & ~flag_null, 'item_price'].mean()"
   ]
  },
  {
   "cell_type": "code",
   "execution_count": null,
   "metadata": {},
   "outputs": [],
   "source": [
    "# case1\n",
    "df.loc[flag & flag_null] = \\\n",
    "    df.loc[flag & flag_null].fillna(mean_data)\n",
    "# case2\n",
    "# df.loc[flag & flag_null, 'item_price'] = mean_data"
   ]
  },
  {
   "cell_type": "code",
   "execution_count": null,
   "metadata": {},
   "outputs": [],
   "source": [
    "df.loc[flag & flag_null, 'item_price']"
   ]
  },
  {
   "cell_type": "code",
   "execution_count": 133,
   "metadata": {},
   "outputs": [],
   "source": [
    "# 상품A ~ 상품Z 까지(item_name의 유니크 값) 반복 작업 \n",
    "item_list = df['item_name'].unique()\n",
    "\n",
    "# item_price가 결측치인 경우 \n",
    "flag_null = df['item_price'].isna()\n",
    "# 반복문 생성 \n",
    "for i in item_list:\n",
    "    # i : item_list의 각 원소의 값 (상품A, 상품B, ...)\n",
    "    # item_name이 상품A인 경우 \n",
    "    flag = df['item_name'] == i\n",
    "    # 1번작업 ( item_price 평균)\n",
    "    # df.loc[flag & ~flag_null].describe().loc['mean', 'item_price']\n",
    "    mean_data = \\\n",
    "        df.loc[flag & ~flag_null, 'item_price'].mean()\n",
    "    df.loc[flag & flag_null] = \\\n",
    "        df.loc[flag & flag_null].fillna(mean_data)"
   ]
  },
  {
   "cell_type": "code",
   "execution_count": 134,
   "metadata": {},
   "outputs": [
    {
     "data": {
      "text/plain": [
       "purchase_date    0\n",
       "item_name        0\n",
       "item_price       0\n",
       "customer_name    0\n",
       "dtype: int64"
      ]
     },
     "execution_count": 134,
     "metadata": {},
     "output_type": "execute_result"
    }
   ],
   "source": [
    "df.isna().sum()"
   ]
  },
  {
   "cell_type": "code",
   "execution_count": 135,
   "metadata": {},
   "outputs": [
    {
     "data": {
      "text/html": [
       "<div>\n",
       "<style scoped>\n",
       "    .dataframe tbody tr th:only-of-type {\n",
       "        vertical-align: middle;\n",
       "    }\n",
       "\n",
       "    .dataframe tbody tr th {\n",
       "        vertical-align: top;\n",
       "    }\n",
       "\n",
       "    .dataframe thead th {\n",
       "        text-align: right;\n",
       "    }\n",
       "</style>\n",
       "<table border=\"1\" class=\"dataframe\">\n",
       "  <thead>\n",
       "    <tr style=\"text-align: right;\">\n",
       "      <th></th>\n",
       "      <th>item_price</th>\n",
       "    </tr>\n",
       "    <tr>\n",
       "      <th>item_name</th>\n",
       "      <th></th>\n",
       "    </tr>\n",
       "  </thead>\n",
       "  <tbody>\n",
       "    <tr>\n",
       "      <th>상품A</th>\n",
       "      <td>100.0</td>\n",
       "    </tr>\n",
       "    <tr>\n",
       "      <th>상품B</th>\n",
       "      <td>200.0</td>\n",
       "    </tr>\n",
       "    <tr>\n",
       "      <th>상품C</th>\n",
       "      <td>300.0</td>\n",
       "    </tr>\n",
       "    <tr>\n",
       "      <th>상품D</th>\n",
       "      <td>400.0</td>\n",
       "    </tr>\n",
       "    <tr>\n",
       "      <th>상품E</th>\n",
       "      <td>500.0</td>\n",
       "    </tr>\n",
       "    <tr>\n",
       "      <th>상품F</th>\n",
       "      <td>600.0</td>\n",
       "    </tr>\n",
       "    <tr>\n",
       "      <th>상품G</th>\n",
       "      <td>700.0</td>\n",
       "    </tr>\n",
       "    <tr>\n",
       "      <th>상품H</th>\n",
       "      <td>800.0</td>\n",
       "    </tr>\n",
       "    <tr>\n",
       "      <th>상품I</th>\n",
       "      <td>900.0</td>\n",
       "    </tr>\n",
       "    <tr>\n",
       "      <th>상품J</th>\n",
       "      <td>1000.0</td>\n",
       "    </tr>\n",
       "    <tr>\n",
       "      <th>상품K</th>\n",
       "      <td>1100.0</td>\n",
       "    </tr>\n",
       "    <tr>\n",
       "      <th>상품L</th>\n",
       "      <td>1200.0</td>\n",
       "    </tr>\n",
       "    <tr>\n",
       "      <th>상품M</th>\n",
       "      <td>1300.0</td>\n",
       "    </tr>\n",
       "    <tr>\n",
       "      <th>상품N</th>\n",
       "      <td>1400.0</td>\n",
       "    </tr>\n",
       "    <tr>\n",
       "      <th>상품O</th>\n",
       "      <td>1500.0</td>\n",
       "    </tr>\n",
       "    <tr>\n",
       "      <th>상품P</th>\n",
       "      <td>1600.0</td>\n",
       "    </tr>\n",
       "    <tr>\n",
       "      <th>상품Q</th>\n",
       "      <td>1700.0</td>\n",
       "    </tr>\n",
       "    <tr>\n",
       "      <th>상품R</th>\n",
       "      <td>1800.0</td>\n",
       "    </tr>\n",
       "    <tr>\n",
       "      <th>상품S</th>\n",
       "      <td>1900.0</td>\n",
       "    </tr>\n",
       "    <tr>\n",
       "      <th>상품T</th>\n",
       "      <td>2000.0</td>\n",
       "    </tr>\n",
       "    <tr>\n",
       "      <th>상품U</th>\n",
       "      <td>2100.0</td>\n",
       "    </tr>\n",
       "    <tr>\n",
       "      <th>상품V</th>\n",
       "      <td>2200.0</td>\n",
       "    </tr>\n",
       "    <tr>\n",
       "      <th>상품W</th>\n",
       "      <td>2300.0</td>\n",
       "    </tr>\n",
       "    <tr>\n",
       "      <th>상품X</th>\n",
       "      <td>2400.0</td>\n",
       "    </tr>\n",
       "    <tr>\n",
       "      <th>상품Y</th>\n",
       "      <td>2500.0</td>\n",
       "    </tr>\n",
       "    <tr>\n",
       "      <th>상품Z</th>\n",
       "      <td>2600.0</td>\n",
       "    </tr>\n",
       "  </tbody>\n",
       "</table>\n",
       "</div>"
      ],
      "text/plain": [
       "           item_price\n",
       "item_name            \n",
       "상품A             100.0\n",
       "상품B             200.0\n",
       "상품C             300.0\n",
       "상품D             400.0\n",
       "상품E             500.0\n",
       "상품F             600.0\n",
       "상품G             700.0\n",
       "상품H             800.0\n",
       "상품I             900.0\n",
       "상품J            1000.0\n",
       "상품K            1100.0\n",
       "상품L            1200.0\n",
       "상품M            1300.0\n",
       "상품N            1400.0\n",
       "상품O            1500.0\n",
       "상품P            1600.0\n",
       "상품Q            1700.0\n",
       "상품R            1800.0\n",
       "상품S            1900.0\n",
       "상품T            2000.0\n",
       "상품U            2100.0\n",
       "상품V            2200.0\n",
       "상품W            2300.0\n",
       "상품X            2400.0\n",
       "상품Y            2500.0\n",
       "상품Z            2600.0"
      ]
     },
     "execution_count": 135,
     "metadata": {},
     "output_type": "execute_result"
    }
   ],
   "source": [
    "# 그룹화 연산 \n",
    "df[['item_name', 'item_price']].groupby(['item_name']).mean()"
   ]
  },
  {
   "cell_type": "code",
   "execution_count": null,
   "metadata": {},
   "outputs": [],
   "source": []
  }
 ],
 "metadata": {
  "kernelspec": {
   "display_name": "Python 3",
   "language": "python",
   "name": "python3"
  },
  "language_info": {
   "codemirror_mode": {
    "name": "ipython",
    "version": 3
   },
   "file_extension": ".py",
   "mimetype": "text/x-python",
   "name": "python",
   "nbconvert_exporter": "python",
   "pygments_lexer": "ipython3",
   "version": "3.11.1"
  }
 },
 "nbformat": 4,
 "nbformat_minor": 2
}
