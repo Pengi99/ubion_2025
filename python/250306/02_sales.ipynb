{
 "cells": [
  {
   "cell_type": "code",
   "execution_count": 7,
   "metadata": {},
   "outputs": [],
   "source": [
    "import pandas as pd"
   ]
  },
  {
   "cell_type": "markdown",
   "metadata": {},
   "source": [
    "- 연습문제\n",
    "\n",
    "1. csv폴더 안에 있는 'Sales Records.csv' 파일 로드 \n",
    "2. 'Order ID', 'Total Revenue', 'Total Cost', 'Total Profit', 'Order Priority' 컬럼을 제거 \n",
    "3. 컬럼의 이름 변경 : ['대륙', '국가', '상품종류', '판매채널', '주문일자', '발송일자', '판매개수', '단가', '원가']\n",
    "4. 대륙, 국가를 기준으로 오름차순 정렬\n",
    "5. 파생변수 생성\n",
    "    - 총단가 -> 판매개수 * 단가\n",
    "    - 총원가 -> 판매개수 * 원가 \n",
    "    - 총이윤 -> 총단가 - 총원가"
   ]
  },
  {
   "cell_type": "code",
   "execution_count": 8,
   "metadata": {},
   "outputs": [],
   "source": [
    "# 파일을 로드 \n",
    "sales = pd.read_csv(\"../../csv/Sales Records.csv\")"
   ]
  },
  {
   "cell_type": "code",
   "execution_count": 9,
   "metadata": {},
   "outputs": [
    {
     "name": "stdout",
     "output_type": "stream",
     "text": [
      "<class 'pandas.core.frame.DataFrame'>\n",
      "RangeIndex: 10000 entries, 0 to 9999\n",
      "Data columns (total 14 columns):\n",
      " #   Column          Non-Null Count  Dtype  \n",
      "---  ------          --------------  -----  \n",
      " 0   Region          10000 non-null  object \n",
      " 1   Country         10000 non-null  object \n",
      " 2   Item Type       10000 non-null  object \n",
      " 3   Sales Channel   10000 non-null  object \n",
      " 4   Order Priority  10000 non-null  object \n",
      " 5   Order Date      10000 non-null  object \n",
      " 6   Order ID        10000 non-null  int64  \n",
      " 7   Ship Date       10000 non-null  object \n",
      " 8   Units Sold      10000 non-null  int64  \n",
      " 9   Unit Price      10000 non-null  float64\n",
      " 10  Unit Cost       10000 non-null  float64\n",
      " 11  Total Revenue   10000 non-null  float64\n",
      " 12  Total Cost      10000 non-null  float64\n",
      " 13  Total Profit    10000 non-null  float64\n",
      "dtypes: float64(5), int64(2), object(7)\n",
      "memory usage: 1.1+ MB\n"
     ]
    }
   ],
   "source": [
    "sales.info()"
   ]
  },
  {
   "cell_type": "code",
   "execution_count": 10,
   "metadata": {},
   "outputs": [],
   "source": [
    "df = sales.copy()"
   ]
  },
  {
   "cell_type": "code",
   "execution_count": 11,
   "metadata": {},
   "outputs": [],
   "source": [
    "# 특정 컬럼을 제거 \n",
    "# drop()\n",
    "df.drop([\n",
    "    'Order ID', 'Total Revenue', 'Total Cost', 'Total Profit', \n",
    "    'Order Priority'\n",
    "], axis = 'columns', inplace=True)"
   ]
  },
  {
   "cell_type": "code",
   "execution_count": 12,
   "metadata": {},
   "outputs": [],
   "source": [
    "# 컬럼의 이름 변경 \n",
    "df.columns = ['대륙', '국가', '상품종류', '판매채널', '주문일자', \n",
    "'발송일자', '판매개수', '단가', '원가']"
   ]
  },
  {
   "cell_type": "code",
   "execution_count": 13,
   "metadata": {},
   "outputs": [
    {
     "data": {
      "text/html": [
       "<div>\n",
       "<style scoped>\n",
       "    .dataframe tbody tr th:only-of-type {\n",
       "        vertical-align: middle;\n",
       "    }\n",
       "\n",
       "    .dataframe tbody tr th {\n",
       "        vertical-align: top;\n",
       "    }\n",
       "\n",
       "    .dataframe thead th {\n",
       "        text-align: right;\n",
       "    }\n",
       "</style>\n",
       "<table border=\"1\" class=\"dataframe\">\n",
       "  <thead>\n",
       "    <tr style=\"text-align: right;\">\n",
       "      <th></th>\n",
       "      <th>대륙</th>\n",
       "      <th>국가</th>\n",
       "      <th>상품종류</th>\n",
       "      <th>판매채널</th>\n",
       "      <th>주문일자</th>\n",
       "      <th>발송일자</th>\n",
       "      <th>판매개수</th>\n",
       "      <th>단가</th>\n",
       "      <th>원가</th>\n",
       "    </tr>\n",
       "  </thead>\n",
       "  <tbody>\n",
       "    <tr>\n",
       "      <th>0</th>\n",
       "      <td>Sub-Saharan Africa</td>\n",
       "      <td>Chad</td>\n",
       "      <td>Office Supplies</td>\n",
       "      <td>Online</td>\n",
       "      <td>1/27/2011</td>\n",
       "      <td>2/12/2011</td>\n",
       "      <td>4484</td>\n",
       "      <td>651.21</td>\n",
       "      <td>524.96</td>\n",
       "    </tr>\n",
       "  </tbody>\n",
       "</table>\n",
       "</div>"
      ],
      "text/plain": [
       "                   대륙    국가             상품종류    판매채널       주문일자       발송일자  \\\n",
       "0  Sub-Saharan Africa  Chad  Office Supplies  Online  1/27/2011  2/12/2011   \n",
       "\n",
       "   판매개수      단가      원가  \n",
       "0  4484  651.21  524.96  "
      ]
     },
     "execution_count": 13,
     "metadata": {},
     "output_type": "execute_result"
    }
   ],
   "source": [
    "df.head(1)"
   ]
  },
  {
   "cell_type": "code",
   "execution_count": 14,
   "metadata": {},
   "outputs": [
    {
     "data": {
      "text/html": [
       "<div>\n",
       "<style scoped>\n",
       "    .dataframe tbody tr th:only-of-type {\n",
       "        vertical-align: middle;\n",
       "    }\n",
       "\n",
       "    .dataframe tbody tr th {\n",
       "        vertical-align: top;\n",
       "    }\n",
       "\n",
       "    .dataframe thead th {\n",
       "        text-align: right;\n",
       "    }\n",
       "</style>\n",
       "<table border=\"1\" class=\"dataframe\">\n",
       "  <thead>\n",
       "    <tr style=\"text-align: right;\">\n",
       "      <th></th>\n",
       "      <th>대륙</th>\n",
       "      <th>국가</th>\n",
       "      <th>상품종류</th>\n",
       "      <th>판매채널</th>\n",
       "      <th>주문일자</th>\n",
       "      <th>발송일자</th>\n",
       "      <th>판매개수</th>\n",
       "      <th>단가</th>\n",
       "      <th>원가</th>\n",
       "    </tr>\n",
       "  </thead>\n",
       "  <tbody>\n",
       "    <tr>\n",
       "      <th>36</th>\n",
       "      <td>Asia</td>\n",
       "      <td>Bangladesh</td>\n",
       "      <td>Personal Care</td>\n",
       "      <td>Online</td>\n",
       "      <td>12/11/2016</td>\n",
       "      <td>1/13/2017</td>\n",
       "      <td>9420</td>\n",
       "      <td>81.73</td>\n",
       "      <td>56.67</td>\n",
       "    </tr>\n",
       "    <tr>\n",
       "      <th>246</th>\n",
       "      <td>Asia</td>\n",
       "      <td>Bangladesh</td>\n",
       "      <td>Cosmetics</td>\n",
       "      <td>Offline</td>\n",
       "      <td>7/29/2010</td>\n",
       "      <td>9/11/2010</td>\n",
       "      <td>577</td>\n",
       "      <td>437.20</td>\n",
       "      <td>263.33</td>\n",
       "    </tr>\n",
       "    <tr>\n",
       "      <th>446</th>\n",
       "      <td>Asia</td>\n",
       "      <td>Bangladesh</td>\n",
       "      <td>Vegetables</td>\n",
       "      <td>Offline</td>\n",
       "      <td>4/28/2014</td>\n",
       "      <td>5/5/2014</td>\n",
       "      <td>34</td>\n",
       "      <td>154.06</td>\n",
       "      <td>90.93</td>\n",
       "    </tr>\n",
       "    <tr>\n",
       "      <th>569</th>\n",
       "      <td>Asia</td>\n",
       "      <td>Bangladesh</td>\n",
       "      <td>Cereal</td>\n",
       "      <td>Offline</td>\n",
       "      <td>6/22/2010</td>\n",
       "      <td>6/28/2010</td>\n",
       "      <td>9768</td>\n",
       "      <td>205.70</td>\n",
       "      <td>117.11</td>\n",
       "    </tr>\n",
       "    <tr>\n",
       "      <th>576</th>\n",
       "      <td>Asia</td>\n",
       "      <td>Bangladesh</td>\n",
       "      <td>Office Supplies</td>\n",
       "      <td>Online</td>\n",
       "      <td>3/20/2013</td>\n",
       "      <td>4/11/2013</td>\n",
       "      <td>7731</td>\n",
       "      <td>651.21</td>\n",
       "      <td>524.96</td>\n",
       "    </tr>\n",
       "  </tbody>\n",
       "</table>\n",
       "</div>"
      ],
      "text/plain": [
       "       대륙          국가             상품종류     판매채널        주문일자       발송일자  판매개수  \\\n",
       "36   Asia  Bangladesh    Personal Care   Online  12/11/2016  1/13/2017  9420   \n",
       "246  Asia  Bangladesh        Cosmetics  Offline   7/29/2010  9/11/2010   577   \n",
       "446  Asia  Bangladesh       Vegetables  Offline   4/28/2014   5/5/2014    34   \n",
       "569  Asia  Bangladesh           Cereal  Offline   6/22/2010  6/28/2010  9768   \n",
       "576  Asia  Bangladesh  Office Supplies   Online   3/20/2013  4/11/2013  7731   \n",
       "\n",
       "         단가      원가  \n",
       "36    81.73   56.67  \n",
       "246  437.20  263.33  \n",
       "446  154.06   90.93  \n",
       "569  205.70  117.11  \n",
       "576  651.21  524.96  "
      ]
     },
     "execution_count": 14,
     "metadata": {},
     "output_type": "execute_result"
    }
   ],
   "source": [
    "# 정렬을 변경 : 대륙, 국가\n",
    "# 오름차순\n",
    "# df.sort_values('대륙', inplace = True)\n",
    "# df.sort_values('국가', inplace = True)\n",
    "df.sort_values( ['대륙', '국가'], inplace=True )\n",
    "df.head()\n"
   ]
  },
  {
   "cell_type": "code",
   "execution_count": 15,
   "metadata": {},
   "outputs": [],
   "source": [
    "# 총단가(Series) = 판매개수(Seires) * 단가(Series)\n",
    "\n",
    "df['총단가'] = df['판매개수'] * df['단가']\n",
    "df['총원가'] = df['판매개수'] * df['원가']\n",
    "df['총이윤'] = df['총단가'] - df['총원가']"
   ]
  },
  {
   "cell_type": "code",
   "execution_count": 16,
   "metadata": {},
   "outputs": [
    {
     "data": {
      "text/html": [
       "<div>\n",
       "<style scoped>\n",
       "    .dataframe tbody tr th:only-of-type {\n",
       "        vertical-align: middle;\n",
       "    }\n",
       "\n",
       "    .dataframe tbody tr th {\n",
       "        vertical-align: top;\n",
       "    }\n",
       "\n",
       "    .dataframe thead th {\n",
       "        text-align: right;\n",
       "    }\n",
       "</style>\n",
       "<table border=\"1\" class=\"dataframe\">\n",
       "  <thead>\n",
       "    <tr style=\"text-align: right;\">\n",
       "      <th></th>\n",
       "      <th>대륙</th>\n",
       "      <th>국가</th>\n",
       "      <th>상품종류</th>\n",
       "      <th>판매채널</th>\n",
       "      <th>주문일자</th>\n",
       "      <th>발송일자</th>\n",
       "      <th>판매개수</th>\n",
       "      <th>단가</th>\n",
       "      <th>원가</th>\n",
       "      <th>총단가</th>\n",
       "      <th>총원가</th>\n",
       "      <th>총이윤</th>\n",
       "    </tr>\n",
       "  </thead>\n",
       "  <tbody>\n",
       "    <tr>\n",
       "      <th>36</th>\n",
       "      <td>Asia</td>\n",
       "      <td>Bangladesh</td>\n",
       "      <td>Personal Care</td>\n",
       "      <td>Online</td>\n",
       "      <td>12/11/2016</td>\n",
       "      <td>1/13/2017</td>\n",
       "      <td>9420</td>\n",
       "      <td>81.73</td>\n",
       "      <td>56.67</td>\n",
       "      <td>769896.60</td>\n",
       "      <td>533831.40</td>\n",
       "      <td>236065.20</td>\n",
       "    </tr>\n",
       "    <tr>\n",
       "      <th>246</th>\n",
       "      <td>Asia</td>\n",
       "      <td>Bangladesh</td>\n",
       "      <td>Cosmetics</td>\n",
       "      <td>Offline</td>\n",
       "      <td>7/29/2010</td>\n",
       "      <td>9/11/2010</td>\n",
       "      <td>577</td>\n",
       "      <td>437.20</td>\n",
       "      <td>263.33</td>\n",
       "      <td>252264.40</td>\n",
       "      <td>151941.41</td>\n",
       "      <td>100322.99</td>\n",
       "    </tr>\n",
       "    <tr>\n",
       "      <th>446</th>\n",
       "      <td>Asia</td>\n",
       "      <td>Bangladesh</td>\n",
       "      <td>Vegetables</td>\n",
       "      <td>Offline</td>\n",
       "      <td>4/28/2014</td>\n",
       "      <td>5/5/2014</td>\n",
       "      <td>34</td>\n",
       "      <td>154.06</td>\n",
       "      <td>90.93</td>\n",
       "      <td>5238.04</td>\n",
       "      <td>3091.62</td>\n",
       "      <td>2146.42</td>\n",
       "    </tr>\n",
       "    <tr>\n",
       "      <th>569</th>\n",
       "      <td>Asia</td>\n",
       "      <td>Bangladesh</td>\n",
       "      <td>Cereal</td>\n",
       "      <td>Offline</td>\n",
       "      <td>6/22/2010</td>\n",
       "      <td>6/28/2010</td>\n",
       "      <td>9768</td>\n",
       "      <td>205.70</td>\n",
       "      <td>117.11</td>\n",
       "      <td>2009277.60</td>\n",
       "      <td>1143930.48</td>\n",
       "      <td>865347.12</td>\n",
       "    </tr>\n",
       "    <tr>\n",
       "      <th>576</th>\n",
       "      <td>Asia</td>\n",
       "      <td>Bangladesh</td>\n",
       "      <td>Office Supplies</td>\n",
       "      <td>Online</td>\n",
       "      <td>3/20/2013</td>\n",
       "      <td>4/11/2013</td>\n",
       "      <td>7731</td>\n",
       "      <td>651.21</td>\n",
       "      <td>524.96</td>\n",
       "      <td>5034504.51</td>\n",
       "      <td>4058465.76</td>\n",
       "      <td>976038.75</td>\n",
       "    </tr>\n",
       "  </tbody>\n",
       "</table>\n",
       "</div>"
      ],
      "text/plain": [
       "       대륙          국가             상품종류     판매채널        주문일자       발송일자  판매개수  \\\n",
       "36   Asia  Bangladesh    Personal Care   Online  12/11/2016  1/13/2017  9420   \n",
       "246  Asia  Bangladesh        Cosmetics  Offline   7/29/2010  9/11/2010   577   \n",
       "446  Asia  Bangladesh       Vegetables  Offline   4/28/2014   5/5/2014    34   \n",
       "569  Asia  Bangladesh           Cereal  Offline   6/22/2010  6/28/2010  9768   \n",
       "576  Asia  Bangladesh  Office Supplies   Online   3/20/2013  4/11/2013  7731   \n",
       "\n",
       "         단가      원가         총단가         총원가        총이윤  \n",
       "36    81.73   56.67   769896.60   533831.40  236065.20  \n",
       "246  437.20  263.33   252264.40   151941.41  100322.99  \n",
       "446  154.06   90.93     5238.04     3091.62    2146.42  \n",
       "569  205.70  117.11  2009277.60  1143930.48  865347.12  \n",
       "576  651.21  524.96  5034504.51  4058465.76  976038.75  "
      ]
     },
     "execution_count": 16,
     "metadata": {},
     "output_type": "execute_result"
    }
   ],
   "source": [
    "df.head()"
   ]
  },
  {
   "cell_type": "code",
   "execution_count": 17,
   "metadata": {},
   "outputs": [],
   "source": [
    "# 총 이윤의 합계가 가장 높은 국가는 어디인가?\n",
    "# 국가별로 데이터프레임을 나눠주는 작업 \n",
    "# 그룹화 함수 groupby()\n",
    "# df[['국가', '총이윤']].groupby('국가').sum()\n",
    "group_data = df.groupby('국가')[['총이윤']].sum()"
   ]
  },
  {
   "cell_type": "code",
   "execution_count": 18,
   "metadata": {},
   "outputs": [
    {
     "data": {
      "text/html": [
       "<div>\n",
       "<style scoped>\n",
       "    .dataframe tbody tr th:only-of-type {\n",
       "        vertical-align: middle;\n",
       "    }\n",
       "\n",
       "    .dataframe tbody tr th {\n",
       "        vertical-align: top;\n",
       "    }\n",
       "\n",
       "    .dataframe thead th {\n",
       "        text-align: right;\n",
       "    }\n",
       "</style>\n",
       "<table border=\"1\" class=\"dataframe\">\n",
       "  <thead>\n",
       "    <tr style=\"text-align: right;\">\n",
       "      <th></th>\n",
       "      <th>총이윤</th>\n",
       "    </tr>\n",
       "    <tr>\n",
       "      <th>국가</th>\n",
       "      <th></th>\n",
       "    </tr>\n",
       "  </thead>\n",
       "  <tbody>\n",
       "    <tr>\n",
       "      <th>Kiribati</th>\n",
       "      <td>32454798.26</td>\n",
       "    </tr>\n",
       "    <tr>\n",
       "      <th>Qatar</th>\n",
       "      <td>30861356.79</td>\n",
       "    </tr>\n",
       "    <tr>\n",
       "      <th>Grenada</th>\n",
       "      <td>30302769.90</td>\n",
       "    </tr>\n",
       "    <tr>\n",
       "      <th>Taiwan</th>\n",
       "      <td>30044779.98</td>\n",
       "    </tr>\n",
       "    <tr>\n",
       "      <th>Malawi</th>\n",
       "      <td>29329125.05</td>\n",
       "    </tr>\n",
       "    <tr>\n",
       "      <th>Botswana</th>\n",
       "      <td>29019726.67</td>\n",
       "    </tr>\n",
       "    <tr>\n",
       "      <th>Bangladesh</th>\n",
       "      <td>28092720.77</td>\n",
       "    </tr>\n",
       "    <tr>\n",
       "      <th>Lithuania</th>\n",
       "      <td>28063374.02</td>\n",
       "    </tr>\n",
       "    <tr>\n",
       "      <th>Burundi</th>\n",
       "      <td>27911293.45</td>\n",
       "    </tr>\n",
       "    <tr>\n",
       "      <th>Ireland</th>\n",
       "      <td>27807805.05</td>\n",
       "    </tr>\n",
       "  </tbody>\n",
       "</table>\n",
       "</div>"
      ],
      "text/plain": [
       "                    총이윤\n",
       "국가                     \n",
       "Kiribati    32454798.26\n",
       "Qatar       30861356.79\n",
       "Grenada     30302769.90\n",
       "Taiwan      30044779.98\n",
       "Malawi      29329125.05\n",
       "Botswana    29019726.67\n",
       "Bangladesh  28092720.77\n",
       "Lithuania   28063374.02\n",
       "Burundi     27911293.45\n",
       "Ireland     27807805.05"
      ]
     },
     "execution_count": 18,
     "metadata": {},
     "output_type": "execute_result"
    }
   ],
   "source": [
    "# 총이윤이 가장 높은 10개의 국가를 출력\n",
    "group_data.sort_values('총이윤', ascending=False).head(10)"
   ]
  },
  {
   "cell_type": "code",
   "execution_count": 19,
   "metadata": {},
   "outputs": [],
   "source": [
    "# 해당하는 데이터에서 South Korea의 순위는 몇위인가?\n",
    "# 그룹데이터를 총이윤을 기준으로 내림차순 정렬\n",
    "group_data.sort_values('총이윤', ascending=False, inplace=True)"
   ]
  },
  {
   "cell_type": "code",
   "execution_count": 20,
   "metadata": {},
   "outputs": [
    {
     "name": "stdout",
     "output_type": "stream",
     "text": [
      "48\n"
     ]
    }
   ],
   "source": [
    "result = 0\n",
    "for i in group_data.index:\n",
    "    # print(i)\n",
    "    # break\n",
    "    result += 1\n",
    "    if i == 'South Korea':\n",
    "        break\n",
    "print(result)"
   ]
  },
  {
   "cell_type": "code",
   "execution_count": 21,
   "metadata": {},
   "outputs": [
    {
     "data": {
      "text/plain": [
       "48"
      ]
     },
     "execution_count": 21,
     "metadata": {},
     "output_type": "execute_result"
    }
   ],
   "source": [
    "list(group_data.index).index('South Korea') + 1"
   ]
  },
  {
   "cell_type": "code",
   "execution_count": 22,
   "metadata": {},
   "outputs": [
    {
     "data": {
      "text/html": [
       "<div>\n",
       "<style scoped>\n",
       "    .dataframe tbody tr th:only-of-type {\n",
       "        vertical-align: middle;\n",
       "    }\n",
       "\n",
       "    .dataframe tbody tr th {\n",
       "        vertical-align: top;\n",
       "    }\n",
       "\n",
       "    .dataframe thead th {\n",
       "        text-align: right;\n",
       "    }\n",
       "</style>\n",
       "<table border=\"1\" class=\"dataframe\">\n",
       "  <thead>\n",
       "    <tr style=\"text-align: right;\">\n",
       "      <th></th>\n",
       "      <th>국가</th>\n",
       "      <th>총이윤</th>\n",
       "    </tr>\n",
       "  </thead>\n",
       "  <tbody>\n",
       "    <tr>\n",
       "      <th>47</th>\n",
       "      <td>South Korea</td>\n",
       "      <td>23893933.75</td>\n",
       "    </tr>\n",
       "  </tbody>\n",
       "</table>\n",
       "</div>"
      ],
      "text/plain": [
       "             국가          총이윤\n",
       "47  South Korea  23893933.75"
      ]
     },
     "execution_count": 22,
     "metadata": {},
     "output_type": "execute_result"
    }
   ],
   "source": [
    "# group_data에서 인덱스를 초기화하고 기존의 인덱스를 컬럼으로 유지\n",
    "group_data2 = group_data.reset_index()\n",
    "group_data2.loc[ group_data2['국가'] == 'South Korea' ]"
   ]
  },
  {
   "cell_type": "code",
   "execution_count": 23,
   "metadata": {},
   "outputs": [],
   "source": [
    "# rank() 함수를 이용 \n",
    "group_data['rank'] = group_data['총이윤'].rank(ascending= False)"
   ]
  },
  {
   "cell_type": "code",
   "execution_count": 24,
   "metadata": {},
   "outputs": [
    {
     "data": {
      "text/html": [
       "<div>\n",
       "<style scoped>\n",
       "    .dataframe tbody tr th:only-of-type {\n",
       "        vertical-align: middle;\n",
       "    }\n",
       "\n",
       "    .dataframe tbody tr th {\n",
       "        vertical-align: top;\n",
       "    }\n",
       "\n",
       "    .dataframe thead th {\n",
       "        text-align: right;\n",
       "    }\n",
       "</style>\n",
       "<table border=\"1\" class=\"dataframe\">\n",
       "  <thead>\n",
       "    <tr style=\"text-align: right;\">\n",
       "      <th></th>\n",
       "      <th>총이윤</th>\n",
       "      <th>rank</th>\n",
       "    </tr>\n",
       "    <tr>\n",
       "      <th>국가</th>\n",
       "      <th></th>\n",
       "      <th></th>\n",
       "    </tr>\n",
       "  </thead>\n",
       "  <tbody>\n",
       "    <tr>\n",
       "      <th>South Korea</th>\n",
       "      <td>23893933.75</td>\n",
       "      <td>48.0</td>\n",
       "    </tr>\n",
       "  </tbody>\n",
       "</table>\n",
       "</div>"
      ],
      "text/plain": [
       "                     총이윤  rank\n",
       "국가                            \n",
       "South Korea  23893933.75  48.0"
      ]
     },
     "execution_count": 24,
     "metadata": {},
     "output_type": "execute_result"
    }
   ],
   "source": [
    "group_data.loc[ ['South Korea'] ]"
   ]
  },
  {
   "cell_type": "code",
   "execution_count": null,
   "metadata": {},
   "outputs": [],
   "source": [
    "df[['국가', '총이윤']].groupby('국가').get_group('South Korea')"
   ]
  },
  {
   "cell_type": "code",
   "execution_count": 27,
   "metadata": {},
   "outputs": [],
   "source": [
    "# df에서 대륙, 국가 기준으로 그룹화 \n",
    "group_data3 = df.groupby(['대륙', '국가'])[['총이윤']].sum()"
   ]
  },
  {
   "cell_type": "code",
   "execution_count": null,
   "metadata": {},
   "outputs": [],
   "source": [
    "group_data3.index"
   ]
  },
  {
   "cell_type": "code",
   "execution_count": 30,
   "metadata": {},
   "outputs": [
    {
     "data": {
      "text/plain": [
       "총이윤    23893933.75\n",
       "Name: South Korea, dtype: float64"
      ]
     },
     "execution_count": 30,
     "metadata": {},
     "output_type": "execute_result"
    }
   ],
   "source": [
    "group_data3.loc['Asia'].loc['South Korea']"
   ]
  },
  {
   "cell_type": "code",
   "execution_count": 31,
   "metadata": {},
   "outputs": [
    {
     "data": {
      "text/plain": [
       "총이윤    23893933.75\n",
       "Name: (Asia, South Korea), dtype: float64"
      ]
     },
     "execution_count": 31,
     "metadata": {},
     "output_type": "execute_result"
    }
   ],
   "source": [
    "group_data3.loc[('Asia', 'South Korea')]"
   ]
  },
  {
   "cell_type": "code",
   "execution_count": null,
   "metadata": {},
   "outputs": [],
   "source": [
    "# stack() // unstack()\n",
    "# stack() : 컬럼의 기준들을 인덱스로 내려서 데이터프레임 변환환\n",
    "group_data3.stack()"
   ]
  },
  {
   "cell_type": "code",
   "execution_count": null,
   "metadata": {},
   "outputs": [],
   "source": [
    "group_data3.unstack()"
   ]
  },
  {
   "cell_type": "code",
   "execution_count": 39,
   "metadata": {},
   "outputs": [
    {
     "data": {
      "text/html": [
       "<div>\n",
       "<style scoped>\n",
       "    .dataframe tbody tr th:only-of-type {\n",
       "        vertical-align: middle;\n",
       "    }\n",
       "\n",
       "    .dataframe tbody tr th {\n",
       "        vertical-align: top;\n",
       "    }\n",
       "\n",
       "    .dataframe thead tr th {\n",
       "        text-align: left;\n",
       "    }\n",
       "\n",
       "    .dataframe thead tr:last-of-type th {\n",
       "        text-align: right;\n",
       "    }\n",
       "</style>\n",
       "<table border=\"1\" class=\"dataframe\">\n",
       "  <thead>\n",
       "    <tr>\n",
       "      <th></th>\n",
       "      <th></th>\n",
       "      <th colspan=\"2\" halign=\"left\">총이윤</th>\n",
       "    </tr>\n",
       "    <tr>\n",
       "      <th></th>\n",
       "      <th></th>\n",
       "      <th>mean</th>\n",
       "      <th>sum</th>\n",
       "    </tr>\n",
       "    <tr>\n",
       "      <th>대륙</th>\n",
       "      <th>국가</th>\n",
       "      <th></th>\n",
       "      <th></th>\n",
       "    </tr>\n",
       "  </thead>\n",
       "  <tbody>\n",
       "    <tr>\n",
       "      <th rowspan=\"5\" valign=\"top\">Asia</th>\n",
       "      <th>Bangladesh</th>\n",
       "      <td>445916.202698</td>\n",
       "      <td>28092720.77</td>\n",
       "    </tr>\n",
       "    <tr>\n",
       "      <th>Bhutan</th>\n",
       "      <td>425603.022143</td>\n",
       "      <td>23833769.24</td>\n",
       "    </tr>\n",
       "    <tr>\n",
       "      <th>Brunei</th>\n",
       "      <td>451033.195745</td>\n",
       "      <td>21198560.20</td>\n",
       "    </tr>\n",
       "    <tr>\n",
       "      <th>Cambodia</th>\n",
       "      <td>359760.043788</td>\n",
       "      <td>23744162.89</td>\n",
       "    </tr>\n",
       "    <tr>\n",
       "      <th>China</th>\n",
       "      <td>457555.846667</td>\n",
       "      <td>24708015.72</td>\n",
       "    </tr>\n",
       "    <tr>\n",
       "      <th>...</th>\n",
       "      <th>...</th>\n",
       "      <td>...</td>\n",
       "      <td>...</td>\n",
       "    </tr>\n",
       "    <tr>\n",
       "      <th rowspan=\"5\" valign=\"top\">Sub-Saharan Africa</th>\n",
       "      <th>The Gambia</th>\n",
       "      <td>416338.071591</td>\n",
       "      <td>18318875.15</td>\n",
       "    </tr>\n",
       "    <tr>\n",
       "      <th>Togo</th>\n",
       "      <td>351342.740000</td>\n",
       "      <td>20026536.18</td>\n",
       "    </tr>\n",
       "    <tr>\n",
       "      <th>Uganda</th>\n",
       "      <td>471648.278364</td>\n",
       "      <td>25940655.31</td>\n",
       "    </tr>\n",
       "    <tr>\n",
       "      <th>Zambia</th>\n",
       "      <td>393957.550000</td>\n",
       "      <td>23637453.00</td>\n",
       "    </tr>\n",
       "    <tr>\n",
       "      <th>Zimbabwe</th>\n",
       "      <td>358892.063729</td>\n",
       "      <td>21174631.76</td>\n",
       "    </tr>\n",
       "  </tbody>\n",
       "</table>\n",
       "<p>185 rows × 2 columns</p>\n",
       "</div>"
      ],
      "text/plain": [
       "                                         총이윤             \n",
       "                                        mean          sum\n",
       "대륙                 국가                                    \n",
       "Asia               Bangladesh  445916.202698  28092720.77\n",
       "                   Bhutan      425603.022143  23833769.24\n",
       "                   Brunei      451033.195745  21198560.20\n",
       "                   Cambodia    359760.043788  23744162.89\n",
       "                   China       457555.846667  24708015.72\n",
       "...                                      ...          ...\n",
       "Sub-Saharan Africa The Gambia  416338.071591  18318875.15\n",
       "                   Togo        351342.740000  20026536.18\n",
       "                   Uganda      471648.278364  25940655.31\n",
       "                   Zambia      393957.550000  23637453.00\n",
       "                   Zimbabwe    358892.063729  21174631.76\n",
       "\n",
       "[185 rows x 2 columns]"
      ]
     },
     "execution_count": 39,
     "metadata": {},
     "output_type": "execute_result"
    }
   ],
   "source": [
    "df.groupby(['대륙', '국가'])[['총이윤']].agg(['mean', 'sum'])"
   ]
  },
  {
   "cell_type": "code",
   "execution_count": null,
   "metadata": {},
   "outputs": [],
   "source": [
    "pd.pivot_table(\n",
    "    df, \n",
    "    index = ['대륙', '국가'], \n",
    "    columns = '상품종류', \n",
    "    values = '총이윤', \n",
    "    aggfunc= ['sum', 'mean']\n",
    ")"
   ]
  },
  {
   "cell_type": "code",
   "execution_count": 47,
   "metadata": {},
   "outputs": [
    {
     "data": {
      "text/html": [
       "<div>\n",
       "<style scoped>\n",
       "    .dataframe tbody tr th:only-of-type {\n",
       "        vertical-align: middle;\n",
       "    }\n",
       "\n",
       "    .dataframe tbody tr th {\n",
       "        vertical-align: top;\n",
       "    }\n",
       "\n",
       "    .dataframe thead th {\n",
       "        text-align: right;\n",
       "    }\n",
       "</style>\n",
       "<table border=\"1\" class=\"dataframe\">\n",
       "  <thead>\n",
       "    <tr style=\"text-align: right;\">\n",
       "      <th></th>\n",
       "      <th>상품종류</th>\n",
       "      <th>Baby Food</th>\n",
       "      <th>Beverages</th>\n",
       "      <th>Cereal</th>\n",
       "      <th>Clothes</th>\n",
       "      <th>Cosmetics</th>\n",
       "      <th>Fruits</th>\n",
       "      <th>Household</th>\n",
       "      <th>Meat</th>\n",
       "      <th>Office Supplies</th>\n",
       "      <th>Personal Care</th>\n",
       "      <th>Snacks</th>\n",
       "      <th>Vegetables</th>\n",
       "    </tr>\n",
       "    <tr>\n",
       "      <th>대륙</th>\n",
       "      <th>국가</th>\n",
       "      <th></th>\n",
       "      <th></th>\n",
       "      <th></th>\n",
       "      <th></th>\n",
       "      <th></th>\n",
       "      <th></th>\n",
       "      <th></th>\n",
       "      <th></th>\n",
       "      <th></th>\n",
       "      <th></th>\n",
       "      <th></th>\n",
       "      <th></th>\n",
       "    </tr>\n",
       "  </thead>\n",
       "  <tbody>\n",
       "    <tr>\n",
       "      <th rowspan=\"5\" valign=\"top\">Asia</th>\n",
       "      <th>Bangladesh</th>\n",
       "      <td>616571.52</td>\n",
       "      <td>61997.94</td>\n",
       "      <td>6008793.93</td>\n",
       "      <td>1159837.92</td>\n",
       "      <td>4524966.75</td>\n",
       "      <td>56837.44</td>\n",
       "      <td>5182708.56</td>\n",
       "      <td>1794535.6</td>\n",
       "      <td>4340222.50</td>\n",
       "      <td>732654.16</td>\n",
       "      <td>1686677.46</td>\n",
       "      <td>1926916.99</td>\n",
       "    </tr>\n",
       "    <tr>\n",
       "      <th>Bhutan</th>\n",
       "      <td>2604036.90</td>\n",
       "      <td>108179.28</td>\n",
       "      <td>2794925.91</td>\n",
       "      <td>3436992.00</td>\n",
       "      <td>4171315.17</td>\n",
       "      <td>66246.08</td>\n",
       "      <td>5093711.55</td>\n",
       "      <td>887343.6</td>\n",
       "      <td>1150642.50</td>\n",
       "      <td>461580.14</td>\n",
       "      <td>1072031.88</td>\n",
       "      <td>1986764.23</td>\n",
       "    </tr>\n",
       "    <tr>\n",
       "      <th>Brunei</th>\n",
       "      <td>2404072.94</td>\n",
       "      <td>260331.84</td>\n",
       "      <td>2471040.87</td>\n",
       "      <td>1625006.88</td>\n",
       "      <td>2356807.85</td>\n",
       "      <td>9331.52</td>\n",
       "      <td>4576302.49</td>\n",
       "      <td>1316458.0</td>\n",
       "      <td>3895696.25</td>\n",
       "      <td>19872.58</td>\n",
       "      <td>1051795.50</td>\n",
       "      <td>1211843.48</td>\n",
       "    </tr>\n",
       "    <tr>\n",
       "      <th>Cambodia</th>\n",
       "      <td>1511424.62</td>\n",
       "      <td>385142.04</td>\n",
       "      <td>2237517.63</td>\n",
       "      <td>2781540.00</td>\n",
       "      <td>4737957.50</td>\n",
       "      <td>17342.36</td>\n",
       "      <td>2669081.65</td>\n",
       "      <td>2238407.6</td>\n",
       "      <td>3767300.00</td>\n",
       "      <td>1055276.60</td>\n",
       "      <td>1114599.96</td>\n",
       "      <td>1228572.93</td>\n",
       "    </tr>\n",
       "    <tr>\n",
       "      <th>China</th>\n",
       "      <td>4285517.16</td>\n",
       "      <td>486759.78</td>\n",
       "      <td>1424438.61</td>\n",
       "      <td>1131049.44</td>\n",
       "      <td>8310812.13</td>\n",
       "      <td>32891.68</td>\n",
       "      <td>2180675.34</td>\n",
       "      <td>464635.6</td>\n",
       "      <td>3854412.50</td>\n",
       "      <td>898952.32</td>\n",
       "      <td>544838.34</td>\n",
       "      <td>1093032.82</td>\n",
       "    </tr>\n",
       "    <tr>\n",
       "      <th>...</th>\n",
       "      <th>...</th>\n",
       "      <td>...</td>\n",
       "      <td>...</td>\n",
       "      <td>...</td>\n",
       "      <td>...</td>\n",
       "      <td>...</td>\n",
       "      <td>...</td>\n",
       "      <td>...</td>\n",
       "      <td>...</td>\n",
       "      <td>...</td>\n",
       "      <td>...</td>\n",
       "      <td>...</td>\n",
       "      <td>...</td>\n",
       "    </tr>\n",
       "    <tr>\n",
       "      <th rowspan=\"5\" valign=\"top\">Sub-Saharan Africa</th>\n",
       "      <th>The Gambia</th>\n",
       "      <td>3548545.48</td>\n",
       "      <td>198600.12</td>\n",
       "      <td>1530126.48</td>\n",
       "      <td>1371051.36</td>\n",
       "      <td>2511204.41</td>\n",
       "      <td>64686.81</td>\n",
       "      <td>4174241.51</td>\n",
       "      <td>776146.8</td>\n",
       "      <td>2522853.75</td>\n",
       "      <td>353847.20</td>\n",
       "      <td>577370.94</td>\n",
       "      <td>690200.29</td>\n",
       "    </tr>\n",
       "    <tr>\n",
       "      <th>Togo</th>\n",
       "      <td>2473188.00</td>\n",
       "      <td>544921.02</td>\n",
       "      <td>3047496.00</td>\n",
       "      <td>1638740.16</td>\n",
       "      <td>3585547.14</td>\n",
       "      <td>8360.29</td>\n",
       "      <td>3278470.86</td>\n",
       "      <td>1001858.0</td>\n",
       "      <td>3025960.00</td>\n",
       "      <td>62800.36</td>\n",
       "      <td>534527.16</td>\n",
       "      <td>824667.19</td>\n",
       "    </tr>\n",
       "    <tr>\n",
       "      <th>Uganda</th>\n",
       "      <td>2967250.44</td>\n",
       "      <td>696259.26</td>\n",
       "      <td>3426572.61</td>\n",
       "      <td>1613256.48</td>\n",
       "      <td>7794244.36</td>\n",
       "      <td>64412.07</td>\n",
       "      <td>2980488.32</td>\n",
       "      <td>985842.0</td>\n",
       "      <td>3830930.00</td>\n",
       "      <td>295407.28</td>\n",
       "      <td>117393.06</td>\n",
       "      <td>1168599.43</td>\n",
       "    </tr>\n",
       "    <tr>\n",
       "      <th>Zambia</th>\n",
       "      <td>4973791.96</td>\n",
       "      <td>153859.50</td>\n",
       "      <td>1939057.92</td>\n",
       "      <td>1195750.08</td>\n",
       "      <td>3845135.05</td>\n",
       "      <td>84123.46</td>\n",
       "      <td>4032873.82</td>\n",
       "      <td>1366279.2</td>\n",
       "      <td>3908573.75</td>\n",
       "      <td>588133.14</td>\n",
       "      <td>1549875.12</td>\n",
       "      <td>NaN</td>\n",
       "    </tr>\n",
       "    <tr>\n",
       "      <th>Zimbabwe</th>\n",
       "      <td>2146017.82</td>\n",
       "      <td>488607.66</td>\n",
       "      <td>3068580.42</td>\n",
       "      <td>2370496.32</td>\n",
       "      <td>4989895.13</td>\n",
       "      <td>156295.73</td>\n",
       "      <td>1695086.44</td>\n",
       "      <td>551408.0</td>\n",
       "      <td>2202683.75</td>\n",
       "      <td>463058.68</td>\n",
       "      <td>899553.96</td>\n",
       "      <td>2142947.85</td>\n",
       "    </tr>\n",
       "  </tbody>\n",
       "</table>\n",
       "<p>185 rows × 12 columns</p>\n",
       "</div>"
      ],
      "text/plain": [
       "상품종류                            Baby Food  Beverages      Cereal     Clothes  \\\n",
       "대륙                 국가                                                          \n",
       "Asia               Bangladesh   616571.52   61997.94  6008793.93  1159837.92   \n",
       "                   Bhutan      2604036.90  108179.28  2794925.91  3436992.00   \n",
       "                   Brunei      2404072.94  260331.84  2471040.87  1625006.88   \n",
       "                   Cambodia    1511424.62  385142.04  2237517.63  2781540.00   \n",
       "                   China       4285517.16  486759.78  1424438.61  1131049.44   \n",
       "...                                   ...        ...         ...         ...   \n",
       "Sub-Saharan Africa The Gambia  3548545.48  198600.12  1530126.48  1371051.36   \n",
       "                   Togo        2473188.00  544921.02  3047496.00  1638740.16   \n",
       "                   Uganda      2967250.44  696259.26  3426572.61  1613256.48   \n",
       "                   Zambia      4973791.96  153859.50  1939057.92  1195750.08   \n",
       "                   Zimbabwe    2146017.82  488607.66  3068580.42  2370496.32   \n",
       "\n",
       "상품종류                            Cosmetics     Fruits   Household       Meat  \\\n",
       "대륙                 국가                                                         \n",
       "Asia               Bangladesh  4524966.75   56837.44  5182708.56  1794535.6   \n",
       "                   Bhutan      4171315.17   66246.08  5093711.55   887343.6   \n",
       "                   Brunei      2356807.85    9331.52  4576302.49  1316458.0   \n",
       "                   Cambodia    4737957.50   17342.36  2669081.65  2238407.6   \n",
       "                   China       8310812.13   32891.68  2180675.34   464635.6   \n",
       "...                                   ...        ...         ...        ...   \n",
       "Sub-Saharan Africa The Gambia  2511204.41   64686.81  4174241.51   776146.8   \n",
       "                   Togo        3585547.14    8360.29  3278470.86  1001858.0   \n",
       "                   Uganda      7794244.36   64412.07  2980488.32   985842.0   \n",
       "                   Zambia      3845135.05   84123.46  4032873.82  1366279.2   \n",
       "                   Zimbabwe    4989895.13  156295.73  1695086.44   551408.0   \n",
       "\n",
       "상품종류                           Office Supplies  Personal Care      Snacks  \\\n",
       "대륙                 국가                                                       \n",
       "Asia               Bangladesh       4340222.50      732654.16  1686677.46   \n",
       "                   Bhutan           1150642.50      461580.14  1072031.88   \n",
       "                   Brunei           3895696.25       19872.58  1051795.50   \n",
       "                   Cambodia         3767300.00     1055276.60  1114599.96   \n",
       "                   China            3854412.50      898952.32   544838.34   \n",
       "...                                        ...            ...         ...   \n",
       "Sub-Saharan Africa The Gambia       2522853.75      353847.20   577370.94   \n",
       "                   Togo             3025960.00       62800.36   534527.16   \n",
       "                   Uganda           3830930.00      295407.28   117393.06   \n",
       "                   Zambia           3908573.75      588133.14  1549875.12   \n",
       "                   Zimbabwe         2202683.75      463058.68   899553.96   \n",
       "\n",
       "상품종류                           Vegetables  \n",
       "대륙                 국가                      \n",
       "Asia               Bangladesh  1926916.99  \n",
       "                   Bhutan      1986764.23  \n",
       "                   Brunei      1211843.48  \n",
       "                   Cambodia    1228572.93  \n",
       "                   China       1093032.82  \n",
       "...                                   ...  \n",
       "Sub-Saharan Africa The Gambia   690200.29  \n",
       "                   Togo         824667.19  \n",
       "                   Uganda      1168599.43  \n",
       "                   Zambia             NaN  \n",
       "                   Zimbabwe    2142947.85  \n",
       "\n",
       "[185 rows x 12 columns]"
      ]
     },
     "execution_count": 47,
     "metadata": {},
     "output_type": "execute_result"
    }
   ],
   "source": [
    "df.pivot_table(\n",
    "    index= ['대륙', '국가'], \n",
    "    columns='상품종류', \n",
    "    values = '총이윤', \n",
    "    aggfunc = 'sum'\n",
    ")"
   ]
  },
  {
   "cell_type": "code",
   "execution_count": null,
   "metadata": {},
   "outputs": [],
   "source": [
    "df.groupby(['대륙', '국가', '상품종류'])[['총이윤']].sum().unstack()"
   ]
  },
  {
   "cell_type": "code",
   "execution_count": 52,
   "metadata": {},
   "outputs": [],
   "source": [
    "pivot_data = df.pivot_table(\n",
    "    index = ['대륙', '국가'], \n",
    "    columns= '상품종류', \n",
    "    values= '총이윤', \n",
    "    aggfunc= ['sum', 'mean']\n",
    ")"
   ]
  },
  {
   "cell_type": "code",
   "execution_count": 62,
   "metadata": {},
   "outputs": [
    {
     "data": {
      "text/plain": [
       "985197.6"
      ]
     },
     "execution_count": 62,
     "metadata": {},
     "output_type": "execute_result"
    }
   ],
   "source": [
    "# pivot_data에서 South Korea의 Clothes 상품의 총이윤 합계의 값을 출력\n",
    "pivot_data.loc['Asia'].loc['South Korea'].loc['sum'].loc['Clothes']"
   ]
  },
  {
   "cell_type": "code",
   "execution_count": 66,
   "metadata": {},
   "outputs": [
    {
     "data": {
      "text/plain": [
       "985197.6"
      ]
     },
     "execution_count": 66,
     "metadata": {},
     "output_type": "execute_result"
    }
   ],
   "source": [
    "pivot_data['sum']['Clothes']['Asia']['South Korea']"
   ]
  },
  {
   "cell_type": "code",
   "execution_count": 71,
   "metadata": {},
   "outputs": [
    {
     "data": {
      "text/plain": [
       "985197.6"
      ]
     },
     "execution_count": 71,
     "metadata": {},
     "output_type": "execute_result"
    }
   ],
   "source": [
    "pivot_data.loc[ ('Asia', 'South Korea'), ('sum', 'Clothes') ]"
   ]
  }
 ],
 "metadata": {
  "kernelspec": {
   "display_name": "Python 3",
   "language": "python",
   "name": "python3"
  },
  "language_info": {
   "codemirror_mode": {
    "name": "ipython",
    "version": 3
   },
   "file_extension": ".py",
   "mimetype": "text/x-python",
   "name": "python",
   "nbconvert_exporter": "python",
   "pygments_lexer": "ipython3",
   "version": "3.11.1"
  }
 },
 "nbformat": 4,
 "nbformat_minor": 2
}
