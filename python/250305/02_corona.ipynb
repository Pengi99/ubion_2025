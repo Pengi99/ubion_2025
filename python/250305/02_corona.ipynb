{
 "cells": [
  {
   "cell_type": "markdown",
   "metadata": {},
   "source": [
    "#### corona 데이터를 확인"
   ]
  },
  {
   "cell_type": "code",
   "execution_count": null,
   "metadata": {},
   "outputs": [],
   "source": [
    "import pandas as pd"
   ]
  },
  {
   "cell_type": "code",
   "execution_count": null,
   "metadata": {},
   "outputs": [],
   "source": [
    "# 외부의 데이터파일 로드 \n",
    "corona = pd.read_csv(\"../../csv/corona.csv\")"
   ]
  },
  {
   "cell_type": "code",
   "execution_count": null,
   "metadata": {},
   "outputs": [],
   "source": [
    "# 데이터프레임의 정보를 출력 \n",
    "corona.info()"
   ]
  },
  {
   "cell_type": "code",
   "execution_count": null,
   "metadata": {},
   "outputs": [],
   "source": [
    "# 결측치의 개수를 컬럼을 기준으로 확인 \n",
    "corona.isna().sum()"
   ]
  },
  {
   "cell_type": "code",
   "execution_count": null,
   "metadata": {},
   "outputs": [],
   "source": [
    "# 결측치가 포함되어있는 인덱스를 확인 \n",
    "flag =corona.isna().any(axis='columns')"
   ]
  },
  {
   "cell_type": "code",
   "execution_count": null,
   "metadata": {},
   "outputs": [],
   "source": [
    "flag2 = corona.notna().any(axis=1)"
   ]
  },
  {
   "cell_type": "code",
   "execution_count": null,
   "metadata": {},
   "outputs": [],
   "source": [
    "# 결측치가 포함되어있는 데이터를 확인 \n",
    "corona.loc[flag]"
   ]
  },
  {
   "cell_type": "code",
   "execution_count": null,
   "metadata": {},
   "outputs": [],
   "source": [
    "# 결측치가 포함되어있지 않은 데이터를 확인 \n",
    "corona.loc[~flag]"
   ]
  },
  {
   "cell_type": "code",
   "execution_count": null,
   "metadata": {},
   "outputs": [],
   "source": [
    "corona.loc[-flag]"
   ]
  },
  {
   "cell_type": "code",
   "execution_count": null,
   "metadata": {},
   "outputs": [],
   "source": [
    "corona.head()"
   ]
  },
  {
   "cell_type": "code",
   "execution_count": null,
   "metadata": {},
   "outputs": [],
   "source": [
    "# 특정 컬럼을 제거\n",
    "# case1 (loc)\n",
    "# 인덱스의 조건 : 전체\n",
    "# 컬럼의 조건 : createDt부터 마지막까지\n",
    "corona.loc[:, 'createDt':]\n"
   ]
  },
  {
   "cell_type": "code",
   "execution_count": null,
   "metadata": {},
   "outputs": [],
   "source": [
    "# case2 (iloc)\n",
    "# 인덱스의 위치 :  전체\n",
    "# 컬럼의 위치 : 2번째(index = 1)부터 마지막까지\n",
    "corona.iloc[:, 1:]"
   ]
  },
  {
   "cell_type": "code",
   "execution_count": 27,
   "metadata": {},
   "outputs": [],
   "source": [
    "# case3 (drop() 함수 이용)\n",
    "# drop(조건, axis = {0 | 1, 'rows' | 'columns'}, inplace = bool)\n",
    "# 조건에 따라 데이터를 제거하는 함수 \n",
    "# axis 행을 지울것인가? 열을 지울것인가?\n",
    "# inplace 변경된 데이터를 저장할것인가?\n",
    "df = corona.drop(\n",
    "    [\"Unnamed: 0\", \"seq\"], \n",
    "    axis = 1\n",
    ")"
   ]
  },
  {
   "cell_type": "code",
   "execution_count": null,
   "metadata": {},
   "outputs": [],
   "source": [
    "df.head()"
   ]
  },
  {
   "cell_type": "code",
   "execution_count": 29,
   "metadata": {},
   "outputs": [],
   "source": [
    "# df의 복사본을 생성 \n",
    "df2 = df.copy()"
   ]
  },
  {
   "cell_type": "code",
   "execution_count": 31,
   "metadata": {},
   "outputs": [],
   "source": [
    "# 컬럼의 이름을 변경 \n",
    "df.columns = [\"등록일시\", '총사망자', '총확진자', '기준일', '기준시간', \n",
    "            '수정일시', '누적의심자', '누적확진율율']"
   ]
  },
  {
   "cell_type": "code",
   "execution_count": 32,
   "metadata": {},
   "outputs": [
    {
     "data": {
      "text/html": [
       "<div>\n",
       "<style scoped>\n",
       "    .dataframe tbody tr th:only-of-type {\n",
       "        vertical-align: middle;\n",
       "    }\n",
       "\n",
       "    .dataframe tbody tr th {\n",
       "        vertical-align: top;\n",
       "    }\n",
       "\n",
       "    .dataframe thead th {\n",
       "        text-align: right;\n",
       "    }\n",
       "</style>\n",
       "<table border=\"1\" class=\"dataframe\">\n",
       "  <thead>\n",
       "    <tr style=\"text-align: right;\">\n",
       "      <th></th>\n",
       "      <th>등록일시</th>\n",
       "      <th>총사망자</th>\n",
       "      <th>총확진자</th>\n",
       "      <th>기준일</th>\n",
       "      <th>기준시간</th>\n",
       "      <th>수정일시</th>\n",
       "      <th>누적의심자</th>\n",
       "      <th>누적확진율율</th>\n",
       "    </tr>\n",
       "  </thead>\n",
       "  <tbody>\n",
       "    <tr>\n",
       "      <th>0</th>\n",
       "      <td>2022-06-08 09:09:05.982</td>\n",
       "      <td>24305</td>\n",
       "      <td>18188200</td>\n",
       "      <td>20220608</td>\n",
       "      <td>00:00</td>\n",
       "      <td>NaN</td>\n",
       "      <td>NaN</td>\n",
       "      <td>NaN</td>\n",
       "    </tr>\n",
       "  </tbody>\n",
       "</table>\n",
       "</div>"
      ],
      "text/plain": [
       "                      등록일시   총사망자      총확진자       기준일   기준시간 수정일시  누적의심자  \\\n",
       "0  2022-06-08 09:09:05.982  24305  18188200  20220608  00:00  NaN    NaN   \n",
       "\n",
       "   누적확진율율  \n",
       "0     NaN  "
      ]
     },
     "execution_count": 32,
     "metadata": {},
     "output_type": "execute_result"
    }
   ],
   "source": [
    "df.head(1)"
   ]
  },
  {
   "cell_type": "code",
   "execution_count": 34,
   "metadata": {},
   "outputs": [
    {
     "data": {
      "text/plain": [
       "Index(['createDt', 'deathCnt', 'decideCnt', 'stateDt', 'stateTime', 'updateDt',\n",
       "       'accExamCnt', 'accDefRate'],\n",
       "      dtype='object')"
      ]
     },
     "execution_count": 34,
     "metadata": {},
     "output_type": "execute_result"
    }
   ],
   "source": [
    "df2.columns"
   ]
  },
  {
   "cell_type": "code",
   "execution_count": null,
   "metadata": {},
   "outputs": [],
   "source": [
    "# case2 (rename() 함수를 이용)\n",
    "df2.rename(\n",
    "    columns = {\n",
    "        'createDt' : \"등록일시\", \n",
    "        'deathCnt' : '총사망자', \n",
    "        'decideCnt' : '총확진자', \n",
    "        'stateDt' : '기준일', \n",
    "        'stateTime' : '기준시간', \n",
    "        'updateDt' : '수정일시', \n",
    "        'accExamCnt' : '누적의심자', \n",
    "        'accDefRate' : '누적확진율'\n",
    "    }\n",
    ")"
   ]
  },
  {
   "cell_type": "code",
   "execution_count": 36,
   "metadata": {},
   "outputs": [
    {
     "data": {
      "text/html": [
       "<div>\n",
       "<style scoped>\n",
       "    .dataframe tbody tr th:only-of-type {\n",
       "        vertical-align: middle;\n",
       "    }\n",
       "\n",
       "    .dataframe tbody tr th {\n",
       "        vertical-align: top;\n",
       "    }\n",
       "\n",
       "    .dataframe thead th {\n",
       "        text-align: right;\n",
       "    }\n",
       "</style>\n",
       "<table border=\"1\" class=\"dataframe\">\n",
       "  <thead>\n",
       "    <tr style=\"text-align: right;\">\n",
       "      <th></th>\n",
       "      <th>등록일시</th>\n",
       "      <th>총사망자</th>\n",
       "      <th>총확진자</th>\n",
       "      <th>기준일</th>\n",
       "      <th>기준시간</th>\n",
       "      <th>수정일시</th>\n",
       "      <th>누적의심자</th>\n",
       "      <th>누적확진율율</th>\n",
       "    </tr>\n",
       "  </thead>\n",
       "  <tbody>\n",
       "    <tr>\n",
       "      <th>0</th>\n",
       "      <td>2022-06-08 09:09:05.982</td>\n",
       "      <td>24305</td>\n",
       "      <td>18188200</td>\n",
       "      <td>20220608</td>\n",
       "      <td>00:00</td>\n",
       "      <td>NaN</td>\n",
       "      <td>NaN</td>\n",
       "      <td>NaN</td>\n",
       "    </tr>\n",
       "    <tr>\n",
       "      <th>1</th>\n",
       "      <td>2022-06-07 09:09:00.897</td>\n",
       "      <td>24299</td>\n",
       "      <td>18174842</td>\n",
       "      <td>20220607</td>\n",
       "      <td>00:00</td>\n",
       "      <td>2022-06-08 09:10:36.846</td>\n",
       "      <td>NaN</td>\n",
       "      <td>NaN</td>\n",
       "    </tr>\n",
       "    <tr>\n",
       "      <th>2</th>\n",
       "      <td>2022-06-06 09:00:06.734</td>\n",
       "      <td>24279</td>\n",
       "      <td>18168670</td>\n",
       "      <td>20220606</td>\n",
       "      <td>00:00</td>\n",
       "      <td>2022-06-08 09:10:50.441</td>\n",
       "      <td>NaN</td>\n",
       "      <td>NaN</td>\n",
       "    </tr>\n",
       "    <tr>\n",
       "      <th>3</th>\n",
       "      <td>2022-06-05 08:53:19.426</td>\n",
       "      <td>24258</td>\n",
       "      <td>18163648</td>\n",
       "      <td>20220605</td>\n",
       "      <td>00:00</td>\n",
       "      <td>2022-06-08 09:11:04.758</td>\n",
       "      <td>NaN</td>\n",
       "      <td>NaN</td>\n",
       "    </tr>\n",
       "    <tr>\n",
       "      <th>4</th>\n",
       "      <td>2022-06-04 08:56:49.219</td>\n",
       "      <td>24238</td>\n",
       "      <td>18153814</td>\n",
       "      <td>20220604</td>\n",
       "      <td>00:00</td>\n",
       "      <td>2022-06-08 09:11:26.303</td>\n",
       "      <td>NaN</td>\n",
       "      <td>NaN</td>\n",
       "    </tr>\n",
       "  </tbody>\n",
       "</table>\n",
       "</div>"
      ],
      "text/plain": [
       "                      등록일시   총사망자      총확진자       기준일   기준시간  \\\n",
       "0  2022-06-08 09:09:05.982  24305  18188200  20220608  00:00   \n",
       "1  2022-06-07 09:09:00.897  24299  18174842  20220607  00:00   \n",
       "2  2022-06-06 09:00:06.734  24279  18168670  20220606  00:00   \n",
       "3  2022-06-05 08:53:19.426  24258  18163648  20220605  00:00   \n",
       "4  2022-06-04 08:56:49.219  24238  18153814  20220604  00:00   \n",
       "\n",
       "                      수정일시  누적의심자  누적확진율율  \n",
       "0                      NaN    NaN     NaN  \n",
       "1  2022-06-08 09:10:36.846    NaN     NaN  \n",
       "2  2022-06-08 09:10:50.441    NaN     NaN  \n",
       "3  2022-06-08 09:11:04.758    NaN     NaN  \n",
       "4  2022-06-08 09:11:26.303    NaN     NaN  "
      ]
     },
     "execution_count": 36,
     "metadata": {},
     "output_type": "execute_result"
    }
   ],
   "source": [
    "df.head()"
   ]
  },
  {
   "cell_type": "code",
   "execution_count": null,
   "metadata": {},
   "outputs": [],
   "source": [
    "# 누적의심자가 결측치인 데이터를 출력 \n",
    "df.loc[ df['누적의심자'].isna() ]"
   ]
  },
  {
   "cell_type": "code",
   "execution_count": 42,
   "metadata": {},
   "outputs": [
    {
     "data": {
      "text/html": [
       "<div>\n",
       "<style scoped>\n",
       "    .dataframe tbody tr th:only-of-type {\n",
       "        vertical-align: middle;\n",
       "    }\n",
       "\n",
       "    .dataframe tbody tr th {\n",
       "        vertical-align: top;\n",
       "    }\n",
       "\n",
       "    .dataframe thead th {\n",
       "        text-align: right;\n",
       "    }\n",
       "</style>\n",
       "<table border=\"1\" class=\"dataframe\">\n",
       "  <thead>\n",
       "    <tr style=\"text-align: right;\">\n",
       "      <th></th>\n",
       "      <th>등록일시</th>\n",
       "      <th>총사망자</th>\n",
       "      <th>총확진자</th>\n",
       "      <th>기준일</th>\n",
       "      <th>기준시간</th>\n",
       "      <th>수정일시</th>\n",
       "      <th>누적의심자</th>\n",
       "      <th>누적확진율율</th>\n",
       "    </tr>\n",
       "  </thead>\n",
       "  <tbody>\n",
       "    <tr>\n",
       "      <th>125</th>\n",
       "      <td>2022-02-03 08:46:14.856</td>\n",
       "      <td>6812</td>\n",
       "      <td>907200</td>\n",
       "      <td>20220203</td>\n",
       "      <td>00:00</td>\n",
       "      <td>2022-02-09 13:04:42.741</td>\n",
       "      <td>NaN</td>\n",
       "      <td>NaN</td>\n",
       "    </tr>\n",
       "    <tr>\n",
       "      <th>126</th>\n",
       "      <td>2022-02-02 09:04:49.92</td>\n",
       "      <td>6787</td>\n",
       "      <td>884294</td>\n",
       "      <td>20220202</td>\n",
       "      <td>00:00</td>\n",
       "      <td>2022-02-09 13:04:29.013</td>\n",
       "      <td>NaN</td>\n",
       "      <td>NaN</td>\n",
       "    </tr>\n",
       "    <tr>\n",
       "      <th>127</th>\n",
       "      <td>2022-02-01 09:06:24.411</td>\n",
       "      <td>6772</td>\n",
       "      <td>864026</td>\n",
       "      <td>20220201</td>\n",
       "      <td>00:00</td>\n",
       "      <td>2022-02-09 13:04:21.424</td>\n",
       "      <td>NaN</td>\n",
       "      <td>NaN</td>\n",
       "    </tr>\n",
       "    <tr>\n",
       "      <th>128</th>\n",
       "      <td>2022-01-31 09:22:37.347</td>\n",
       "      <td>6755</td>\n",
       "      <td>845688</td>\n",
       "      <td>20220131</td>\n",
       "      <td>00:00</td>\n",
       "      <td>2022-02-07 09:06:04.861</td>\n",
       "      <td>21518073.0</td>\n",
       "      <td>NaN</td>\n",
       "    </tr>\n",
       "    <tr>\n",
       "      <th>129</th>\n",
       "      <td>2022-01-30 09:13:00.269</td>\n",
       "      <td>6732</td>\n",
       "      <td>828611</td>\n",
       "      <td>20220130</td>\n",
       "      <td>00:00</td>\n",
       "      <td>2022-02-07 09:05:54.937</td>\n",
       "      <td>21448119.0</td>\n",
       "      <td>NaN</td>\n",
       "    </tr>\n",
       "  </tbody>\n",
       "</table>\n",
       "</div>"
      ],
      "text/plain": [
       "                        등록일시  총사망자    총확진자       기준일   기준시간  \\\n",
       "125  2022-02-03 08:46:14.856  6812  907200  20220203  00:00   \n",
       "126   2022-02-02 09:04:49.92  6787  884294  20220202  00:00   \n",
       "127  2022-02-01 09:06:24.411  6772  864026  20220201  00:00   \n",
       "128  2022-01-31 09:22:37.347  6755  845688  20220131  00:00   \n",
       "129  2022-01-30 09:13:00.269  6732  828611  20220130  00:00   \n",
       "\n",
       "                        수정일시       누적의심자  누적확진율율  \n",
       "125  2022-02-09 13:04:42.741         NaN     NaN  \n",
       "126  2022-02-09 13:04:29.013         NaN     NaN  \n",
       "127  2022-02-09 13:04:21.424         NaN     NaN  \n",
       "128  2022-02-07 09:06:04.861  21518073.0     NaN  \n",
       "129  2022-02-07 09:05:54.937  21448119.0     NaN  "
      ]
     },
     "execution_count": 42,
     "metadata": {},
     "output_type": "execute_result"
    }
   ],
   "source": [
    "# 누적의심자에서 결측치가 시작되는 지점부터 위 아래 2개씩의 데이터를 확인\n",
    "df.loc[125:129]"
   ]
  },
  {
   "cell_type": "code",
   "execution_count": 44,
   "metadata": {},
   "outputs": [],
   "source": [
    "# 데이터프레임의 정렬을 변경 \n",
    "# 오름차순 / 내림차순\n",
    "# sort_index() : 인덱스의 값을 기준으로 오름/내림\n",
    "# sort_values(조건) : 조건? 컬럼의 이름\n",
    "# ascending = bool 매개변수 존재 (True : 오름차순, False : 내림차순)\n",
    "df.sort_values(\n",
    "    ['등록일시'], \n",
    "    inplace = True\n",
    ")"
   ]
  },
  {
   "cell_type": "code",
   "execution_count": null,
   "metadata": {},
   "outputs": [],
   "source": [
    "df.head(2)"
   ]
  },
  {
   "cell_type": "code",
   "execution_count": 49,
   "metadata": {},
   "outputs": [
    {
     "data": {
      "text/html": [
       "<div>\n",
       "<style scoped>\n",
       "    .dataframe tbody tr th:only-of-type {\n",
       "        vertical-align: middle;\n",
       "    }\n",
       "\n",
       "    .dataframe tbody tr th {\n",
       "        vertical-align: top;\n",
       "    }\n",
       "\n",
       "    .dataframe thead th {\n",
       "        text-align: right;\n",
       "    }\n",
       "</style>\n",
       "<table border=\"1\" class=\"dataframe\">\n",
       "  <thead>\n",
       "    <tr style=\"text-align: right;\">\n",
       "      <th></th>\n",
       "      <th>등록일시</th>\n",
       "      <th>총사망자</th>\n",
       "      <th>총확진자</th>\n",
       "      <th>기준일</th>\n",
       "      <th>기준시간</th>\n",
       "      <th>수정일시</th>\n",
       "      <th>누적의심자</th>\n",
       "      <th>누적확진율율</th>\n",
       "    </tr>\n",
       "  </thead>\n",
       "  <tbody>\n",
       "    <tr>\n",
       "      <th>0</th>\n",
       "      <td>2020-03-10 00:00:00.000</td>\n",
       "      <td>54</td>\n",
       "      <td>7513</td>\n",
       "      <td>20200310</td>\n",
       "      <td>00:00</td>\n",
       "      <td>2021-10-07 10:30:51.51</td>\n",
       "      <td>210144.0</td>\n",
       "      <td>3.919308</td>\n",
       "    </tr>\n",
       "    <tr>\n",
       "      <th>1</th>\n",
       "      <td>2020-03-11 00:00:00.000</td>\n",
       "      <td>60</td>\n",
       "      <td>7755</td>\n",
       "      <td>20200311</td>\n",
       "      <td>00:00</td>\n",
       "      <td>2021-10-07 10:30:51.51</td>\n",
       "      <td>222395.0</td>\n",
       "      <td>3.804175</td>\n",
       "    </tr>\n",
       "    <tr>\n",
       "      <th>2</th>\n",
       "      <td>2020-03-12 00:00:00.000</td>\n",
       "      <td>66</td>\n",
       "      <td>7869</td>\n",
       "      <td>20200312</td>\n",
       "      <td>00:00</td>\n",
       "      <td>2021-10-07 10:30:51.51</td>\n",
       "      <td>234998.0</td>\n",
       "      <td>3.621744</td>\n",
       "    </tr>\n",
       "    <tr>\n",
       "      <th>3</th>\n",
       "      <td>2020-03-13 00:00:00.000</td>\n",
       "      <td>67</td>\n",
       "      <td>7979</td>\n",
       "      <td>20200313</td>\n",
       "      <td>00:00</td>\n",
       "      <td>2021-10-07 10:30:51.51</td>\n",
       "      <td>248647.0</td>\n",
       "      <td>3.458499</td>\n",
       "    </tr>\n",
       "    <tr>\n",
       "      <th>4</th>\n",
       "      <td>2020-03-14 00:00:00.000</td>\n",
       "      <td>72</td>\n",
       "      <td>8086</td>\n",
       "      <td>20200314</td>\n",
       "      <td>00:00</td>\n",
       "      <td>2021-10-07 10:30:51.51</td>\n",
       "      <td>261335.0</td>\n",
       "      <td>3.318000</td>\n",
       "    </tr>\n",
       "    <tr>\n",
       "      <th>...</th>\n",
       "      <td>...</td>\n",
       "      <td>...</td>\n",
       "      <td>...</td>\n",
       "      <td>...</td>\n",
       "      <td>...</td>\n",
       "      <td>...</td>\n",
       "      <td>...</td>\n",
       "      <td>...</td>\n",
       "    </tr>\n",
       "    <tr>\n",
       "      <th>815</th>\n",
       "      <td>2022-06-04 08:56:49.219</td>\n",
       "      <td>24238</td>\n",
       "      <td>18153814</td>\n",
       "      <td>20220604</td>\n",
       "      <td>00:00</td>\n",
       "      <td>2022-06-08 09:11:26.303</td>\n",
       "      <td>NaN</td>\n",
       "      <td>NaN</td>\n",
       "    </tr>\n",
       "    <tr>\n",
       "      <th>816</th>\n",
       "      <td>2022-06-05 08:53:19.426</td>\n",
       "      <td>24258</td>\n",
       "      <td>18163648</td>\n",
       "      <td>20220605</td>\n",
       "      <td>00:00</td>\n",
       "      <td>2022-06-08 09:11:04.758</td>\n",
       "      <td>NaN</td>\n",
       "      <td>NaN</td>\n",
       "    </tr>\n",
       "    <tr>\n",
       "      <th>817</th>\n",
       "      <td>2022-06-06 09:00:06.734</td>\n",
       "      <td>24279</td>\n",
       "      <td>18168670</td>\n",
       "      <td>20220606</td>\n",
       "      <td>00:00</td>\n",
       "      <td>2022-06-08 09:10:50.441</td>\n",
       "      <td>NaN</td>\n",
       "      <td>NaN</td>\n",
       "    </tr>\n",
       "    <tr>\n",
       "      <th>818</th>\n",
       "      <td>2022-06-07 09:09:00.897</td>\n",
       "      <td>24299</td>\n",
       "      <td>18174842</td>\n",
       "      <td>20220607</td>\n",
       "      <td>00:00</td>\n",
       "      <td>2022-06-08 09:10:36.846</td>\n",
       "      <td>NaN</td>\n",
       "      <td>NaN</td>\n",
       "    </tr>\n",
       "    <tr>\n",
       "      <th>819</th>\n",
       "      <td>2022-06-08 09:09:05.982</td>\n",
       "      <td>24305</td>\n",
       "      <td>18188200</td>\n",
       "      <td>20220608</td>\n",
       "      <td>00:00</td>\n",
       "      <td>NaN</td>\n",
       "      <td>NaN</td>\n",
       "      <td>NaN</td>\n",
       "    </tr>\n",
       "  </tbody>\n",
       "</table>\n",
       "<p>820 rows × 8 columns</p>\n",
       "</div>"
      ],
      "text/plain": [
       "                        등록일시   총사망자      총확진자       기준일   기준시간  \\\n",
       "0    2020-03-10 00:00:00.000     54      7513  20200310  00:00   \n",
       "1    2020-03-11 00:00:00.000     60      7755  20200311  00:00   \n",
       "2    2020-03-12 00:00:00.000     66      7869  20200312  00:00   \n",
       "3    2020-03-13 00:00:00.000     67      7979  20200313  00:00   \n",
       "4    2020-03-14 00:00:00.000     72      8086  20200314  00:00   \n",
       "..                       ...    ...       ...       ...    ...   \n",
       "815  2022-06-04 08:56:49.219  24238  18153814  20220604  00:00   \n",
       "816  2022-06-05 08:53:19.426  24258  18163648  20220605  00:00   \n",
       "817  2022-06-06 09:00:06.734  24279  18168670  20220606  00:00   \n",
       "818  2022-06-07 09:09:00.897  24299  18174842  20220607  00:00   \n",
       "819  2022-06-08 09:09:05.982  24305  18188200  20220608  00:00   \n",
       "\n",
       "                        수정일시     누적의심자    누적확진율율  \n",
       "0     2021-10-07 10:30:51.51  210144.0  3.919308  \n",
       "1     2021-10-07 10:30:51.51  222395.0  3.804175  \n",
       "2     2021-10-07 10:30:51.51  234998.0  3.621744  \n",
       "3     2021-10-07 10:30:51.51  248647.0  3.458499  \n",
       "4     2021-10-07 10:30:51.51  261335.0  3.318000  \n",
       "..                       ...       ...       ...  \n",
       "815  2022-06-08 09:11:26.303       NaN       NaN  \n",
       "816  2022-06-08 09:11:04.758       NaN       NaN  \n",
       "817  2022-06-08 09:10:50.441       NaN       NaN  \n",
       "818  2022-06-08 09:10:36.846       NaN       NaN  \n",
       "819                      NaN       NaN       NaN  \n",
       "\n",
       "[820 rows x 8 columns]"
      ]
     },
     "execution_count": 49,
     "metadata": {},
     "output_type": "execute_result"
    }
   ],
   "source": [
    "# 인덱스를 초기화하고 재지정\n",
    "# reset_index()\n",
    "# drop 매개변수 : 기존의 인덱스를 제거할지 선택(기본값 : False)\n",
    "# df.reset_index().drop('index', axis=1)\n",
    "df.reset_index(drop=True)"
   ]
  }
 ],
 "metadata": {
  "kernelspec": {
   "display_name": "Python 3",
   "language": "python",
   "name": "python3"
  },
  "language_info": {
   "codemirror_mode": {
    "name": "ipython",
    "version": 3
   },
   "file_extension": ".py",
   "mimetype": "text/x-python",
   "name": "python",
   "nbconvert_exporter": "python",
   "pygments_lexer": "ipython3",
   "version": "3.11.1"
  }
 },
 "nbformat": 4,
 "nbformat_minor": 2
}
