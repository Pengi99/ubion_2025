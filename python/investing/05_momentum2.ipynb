{
 "cells": [
  {
   "cell_type": "markdown",
   "metadata": {},
   "source": [
    "### 상대모멘텀 \n",
    "- 10개의 주식 데이터를 이용하여 투자 전략 테스팅\n",
    "1. 월초부터 월말까지의 수정주가를 이용하여 월별 수익율\n",
    "2. 월별 수익율이 높은 순서중 n개의 주식을 선택 \n",
    "3. 해당하는 주식들을 매수 후 매도하여 수익율 계산"
   ]
  },
  {
   "cell_type": "code",
   "execution_count": null,
   "metadata": {},
   "outputs": [],
   "source": [
    "import pandas as pd \n",
    "from datetime import datetime\n",
    "import numpy as np\n",
    "import os \n",
    "import glob\n",
    "import warnings"
   ]
  },
  {
   "cell_type": "code",
   "execution_count": null,
   "metadata": {},
   "outputs": [],
   "source": [
    "# warning message 제거 \n",
    "warnings.filterwarnings('ignore')"
   ]
  },
  {
   "cell_type": "code",
   "execution_count": null,
   "metadata": {},
   "outputs": [],
   "source": [
    "# 월별 수익율을 계산하는 함수 생성 \n",
    "def create_1M_rtn(_df, _ticker, _start = \"2010-01-01\", _col = 'Adj Close'):\n",
    "    # 복사본 생성 \n",
    "    result = _df.copy()\n",
    "    # 컬럼에 Date가 포함되어있는지 확인 \n",
    "    if 'Date' in result.columns:\n",
    "        result = result.loc[result['Date'] >= _start, ['Date', _col]]\n",
    "        # Date 컬럼의 데이터를 시계열로 변경\n",
    "        result['Date'] = pd.to_datetime(result['Date'], format='%Y-%m-%d')\n",
    "        result.set_index('Date', inplace=True)\n",
    "    else:\n",
    "        result.index = pd.to_datetime(result.index, inplace=True)\n",
    "        result = result.loc[_start:, [_col]]\n",
    "    # 기준 년월 컬럼을 생성\n",
    "    result['STD-YM'] = result.index.strftime('%Y-%m')\n",
    "    result['1m_rtn'] = 0\n",
    "    result['CODE'] = _ticker\n",
    "    # 기준 년월의 중복데이터를 제거하고 고유한 값들을 리스트로 생성\n",
    "    ym_list = result['STD-YM'].unique()\n",
    "    return result, ym_list"
   ]
  },
  {
   "cell_type": "code",
   "execution_count": null,
   "metadata": {},
   "outputs": [],
   "source": [
    "aapl = pd.read_csv('../../csv/AAPL.csv')"
   ]
  },
  {
   "cell_type": "code",
   "execution_count": null,
   "metadata": {},
   "outputs": [],
   "source": [
    "sample_aapl, ym_list = create_1M_rtn(aapl, 'AAPL')"
   ]
  },
  {
   "cell_type": "code",
   "execution_count": null,
   "metadata": {},
   "outputs": [],
   "source": [
    "sample_aapl.head()"
   ]
  },
  {
   "cell_type": "code",
   "execution_count": null,
   "metadata": {},
   "outputs": [],
   "source": [
    "ym_list"
   ]
  },
  {
   "cell_type": "code",
   "execution_count": null,
   "metadata": {},
   "outputs": [],
   "source": [
    "# 특정 경로에 있는 파일들의 목록을 로드 \n",
    "os.listdir(\"./data\")\n",
    "\n",
    "files = glob.glob(\"./data/*.csv\")\n",
    "files"
   ]
  },
  {
   "cell_type": "code",
   "execution_count": null,
   "metadata": {},
   "outputs": [],
   "source": [
    "\n",
    "# 새로운 데이터프레임을 생성 \n",
    "# 종목별 데이터프레임 \n",
    "stock_df = pd.DataFrame()\n",
    "# 월말 데이터프레임 \n",
    "month_last_df = pd.DataFrame()\n",
    "\n",
    "for file in files:\n",
    "    folder, name = os.path.split(file)\n",
    "    # print(folder, name)\n",
    "    head, tail = os.path.splitext(name)\n",
    "    # print(head, tail)\n",
    "    # head는 create_1M_rtn 함수에 ticker 인자값으로 사용\n",
    "\n",
    "    # 데이터 파일을 로드 \n",
    "    read_df = pd.read_csv(file)\n",
    "\n",
    "    # create_1M_rtn 함수를 호출 \n",
    "    price_df, ym_list = create_1M_rtn(read_df, head)\n",
    "\n",
    "    # 유니언 결합 (단순한 행 결합 함수)\n",
    "    stock_df = pd.concat([stock_df, price_df], axis=0)\n",
    "\n",
    "    # 월별 상태 모멘텀을 계산하기 위해 1개월간의 수익율 계산\n",
    "    for ym in ym_list:\n",
    "        flag = price_df['STD-YM'] == ym\n",
    "        m_rtn = price_df.loc[flag,].iloc[-1, 0] / price_df.loc[flag,].iloc[0, 0]\n",
    "        price_df.loc[flag, '1m_rtn'] = m_rtn\n",
    "        data = price_df.loc[flag, ['CODE', '1m_rtn']].tail(1)\n",
    "        month_last_df = pd.concat([month_last_df, data], axis=0)"
   ]
  },
  {
   "cell_type": "code",
   "execution_count": null,
   "metadata": {},
   "outputs": [],
   "source": [
    "month_last_df.tail()"
   ]
  },
  {
   "cell_type": "code",
   "execution_count": null,
   "metadata": {},
   "outputs": [],
   "source": [
    "month_rtn_df = month_last_df.copy()"
   ]
  },
  {
   "cell_type": "code",
   "execution_count": null,
   "metadata": {},
   "outputs": [],
   "source": [
    "month_rtn_df.reset_index(inplace=True)"
   ]
  },
  {
   "cell_type": "code",
   "execution_count": null,
   "metadata": {},
   "outputs": [],
   "source": [
    "month_rtn_df.head()"
   ]
  },
  {
   "cell_type": "code",
   "execution_count": null,
   "metadata": {},
   "outputs": [],
   "source": [
    "month_rtn_df = month_rtn_df.pivot_table(\n",
    "    index = 'Date', \n",
    "    columns= 'CODE', \n",
    "    values= '1m_rtn'\n",
    ")"
   ]
  },
  {
   "cell_type": "code",
   "execution_count": null,
   "metadata": {},
   "outputs": [],
   "source": [
    "month_rtn_df.head()"
   ]
  },
  {
   "cell_type": "code",
   "execution_count": null,
   "metadata": {},
   "outputs": [],
   "source": [
    "month_rtn_df = month_rtn_df.rank(\n",
    "    axis=1, \n",
    "    ascending=False, \n",
    "    method='max', \n",
    "    pct=True\n",
    ")"
   ]
  },
  {
   "cell_type": "code",
   "execution_count": null,
   "metadata": {},
   "outputs": [],
   "source": [
    "month_rtn_df"
   ]
  },
  {
   "cell_type": "code",
   "execution_count": null,
   "metadata": {},
   "outputs": [],
   "source": [
    "# 상위 15% 종목만 선택 \n",
    "# where(조건식, 거짓일때 변경될 데이터)\n",
    "month_rtn_df =  month_rtn_df.where(month_rtn_df < 0.15, 0)"
   ]
  },
  {
   "cell_type": "code",
   "execution_count": null,
   "metadata": {},
   "outputs": [],
   "source": [
    "month_rtn_df.head()"
   ]
  },
  {
   "cell_type": "code",
   "execution_count": null,
   "metadata": {},
   "outputs": [],
   "source": [
    "# 데이터 중에서 0이 아닌 데이터는 1로 변경 \n",
    "month_rtn_df[month_rtn_df != 0] = 1"
   ]
  },
  {
   "cell_type": "code",
   "execution_count": null,
   "metadata": {},
   "outputs": [],
   "source": [
    "month_rtn_df"
   ]
  },
  {
   "cell_type": "code",
   "execution_count": null,
   "metadata": {},
   "outputs": [],
   "source": [
    "# CODE 값들을 유니크 데이터만 따로 출력 \n",
    "stock_codes = stock_df['CODE'].unique()\n",
    "stock_codes"
   ]
  },
  {
   "cell_type": "code",
   "execution_count": null,
   "metadata": {},
   "outputs": [],
   "source": [
    "month_rtn_df.loc[\"2010-01-29 00:00:00\", month_rtn_df.loc[\"2010-01-29 00:00:00\"] >= 1].index"
   ]
  },
  {
   "cell_type": "code",
   "execution_count": null,
   "metadata": {},
   "outputs": [],
   "source": [
    "sig_dict = dict()\n",
    "\n",
    "for date in month_rtn_df.index:\n",
    "    # print(date)\n",
    "    ticker_list = list(\n",
    "        month_rtn_df.loc[date, month_rtn_df.loc[date] >= 1].index)\n",
    "    # print(ticker_list)\n",
    "    sig_dict[date] = ticker_list"
   ]
  },
  {
   "cell_type": "code",
   "execution_count": null,
   "metadata": {},
   "outputs": [],
   "source": [
    "sig_dict"
   ]
  },
  {
   "cell_type": "code",
   "execution_count": null,
   "metadata": {},
   "outputs": [],
   "source": [
    "# 거래 내역컬럼을 생성하는 데이터프레임 생성하는 함수 \n",
    "def create_trade_book(_df, _code):\n",
    "    book = _df[_code].copy()\n",
    "    book['STD-YM'] = book.index.strftime('%Y-%m')\n",
    "    for c in _code:\n",
    "        book['p'+c] = \"\"\n",
    "        book['r'+c] = \"\"\n",
    "    return book"
   ]
  },
  {
   "cell_type": "code",
   "execution_count": null,
   "metadata": {},
   "outputs": [],
   "source": [
    "stock_df.head()"
   ]
  },
  {
   "cell_type": "code",
   "execution_count": null,
   "metadata": {},
   "outputs": [],
   "source": [
    "stock_c_matrix = stock_df.reset_index().pivot_table(\n",
    "    index='Date', \n",
    "    columns = 'CODE', \n",
    "    values= stock_df.columns[0]\n",
    ")"
   ]
  },
  {
   "cell_type": "code",
   "execution_count": null,
   "metadata": {},
   "outputs": [],
   "source": [
    "stock_c_matrix"
   ]
  },
  {
   "cell_type": "code",
   "execution_count": null,
   "metadata": {},
   "outputs": [],
   "source": [
    "book = create_trade_book(stock_c_matrix, stock_codes)"
   ]
  },
  {
   "cell_type": "code",
   "execution_count": null,
   "metadata": {},
   "outputs": [],
   "source": [
    "book.columns"
   ]
  },
  {
   "cell_type": "code",
   "execution_count": null,
   "metadata": {},
   "outputs": [],
   "source": [
    "sig_dict.items()"
   ]
  },
  {
   "cell_type": "code",
   "execution_count": null,
   "metadata": {},
   "outputs": [],
   "source": [
    "# 포지션을 생성 \n",
    "for date, values in sig_dict.items():\n",
    "    # print(date, values)\n",
    "    for stock in values:\n",
    "        book.loc[date, 'p'+stock] = 'ready'+stock"
   ]
  },
  {
   "cell_type": "code",
   "execution_count": null,
   "metadata": {},
   "outputs": [],
   "source": [
    "book[['pBND']].iloc[15:25]"
   ]
  },
  {
   "cell_type": "code",
   "execution_count": null,
   "metadata": {},
   "outputs": [],
   "source": [
    "# 거래 내역 추가 \n",
    "def trading(_book, s_code):\n",
    "    std_ym = \"\"\n",
    "    buy_phase = False\n",
    "\n",
    "    # 종목별로 순회\n",
    "    for code in s_code:\n",
    "        for i in _book.index:\n",
    "            # 해당 종목코드의 포지션을 잡는다.\n",
    "            if (_book.loc[i, 'p'+code] == \"\") & \\\n",
    "                (_book.shift().loc[i, 'p'+code] == \"ready\"+code):\n",
    "                std_ym = book.loc[i, 'STD-YM']\n",
    "                buy_phase = True\n",
    "            # 해당 종목코드에서 신호가 잡혀있다면 매수 상태 유지 \n",
    "            if (_book.loc[i, 'p'+code] == \"\") & \\\n",
    "                (_book.loc[i, 'STD-YM'] == std_ym) & \\\n",
    "                (buy_phase):\n",
    "                _book.loc[i, 'p'+code] = 'buy'+code\n",
    "            \n",
    "            # std_ym, buy_phase 초기화\n",
    "            if _book.loc[i, 'p'+code] == \"\":\n",
    "                std_ym = \"\"\n",
    "                buy_phase = False\n",
    "    return _book\n",
    "                "
   ]
  },
  {
   "cell_type": "code",
   "execution_count": null,
   "metadata": {},
   "outputs": [],
   "source": [
    "book = trading(book, stock_codes)"
   ]
  },
  {
   "cell_type": "code",
   "execution_count": null,
   "metadata": {},
   "outputs": [],
   "source": [
    "book['pAAPL'].value_counts()"
   ]
  },
  {
   "cell_type": "code",
   "execution_count": null,
   "metadata": {},
   "outputs": [],
   "source": [
    "# 수익율 계산 함수 \n",
    "def multi_returns(_book, s_code):\n",
    "    rtn = 1\n",
    "    buy_dict = dict()\n",
    "    sell_dict = dict()\n",
    "\n",
    "    for i in _book.index:\n",
    "        for code in s_code:\n",
    "            # 매수 (p+code 2일전에 \"\" 1일전에 ready 오늘이 buy)\n",
    "            if (_book.shift(2).loc[i, \"p\"+code] == \"\") & \\\n",
    "                (_book.shift(1).loc[i, 'p'+code] == \"ready\"+code) & \\\n",
    "                (_book.loc[i, 'p'+code] == \"buy\"+code):\n",
    "                buy_dict[code] = book.loc[i, code]\n",
    "                print(f\"매수일 : {i}, 종목코드 : {code}, 매수가 : {buy_dict[code]}\")\n",
    "            # 매도 (1일 전의 pcode가 buy 오늘의 pcode가 \"\")\n",
    "            elif (_book.shift(1).loc[i, \"p\"+code] == \"buy\"+code) & \\\n",
    "                (_book.loc[i, 'p'+code] == \"\"):\n",
    "                sell_dict[code] = _book.loc[i, code]\n",
    "                # 수익율 계산 \n",
    "                rtn = sell_dict[code] / buy_dict[code]\n",
    "                _book.loc[i, 'r'+code] = rtn\n",
    "                print(f\"매도일 : {i}, 종목코드 : {code}, 매도가 : {sell_dict[code]}, 수익율 : {rtn}\")\n",
    "            # buy_dict, sell_dict 데이터를 초기화\n",
    "            if _book.loc[i, 'p'+code] == \"\":\n",
    "                buy_dict[code] = 0\n",
    "                sell_dict[code] = 0\n",
    "    return _book\n"
   ]
  },
  {
   "cell_type": "code",
   "execution_count": null,
   "metadata": {},
   "outputs": [],
   "source": [
    "rtn_book = multi_returns(book, stock_codes)"
   ]
  },
  {
   "cell_type": "code",
   "execution_count": null,
   "metadata": {},
   "outputs": [],
   "source": [
    "# 누적 수익율 계산 함수 \n",
    "def multi_acc_returns(_book, s_code):\n",
    "    # 누적 수익율 변수 생성\n",
    "    acc_rtn = 1\n",
    "    for i in _book.index:\n",
    "        count = 0\n",
    "        rtn = 0\n",
    "        for code in s_code:\n",
    "            # 수익율 데이터가 존재하는 경우\n",
    "            if _book.loc[i, 'r'+code]:\n",
    "                count += 1\n",
    "                rtn += _book.loc[i, \"r\"+code]\n",
    "        if (rtn != 0) & (count != 0):\n",
    "            acc_rtn *= (rtn / count)\n",
    "            print(f\"누적 매도일 : {i}, 매도 종목수 : {count}, 수익율 : {round(rtn/count, 2)}\")\n",
    "        _book.loc[i, 'acc_rtn'] = acc_rtn\n",
    "    \n",
    "    return _book, acc_rtn"
   ]
  },
  {
   "cell_type": "code",
   "execution_count": null,
   "metadata": {},
   "outputs": [],
   "source": [
    "multi_acc_returns(rtn_book, stock_codes)"
   ]
  },
  {
   "cell_type": "code",
   "execution_count": null,
   "metadata": {},
   "outputs": [],
   "source": [
    "import momentum2 as mmt2"
   ]
  },
  {
   "cell_type": "code",
   "execution_count": null,
   "metadata": {},
   "outputs": [],
   "source": [
    "import importlib"
   ]
  },
  {
   "cell_type": "code",
   "execution_count": null,
   "metadata": {},
   "outputs": [],
   "source": [
    "importlib.reload(mmt2)"
   ]
  },
  {
   "cell_type": "code",
   "execution_count": null,
   "metadata": {},
   "outputs": [],
   "source": [
    "# data_load({경로}) \n",
    "# 해당 경로에 있는 csv 파일을 모두 결합하여 \n",
    "# (날짜,수정주가, 기준년월, 월별수익율, code값을 가진 데이터프레임), \n",
    "# (월말 데이터를 가지는 데이터프레임) 리턴 함수\n",
    "stock_df, last_df = mmt2.data_load()"
   ]
  },
  {
   "cell_type": "code",
   "execution_count": null,
   "metadata": {},
   "outputs": [],
   "source": [
    "stock_df.head()"
   ]
  },
  {
   "cell_type": "code",
   "execution_count": null,
   "metadata": {},
   "outputs": [],
   "source": [
    "last_df.head()"
   ]
  },
  {
   "cell_type": "code",
   "execution_count": null,
   "metadata": {},
   "outputs": [],
   "source": [
    "## create_position({월말 데이터프레임}, {상위 퍼센트})\n",
    "## 리턴 값 : 구매 시기를 나타내는 딕셔너리 , 종목들의 리스트 \n",
    "sig_dict, stock_codes = mmt2.create_position(last_df)"
   ]
  },
  {
   "cell_type": "code",
   "execution_count": null,
   "metadata": {},
   "outputs": [],
   "source": [
    "stock_df.head()"
   ]
  },
  {
   "cell_type": "code",
   "execution_count": null,
   "metadata": {},
   "outputs": [],
   "source": [
    "# create_trade_book({stock_df}, {종목 리스트}, {구매 시기 딕셔너리})\n",
    "# 리턴 데이터 : 구매시기를 체크하여 구매 포지션을 지정한 데이터프레임\n",
    "book = mmt2.create_trade_book(stock_df, stock_codes, sig_dict)"
   ]
  },
  {
   "cell_type": "code",
   "execution_count": null,
   "metadata": {},
   "outputs": [],
   "source": [
    "# trading({book}, {종목 리스트})\n",
    "# 구매 내역을 추가하여 데이터프레임 리턴\n",
    "trade_book = mmt2.trading(book, stock_codes)"
   ]
  },
  {
   "cell_type": "code",
   "execution_count": null,
   "metadata": {},
   "outputs": [],
   "source": [
    "# multi_returns({trade_book}, {종목 리스트})\n",
    "# 수익율 데이터를 추가하여 데이터프레임을 리턴\n",
    "rtn_book = mmt2.multi_returns(trade_book, stock_codes)"
   ]
  },
  {
   "cell_type": "code",
   "execution_count": null,
   "metadata": {},
   "outputs": [],
   "source": [
    "# multi_acc_returns({rtn_book}, {종목 리스트})\n",
    "# 누적수익율을 계산하여 데이터프레임에 대입한 결과와 총 누적 수익율을 리턴\n",
    "acc_rtn_book, acc_rtn = mmt2.multi_acc_returns(rtn_book, stock_codes)"
   ]
  }
 ],
 "metadata": {
  "kernelspec": {
   "display_name": "Python 3",
   "language": "python",
   "name": "python3"
  },
  "language_info": {
   "codemirror_mode": {
    "name": "ipython",
    "version": 3
   },
   "file_extension": ".py",
   "mimetype": "text/x-python",
   "name": "python",
   "nbconvert_exporter": "python",
   "pygments_lexer": "ipython3",
   "version": "3.11.1"
  }
 },
 "nbformat": 4,
 "nbformat_minor": 2
}
