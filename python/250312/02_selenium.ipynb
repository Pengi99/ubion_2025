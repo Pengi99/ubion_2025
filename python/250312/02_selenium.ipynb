{
 "cells": [
  {
   "cell_type": "code",
   "execution_count": 1,
   "metadata": {},
   "outputs": [],
   "source": [
    "from selenium import webdriver\n",
    "# 특정 태그를 선택 (id, class, xpath)\n",
    "from selenium.webdriver.common.by import By\n",
    "# 키보드의 특정 이벤트를 불러오기 기능\n",
    "from selenium.webdriver.common.keys import Keys "
   ]
  },
  {
   "cell_type": "code",
   "execution_count": 2,
   "metadata": {},
   "outputs": [],
   "source": [
    "# 웹 브라우져 실행\n",
    "driver = webdriver.Chrome()"
   ]
  },
  {
   "cell_type": "code",
   "execution_count": 3,
   "metadata": {},
   "outputs": [],
   "source": [
    "# driver에 특정 주소를 입력하고 요청 \n",
    "driver.get('https://www.naver.com')"
   ]
  },
  {
   "cell_type": "markdown",
   "metadata": {},
   "source": [
    "- webdriver에서 태그를 찾는 함수 \n",
    "    - find_element()\n",
    "        - 특정 태그 하나를 선택\n",
    "        - bs4에서 find() 같은 기능 \n",
    "    - find_elements()\n",
    "        - 조건에 맞는 모든 태그를 선택\n",
    "        - bs4에서 find_all() 같은 기능"
   ]
  },
  {
   "cell_type": "code",
   "execution_count": 4,
   "metadata": {},
   "outputs": [],
   "source": [
    "# html 문서 안에서 id 속성이 query 태그를 선택\n",
    "element = driver.find_element(By.ID, 'query')"
   ]
  },
  {
   "cell_type": "code",
   "execution_count": 5,
   "metadata": {},
   "outputs": [],
   "source": [
    "# 검색창(element)에 특정 문자열을 입력 \n",
    "element.send_keys(\"날씨\")"
   ]
  },
  {
   "cell_type": "code",
   "execution_count": 6,
   "metadata": {},
   "outputs": [],
   "source": [
    "# element에 ENTER라는 키보드 이벤트를 발생\n",
    "element.send_keys(Keys.ENTER)"
   ]
  },
  {
   "cell_type": "code",
   "execution_count": 7,
   "metadata": {},
   "outputs": [
    {
     "data": {
      "text/plain": [
       "1"
      ]
     },
     "execution_count": 7,
     "metadata": {},
     "output_type": "execute_result"
    }
   ],
   "source": [
    "# driver에서 class가 'list_news'인 태그를 모두 찾아서 개수를 확인 \n",
    "len(driver.find_elements(By.CLASS_NAME, 'list_news'))"
   ]
  },
  {
   "cell_type": "code",
   "execution_count": 8,
   "metadata": {},
   "outputs": [],
   "source": [
    "list_news_tag = driver.find_element(By.CLASS_NAME, 'list_news')"
   ]
  },
  {
   "cell_type": "code",
   "execution_count": 9,
   "metadata": {},
   "outputs": [
    {
     "data": {
      "text/plain": [
       "4"
      ]
     },
     "execution_count": 9,
     "metadata": {},
     "output_type": "execute_result"
    }
   ],
   "source": [
    "# list_news_tag에서 class가 'news_area'태그를 모두 찾는다. \n",
    "len(\n",
    "    list_news_tag.find_elements(By.CLASS_NAME, 'news_area')\n",
    ")"
   ]
  },
  {
   "cell_type": "code",
   "execution_count": null,
   "metadata": {},
   "outputs": [],
   "source": [
    "news_link_list = \\\n",
    "    list_news_tag.find_elements(By.CLASS_NAME, 'news_area')"
   ]
  },
  {
   "cell_type": "code",
   "execution_count": 11,
   "metadata": {},
   "outputs": [
    {
     "data": {
      "text/plain": [
       "[<selenium.webdriver.remote.webelement.WebElement (session=\"ea30d72f6d034cfbcdd23158577f996d\", element=\"f.A8A42952111B0B552AA5D4E2A39046E0.d.555A8B0F22490253BF3BB2F62D5CD5A1.e.21574\")>,\n",
       " <selenium.webdriver.remote.webelement.WebElement (session=\"ea30d72f6d034cfbcdd23158577f996d\", element=\"f.A8A42952111B0B552AA5D4E2A39046E0.d.555A8B0F22490253BF3BB2F62D5CD5A1.e.21609\")>,\n",
       " <selenium.webdriver.remote.webelement.WebElement (session=\"ea30d72f6d034cfbcdd23158577f996d\", element=\"f.A8A42952111B0B552AA5D4E2A39046E0.d.555A8B0F22490253BF3BB2F62D5CD5A1.e.21651\")>,\n",
       " <selenium.webdriver.remote.webelement.WebElement (session=\"ea30d72f6d034cfbcdd23158577f996d\", element=\"f.A8A42952111B0B552AA5D4E2A39046E0.d.555A8B0F22490253BF3BB2F62D5CD5A1.e.21674\")>]"
      ]
     },
     "execution_count": 11,
     "metadata": {},
     "output_type": "execute_result"
    }
   ],
   "source": [
    "news_link_list"
   ]
  },
  {
   "cell_type": "code",
   "execution_count": 13,
   "metadata": {},
   "outputs": [],
   "source": [
    "# news_link_list의 첫번째 원소를 마우스 클릭 이벤트 발생\n",
    "news_link_list[0].find_element(By.CLASS_NAME, 'news_contents').click()"
   ]
  },
  {
   "cell_type": "code",
   "execution_count": 15,
   "metadata": {},
   "outputs": [],
   "source": [
    "import pprint"
   ]
  },
  {
   "cell_type": "code",
   "execution_count": null,
   "metadata": {},
   "outputs": [],
   "source": [
    "# driver에서 html문서를 불러오려면\n",
    "# driver 안에 page_source\n",
    "pprint.pp(driver.page_source)"
   ]
  },
  {
   "cell_type": "code",
   "execution_count": 17,
   "metadata": {},
   "outputs": [
    {
     "data": {
      "text/plain": [
       "['A8A42952111B0B552AA5D4E2A39046E0',\n",
       " 'F0D90C2C3B58DCE62166AF4FD19BB441',\n",
       " 'F55B1F2320FA893303DC789578D126E0']"
      ]
     },
     "execution_count": 17,
     "metadata": {},
     "output_type": "execute_result"
    }
   ],
   "source": [
    "# 브라우져에 탭이 여러개 생기는 경우에는 탭을 이동 \n",
    "\n",
    "# 탭들의 주소를 확인 \n",
    "driver.window_handles"
   ]
  },
  {
   "cell_type": "code",
   "execution_count": 19,
   "metadata": {},
   "outputs": [],
   "source": [
    "# driver의 탭을 이동 \n",
    "driver.switch_to.window(driver.window_handles[1])"
   ]
  },
  {
   "cell_type": "code",
   "execution_count": 20,
   "metadata": {},
   "outputs": [],
   "source": [
    "from bs4 import BeautifulSoup as bs"
   ]
  },
  {
   "cell_type": "code",
   "execution_count": 21,
   "metadata": {},
   "outputs": [],
   "source": [
    "soup = bs(driver.page_source, 'html.parser')"
   ]
  },
  {
   "cell_type": "code",
   "execution_count": 22,
   "metadata": {},
   "outputs": [
    {
     "data": {
      "text/plain": [
       "<title>[날씨] 대기 질 점차 좋아져...오후부턴 중국 황사 온다 | YTN</title>"
      ]
     },
     "execution_count": 22,
     "metadata": {},
     "output_type": "execute_result"
    }
   ],
   "source": [
    "soup.find('title')"
   ]
  },
  {
   "cell_type": "code",
   "execution_count": 25,
   "metadata": {},
   "outputs": [],
   "source": [
    "# h2 태그에서 class가 news_title 문자를 출력 \n",
    "news_title = soup.find('h2', attrs={\n",
    "    'class' : 'news_title'\n",
    "}).get_text()"
   ]
  },
  {
   "cell_type": "code",
   "execution_count": 29,
   "metadata": {},
   "outputs": [],
   "source": [
    "# div 태그에서 id가 CmAdContent 인 태그를 선택 \n",
    "news_content = soup.find('div', attrs={\n",
    "    'id' : 'CmAdContent'\n",
    "}).get_text().replace('\\n', '')"
   ]
  },
  {
   "cell_type": "code",
   "execution_count": 30,
   "metadata": {},
   "outputs": [
    {
     "name": "stdout",
     "output_type": "stream",
     "text": [
      "(\"[앵커]오전까지 대부분 지역에서 초미세먼지 농도가 '나쁨' 수준이었지만, 대기 확산이 원활해지며 공기 질이 점차 나아지고 있습니다.다만, \"\n",
      " '늦은 오후부터는 중국에서 발생한 황사가 유입되면서 다시 공기가 탁해질 것으로 보입니다.취재기자 연결해 미세먼지 현황과 전망 '\n",
      " '알아보겠습니다.김민경 기자, 지금은 대기 상태가 많이 좋아졌다고요?[기자]네, 오전까지는 서울과 전남, 경남, 제주를 제외한 전국의 '\n",
      " \"공기가 탁했는데요.지금은 경기와 충청, 광주와 울산, 부산에서만 초미세먼지 농도가 세제곱미터 당 36∼45㎍로 '나쁨' 단계이고 대부분 \"\n",
      " \"'보통' 수준으로 좋아졌습니다.밤사이에는 기온이 낮아 대기가 안정되면서 정체했다면, 낮에는 기온이 오르면서 대기 확산이 다시 활발해지기 \"\n",
      " \"때문인데요.현재 초미세먼지 농도가 '나쁨' 수준인 지역들도 오전보다는 농도가 낮아지고 있어서 점차 대기 상태가 좋아질 것으로 \"\n",
      " '예상됩니다.[앵커]그런데 늦은 오후부터는 황사 영향도 받는다고요?[기자]맞습니다.어제 오후에 고비사막과 내몽골고원에서 발원한 황사가 '\n",
      " '북서풍을 타고 우리나라로 밀려오고 있기 때문인데요.늦은 오후에 서해 5도와 경기 서해안부터 황사의 영향을 받기 시작해 밤사이에는 점차 '\n",
      " '전국으로 확대되겠습니다.문제는 밤부터인데요.오늘 오후에는 만주와 발해만 부근에서도 또 한차례 황사가 추가 발원할 것으로 예측됐기 '\n",
      " '때문입니다.앞서 발원한 고비사막과 내몽골고원의 황사보다 만주 부근의 황사가 더 짙을 것으로 보여 오늘 밤보다는 내일 새벽에 대기 질이 더 '\n",
      " '악화할 것으로 보입니다.설상가상으로 밤사이에는 황사와 함께 스모그도 유입될 것으로 예상됐는데요.입자가 작은 스모그와 상대적으로 큰 황사의 '\n",
      " \"영향을 동시에 받으면서 내일 새벽부터 오전에는 미세먼지와 초미세먼지 농도 모두 '나쁨'에서 심하면 '매우 나쁨'까지도 치솟을 가능성이 \"\n",
      " '있습니다.스모그는 내일 오전 중에 빠져나가겠지만, 황사의 영향은 모레까지 이어질 전망인데요.당분간 전국적으로 공기가 탁할 것으로 보이는 '\n",
      " '만큼, 외출할 때는 KF80 이상 보건용 마스크를 착용하고 장기간 야외활동은 자제하는 것이 좋습니다.지금까지 과학기상부에서 YTN '\n",
      " \"김민경입니다.YTN 김민경 (kimmink@ytn.co.kr)※ '당신의 제보가 뉴스가 됩니다'[카카오톡] YTN 검색해 채널 \"\n",
      " '추가[전화] 02-398-8585[메일] social@ytn.co.kr[저작권자(c) YTN 무단전재, 재배포 및 AI 데이터 활용 '\n",
      " '금지] ')\n"
     ]
    }
   ],
   "source": [
    "pprint.pp(news_content)"
   ]
  },
  {
   "cell_type": "markdown",
   "metadata": {},
   "source": [
    "#### 웹 크롤링 예제\n",
    "- 웹 브라우져를 오픈 \n",
    "- 네이버 주소로 요청 \n",
    "- 검색어 태그를 선택\n",
    "- '삼성전자' 입력\n",
    "- 엔터키 이벤트를 발생\n",
    "- 해당 페이지를 BeautifulSoup을 이용하여 page_source 파싱\n",
    "- 뉴스 기사 제목들을 리스트에 저장 "
   ]
  },
  {
   "cell_type": "code",
   "execution_count": 31,
   "metadata": {},
   "outputs": [],
   "source": [
    "driver = webdriver.Chrome()"
   ]
  },
  {
   "cell_type": "code",
   "execution_count": 32,
   "metadata": {},
   "outputs": [],
   "source": [
    "driver.get(\"https://www.naver.com\")"
   ]
  },
  {
   "cell_type": "code",
   "execution_count": 33,
   "metadata": {},
   "outputs": [],
   "source": [
    "element = driver.find_element(By.ID, 'query')"
   ]
  },
  {
   "cell_type": "code",
   "execution_count": 34,
   "metadata": {},
   "outputs": [],
   "source": [
    "element.send_keys('삼성전자')"
   ]
  },
  {
   "cell_type": "code",
   "execution_count": 35,
   "metadata": {},
   "outputs": [],
   "source": [
    "element.send_keys(Keys.ENTER)"
   ]
  },
  {
   "cell_type": "code",
   "execution_count": 36,
   "metadata": {},
   "outputs": [],
   "source": [
    "soup = bs(driver.page_source, 'html.parser')"
   ]
  },
  {
   "cell_type": "code",
   "execution_count": 37,
   "metadata": {},
   "outputs": [
    {
     "data": {
      "text/plain": [
       "4"
      ]
     },
     "execution_count": 37,
     "metadata": {},
     "output_type": "execute_result"
    }
   ],
   "source": [
    "# div중 class가 'news_contents' 태그를 모두 찾는다. \n",
    "news_contents = soup.find_all('div', attrs={\n",
    "    'class' : 'news_contents'\n",
    "})\n",
    "len(news_contents)"
   ]
  },
  {
   "cell_type": "code",
   "execution_count": 38,
   "metadata": {},
   "outputs": [
    {
     "data": {
      "text/plain": [
       "[\"[단독] 삼성전자 '신사업TF' 상설화…대형 M&A 추진에 무게\",\n",
       " '사외이사 연봉 1위는 삼성전자…전년보다 10%↓ 1.8억원',\n",
       " \"삼성전자 QLED TV, '無카드뮴' 퀀텀닷 기술 우수성 인증받아\",\n",
       " \"[단독] '엔비디아 한 달 만에 재방문' 삼성전자 데드라인 앞두고 HBM3E 납...\"]"
      ]
     },
     "execution_count": 38,
     "metadata": {},
     "output_type": "execute_result"
    }
   ],
   "source": [
    "# news_contents에서 각 원소(TAG)들에서 a 태그중 class가 'news_tit' 태그를 선택해서 \n",
    "# 텍스트를 추출 리스트에 추가 \n",
    "title_list = [] \n",
    "for news_content in news_contents:\n",
    "    data = news_content.find('a', attrs={\n",
    "        'class' : 'news_tit'\n",
    "    }).get_text()\n",
    "    # 리스트 추가 \n",
    "    title_list.append(data)\n",
    "    \n",
    "title_list"
   ]
  },
  {
   "cell_type": "code",
   "execution_count": 40,
   "metadata": {},
   "outputs": [
    {
     "data": {
      "text/plain": [
       "['https://www.sedaily.com/NewsView/2GQ7T4SQ1J',\n",
       " 'https://www.yna.co.kr/view/AKR20250311153700003?input=1195m',\n",
       " 'http://www.segye.com/newsView/20250312504750?OutUrl=naver',\n",
       " 'http://www.fnnews.com/news/202503111430559710']"
      ]
     },
     "execution_count": 40,
     "metadata": {},
     "output_type": "execute_result"
    }
   ],
   "source": [
    "# a 태그에 있는 주소값을 출력 \n",
    "link_list = [] \n",
    "for news_content in news_contents:\n",
    "    data = news_content.find('a', attrs={\n",
    "        'class' : 'news_tit'\n",
    "    })['href']\n",
    "    # 리스트 추가 \n",
    "    link_list.append(data)\n",
    "    \n",
    "link_list"
   ]
  }
 ],
 "metadata": {
  "kernelspec": {
   "display_name": "Python 3",
   "language": "python",
   "name": "python3"
  },
  "language_info": {
   "codemirror_mode": {
    "name": "ipython",
    "version": 3
   },
   "file_extension": ".py",
   "mimetype": "text/x-python",
   "name": "python",
   "nbconvert_exporter": "python",
   "pygments_lexer": "ipython3",
   "version": "3.11.1"
  }
 },
 "nbformat": 4,
 "nbformat_minor": 2
}
