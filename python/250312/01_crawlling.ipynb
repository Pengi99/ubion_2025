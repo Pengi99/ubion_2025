{
 "cells": [
  {
   "cell_type": "markdown",
   "metadata": {},
   "source": [
    "#### 웹 크롤링\n",
    "1. 사용할 라이브러리 목록 \n",
    "    - requests\n",
    "        - 웹 통신을 위한 라이브러리 \n",
    "        - 웹서버에 요청을 보내고 응답을 받아오는 라이브러리 \n",
    "        - get( 웹주소, params = data, headers = data )\n",
    "    - bs4\n",
    "        - BeautifulSoup class를 사용\n",
    "        - html문서형 데이터를 parsing을 하여 데이터를 쉽게 추출 할 수 있도록 도와주는 기능\n",
    "        - html의 TAG를 기준으로 데이터를 추출 \n",
    "        - 웹의 구조를 어느정도 인지하고 사용하면 쉽게 접근이 가능\n",
    "        - Parser를 활용해서 python에서 접근이 쉽게 객체 형태로 제공\n",
    "    - selenium \n",
    "        - 웹 어플리케이션를 테스트를 하기 위한 라이브러리 \n",
    "        - 웹 브라우져를 python의 code를 이용해서 제어 \n",
    "        - Chrome의 버전이 구버전이거나 selenium이 구 버전인 경우에는 별도의 소프트웨어를 설치 \n",
    "        - 특정 동적인 웹 페이지에서 데이터를 가지고 올때 사용"
   ]
  },
  {
   "cell_type": "code",
   "execution_count": null,
   "metadata": {},
   "outputs": [],
   "source": [
    "import requests\n",
    "from bs4 import BeautifulSoup as bs"
   ]
  },
  {
   "cell_type": "code",
   "execution_count": null,
   "metadata": {},
   "outputs": [],
   "source": [
    "url = \"http://www.naver.com\"\n",
    "response = requests.get(url)"
   ]
  },
  {
   "cell_type": "code",
   "execution_count": null,
   "metadata": {},
   "outputs": [],
   "source": [
    "response"
   ]
  },
  {
   "cell_type": "code",
   "execution_count": null,
   "metadata": {},
   "outputs": [],
   "source": [
    "html_data = response.text"
   ]
  },
  {
   "cell_type": "code",
   "execution_count": null,
   "metadata": {},
   "outputs": [],
   "source": [
    "type(html_data)"
   ]
  },
  {
   "cell_type": "code",
   "execution_count": null,
   "metadata": {},
   "outputs": [],
   "source": [
    "html_data.find('네이버')"
   ]
  },
  {
   "cell_type": "code",
   "execution_count": null,
   "metadata": {},
   "outputs": [],
   "source": [
    "html_data[378:410]"
   ]
  },
  {
   "cell_type": "code",
   "execution_count": null,
   "metadata": {},
   "outputs": [],
   "source": [
    "# parsing 작업 : 데이터의 타입을 변경 ( 내가 사용하기 편한 형태로 변경 )\n",
    "soup = bs(html_data, 'html.parser')"
   ]
  },
  {
   "cell_type": "code",
   "execution_count": null,
   "metadata": {},
   "outputs": [],
   "source": [
    "type(soup)"
   ]
  },
  {
   "cell_type": "markdown",
   "metadata": {},
   "source": [
    "- BeautifulSoup 내장함수\n",
    "    - soup.태그명 -> html 문서에서 해당 태그명의 첫번째 정보를 출력\n",
    "    - soup.태그명.string -> 첫번째 정보에서 contents부분의 문자를 출력\n",
    "    - soup.태그명['속성명'] : 첫번째 태그의 정보에서 속성의 값을 출력\n",
    "    - find(태그명)\n",
    "        - html 문서에서 해당 태그명의 첫번째 정보를 출력 \n",
    "        - find(속성명 = 속성값) : 태그들 중 해당 속성을 가지고 속성값을 가신 태그의 첫번째 정보를 출력\n",
    "        - 반환되는 값의 type은 TAG\n",
    "    - find_all(태그명)\n",
    "        - html 문서에서 해당 태그명의 모든 정보를 출력 \n",
    "        - limit 매개변수 : 태그 정보의 개수를 설정\n",
    "        - 반환되는 값의 type이 TAG_list"
   ]
  },
  {
   "cell_type": "code",
   "execution_count": null,
   "metadata": {},
   "outputs": [],
   "source": [
    "# soup에서 a태그의 정보를 출력 \n",
    "print(soup.a)"
   ]
  },
  {
   "cell_type": "code",
   "execution_count": null,
   "metadata": {},
   "outputs": [],
   "source": [
    "print(soup.find('a'))"
   ]
  },
  {
   "cell_type": "code",
   "execution_count": null,
   "metadata": {},
   "outputs": [],
   "source": [
    "print(soup.a.string)"
   ]
  },
  {
   "cell_type": "code",
   "execution_count": null,
   "metadata": {},
   "outputs": [],
   "source": [
    "print(soup.a['href'])"
   ]
  },
  {
   "cell_type": "code",
   "execution_count": null,
   "metadata": {},
   "outputs": [],
   "source": [
    "type(soup.a)"
   ]
  },
  {
   "cell_type": "code",
   "execution_count": null,
   "metadata": {},
   "outputs": [],
   "source": [
    "type(soup.find('a'))"
   ]
  },
  {
   "cell_type": "code",
   "execution_count": null,
   "metadata": {},
   "outputs": [],
   "source": [
    "type(soup.find_all('a'))"
   ]
  },
  {
   "cell_type": "code",
   "execution_count": null,
   "metadata": {},
   "outputs": [],
   "source": [
    "# a_list = soup.find_all('a', limit=3)\n",
    "a_list = soup.find_all('a')"
   ]
  },
  {
   "cell_type": "code",
   "execution_count": null,
   "metadata": {},
   "outputs": [],
   "source": [
    "a_list"
   ]
  },
  {
   "cell_type": "code",
   "execution_count": null,
   "metadata": {},
   "outputs": [],
   "source": [
    "a_list[1].find('span')"
   ]
  },
  {
   "cell_type": "code",
   "execution_count": null,
   "metadata": {},
   "outputs": [],
   "source": [
    "# a_list에 있는 모든 원소들에 contents만 추출하여 새로운 리스트 생성\n",
    "\n",
    "# case1 반복문 이용 \n",
    "contents_list = []\n",
    "\n",
    "# 반복문 생성 \n",
    "for a_tag in a_list:\n",
    "    # a_tag -> a_list에 있는 각 원소(TAG)들이 한번씩 대입\n",
    "    contents_list.append( a_tag.string )\n",
    "\n",
    "contents_list"
   ]
  },
  {
   "cell_type": "code",
   "execution_count": null,
   "metadata": {},
   "outputs": [],
   "source": [
    "# while문\n",
    "contents_list2 = []\n",
    "\n",
    "# 초기값 \n",
    "i = 0\n",
    "\n",
    "while True:\n",
    "    try:\n",
    "        contents_list2.append(a_list[i].get_text())\n",
    "        i += 1\n",
    "    except:\n",
    "        break\n",
    "contents_list2"
   ]
  },
  {
   "cell_type": "code",
   "execution_count": null,
   "metadata": {},
   "outputs": [],
   "source": [
    "# case2 map함수를 이용\n",
    "list(\n",
    "    map(\n",
    "        lambda x : x.string, \n",
    "        a_list\n",
    "    )\n",
    ")"
   ]
  },
  {
   "cell_type": "code",
   "execution_count": null,
   "metadata": {},
   "outputs": [],
   "source": [
    "def get_string(x):\n",
    "    # x에는 TAG 데이터 대입 \n",
    "    result = x.get_text()\n",
    "    return result\n",
    "\n",
    "list(\n",
    "    map(\n",
    "        get_string, \n",
    "        a_list\n",
    "    )\n",
    ")"
   ]
  },
  {
   "cell_type": "code",
   "execution_count": null,
   "metadata": {},
   "outputs": [],
   "source": [
    "# 네이버 파이낸스 \n",
    "# 1. 요청을 보내고 응답을 받는다. \n",
    "url  = \"https://finance.naver.com/\"\n",
    "response = requests.get(url)"
   ]
  },
  {
   "cell_type": "code",
   "execution_count": null,
   "metadata": {},
   "outputs": [],
   "source": [
    "response"
   ]
  },
  {
   "cell_type": "code",
   "execution_count": null,
   "metadata": {},
   "outputs": [],
   "source": [
    "# 2. 응답 메시지에서 문자로 출력 변수에 저장 \n",
    "html_data = response.text"
   ]
  },
  {
   "cell_type": "code",
   "execution_count": null,
   "metadata": {},
   "outputs": [],
   "source": [
    "# bs4에 BeautifulSoup을 이용하여 데이터를 파싱 (class 생성성)\n",
    "soup = bs(html_data, 'html.parser')"
   ]
  },
  {
   "cell_type": "code",
   "execution_count": null,
   "metadata": {},
   "outputs": [],
   "source": [
    "# 주요뉴스의 헤드라인 텍스트를 출력 \n",
    "# div TAG들 중에 class 속성의 값이 \"section_strategy\"인 태그를 찾는다. \n",
    "\n",
    "len(soup.find_all('div', attrs={\n",
    "    'class' : 'section_strategy'\n",
    "}))\n",
    "# find_all로 태그를 검색하고 길이를 확인하니 1\n",
    "# html 문서에서 해당 태그는 1개 -> find()함수를 이용"
   ]
  },
  {
   "cell_type": "code",
   "execution_count": null,
   "metadata": {},
   "outputs": [],
   "source": [
    "div_data = soup.find('div', attrs={\n",
    "    'class' : 'section_strategy'\n",
    "})"
   ]
  },
  {
   "cell_type": "code",
   "execution_count": null,
   "metadata": {},
   "outputs": [],
   "source": [
    "# div_data에서 li태그의 정보를 모두 출력\n",
    "li_list = div_data.find_all('li')"
   ]
  },
  {
   "cell_type": "code",
   "execution_count": null,
   "metadata": {},
   "outputs": [],
   "source": [
    "# li_list에서 텍스트 추출하여 새로운 리스트로 생성\n",
    "news_data = list(\n",
    "    map(\n",
    "        lambda x : x.get_text().strip(), \n",
    "        li_list\n",
    "    )\n",
    ")"
   ]
  },
  {
   "cell_type": "code",
   "execution_count": null,
   "metadata": {},
   "outputs": [],
   "source": [
    "news_data"
   ]
  },
  {
   "cell_type": "code",
   "execution_count": null,
   "metadata": {},
   "outputs": [],
   "source": [
    "# html 문서에서 div중 class가 krx_group_type이 태그 모두를 찾는다. \n",
    "divs_list = soup.find_all('div', attrs={\n",
    "    'class' : 'krx_group_type'\n",
    "})"
   ]
  },
  {
   "cell_type": "code",
   "execution_count": null,
   "metadata": {},
   "outputs": [],
   "source": [
    "len(divs_list)"
   ]
  },
  {
   "cell_type": "code",
   "execution_count": null,
   "metadata": {},
   "outputs": [],
   "source": [
    "table_data1 = divs_list[0]"
   ]
  },
  {
   "cell_type": "code",
   "execution_count": null,
   "metadata": {},
   "outputs": [],
   "source": [
    "# table 태그의 데이터를 가지고 와서 데이터프레임으로 변경 \n",
    "# columns의 값을 따로 추출 (1차원 데이터)\n",
    "# thead 태그 안에 th 태그들의 텍스트 추출\n",
    "thead_data = table_data1.find('thead')\n",
    "th_list = thead_data.find_all('th')\n",
    "# th_list에 있는 문자를 각각 추출하여 리스트로 생성\n",
    "cols = list(\n",
    "    map(\n",
    "        lambda x : x.get_text(), \n",
    "        th_list\n",
    "    )\n",
    ")\n",
    "cols\n"
   ]
  },
  {
   "cell_type": "code",
   "execution_count": null,
   "metadata": {},
   "outputs": [],
   "source": [
    "# values의 값을 따로 추출 (2차원 데이터)\n",
    "# tbody태그의 정보를 추출 \n",
    "tbody_data = table_data1.find('tbody')\n",
    "# tbody_data에서 모든 tr태그를 찾는다\n",
    "tr_list = tbody_data.find_all('tr')\n",
    "# tr_list에서 우선 첫번째 데이터를 추출\n",
    "tr_data = tr_list[0]\n",
    "# tr_data에서 th태그와 td태그를 모두 찾는다. \n",
    "val_list = tr_data.find_all( ['th', 'td'] )\n",
    "# val_list에서 텍스트를 출력하여 새로운 리스트를 생성\n",
    "first_values = list(\n",
    "    map(\n",
    "        lambda x : x.get_text().strip(), \n",
    "        val_list\n",
    "    )\n",
    ")\n",
    "first_values"
   ]
  },
  {
   "cell_type": "code",
   "execution_count": null,
   "metadata": {},
   "outputs": [],
   "source": [
    "values = []\n",
    "for tr_data in tr_list:\n",
    "    # tr_data에서 th태그와 td태그를 모두 찾는다. \n",
    "    val_list = tr_data.find_all( ['th', 'td'] )\n",
    "    value = []\n",
    "    for val in val_list:\n",
    "        # val -> <th>..., <td>.... TAG데이터\n",
    "        # val에서 텍스트를 추출하여 value에 추가\n",
    "        value.append( val.get_text().strip() )\n",
    "    # 두번째 반복문이 종료한 뒤 value를 values에 추가 \n",
    "    values.append(value)\n",
    "values"
   ]
  },
  {
   "cell_type": "code",
   "execution_count": null,
   "metadata": {},
   "outputs": [],
   "source": [
    "def func_1(tr_data):\n",
    "    # tr_data 매개변수에 대입이 될 데이터? -> tr_list에 각 원소들이 대입\n",
    "    val_list = tr_data.find_all( ['th', 'td'] )\n",
    "    result = list(\n",
    "        map(\n",
    "            lambda val : val.get_text().strip(), \n",
    "            val_list\n",
    "        )\n",
    "    )\n",
    "    return result\n",
    "\n",
    "values2 = list(\n",
    "    map(\n",
    "        func_1, \n",
    "        tr_list\n",
    "    )\n",
    ")\n",
    "values2"
   ]
  },
  {
   "cell_type": "code",
   "execution_count": null,
   "metadata": {},
   "outputs": [],
   "source": [
    "import pandas as pd"
   ]
  },
  {
   "cell_type": "code",
   "execution_count": null,
   "metadata": {},
   "outputs": [],
   "source": [
    "# cols, values를 이용하여 데이터프레임을 생성 \n",
    "df = pd.DataFrame(values, columns=cols)\n",
    "df"
   ]
  },
  {
   "cell_type": "code",
   "execution_count": 78,
   "metadata": {},
   "outputs": [],
   "source": [
    "# divs_list의 데이터들을 한번씩 데이터프레임으로 변환\n",
    "num = 1\n",
    "for table_data in divs_list:\n",
    "    # 컬럼의 데이터를 생성하는 부분분\n",
    "    thead_data = table_data.find('thead')\n",
    "    th_list = thead_data.find_all('th')\n",
    "    # th_list에 있는 문자를 각각 추출하여 리스트로 생성\n",
    "    cols = list(\n",
    "        map(\n",
    "            lambda x : x.get_text(), \n",
    "            th_list\n",
    "        )\n",
    "    )\n",
    "    # values를 생성하는 부분\n",
    "    tbody_data = table_data.find('tbody')\n",
    "    # tbody_data에서 모든 tr태그를 찾는다\n",
    "    tr_list = tbody_data.find_all('tr')\n",
    "\n",
    "    values = []\n",
    "    for tr_data in tr_list:\n",
    "        # tr_data에서 th태그와 td태그를 모두 찾는다. \n",
    "        val_list = tr_data.find_all( ['th', 'td'] )\n",
    "        value = []\n",
    "        for val in val_list:\n",
    "            # val -> <th>..., <td>.... TAG데이터\n",
    "            # val에서 텍스트를 추출하여 value에 추가\n",
    "            value.append( val.get_text().strip() )\n",
    "        # 두번째 반복문이 종료한 뒤 value를 values에 추가 \n",
    "        values.append(value)\n",
    "    \n",
    "    globals()[f\"df{num}\"] = pd.DataFrame(values, columns=cols)\n",
    "    num += 1"
   ]
  },
  {
   "cell_type": "code",
   "execution_count": null,
   "metadata": {},
   "outputs": [],
   "source": [
    "df1"
   ]
  },
  {
   "cell_type": "code",
   "execution_count": null,
   "metadata": {},
   "outputs": [],
   "source": [
    "df2"
   ]
  },
  {
   "cell_type": "code",
   "execution_count": null,
   "metadata": {},
   "outputs": [],
   "source": [
    "df3"
   ]
  },
  {
   "cell_type": "code",
   "execution_count": 82,
   "metadata": {},
   "outputs": [
    {
     "data": {
      "text/html": [
       "<div>\n",
       "<style scoped>\n",
       "    .dataframe tbody tr th:only-of-type {\n",
       "        vertical-align: middle;\n",
       "    }\n",
       "\n",
       "    .dataframe tbody tr th {\n",
       "        vertical-align: top;\n",
       "    }\n",
       "\n",
       "    .dataframe thead th {\n",
       "        text-align: right;\n",
       "    }\n",
       "</style>\n",
       "<table border=\"1\" class=\"dataframe\">\n",
       "  <thead>\n",
       "    <tr style=\"text-align: right;\">\n",
       "      <th></th>\n",
       "      <th>종목명</th>\n",
       "      <th>현재가</th>\n",
       "      <th>전일대비</th>\n",
       "      <th>등락률</th>\n",
       "    </tr>\n",
       "  </thead>\n",
       "  <tbody>\n",
       "    <tr>\n",
       "      <th>0</th>\n",
       "      <td>삼성전자</td>\n",
       "      <td>54,700</td>\n",
       "      <td>상승 1,100</td>\n",
       "      <td>+2.05%</td>\n",
       "    </tr>\n",
       "    <tr>\n",
       "      <th>1</th>\n",
       "      <td>SK하이닉스</td>\n",
       "      <td>196,200</td>\n",
       "      <td>상승 8,400</td>\n",
       "      <td>+4.47%</td>\n",
       "    </tr>\n",
       "    <tr>\n",
       "      <th>2</th>\n",
       "      <td>LG에너지솔루션</td>\n",
       "      <td>345,000</td>\n",
       "      <td>상승 4,000</td>\n",
       "      <td>+1.17%</td>\n",
       "    </tr>\n",
       "    <tr>\n",
       "      <th>3</th>\n",
       "      <td>삼성바이오로직스</td>\n",
       "      <td>1,079,000</td>\n",
       "      <td>상승 11,000</td>\n",
       "      <td>+1.03%</td>\n",
       "    </tr>\n",
       "    <tr>\n",
       "      <th>4</th>\n",
       "      <td>현대차</td>\n",
       "      <td>196,700</td>\n",
       "      <td>상승 1,100</td>\n",
       "      <td>+0.56%</td>\n",
       "    </tr>\n",
       "    <tr>\n",
       "      <th>5</th>\n",
       "      <td>셀트리온</td>\n",
       "      <td>186,300</td>\n",
       "      <td>상승 2,900</td>\n",
       "      <td>+1.58%</td>\n",
       "    </tr>\n",
       "    <tr>\n",
       "      <th>6</th>\n",
       "      <td>기아</td>\n",
       "      <td>98,800</td>\n",
       "      <td>상승 400</td>\n",
       "      <td>+0.41%</td>\n",
       "    </tr>\n",
       "    <tr>\n",
       "      <th>7</th>\n",
       "      <td>삼성전자우</td>\n",
       "      <td>45,450</td>\n",
       "      <td>상승 450</td>\n",
       "      <td>+1.00%</td>\n",
       "    </tr>\n",
       "    <tr>\n",
       "      <th>8</th>\n",
       "      <td>NAVER</td>\n",
       "      <td>214,500</td>\n",
       "      <td>상승 2,000</td>\n",
       "      <td>+0.94%</td>\n",
       "    </tr>\n",
       "    <tr>\n",
       "      <th>9</th>\n",
       "      <td>한화에어로스페이스</td>\n",
       "      <td>698,000</td>\n",
       "      <td>상승 20,000</td>\n",
       "      <td>+2.95%</td>\n",
       "    </tr>\n",
       "    <tr>\n",
       "      <th>10</th>\n",
       "      <td>KB금융</td>\n",
       "      <td>76,800</td>\n",
       "      <td>하락 600</td>\n",
       "      <td>-0.78%</td>\n",
       "    </tr>\n",
       "    <tr>\n",
       "      <th>11</th>\n",
       "      <td>HD현대중공업</td>\n",
       "      <td>309,000</td>\n",
       "      <td>상승 11,500</td>\n",
       "      <td>+3.87%</td>\n",
       "    </tr>\n",
       "    <tr>\n",
       "      <th>12</th>\n",
       "      <td>POSCO홀딩스</td>\n",
       "      <td>307,500</td>\n",
       "      <td>상승 11,000</td>\n",
       "      <td>+3.71%</td>\n",
       "    </tr>\n",
       "    <tr>\n",
       "      <th>13</th>\n",
       "      <td>한화오션</td>\n",
       "      <td>76,500</td>\n",
       "      <td>하락 1,500</td>\n",
       "      <td>-1.92%</td>\n",
       "    </tr>\n",
       "    <tr>\n",
       "      <th>14</th>\n",
       "      <td>현대모비스</td>\n",
       "      <td>244,500</td>\n",
       "      <td>하락 3,500</td>\n",
       "      <td>-1.41%</td>\n",
       "    </tr>\n",
       "  </tbody>\n",
       "</table>\n",
       "</div>"
      ],
      "text/plain": [
       "          종목명        현재가       전일대비     등락률\n",
       "0        삼성전자     54,700   상승 1,100  +2.05%\n",
       "1      SK하이닉스    196,200   상승 8,400  +4.47%\n",
       "2    LG에너지솔루션    345,000   상승 4,000  +1.17%\n",
       "3    삼성바이오로직스  1,079,000  상승 11,000  +1.03%\n",
       "4         현대차    196,700   상승 1,100  +0.56%\n",
       "5        셀트리온    186,300   상승 2,900  +1.58%\n",
       "6          기아     98,800     상승 400  +0.41%\n",
       "7       삼성전자우     45,450     상승 450  +1.00%\n",
       "8       NAVER    214,500   상승 2,000  +0.94%\n",
       "9   한화에어로스페이스    698,000  상승 20,000  +2.95%\n",
       "10       KB금융     76,800     하락 600  -0.78%\n",
       "11    HD현대중공업    309,000  상승 11,500  +3.87%\n",
       "12   POSCO홀딩스    307,500  상승 11,000  +3.71%\n",
       "13       한화오션     76,500   하락 1,500  -1.92%\n",
       "14      현대모비스    244,500   하락 3,500  -1.41%"
      ]
     },
     "execution_count": 82,
     "metadata": {},
     "output_type": "execute_result"
    }
   ],
   "source": [
    "df4"
   ]
  },
  {
   "cell_type": "code",
   "execution_count": null,
   "metadata": {},
   "outputs": [],
   "source": [
    "df"
   ]
  },
  {
   "cell_type": "code",
   "execution_count": null,
   "metadata": {},
   "outputs": [],
   "source": [
    "pd.read_html(str(divs_list[0]))[0]"
   ]
  },
  {
   "cell_type": "code",
   "execution_count": null,
   "metadata": {},
   "outputs": [],
   "source": [
    "# KRX 상위 데이터와 NXT 상위 데이터를 모두 데이터프레임으로 생성 \n",
    "\n",
    "# div TAG중 class가 'section_sise_top'인 태그를 추출\n",
    "div_data = soup.find('div', attrs={\n",
    "    'class' : 'section_sise_top'\n",
    "})\n",
    "div_data"
   ]
  },
  {
   "cell_type": "code",
   "execution_count": 89,
   "metadata": {},
   "outputs": [
    {
     "name": "stderr",
     "output_type": "stream",
     "text": [
      "C:\\Users\\moons\\AppData\\Local\\Temp\\ipykernel_15472\\590094588.py:6: FutureWarning: Passing literal html to 'read_html' is deprecated and will be removed in a future version. To read from a literal string, wrap it in a 'StringIO' object.\n",
      "  dfs = pd.read_html(div_data)\n"
     ]
    }
   ],
   "source": [
    "# pandas에 내장된 read_html() 함수를 이용하여 div_data의 \n",
    "# 테이블 태그를 모두 데이터프레임으로 변환\n",
    "# div_data를 문자로 변경\n",
    "div_data = str(div_data)\n",
    "\n",
    "dfs = pd.read_html(div_data)"
   ]
  },
  {
   "cell_type": "code",
   "execution_count": null,
   "metadata": {},
   "outputs": [],
   "source": [
    "# html5lib 에러 나는 경우 \n",
    "!pip install html5lib"
   ]
  },
  {
   "cell_type": "code",
   "execution_count": 90,
   "metadata": {},
   "outputs": [
    {
     "data": {
      "text/plain": [
       "8"
      ]
     },
     "execution_count": 90,
     "metadata": {},
     "output_type": "execute_result"
    }
   ],
   "source": [
    "len(dfs)"
   ]
  },
  {
   "cell_type": "code",
   "execution_count": 93,
   "metadata": {},
   "outputs": [],
   "source": [
    "# 홀수 위치의 데이터는 krx1, krx2, krx3, krx4 전역변수에 각각 대입\n",
    "# 짝수 위치의 데이터는 nxt1, nxt2, nxt3, nxt4 전역변수에 각각 대입\n",
    "# 조건식 : 홀수의 조건식? -> 2로 나누었을때 나머지 1인 경우\n",
    "\n",
    "for i in range(len(dfs)):\n",
    "    # print(i)\n",
    "    # i가 0인 경우 krx1변수 생성 dfs[0]대입\n",
    "    # i가 1인 경우 nxt1변수 생성 dfs[1]대입\n",
    "    num = i // 2 + 1\n",
    "    if (i % 2 == 0):\n",
    "        globals()[f\"krx{num}\"] = dfs[i]\n",
    "    else:\n",
    "        globals()[f\"nxt{num}\"] = dfs[i]\n",
    "\n"
   ]
  },
  {
   "cell_type": "code",
   "execution_count": null,
   "metadata": {},
   "outputs": [
    {
     "ename": "NameError",
     "evalue": "name 'nxt5' is not defined",
     "output_type": "error",
     "traceback": [
      "\u001b[1;31m---------------------------------------------------------------------------\u001b[0m",
      "\u001b[1;31mNameError\u001b[0m                                 Traceback (most recent call last)",
      "Cell \u001b[1;32mIn[102], line 1\u001b[0m\n\u001b[1;32m----> 1\u001b[0m \u001b[43mnxt5\u001b[49m\n",
      "\u001b[1;31mNameError\u001b[0m: name 'nxt5' is not defined"
     ]
    }
   ],
   "source": [
    "nxt4"
   ]
  }
 ],
 "metadata": {
  "kernelspec": {
   "display_name": "Python 3",
   "language": "python",
   "name": "python3"
  },
  "language_info": {
   "codemirror_mode": {
    "name": "ipython",
    "version": 3
   },
   "file_extension": ".py",
   "mimetype": "text/x-python",
   "name": "python",
   "nbconvert_exporter": "python",
   "pygments_lexer": "ipython3",
   "version": "3.11.1"
  }
 },
 "nbformat": 4,
 "nbformat_minor": 2
}
