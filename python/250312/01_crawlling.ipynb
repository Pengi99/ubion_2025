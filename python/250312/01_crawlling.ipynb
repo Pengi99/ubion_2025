{
 "cells": [
  {
   "cell_type": "markdown",
   "metadata": {},
   "source": [
    "#### 웹 크롤링\n",
    "1. 사용할 라이브러리 목록 \n",
    "    - requests\n",
    "        - 웹 통신을 위한 라이브러리 \n",
    "        - 웹서버에 요청을 보내고 응답을 받아오는 라이브러리 \n",
    "        - get( 웹주소, params = data, headers = data )\n",
    "    - bs4\n",
    "        - BeautifulSoup class를 사용\n",
    "        - html문서형 데이터를 parsing을 하여 데이터를 쉽게 추출 할 수 있도록 도와주는 기능\n",
    "        - html의 TAG를 기준으로 데이터를 추출 \n",
    "        - 웹의 구조를 어느정도 인지하고 사용하면 쉽게 접근이 가능\n",
    "        - Parser를 활용해서 python에서 접근이 쉽게 객체 형태로 제공\n",
    "    - selenium \n",
    "        - 웹 어플리케이션를 테스트를 하기 위한 라이브러리 \n",
    "        - 웹 브라우져를 python의 code를 이용해서 제어 \n",
    "        - Chrome의 버전이 구버전이거나 selenium이 구 버전인 경우에는 별도의 소프트웨어를 설치 \n",
    "        - 특정 동적인 웹 페이지에서 데이터를 가지고 올때 사용"
   ]
  },
  {
   "cell_type": "code",
   "execution_count": 1,
   "metadata": {},
   "outputs": [],
   "source": [
    "import requests\n",
    "from bs4 import BeautifulSoup as bs"
   ]
  },
  {
   "cell_type": "code",
   "execution_count": 2,
   "metadata": {},
   "outputs": [],
   "source": [
    "url = \"http://www.naver.com\"\n",
    "response = requests.get(url)"
   ]
  },
  {
   "cell_type": "code",
   "execution_count": 3,
   "metadata": {},
   "outputs": [
    {
     "data": {
      "text/plain": [
       "<Response [200]>"
      ]
     },
     "execution_count": 3,
     "metadata": {},
     "output_type": "execute_result"
    }
   ],
   "source": [
    "response"
   ]
  },
  {
   "cell_type": "code",
   "execution_count": 6,
   "metadata": {},
   "outputs": [],
   "source": [
    "html_data = response.text"
   ]
  },
  {
   "cell_type": "code",
   "execution_count": 7,
   "metadata": {},
   "outputs": [
    {
     "data": {
      "text/plain": [
       "str"
      ]
     },
     "execution_count": 7,
     "metadata": {},
     "output_type": "execute_result"
    }
   ],
   "source": [
    "type(html_data)"
   ]
  },
  {
   "cell_type": "code",
   "execution_count": 8,
   "metadata": {},
   "outputs": [
    {
     "data": {
      "text/plain": [
       "378"
      ]
     },
     "execution_count": 8,
     "metadata": {},
     "output_type": "execute_result"
    }
   ],
   "source": [
    "html_data.find('네이버')"
   ]
  },
  {
   "cell_type": "code",
   "execution_count": 10,
   "metadata": {},
   "outputs": [
    {
     "data": {
      "text/plain": [
       "'네이버 메인에서 다양한 정보와 유용한 컨텐츠를 만나 보세요'"
      ]
     },
     "execution_count": 10,
     "metadata": {},
     "output_type": "execute_result"
    }
   ],
   "source": [
    "html_data[378:410]"
   ]
  },
  {
   "cell_type": "code",
   "execution_count": 13,
   "metadata": {},
   "outputs": [],
   "source": [
    "# parsing 작업 : 데이터의 타입을 변경 ( 내가 사용하기 편한 형태로 변경 )\n",
    "soup = bs(html_data, 'html.parser')"
   ]
  },
  {
   "cell_type": "code",
   "execution_count": 15,
   "metadata": {},
   "outputs": [
    {
     "data": {
      "text/plain": [
       "bs4.BeautifulSoup"
      ]
     },
     "execution_count": 15,
     "metadata": {},
     "output_type": "execute_result"
    }
   ],
   "source": [
    "type(soup)"
   ]
  },
  {
   "cell_type": "markdown",
   "metadata": {},
   "source": [
    "- BeautifulSoup 내장함수\n",
    "    - soup.태그명 -> html 문서에서 해당 태그명의 첫번째 정보를 출력\n",
    "    - soup.태그명.string -> 첫번째 정보에서 contents부분의 문자를 출력\n",
    "    - soup.태그명['속성명'] : 첫번째 태그의 정보에서 속성의 값을 출력\n",
    "    - find(태그명)\n",
    "        - html 문서에서 해당 태그명의 첫번째 정보를 출력 \n",
    "        - find(속성명 = 속성값) : 태그들 중 해당 속성을 가지고 속성값을 가신 태그의 첫번째 정보를 출력\n",
    "        - 반환되는 값의 type은 TAG\n",
    "    - find_all(태그명)\n",
    "        - html 문서에서 해당 태그명의 모든 정보를 출력 \n",
    "        - limit 매개변수 : 태그 정보의 개수를 설정\n",
    "        - 반환되는 값의 type이 TAG_list"
   ]
  },
  {
   "cell_type": "code",
   "execution_count": 16,
   "metadata": {},
   "outputs": [
    {
     "name": "stdout",
     "output_type": "stream",
     "text": [
      "<a href=\"#topAsideButton\"><span>상단영역 바로가기</span></a>\n"
     ]
    }
   ],
   "source": [
    "# soup에서 a태그의 정보를 출력 \n",
    "print(soup.a)"
   ]
  },
  {
   "cell_type": "code",
   "execution_count": 17,
   "metadata": {},
   "outputs": [
    {
     "name": "stdout",
     "output_type": "stream",
     "text": [
      "<a href=\"#topAsideButton\"><span>상단영역 바로가기</span></a>\n"
     ]
    }
   ],
   "source": [
    "print(soup.find('a'))"
   ]
  },
  {
   "cell_type": "code",
   "execution_count": 19,
   "metadata": {},
   "outputs": [
    {
     "name": "stdout",
     "output_type": "stream",
     "text": [
      "상단영역 바로가기\n"
     ]
    }
   ],
   "source": [
    "print(soup.a.string)"
   ]
  },
  {
   "cell_type": "code",
   "execution_count": 20,
   "metadata": {},
   "outputs": [
    {
     "name": "stdout",
     "output_type": "stream",
     "text": [
      "#topAsideButton\n"
     ]
    }
   ],
   "source": [
    "print(soup.a['href'])"
   ]
  },
  {
   "cell_type": "code",
   "execution_count": 21,
   "metadata": {},
   "outputs": [
    {
     "data": {
      "text/plain": [
       "bs4.element.Tag"
      ]
     },
     "execution_count": 21,
     "metadata": {},
     "output_type": "execute_result"
    }
   ],
   "source": [
    "type(soup.a)"
   ]
  },
  {
   "cell_type": "code",
   "execution_count": 22,
   "metadata": {},
   "outputs": [
    {
     "data": {
      "text/plain": [
       "bs4.element.Tag"
      ]
     },
     "execution_count": 22,
     "metadata": {},
     "output_type": "execute_result"
    }
   ],
   "source": [
    "type(soup.find('a'))"
   ]
  },
  {
   "cell_type": "code",
   "execution_count": 23,
   "metadata": {},
   "outputs": [
    {
     "data": {
      "text/plain": [
       "bs4.element.ResultSet"
      ]
     },
     "execution_count": 23,
     "metadata": {},
     "output_type": "execute_result"
    }
   ],
   "source": [
    "type(soup.find_all('a'))"
   ]
  },
  {
   "cell_type": "code",
   "execution_count": 28,
   "metadata": {},
   "outputs": [],
   "source": [
    "# a_list = soup.find_all('a', limit=3)\n",
    "a_list = soup.find_all('a')"
   ]
  },
  {
   "cell_type": "code",
   "execution_count": 29,
   "metadata": {},
   "outputs": [
    {
     "data": {
      "text/plain": [
       "[<a href=\"#topAsideButton\"><span>상단영역 바로가기</span></a>,\n",
       " <a href=\"#shortcutArea\"><span>서비스 메뉴 바로가기</span></a>,\n",
       " <a href=\"#newsstand\"><span>새소식 블록 바로가기</span></a>,\n",
       " <a href=\"#shopping\"><span>쇼핑 블록 바로가기</span></a>,\n",
       " <a href=\"#feed\"><span>관심사 블록 바로가기</span></a>,\n",
       " <a href=\"#account\"><span>MY 영역 바로가기</span></a>,\n",
       " <a href=\"#widgetboard\"><span>위젯 보드 바로가기</span></a>,\n",
       " <a href=\"#viewSetting\"><span>보기 설정 바로가기</span></a>]"
      ]
     },
     "execution_count": 29,
     "metadata": {},
     "output_type": "execute_result"
    }
   ],
   "source": [
    "a_list"
   ]
  },
  {
   "cell_type": "code",
   "execution_count": 31,
   "metadata": {},
   "outputs": [
    {
     "data": {
      "text/plain": [
       "<span>서비스 메뉴 바로가기</span>"
      ]
     },
     "execution_count": 31,
     "metadata": {},
     "output_type": "execute_result"
    }
   ],
   "source": [
    "a_list[1].find('span')"
   ]
  },
  {
   "cell_type": "code",
   "execution_count": null,
   "metadata": {},
   "outputs": [],
   "source": [
    "# a_list에 있는 모든 원소들에 contents만 추출하여 새로운 리스트 생성\n",
    "\n",
    "# case1 반복문 이용 \n",
    "contents_list = []\n",
    "\n",
    "# 반복문 생성 \n",
    "for a_tag in a_list:\n",
    "    # a_tag -> a_list에 있는 각 원소(TAG)들이 한번씩 대입\n",
    "    contents_list.append( a_tag.string )\n",
    "\n",
    "contents_list"
   ]
  },
  {
   "cell_type": "code",
   "execution_count": null,
   "metadata": {},
   "outputs": [],
   "source": [
    "# while문\n",
    "contents_list2 = []\n",
    "\n",
    "# 초기값 \n",
    "i = 0\n",
    "\n",
    "while True:\n",
    "    try:\n",
    "        contents_list2.append(a_list[i].get_text())\n",
    "        i += 1\n",
    "    except:\n",
    "        break\n",
    "contents_list2"
   ]
  },
  {
   "cell_type": "code",
   "execution_count": 34,
   "metadata": {},
   "outputs": [
    {
     "data": {
      "text/plain": [
       "['상단영역 바로가기',\n",
       " '서비스 메뉴 바로가기',\n",
       " '새소식 블록 바로가기',\n",
       " '쇼핑 블록 바로가기',\n",
       " '관심사 블록 바로가기',\n",
       " 'MY 영역 바로가기',\n",
       " '위젯 보드 바로가기',\n",
       " '보기 설정 바로가기']"
      ]
     },
     "execution_count": 34,
     "metadata": {},
     "output_type": "execute_result"
    }
   ],
   "source": [
    "# case2 map함수를 이용\n",
    "list(\n",
    "    map(\n",
    "        lambda x : x.string, \n",
    "        a_list\n",
    "    )\n",
    ")"
   ]
  },
  {
   "cell_type": "code",
   "execution_count": 35,
   "metadata": {},
   "outputs": [
    {
     "data": {
      "text/plain": [
       "['상단영역 바로가기',\n",
       " '서비스 메뉴 바로가기',\n",
       " '새소식 블록 바로가기',\n",
       " '쇼핑 블록 바로가기',\n",
       " '관심사 블록 바로가기',\n",
       " 'MY 영역 바로가기',\n",
       " '위젯 보드 바로가기',\n",
       " '보기 설정 바로가기']"
      ]
     },
     "execution_count": 35,
     "metadata": {},
     "output_type": "execute_result"
    }
   ],
   "source": [
    "def get_string(x):\n",
    "    # x에는 TAG 데이터 대입 \n",
    "    result = x.get_text()\n",
    "    return result\n",
    "\n",
    "list(\n",
    "    map(\n",
    "        get_string, \n",
    "        a_list\n",
    "    )\n",
    ")"
   ]
  },
  {
   "cell_type": "code",
   "execution_count": 51,
   "metadata": {},
   "outputs": [],
   "source": [
    "# 네이버 파이낸스 \n",
    "# 1. 요청을 보내고 응답을 받는다. \n",
    "url  = \"https://finance.naver.com/\"\n",
    "response = requests.get(url)"
   ]
  },
  {
   "cell_type": "code",
   "execution_count": 52,
   "metadata": {},
   "outputs": [
    {
     "data": {
      "text/plain": [
       "<Response [200]>"
      ]
     },
     "execution_count": 52,
     "metadata": {},
     "output_type": "execute_result"
    }
   ],
   "source": [
    "response"
   ]
  },
  {
   "cell_type": "code",
   "execution_count": 53,
   "metadata": {},
   "outputs": [],
   "source": [
    "# 2. 응답 메시지에서 문자로 출력 변수에 저장 \n",
    "html_data = response.text"
   ]
  },
  {
   "cell_type": "code",
   "execution_count": 54,
   "metadata": {},
   "outputs": [],
   "source": [
    "# bs4에 BeautifulSoup을 이용하여 데이터를 파싱 (class 생성성)\n",
    "soup = bs(html_data, 'html.parser')"
   ]
  },
  {
   "cell_type": "code",
   "execution_count": 55,
   "metadata": {},
   "outputs": [
    {
     "data": {
      "text/plain": [
       "1"
      ]
     },
     "execution_count": 55,
     "metadata": {},
     "output_type": "execute_result"
    }
   ],
   "source": [
    "# 주요뉴스의 헤드라인 텍스트를 출력 \n",
    "# div TAG들 중에 class 속성의 값이 \"section_strategy\"인 태그를 찾는다. \n",
    "\n",
    "len(soup.find_all('div', attrs={\n",
    "    'class' : 'section_strategy'\n",
    "}))\n",
    "# find_all로 태그를 검색하고 길이를 확인하니 1\n",
    "# html 문서에서 해당 태그는 1개 -> find()함수를 이용"
   ]
  },
  {
   "cell_type": "code",
   "execution_count": 56,
   "metadata": {},
   "outputs": [],
   "source": [
    "div_data = soup.find('div', attrs={\n",
    "    'class' : 'section_strategy'\n",
    "})"
   ]
  },
  {
   "cell_type": "code",
   "execution_count": 57,
   "metadata": {},
   "outputs": [],
   "source": [
    "# div_data에서 li태그의 정보를 모두 출력\n",
    "li_list = div_data.find_all('li')"
   ]
  },
  {
   "cell_type": "code",
   "execution_count": 58,
   "metadata": {},
   "outputs": [],
   "source": [
    "# li_list에서 텍스트 추출하여 새로운 리스트로 생성\n",
    "news_data = list(\n",
    "    map(\n",
    "        lambda x : x.get_text().strip(), \n",
    "        li_list\n",
    "    )\n",
    ")"
   ]
  },
  {
   "cell_type": "code",
   "execution_count": 59,
   "metadata": {},
   "outputs": [
    {
     "data": {
      "text/plain": [
       "['트럼프발 ‘국장·미장·가상자산’ 잔혹사',\n",
       " \"최수종·하희라 배우들 다 떠났는데…주가 '급등' 무슨 일?\",\n",
       " \"삼성중공업 '8조 수주 잭팟' 기대감에 7%대 강세[핫종목]\",\n",
       " '\"K2 전차 효자네\"…현대로템, 역대 최고가 [줍줍리포트]',\n",
       " \"'믿을맨 데려오자' 바이오헬스케어 외부 인력수혈 바람\",\n",
       " '엔비디아, 하루 만에 반등…웰스파고 \"저가 매수 기회\"']"
      ]
     },
     "execution_count": 59,
     "metadata": {},
     "output_type": "execute_result"
    }
   ],
   "source": [
    "news_data"
   ]
  },
  {
   "cell_type": "code",
   "execution_count": null,
   "metadata": {},
   "outputs": [],
   "source": []
  }
 ],
 "metadata": {
  "kernelspec": {
   "display_name": "Python 3",
   "language": "python",
   "name": "python3"
  },
  "language_info": {
   "codemirror_mode": {
    "name": "ipython",
    "version": 3
   },
   "file_extension": ".py",
   "mimetype": "text/x-python",
   "name": "python",
   "nbconvert_exporter": "python",
   "pygments_lexer": "ipython3",
   "version": "3.11.1"
  }
 },
 "nbformat": 4,
 "nbformat_minor": 2
}
