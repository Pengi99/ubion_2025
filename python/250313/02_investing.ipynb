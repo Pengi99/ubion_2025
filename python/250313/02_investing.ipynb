{
 "cells": [
  {
   "cell_type": "code",
   "execution_count": null,
   "metadata": {},
   "outputs": [],
   "source": [
    "import pandas as pd\n",
    "import requests\n",
    "from bs4 import BeautifulSoup as bs\n",
    "from selenium import webdriver\n",
    "from selenium.webdriver.common.by import By\n",
    "from selenium.webdriver.common.keys import Keys"
   ]
  },
  {
   "cell_type": "code",
   "execution_count": null,
   "metadata": {},
   "outputs": [],
   "source": [
    "# 웹 브라우져 오픈 \n",
    "driver = webdriver.Chrome()"
   ]
  },
  {
   "cell_type": "code",
   "execution_count": null,
   "metadata": {},
   "outputs": [],
   "source": [
    "driver.get('https://kr.investing.com/economic-calendar/')"
   ]
  },
  {
   "cell_type": "code",
   "execution_count": null,
   "metadata": {},
   "outputs": [],
   "source": [
    "# class_name이 'popupCloseIcon' 인 태그를 선택 \n",
    "len(driver.find_elements(By.CLASS_NAME, 'popupCloseIcon'))"
   ]
  },
  {
   "cell_type": "code",
   "execution_count": null,
   "metadata": {},
   "outputs": [],
   "source": [
    "driver.find_element(By.CLASS_NAME, 'popupCloseIcon ').click()"
   ]
  },
  {
   "cell_type": "code",
   "execution_count": null,
   "metadata": {},
   "outputs": [],
   "source": [
    "# 해당 페이지의 html을 파싱 \n",
    "soup = bs(driver.page_source, 'html.parser')"
   ]
  },
  {
   "cell_type": "code",
   "execution_count": null,
   "metadata": {},
   "outputs": [],
   "source": [
    "# table 태그중 id가 economicCalendarData 인 태그를 추출 \n",
    "table_data = soup.find(\n",
    "    'table', \n",
    "    attrs={\n",
    "        'id' : 'economicCalendarData'\n",
    "    }\n",
    ")"
   ]
  },
  {
   "cell_type": "code",
   "execution_count": null,
   "metadata": {},
   "outputs": [],
   "source": [
    "table_data"
   ]
  },
  {
   "cell_type": "code",
   "execution_count": 11,
   "metadata": {},
   "outputs": [],
   "source": [
    "# table_data에서 태그 tbody\n",
    "tbody_data = table_data.tbody"
   ]
  },
  {
   "cell_type": "code",
   "execution_count": 13,
   "metadata": {},
   "outputs": [
    {
     "data": {
      "text/plain": [
       "54"
      ]
     },
     "execution_count": 13,
     "metadata": {},
     "output_type": "execute_result"
    }
   ],
   "source": [
    "# tbody_data에서 td태그 중 class가 event 인 태그를 모두 찾아서 개수 확인\n",
    "len(tbody_data.find_all(\n",
    "    'td', \n",
    "    attrs = {\n",
    "        'class' : 'event'\n",
    "    }\n",
    "))"
   ]
  },
  {
   "cell_type": "code",
   "execution_count": 14,
   "metadata": {},
   "outputs": [
    {
     "data": {
      "text/plain": [
       "55"
      ]
     },
     "execution_count": 14,
     "metadata": {},
     "output_type": "execute_result"
    }
   ],
   "source": [
    "# tbody_data에서 tr의 개수 확인\n",
    "len(tbody_data.find_all('tr'))"
   ]
  },
  {
   "cell_type": "code",
   "execution_count": 15,
   "metadata": {},
   "outputs": [],
   "source": [
    "td_list = tbody_data.find_all(\n",
    "    'td', \n",
    "    attrs={\n",
    "        'class' : 'event'\n",
    "    }\n",
    ")"
   ]
  },
  {
   "cell_type": "code",
   "execution_count": 16,
   "metadata": {},
   "outputs": [],
   "source": [
    "# td_list에서 각 td_data의 \n",
    "# 첫번째 a태그를 추출하여 href 속성의 값을 리스트로 생성\n",
    "link_list = list(\n",
    "    map(\n",
    "        lambda td_data : td_data.a['href'], \n",
    "        td_list\n",
    "    )\n",
    ")"
   ]
  },
  {
   "cell_type": "code",
   "execution_count": 17,
   "metadata": {},
   "outputs": [
    {
     "data": {
      "text/plain": [
       "['/economic-calendar/cleveland-cpi-887',\n",
       " '/economic-calendar/thomson-reuters-ipsos-pcsi-1879',\n",
       " '/economic-calendar/thomson-reuters-ipsos-pcsi-2068',\n",
       " '/economic-calendar/brazil-thomson-reuters-ipsos-pcsi-1882',\n",
       " \"/economic-calendar/ecb's-lane-speaks-1971\",\n",
       " '/economic-calendar/10-year-note-auction-571',\n",
       " '/economic-calendar/brazilian-foreign-exchange-flows-764',\n",
       " '/economic-calendar/federal-budget-balance-369',\n",
       " '/economic-calendar/ext.-migration---visitors-1449',\n",
       " '/economic-calendar/permanent-long-term-migration-1500',\n",
       " '/economic-calendar/visitor-arrivals-304',\n",
       " '/economic-calendar/foreign-bonds-buying-987',\n",
       " '/economic-calendar/foreign-investments-in-japanese-stocks-1451',\n",
       " '/economic-calendar/mi-inflation-expectations-365',\n",
       " '/economic-calendar/building-approvals-22',\n",
       " '/economic-calendar/private-house-approvals-1504',\n",
       " '/economic-calendar/rba-assistant-governor-jones-speaks-2138',\n",
       " '/economic-calendar/thai-consumer-confidence-803',\n",
       " '/economic-calendar/swiss-ppi-960',\n",
       " '/economic-calendar/swiss-ppi-240',\n",
       " '/economic-calendar/industrial-production-2160',\n",
       " '/economic-calendar/ppi-2161',\n",
       " '/economic-calendar/iea-monthly-report-1674',\n",
       " '/economic-calendar/italian-quarterly-unemployment-rate-183',\n",
       " '/economic-calendar/south-african-gold-production-1471',\n",
       " '/economic-calendar/south-african-mining-production-1496',\n",
       " \"/economic-calendar/ecb's-de-guindos-speaks-1790\",\n",
       " '/economic-calendar/industrial-production-931',\n",
       " '/economic-calendar/industrial-production-160',\n",
       " '/economic-calendar/italian-15-year-btp-auction-700',\n",
       " '/economic-calendar/italian-3-year-btp-auction-698',\n",
       " '/economic-calendar/italian-30-year-btp-auction-584',\n",
       " '/economic-calendar/thomson-reuters-ipsos-pcsi-1936',\n",
       " '/economic-calendar/italy-thomson-reuters-ipsos-pcsi-1925',\n",
       " '/economic-calendar/germany-thomson-reuters-ipsos-pcsi-1894',\n",
       " '/economic-calendar/france-thomson-reuters-ipsos-pcsi-1929',\n",
       " '/economic-calendar/thomson-reuters-ipsos-pcsi-2066',\n",
       " '/economic-calendar/south-african-manufacturing-production-2000',\n",
       " '/economic-calendar/south-african-manufacturing-production-1306',\n",
       " '/economic-calendar/thomson-reuters-ipsos-pcsi-2067',\n",
       " '/economic-calendar/brazilian-bank-lending-761',\n",
       " '/economic-calendar/brazilian-service-sector-growth-1881',\n",
       " '/economic-calendar/brazilian-service-sector-growth-1880',\n",
       " '/economic-calendar/continuing-jobless-claims-522',\n",
       " '/economic-calendar/core-ppi-62',\n",
       " '/economic-calendar/core-ppi-735',\n",
       " '/economic-calendar/initial-jobless-claims-294',\n",
       " '/economic-calendar/jobless-claims-4-week-avg.-1041',\n",
       " '/economic-calendar/ppi-238',\n",
       " '/economic-calendar/ppi-734',\n",
       " '/economic-calendar/ppi-ex.-food-energy-trade-2048',\n",
       " '/economic-calendar/ppi-ex.-food-energy-trade-2049',\n",
       " '/economic-calendar/building-permits-24',\n",
       " '/economic-calendar/natural-gas-storage-386']"
      ]
     },
     "execution_count": 17,
     "metadata": {},
     "output_type": "execute_result"
    }
   ],
   "source": [
    "link_list"
   ]
  },
  {
   "cell_type": "code",
   "execution_count": 18,
   "metadata": {},
   "outputs": [],
   "source": [
    "base_url = \"https://kr.investing.com/\""
   ]
  },
  {
   "cell_type": "code",
   "execution_count": null,
   "metadata": {},
   "outputs": [],
   "source": [
    "driver.get(base_url+link_list[0])"
   ]
  },
  {
   "cell_type": "code",
   "execution_count": 27,
   "metadata": {},
   "outputs": [],
   "source": [
    "# driver의 html 파싱 \n",
    "soup2 = bs(driver.page_source, 'html.parser')"
   ]
  },
  {
   "cell_type": "code",
   "execution_count": null,
   "metadata": {},
   "outputs": [],
   "source": []
  }
 ],
 "metadata": {
  "kernelspec": {
   "display_name": "Python 3",
   "language": "python",
   "name": "python3"
  },
  "language_info": {
   "codemirror_mode": {
    "name": "ipython",
    "version": 3
   },
   "file_extension": ".py",
   "mimetype": "text/x-python",
   "name": "python",
   "nbconvert_exporter": "python",
   "pygments_lexer": "ipython3",
   "version": "3.11.1"
  }
 },
 "nbformat": 4,
 "nbformat_minor": 2
}
