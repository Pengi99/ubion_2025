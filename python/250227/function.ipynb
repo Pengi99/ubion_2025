{
 "cells": [
  {
   "cell_type": "code",
   "execution_count": null,
   "metadata": {},
   "outputs": [],
   "source": [
    "# 함수\n",
    "# def 함수명(매개변수):\n",
    "def func_1():\n",
    "    # 함수가 호출되었을때 실행이 되는 코드 부분\n",
    "    return \"Hello\"\n",
    "\n",
    "def func_2():\n",
    "    print('Hello')"
   ]
  },
  {
   "cell_type": "code",
   "execution_count": null,
   "metadata": {},
   "outputs": [],
   "source": [
    "func_1()"
   ]
  },
  {
   "cell_type": "code",
   "execution_count": null,
   "metadata": {},
   "outputs": [],
   "source": [
    "func_2()"
   ]
  },
  {
   "cell_type": "code",
   "execution_count": null,
   "metadata": {},
   "outputs": [],
   "source": [
    "# return이 존재하는 함수와 존재하지 않는 함수의 차이 \n",
    "# return이 존재하는 함수를 호출하여 결과를 a에 저장\n",
    "# func_1() 호출 -> \"Hello\" 문자를 되돌려준다. -> a에 저장\n",
    "a = func_1()\n",
    "# return이 존재하지 않는 함수를 호출하여 결과를 b에 저장\n",
    "# func_2() 호출 -> \"Hello\"를 출력한다. -> b에 저장장\n",
    "b = func_2()"
   ]
  },
  {
   "cell_type": "code",
   "execution_count": null,
   "metadata": {},
   "outputs": [],
   "source": [
    "print(a)\n",
    "print(b)"
   ]
  },
  {
   "cell_type": "code",
   "execution_count": null,
   "metadata": {},
   "outputs": [],
   "source": [
    "# 변수를 생성 -> 데이터를 언제나 할당\n",
    "# 변수명 = 데이터\n",
    "# 변수명1 = 변수명2 = 변수명3 = 데이터\n",
    "# 변수명1, 변수명2 = 데이터1, 데이터2\n",
    "x = y = z = 10\n",
    "print(x)\n",
    "print(y)\n",
    "print(z)"
   ]
  },
  {
   "cell_type": "code",
   "execution_count": null,
   "metadata": {},
   "outputs": [],
   "source": [
    "x_1 = x\n",
    "print(x_1)\n",
    "x += 1\n",
    "print(x_1)"
   ]
  },
  {
   "cell_type": "code",
   "execution_count": null,
   "metadata": {},
   "outputs": [],
   "source": [
    "x, y = 3, 'hello'\n",
    "print(x)\n",
    "print(y)"
   ]
  },
  {
   "cell_type": "code",
   "execution_count": null,
   "metadata": {},
   "outputs": [],
   "source": [
    "def func_3(x, y):\n",
    "    result = x + y\n",
    "    result2 = x - y\n",
    "    return result, result2"
   ]
  },
  {
   "cell_type": "code",
   "execution_count": null,
   "metadata": {},
   "outputs": [],
   "source": [
    "a = func_3(10, 3)\n",
    "print(a)\n",
    "print(a[0])\n",
    "print(a[1])"
   ]
  },
  {
   "cell_type": "code",
   "execution_count": null,
   "metadata": {},
   "outputs": [],
   "source": [
    "a, b = func_3(10, 3)\n",
    "print(a)\n",
    "print(b)"
   ]
  },
  {
   "cell_type": "code",
   "execution_count": 14,
   "metadata": {},
   "outputs": [],
   "source": [
    "# 함수를 생성  매개변수의 개수와 \n",
    "# 함수를 호출 할때 인자의 개수가 동일\n",
    "def func_4(x):\n",
    "    result = x * 2\n",
    "    return result"
   ]
  },
  {
   "cell_type": "code",
   "execution_count": 15,
   "metadata": {},
   "outputs": [
    {
     "name": "stdout",
     "output_type": "stream",
     "text": [
      "20\n",
      "abcdabcd\n",
      "2\n",
      "(1, 2, 3, 1, 2, 3)\n"
     ]
    }
   ],
   "source": [
    "print(func_4(10))\n",
    "print(func_4('abcd'))\n",
    "print(func_4(True))\n",
    "print(func_4((1,2,3)))"
   ]
  },
  {
   "cell_type": "code",
   "execution_count": null,
   "metadata": {},
   "outputs": [
    {
     "ename": "TypeError",
     "evalue": "func_4() takes 1 positional argument but 2 were given",
     "output_type": "error",
     "traceback": [
      "\u001b[1;31m---------------------------------------------------------------------------\u001b[0m",
      "\u001b[1;31mTypeError\u001b[0m                                 Traceback (most recent call last)",
      "Cell \u001b[1;32mIn[16], line 2\u001b[0m\n\u001b[0;32m      1\u001b[0m \u001b[38;5;66;03m# 함수의 매개변수가 1개인데 인자를 2개를 넣으면? \u001b[39;00m\n\u001b[1;32m----> 2\u001b[0m \u001b[43mfunc_4\u001b[49m\u001b[43m(\u001b[49m\u001b[38;5;241;43m1\u001b[39;49m\u001b[43m,\u001b[49m\u001b[43m \u001b[49m\u001b[38;5;241;43m2\u001b[39;49m\u001b[43m)\u001b[49m\n",
      "\u001b[1;31mTypeError\u001b[0m: func_4() takes 1 positional argument but 2 were given"
     ]
    }
   ],
   "source": [
    "# 함수의 매개변수가 1개인데 인자를 2개를 넣으면? -> 에러 발생생\n",
    "func_4(1, 2)"
   ]
  },
  {
   "cell_type": "code",
   "execution_count": 17,
   "metadata": {},
   "outputs": [
    {
     "ename": "TypeError",
     "evalue": "func_4() missing 1 required positional argument: 'x'",
     "output_type": "error",
     "traceback": [
      "\u001b[1;31m---------------------------------------------------------------------------\u001b[0m",
      "\u001b[1;31mTypeError\u001b[0m                                 Traceback (most recent call last)",
      "Cell \u001b[1;32mIn[17], line 2\u001b[0m\n\u001b[0;32m      1\u001b[0m \u001b[38;5;66;03m# 매개변수가 1개인데 인자를 0개  넣으면?\u001b[39;00m\n\u001b[1;32m----> 2\u001b[0m \u001b[43mfunc_4\u001b[49m\u001b[43m(\u001b[49m\u001b[43m)\u001b[49m\n",
      "\u001b[1;31mTypeError\u001b[0m: func_4() missing 1 required positional argument: 'x'"
     ]
    }
   ],
   "source": [
    "# 매개변수가 1개인데 인자를 0개  넣으면?\n",
    "func_4()"
   ]
  },
  {
   "cell_type": "code",
   "execution_count": 18,
   "metadata": {},
   "outputs": [
    {
     "name": "stdout",
     "output_type": "stream",
     "text": [
      "1\n",
      "2\n"
     ]
    }
   ],
   "source": [
    "print(1)\n",
    "print(2)"
   ]
  },
  {
   "cell_type": "code",
   "execution_count": null,
   "metadata": {},
   "outputs": [
    {
     "name": "stdout",
     "output_type": "stream",
     "text": [
      "1  2\n"
     ]
    }
   ],
   "source": [
    "# print()함수는 end매개변수의 기본값은 줄바꿈(\\n)\n",
    "print(1, end='  ')\n",
    "print(2)"
   ]
  },
  {
   "cell_type": "code",
   "execution_count": 20,
   "metadata": {},
   "outputs": [],
   "source": [
    "# 매개변수에 기본값이 존재하는 함수를 생성 \n",
    "def func_5(x, y = 2):\n",
    "    result = (x + y) ** y\n",
    "    return result"
   ]
  },
  {
   "cell_type": "code",
   "execution_count": 21,
   "metadata": {},
   "outputs": [
    {
     "name": "stdout",
     "output_type": "stream",
     "text": [
      "2197\n",
      "49\n"
     ]
    }
   ],
   "source": [
    "print(func_5(10, 3))\n",
    "print(func_5(5))"
   ]
  },
  {
   "cell_type": "code",
   "execution_count": 22,
   "metadata": {},
   "outputs": [
    {
     "ename": "TypeError",
     "evalue": "func_5() missing 1 required positional argument: 'x'",
     "output_type": "error",
     "traceback": [
      "\u001b[1;31m---------------------------------------------------------------------------\u001b[0m",
      "\u001b[1;31mTypeError\u001b[0m                                 Traceback (most recent call last)",
      "Cell \u001b[1;32mIn[22], line 1\u001b[0m\n\u001b[1;32m----> 1\u001b[0m \u001b[43mfunc_5\u001b[49m\u001b[43m(\u001b[49m\u001b[43m)\u001b[49m\n",
      "\u001b[1;31mTypeError\u001b[0m: func_5() missing 1 required positional argument: 'x'"
     ]
    }
   ],
   "source": [
    "func_5()"
   ]
  },
  {
   "cell_type": "code",
   "execution_count": null,
   "metadata": {},
   "outputs": [
    {
     "ename": "SyntaxError",
     "evalue": "non-default argument follows default argument (1354484983.py, line 1)",
     "output_type": "error",
     "traceback": [
      "\u001b[1;36m  Cell \u001b[1;32mIn[24], line 1\u001b[1;36m\u001b[0m\n\u001b[1;33m    def func_6(x = 1, y):\u001b[0m\n\u001b[1;37m                      ^\u001b[0m\n\u001b[1;31mSyntaxError\u001b[0m\u001b[1;31m:\u001b[0m non-default argument follows default argument\n"
     ]
    }
   ],
   "source": [
    "# 매개변수의 기본값은 뒤에서부터 채워서 생성\n",
    "def func_6(x = 1, y):\n",
    "    result = x + y\n",
    "    return result"
   ]
  },
  {
   "cell_type": "code",
   "execution_count": 25,
   "metadata": {},
   "outputs": [],
   "source": [
    "# 인자의 개수가 가변인 경우의 함수를 생성\n",
    "def func_6(*args):\n",
    "    print(args)"
   ]
  },
  {
   "cell_type": "code",
   "execution_count": 26,
   "metadata": {},
   "outputs": [
    {
     "name": "stdout",
     "output_type": "stream",
     "text": [
      "()\n"
     ]
    }
   ],
   "source": [
    "func_6()"
   ]
  },
  {
   "cell_type": "code",
   "execution_count": 27,
   "metadata": {},
   "outputs": [
    {
     "name": "stdout",
     "output_type": "stream",
     "text": [
      "(1, 2, 3, 4, 5)\n"
     ]
    }
   ],
   "source": [
    "func_6(1,2,3,4,5)"
   ]
  },
  {
   "cell_type": "code",
   "execution_count": 28,
   "metadata": {},
   "outputs": [],
   "source": [
    "def func_7(x, *args):\n",
    "    # 필수로 입력해야 하는 인자의 개수는? 1개\n",
    "    print(x)\n",
    "    print(args)"
   ]
  },
  {
   "cell_type": "code",
   "execution_count": 29,
   "metadata": {},
   "outputs": [
    {
     "name": "stdout",
     "output_type": "stream",
     "text": [
      "1\n",
      "()\n"
     ]
    }
   ],
   "source": [
    "func_7(1)"
   ]
  },
  {
   "cell_type": "code",
   "execution_count": 30,
   "metadata": {},
   "outputs": [
    {
     "name": "stdout",
     "output_type": "stream",
     "text": [
      "1\n",
      "(2, 3, 4, 5)\n"
     ]
    }
   ],
   "source": [
    "func_7(1,2,3,4,5)"
   ]
  },
  {
   "cell_type": "code",
   "execution_count": null,
   "metadata": {},
   "outputs": [],
   "source": [
    "def func_8(*args, x):\n",
    "    # 입력의 값의 개수는 2개 이상상\n",
    "    print(args)\n",
    "    print(x)"
   ]
  },
  {
   "cell_type": "code",
   "execution_count": 32,
   "metadata": {},
   "outputs": [
    {
     "ename": "TypeError",
     "evalue": "func_8() missing 1 required keyword-only argument: 'x'",
     "output_type": "error",
     "traceback": [
      "\u001b[1;31m---------------------------------------------------------------------------\u001b[0m",
      "\u001b[1;31mTypeError\u001b[0m                                 Traceback (most recent call last)",
      "Cell \u001b[1;32mIn[32], line 1\u001b[0m\n\u001b[1;32m----> 1\u001b[0m \u001b[43mfunc_8\u001b[49m\u001b[43m(\u001b[49m\u001b[38;5;241;43m1\u001b[39;49m\u001b[43m)\u001b[49m\n",
      "\u001b[1;31mTypeError\u001b[0m: func_8() missing 1 required keyword-only argument: 'x'"
     ]
    }
   ],
   "source": [
    "func_8(1)"
   ]
  },
  {
   "cell_type": "code",
   "execution_count": 47,
   "metadata": {},
   "outputs": [],
   "source": [
    "# 함수를 하나 생성\n",
    "# 매개변수 2개 생성 \n",
    "# 첫번째 매개변수는 인자의 개수가 가변인 경우 \n",
    "# 두번째 매개변수는 기본값을 1\n",
    "# 두번째 매개변수가 1인 경우에는 첫번째 매개변수에 들어오는 데이터를\n",
    "# 누적합을 하여 되돌려준다. \n",
    "# 2인 경우에는 누적차를 하여 되돌려준다. \n",
    "# 3인 경우에는 누적곱을 하여 되돌려준다. \n",
    "def func_9(*args, x = 1):\n",
    "    # x의 값에 따라서 연산이 바뀐다. (누적합, 누적차, 누적곱)\n",
    "    # 합계 라는 초기 변수를 생성 \n",
    "    if x == 3: # 누적곱인 경우에는 0이면 무조건 0이 나오기 때문에 1로 변경\n",
    "        result = 1\n",
    "    else:\n",
    "        result = 0\n",
    "    # args 매개변수에 입력되는 인자 값의 개수만큼 반복 실행\n",
    "    # for / while\n",
    "    # if x == 1:\n",
    "    #     for i in args:\n",
    "    #         result += i\n",
    "    # elif x == 2:\n",
    "    #     for i in args:\n",
    "    #         result -= i\n",
    "    # elif x == 3:\n",
    "    #     for i in args:\n",
    "    #         result *= i\n",
    "    # else :\n",
    "    #     print('x의 범위는 1부터 3까지입니다.')\n",
    "    for i in args:\n",
    "        if x == 1:\n",
    "            result += i\n",
    "        elif x == 2:\n",
    "            result -= i\n",
    "        elif x == 3:\n",
    "            result *= i\n",
    "        else:\n",
    "            print('x의 범위는 1부터 3까지 입니다.')\n",
    "            break\n",
    "\n",
    "    return result\n"
   ]
  },
  {
   "cell_type": "code",
   "execution_count": 48,
   "metadata": {},
   "outputs": [
    {
     "data": {
      "text/plain": [
       "15"
      ]
     },
     "execution_count": 48,
     "metadata": {},
     "output_type": "execute_result"
    }
   ],
   "source": [
    "func_9(1,2,3,4,5)"
   ]
  },
  {
   "cell_type": "code",
   "execution_count": 49,
   "metadata": {},
   "outputs": [
    {
     "data": {
      "text/plain": [
       "-15"
      ]
     },
     "execution_count": 49,
     "metadata": {},
     "output_type": "execute_result"
    }
   ],
   "source": [
    "func_9(1,2,3,4,5, x = 2)"
   ]
  },
  {
   "cell_type": "code",
   "execution_count": 50,
   "metadata": {},
   "outputs": [
    {
     "data": {
      "text/plain": [
       "120"
      ]
     },
     "execution_count": 50,
     "metadata": {},
     "output_type": "execute_result"
    }
   ],
   "source": [
    "func_9(1,2,3,4,5, x= 3)"
   ]
  },
  {
   "cell_type": "code",
   "execution_count": 51,
   "metadata": {},
   "outputs": [
    {
     "name": "stdout",
     "output_type": "stream",
     "text": [
      "x의 범위는 1부터 3까지 입니다.\n"
     ]
    },
    {
     "data": {
      "text/plain": [
       "0"
      ]
     },
     "execution_count": 51,
     "metadata": {},
     "output_type": "execute_result"
    }
   ],
   "source": [
    "func_9(1,2,3, x=4)"
   ]
  },
  {
   "cell_type": "code",
   "execution_count": 53,
   "metadata": {},
   "outputs": [],
   "source": [
    "def func_10(args, x = 1): \n",
    "    if x == 3: # 누적곱인 경우에는 0이면 무조건 0이 나오기 때문에 1로 변경\n",
    "        result = 1\n",
    "    else:\n",
    "        result = 0\n",
    "    for i in args:\n",
    "        if x == 1:\n",
    "            result += i\n",
    "        elif x == 2:\n",
    "            result -= i\n",
    "        elif x == 3:\n",
    "            result *= i\n",
    "        else:\n",
    "            print('x의 범위는 1부터 3까지 입니다.')\n",
    "            break\n",
    "\n",
    "    return result"
   ]
  },
  {
   "cell_type": "code",
   "execution_count": 54,
   "metadata": {},
   "outputs": [
    {
     "data": {
      "text/plain": [
       "10"
      ]
     },
     "execution_count": 54,
     "metadata": {},
     "output_type": "execute_result"
    }
   ],
   "source": [
    "func_10([1,2,3,4])"
   ]
  },
  {
   "cell_type": "code",
   "execution_count": 55,
   "metadata": {},
   "outputs": [],
   "source": [
    "# func_9를 while문으로 구성\n",
    "def func_11(*args, x = 1):\n",
    "    if x == 3:\n",
    "        result = 1\n",
    "    elif x == 1 or x == 2:\n",
    "        result = 0\n",
    "    else:\n",
    "        # 함수에서 return은? -> 결과 값을 되돌려준다.(함수를 종료료)\n",
    "        return 'x의 범위는 1부터 3까지입니다.'\n",
    "    # while문\n",
    "    idx = 0\n",
    "\n",
    "    while idx < len(args):\n",
    "        if x == 1:\n",
    "            result += args[idx]\n",
    "        elif x == 2:\n",
    "            result -= args[idx]\n",
    "        else:\n",
    "            result *= args[idx]\n",
    "        idx += 1\n",
    "        # idx = idx + 1\n",
    "    return result\n",
    "        "
   ]
  },
  {
   "cell_type": "code",
   "execution_count": 56,
   "metadata": {},
   "outputs": [
    {
     "data": {
      "text/plain": [
       "15"
      ]
     },
     "execution_count": 56,
     "metadata": {},
     "output_type": "execute_result"
    }
   ],
   "source": [
    "func_11(1,2,3,4,5)"
   ]
  },
  {
   "cell_type": "code",
   "execution_count": 57,
   "metadata": {},
   "outputs": [
    {
     "data": {
      "text/plain": [
       "-15"
      ]
     },
     "execution_count": 57,
     "metadata": {},
     "output_type": "execute_result"
    }
   ],
   "source": [
    "func_11(1,2,3,4,5, x = 2)"
   ]
  },
  {
   "cell_type": "code",
   "execution_count": 58,
   "metadata": {},
   "outputs": [
    {
     "data": {
      "text/plain": [
       "120"
      ]
     },
     "execution_count": 58,
     "metadata": {},
     "output_type": "execute_result"
    }
   ],
   "source": [
    "func_11(1,2,3,4,5, x = 3)"
   ]
  },
  {
   "cell_type": "code",
   "execution_count": 59,
   "metadata": {},
   "outputs": [
    {
     "data": {
      "text/plain": [
       "'x의 범위는 1부터 3까지입니다.'"
      ]
     },
     "execution_count": 59,
     "metadata": {},
     "output_type": "execute_result"
    }
   ],
   "source": [
    "func_11(1,2,3,4,5, x = 4)"
   ]
  },
  {
   "cell_type": "code",
   "execution_count": 63,
   "metadata": {},
   "outputs": [],
   "source": [
    "def func_12(*args, x = 1):\n",
    "    if x in (1, 2):\n",
    "        result = 0\n",
    "    elif x == 3:\n",
    "        result = 1\n",
    "    else:\n",
    "        return \"x의 범위는 1부터 3까지입니다.\"\n",
    "    \n",
    "    idx = 0\n",
    "    # while문을 무한루프 -> 거짓이 되는 경우가 존재하지 않는다.\n",
    "    while True:\n",
    "        try:\n",
    "            if x == 1:\n",
    "                result += args[idx]\n",
    "                print(result)\n",
    "            elif x == 2:\n",
    "                result -= args[idx]\n",
    "            else :\n",
    "                result *= args[idx]\n",
    "            idx += 1\n",
    "        except:\n",
    "            # try에서 코드가 실행될때 에러가 발생한다면 break\n",
    "            break\n",
    "    return result\n"
   ]
  },
  {
   "cell_type": "code",
   "execution_count": 64,
   "metadata": {},
   "outputs": [
    {
     "name": "stdout",
     "output_type": "stream",
     "text": [
      "1\n",
      "3\n",
      "6\n",
      "10\n",
      "15\n"
     ]
    },
    {
     "data": {
      "text/plain": [
       "15"
      ]
     },
     "execution_count": 64,
     "metadata": {},
     "output_type": "execute_result"
    }
   ],
   "source": [
    "func_12(1,2,3,4,5)"
   ]
  },
  {
   "cell_type": "code",
   "execution_count": null,
   "metadata": {},
   "outputs": [],
   "source": [
    "# 함수를 생성 \n",
    "# 함수의 매개변수 3개\n",
    "# 시작값, 종료값, 증가값\n",
    "# 증가값은 기본값이 1\n",
    "# 시작값부터 종료값 전까지 증가값만큼 증가를 시켜서 list에 원소를 담는다. \n",
    "# range 함수와 흡사한 함수를 하나 생성 [결과의 타입은 list]\n",
    "# 조건문 -> 증가값이 양수라면 -> 시작값과 종료값중 큰 값이 종료\n",
    "# 증가값이 음수라면 -> 시작값과 종료값중 작은 값은 종료\n",
    "# 증가값이 0이라면 작은값으로 이루어진 리스트를 생성 개수 종료값값\n",
    "# ex) func(1, 10, 1) --> [1,2,3,4,5,6,7,8,9]\n",
    "# func(10, 1, 1) --> [1,2,3,4,5,6,7,8,9]\n",
    "# func(1, 10, -1) --> [10, 9, 8, 7, 6, 5, 4, 3, 2]\n",
    "# func(1, 5, 0) -- > [1,1,1,1,1]\n",
    "# func(3, 1, 0) --> [1,1,1]\n"
   ]
  },
  {
   "cell_type": "code",
   "execution_count": null,
   "metadata": {},
   "outputs": [],
   "source": [
    "def func(x, y, z = 1):\n",
    "    # 결과값의 타입은 list 빈 list 생성 \n",
    "    result = []\n",
    "    # 증가값(z)이 양수라면?\n",
    "    if z > 0 :\n",
    "        # x, y를 비교\n",
    "        # min(): 값들을 비교해서 작은 값을 출력 \n",
    "        # max(): 값들을 비교해서 큰 값을 출력\n",
    "        if x < y:\n",
    "            # 시작값 \n",
    "            start = x\n",
    "            # 종료값값\n",
    "            end = y\n",
    "        else:\n",
    "            start = y\n",
    "            end = x\n",
    "    "
   ]
  }
 ],
 "metadata": {
  "kernelspec": {
   "display_name": "Python 3",
   "language": "python",
   "name": "python3"
  },
  "language_info": {
   "codemirror_mode": {
    "name": "ipython",
    "version": 3
   },
   "file_extension": ".py",
   "mimetype": "text/x-python",
   "name": "python",
   "nbconvert_exporter": "python",
   "pygments_lexer": "ipython3",
   "version": "3.11.1"
  }
 },
 "nbformat": 4,
 "nbformat_minor": 2
}
