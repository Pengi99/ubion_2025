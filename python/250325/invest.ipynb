{
 "cells": [
  {
   "cell_type": "markdown",
   "metadata": {},
   "source": [
    "### 두개의 투자 전략을 하나의 class 선언\n",
    "\n",
    "1. 클래스의 이름은 Invest 상속은 X\n",
    "2. 생성자 함수 \n",
    "    - 매개변수 4개\n",
    "        - 주식 데이터 (_df)\n",
    "        - 기준이 되는 컬럼의 이름 (_col = 'Adj Close')\n",
    "        - 투자의 시작 시간 (_start = '2010-01-01')\n",
    "        - 투자의 종료 시간 (_end = datetime.now())\n",
    "    - 결측치, 양의 무한대, 음의 무한대를 제외\n",
    "    - 컬럼중 Date 컬럼이 존재한다면 Date 컬럼을 인덱스로 변환\n",
    "    - index를 시계열 데이터로 변환\n",
    "    - index에 tz에 존재한다면 tz를 None 변경\n",
    "    - 시작 시간과 종료 시간은 시계열 데이터로 변환\n",
    "        - 종료시간은 문자열인 경우에만 변환환\n",
    "    - 기준이 컬럼(self.col), 시작시간(self.start), 종료시간(self.end)은 self변수로 생성\n",
    "3. buyandhold 함수를 생성 \n",
    "    - 매개변수 x (self를 생성)\n",
    "    - 시작시간과 종료시간으로 인덱스 필터 기준이되는 컬럼을 제외하고 모두 제거 \n",
    "    - 일별 수익율 컬럼을 생성하여 pct_change() + 1 함수를 이용하여 값을 대입\n",
    "    - 누적수익율 컬럼을 생성하여 누적 수익율 데이터를 대입 \n",
    "    - 만들어진 데이터프레임과 총 누적수익율을 되돌려준다."
   ]
  },
  {
   "cell_type": "code",
   "execution_count": 1,
   "metadata": {},
   "outputs": [],
   "source": [
    "import pandas as pd \n",
    "from datetime import datetime\n",
    "import numpy as np"
   ]
  },
  {
   "cell_type": "code",
   "execution_count": 10,
   "metadata": {},
   "outputs": [],
   "source": [
    "class Invest:\n",
    "    # 생성자 함수 \n",
    "    def __init__(\n",
    "            self,\n",
    "            _df, \n",
    "            _col = 'Adj Close', \n",
    "            _start = '2010-01-01', \n",
    "            _end = datetime.now()\n",
    "    ):\n",
    "        # 조건식 생성 \n",
    "        flag = _df.isin( [np.nan, np.inf, -np.inf ] ).any(axis=1)\n",
    "        self.df = _df.loc[~flag]\n",
    "        # self.df의 컬럼중 Date가 존재한다면?\n",
    "        if 'Date' in self.df.columns:\n",
    "            self.df.set_index('Date', inplace=True)\n",
    "        # index를 시계열 데이터로 변경 \n",
    "        self.df.index = pd.to_datetime(self.df.index)\n",
    "        # tz가 존재하는가?\n",
    "        if self.df.index.tz:\n",
    "            self.df.index = self.df.index.tz_localize(None)\n",
    "        # 인자값으로 들어온 기준이 되는 컬럼의 이름은 self변수에 저장\n",
    "        self.col = _col\n",
    "        # 시작 시간은 시계열로 변경 \n",
    "        try:\n",
    "            self.start = datetime.strptime(_start, '%Y-%m-%d')\n",
    "            if type(_end) == 'str':\n",
    "                self.end = datetime.strptime(_end, '%Y-%m-%d')\n",
    "            else:\n",
    "                self.end = _end\n",
    "        except:\n",
    "            print(\"시간의 타입이 맞지 않습니다. 포멧은 YYYY-mm-dd 형식입니다.\")\n",
    "            print('Class를 다시 생성하시기 바랍니다.')\n",
    "        \n",
    "    def buyandhold(self):\n",
    "        # 시작 시간, 종료시간 , 특정 컬럼을 기준으로 데이터를 필터 \n",
    "        result = self.df.loc[self.start : self.end , [self.col]]\n",
    "        # 일별 수익율 생성\n",
    "        result['rtn'] = (result[self.col].pct_change() + 1).fillna(1)\n",
    "        # 누적 수익율 생성 \n",
    "        result['acc_rtn'] = result['rtn'].cumprod()\n",
    "        # 총 누적 수익율을 변수에 저장 \n",
    "        acc_rtn  = result.iloc[-1, -1]\n",
    "        return result, acc_rtn\n"
   ]
  },
  {
   "cell_type": "code",
   "execution_count": 3,
   "metadata": {},
   "outputs": [],
   "source": [
    "df = pd.read_csv('../../csv/AAPL.csv')"
   ]
  },
  {
   "cell_type": "code",
   "execution_count": 11,
   "metadata": {},
   "outputs": [],
   "source": [
    "test_invest = Invest(df)"
   ]
  },
  {
   "cell_type": "code",
   "execution_count": 12,
   "metadata": {},
   "outputs": [
    {
     "data": {
      "text/plain": [
       "(             Adj Close       rtn   acc_rtn\n",
       " Date                                      \n",
       " 2010-01-04   26.782711  1.000000  1.000000\n",
       " 2010-01-05   26.829010  1.001729  1.001729\n",
       " 2010-01-06   26.402260  0.984094  0.985795\n",
       " 2010-01-07   26.353460  0.998152  0.983973\n",
       " 2010-01-08   26.528664  1.006648  0.990515\n",
       " ...                ...       ...       ...\n",
       " 2019-06-18  198.449997  1.023518  7.409631\n",
       " 2019-06-19  197.869995  0.997077  7.387975\n",
       " 2019-06-20  199.460007  1.008036  7.447342\n",
       " 2019-06-21  198.779999  0.996591  7.421952\n",
       " 2019-06-24  199.169998  1.001962  7.436514\n",
       " \n",
       " [2384 rows x 3 columns],\n",
       " 7.436513727083075)"
      ]
     },
     "execution_count": 12,
     "metadata": {},
     "output_type": "execute_result"
    }
   ],
   "source": [
    "test_invest.buyandhold()"
   ]
  }
 ],
 "metadata": {
  "kernelspec": {
   "display_name": "Python 3",
   "language": "python",
   "name": "python3"
  },
  "language_info": {
   "codemirror_mode": {
    "name": "ipython",
    "version": 3
   },
   "file_extension": ".py",
   "mimetype": "text/x-python",
   "name": "python",
   "nbconvert_exporter": "python",
   "pygments_lexer": "ipython3",
   "version": "3.11.1"
  }
 },
 "nbformat": 4,
 "nbformat_minor": 2
}
