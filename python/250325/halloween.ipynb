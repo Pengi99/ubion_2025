{
 "cells": [
  {
   "cell_type": "markdown",
   "metadata": {},
   "source": [
    "### 할로윈 투자 전략\n",
    "- 11월의 첫날에 구매 -> 4월 마지막날에 판매\n",
    "- 11월의 첫날에 시작가격을 구매\n",
    "- 4월 마지막 날에 종가로 판매\n",
    "- 판매한 금액 / 구매한 금액\n",
    "- 누적 수익율"
   ]
  },
  {
   "cell_type": "code",
   "execution_count": null,
   "metadata": {},
   "outputs": [],
   "source": [
    "import pandas as pd\n",
    "from datetime import datetime\n",
    "from dateutil.relativedelta import relativedelta"
   ]
  },
  {
   "cell_type": "code",
   "execution_count": null,
   "metadata": {},
   "outputs": [],
   "source": [
    "# AMZN 데이터 로드 \n",
    "df = pd.read_csv(\"../../csv/AMZN.csv\", index_col='Date')"
   ]
  },
  {
   "cell_type": "code",
   "execution_count": null,
   "metadata": {},
   "outputs": [],
   "source": [
    "df.head()"
   ]
  },
  {
   "cell_type": "code",
   "execution_count": null,
   "metadata": {},
   "outputs": [],
   "source": [
    "# index를 시계열데이터로 변경 \n",
    "df.index = pd.to_datetime(df.index)"
   ]
  },
  {
   "cell_type": "code",
   "execution_count": null,
   "metadata": {},
   "outputs": [],
   "source": [
    "# 2000년 11월 데이터를 출력하려면?\n",
    "df.loc['2000-11'].iloc[0, 0]"
   ]
  },
  {
   "cell_type": "code",
   "execution_count": null,
   "metadata": {},
   "outputs": [],
   "source": [
    "# 2001년 4월의 마지막날의 종가\n",
    "df.loc['2001-04'].iloc[-1]['Close']"
   ]
  },
  {
   "cell_type": "code",
   "execution_count": null,
   "metadata": {},
   "outputs": [],
   "source": [
    "rtn_list = []\n",
    "for i in range(2000, 2011, 1):\n",
    "    # 구매를 하는 월\n",
    "    buy_mon = f\"{i}-11\"\n",
    "    sell_mon = f\"{i+1}-4\"\n",
    "    # 구매가 \n",
    "    buy = df.loc[buy_mon].iloc[0, 0]\n",
    "    # 판매가 \n",
    "    sell = df.loc[sell_mon].iloc[-1]['Close']\n",
    "    rtn_list.append(sell/buy)"
   ]
  },
  {
   "cell_type": "code",
   "execution_count": null,
   "metadata": {},
   "outputs": [],
   "source": [
    "acc_rtn = 1\n",
    "for i in rtn_list:\n",
    "    acc_rtn *= i\n",
    "acc_rtn"
   ]
  },
  {
   "cell_type": "code",
   "execution_count": null,
   "metadata": {},
   "outputs": [],
   "source": [
    "# 시계열데이터에서 시간을 합 \n",
    "start = datetime(year = 2000, month=11, day=1)\n",
    "start"
   ]
  },
  {
   "cell_type": "code",
   "execution_count": null,
   "metadata": {},
   "outputs": [],
   "source": [
    "# 5개월 뒤 \n",
    "start + relativedelta(months=5)"
   ]
  },
  {
   "cell_type": "code",
   "execution_count": null,
   "metadata": {},
   "outputs": [],
   "source": [
    "# 시계열데이터를 문자열로 변경하는 함수? strftime('%Y-%m')\n",
    "halloween_df = pd.DataFrame()\n",
    "\n",
    "for i in range(2000, 2011):\n",
    "    start = datetime(year = i, month=11, day=1)\n",
    "    end = start + relativedelta(months=5)\n",
    "    # 시계열을 문자열로\n",
    "    start = start.strftime('%Y-%m')\n",
    "    end = end.strftime('%Y-%m')\n",
    "    # start의 첫번째 인덱스 \n",
    "    start_df = df.loc[start].head(1)\n",
    "    end_df = df.loc[end].tail(1)\n",
    "    halloween_df = pd.concat( [halloween_df, start_df, end_df] )"
   ]
  },
  {
   "cell_type": "code",
   "execution_count": null,
   "metadata": {},
   "outputs": [],
   "source": [
    "halloween_df = halloween_df[['Open', 'Close']]"
   ]
  },
  {
   "cell_type": "code",
   "execution_count": null,
   "metadata": {},
   "outputs": [],
   "source": [
    "halloween_df"
   ]
  },
  {
   "cell_type": "code",
   "execution_count": null,
   "metadata": {},
   "outputs": [],
   "source": [
    "# 수익율 계산 \n",
    "halloween_df['rtn'] = 1\n",
    "\n",
    "# 반복문을 이용하여 수익율 계산\n",
    "# 인덱스의 위치가 홀수인 경우에만 수익율이 계산\n",
    "for i in range(1, len(halloween_df), 2):\n",
    "    # print(i)\n",
    "    # 구매한 가격\n",
    "    buy = halloween_df.iloc[i-1]['Open']\n",
    "    sell = halloween_df.iloc[i]['Close']\n",
    "    rtn = sell / buy\n",
    "    # print(rtn)\n",
    "    halloween_df.iloc[i, 2] = rtn"
   ]
  },
  {
   "cell_type": "code",
   "execution_count": null,
   "metadata": {},
   "outputs": [],
   "source": [
    "halloween_df['acc_rtn'] = halloween_df['rtn'].cumprod()"
   ]
  },
  {
   "cell_type": "code",
   "execution_count": null,
   "metadata": {},
   "outputs": [],
   "source": [
    "halloween_df.tail(1)"
   ]
  },
  {
   "cell_type": "markdown",
   "metadata": {},
   "source": [
    "### 할로윈 투자전략 함수화\n",
    "- 매개변수 4개 \n",
    "    - 데이터(_df)\n",
    "    - 시작년도(_start = 2010)\n",
    "    - 종료년도(_end = datetime.now().yaer)\n",
    "    - 월(_mon= 11)\n",
    "- 복사본 생성 \n",
    "- 컬럼에 Date가 존재한다면 Date를 인덱스로 변환\n",
    "- 인덱스를 시계열 데이터로 변경\n",
    "- 빈 데이터프레임 생성 \n",
    "- 반복문을 이용하여 시작년도부터 종료 년도까지 반복\n",
    "    - 시작년도의 월을 포함한 시계열 데이터 생성 (buy_mon)\n",
    "    - 위에서 만들어진 시계열에서 5개월 뒤 라는 시계열 데이터 생성(sell_mon)\n",
    "    - buy_mon, sell_mon 시계열데이터에서 년-월의 포멧으로 문자열로 변경\n",
    "    - buy_mon으로 인덱스를 필터해서 첫번째 인덱스를 추출\n",
    "    - sell_mon으로 인덱스를 필터해서 마지막 인덱스를 추출\n",
    "    - 나온 결과를 빈 데이터프레임에 단순 행 결합\n",
    "- 수익율 계산\n",
    "- 누적수익율 계산\n",
    "- 만들어진 데이터프레임과 총 누적수익율을 되돌려준다. "
   ]
  },
  {
   "cell_type": "code",
   "execution_count": 33,
   "metadata": {},
   "outputs": [],
   "source": [
    "def halloween(\n",
    "        _df, \n",
    "        _start = 2010, \n",
    "        _end = datetime.now().year, \n",
    "        _mon = 11\n",
    "):\n",
    "    df = _df.copy()\n",
    "    if 'Date' in df.columns:\n",
    "        df.set_index('Date', inplace=True)\n",
    "    # 인덱스를 시계열로 변경 \n",
    "    df.index = pd.to_datetime(df.index, utc=True)\n",
    "\n",
    "    # 비어있는 데이터프레임을 생성\n",
    "    result = pd.DataFrame()\n",
    "\n",
    "    # 반복문을 이용해서 _start, _end까지 반복실행하는 반복문\n",
    "    for i in  range(_start, _end):\n",
    "        buy_mon = datetime(year = i, month= _mon, day=1)\n",
    "        sell_mon = buy_mon + relativedelta(months=5)\n",
    "        buy_mon = buy_mon.strftime('%Y-%m')\n",
    "        sell_mon = sell_mon.strftime('%Y-%m')\n",
    "        try:\n",
    "            buy = df.loc[buy_mon].head(1)\n",
    "            sell = df.loc[sell_mon].tail(1)\n",
    "            result = pd.concat( [result, buy, sell] , axis=0)\n",
    "        except:\n",
    "            break\n",
    "    # 수익율 계산\n",
    "    result['rtn'] = 1\n",
    "    for idx in range(1, len(result), 2):\n",
    "        rtn = result.iloc[idx]['Close'] / result.iloc[idx-1]['Open']\n",
    "        result.iloc[idx, -1] = rtn\n",
    "    # 누적 수익율 계산 \n",
    "    result['acc_rtn'] = result['rtn'].cumprod()\n",
    "    # 최종 누적 수익율 변수에 저장 \n",
    "    acc_rtn = result.iloc[-1, -1]\n",
    "    return result, acc_rtn\n"
   ]
  },
  {
   "cell_type": "code",
   "execution_count": 47,
   "metadata": {},
   "outputs": [],
   "source": [
    "df = pd.read_csv(\"../../csv/AMZN.csv\", index_col='Date')"
   ]
  },
  {
   "cell_type": "code",
   "execution_count": null,
   "metadata": {},
   "outputs": [],
   "source": [
    "halloween(df, _mon=2)"
   ]
  },
  {
   "cell_type": "code",
   "execution_count": 48,
   "metadata": {},
   "outputs": [
    {
     "name": "stdout",
     "output_type": "stream",
     "text": [
      "4월에 6개월 투자 수익율이 5.894513902549153입니다.\n"
     ]
    },
    {
     "name": "stderr",
     "output_type": "stream",
     "text": [
      "C:\\Users\\moons\\AppData\\Local\\Temp\\ipykernel_16824\\728782376.py:32: FutureWarning: Setting an item of incompatible dtype is deprecated and will raise in a future error of pandas. Value '0.8019082715596331' has dtype incompatible with int64, please explicitly cast to a compatible dtype first.\n",
      "  result.iloc[idx, -1] = rtn\n",
      "C:\\Users\\moons\\AppData\\Local\\Temp\\ipykernel_16824\\728782376.py:32: FutureWarning: Setting an item of incompatible dtype is deprecated and will raise in a future error of pandas. Value '0.9570547085565838' has dtype incompatible with int64, please explicitly cast to a compatible dtype first.\n",
      "  result.iloc[idx, -1] = rtn\n",
      "C:\\Users\\moons\\AppData\\Local\\Temp\\ipykernel_16824\\728782376.py:32: FutureWarning: Setting an item of incompatible dtype is deprecated and will raise in a future error of pandas. Value '1.051642840395354' has dtype incompatible with int64, please explicitly cast to a compatible dtype first.\n",
      "  result.iloc[idx, -1] = rtn\n",
      "C:\\Users\\moons\\AppData\\Local\\Temp\\ipykernel_16824\\728782376.py:32: FutureWarning: Setting an item of incompatible dtype is deprecated and will raise in a future error of pandas. Value '1.1565537152454997' has dtype incompatible with int64, please explicitly cast to a compatible dtype first.\n",
      "  result.iloc[idx, -1] = rtn\n",
      "C:\\Users\\moons\\AppData\\Local\\Temp\\ipykernel_16824\\728782376.py:32: FutureWarning: Setting an item of incompatible dtype is deprecated and will raise in a future error of pandas. Value '1.2043002887237673' has dtype incompatible with int64, please explicitly cast to a compatible dtype first.\n",
      "  result.iloc[idx, -1] = rtn\n",
      "C:\\Users\\moons\\AppData\\Local\\Temp\\ipykernel_16824\\728782376.py:32: FutureWarning: Setting an item of incompatible dtype is deprecated and will raise in a future error of pandas. Value '1.4035367896012099' has dtype incompatible with int64, please explicitly cast to a compatible dtype first.\n",
      "  result.iloc[idx, -1] = rtn\n",
      "C:\\Users\\moons\\AppData\\Local\\Temp\\ipykernel_16824\\728782376.py:32: FutureWarning: Setting an item of incompatible dtype is deprecated and will raise in a future error of pandas. Value '1.652892531627318' has dtype incompatible with int64, please explicitly cast to a compatible dtype first.\n",
      "  result.iloc[idx, -1] = rtn\n",
      "C:\\Users\\moons\\AppData\\Local\\Temp\\ipykernel_16824\\728782376.py:32: FutureWarning: Setting an item of incompatible dtype is deprecated and will raise in a future error of pandas. Value '1.4237515413554083' has dtype incompatible with int64, please explicitly cast to a compatible dtype first.\n",
      "  result.iloc[idx, -1] = rtn\n",
      "C:\\Users\\moons\\AppData\\Local\\Temp\\ipykernel_16824\\728782376.py:32: FutureWarning: Setting an item of incompatible dtype is deprecated and will raise in a future error of pandas. Value '1.371399110704344' has dtype incompatible with int64, please explicitly cast to a compatible dtype first.\n",
      "  result.iloc[idx, -1] = rtn\n",
      "C:\\Users\\moons\\AppData\\Local\\Temp\\ipykernel_16824\\728782376.py:32: FutureWarning: Setting an item of incompatible dtype is deprecated and will raise in a future error of pandas. Value '1.1467405316177677' has dtype incompatible with int64, please explicitly cast to a compatible dtype first.\n",
      "  result.iloc[idx, -1] = rtn\n",
      "C:\\Users\\moons\\AppData\\Local\\Temp\\ipykernel_16824\\728782376.py:32: FutureWarning: Setting an item of incompatible dtype is deprecated and will raise in a future error of pandas. Value '1.1906962698211543' has dtype incompatible with int64, please explicitly cast to a compatible dtype first.\n",
      "  result.iloc[idx, -1] = rtn\n",
      "C:\\Users\\moons\\AppData\\Local\\Temp\\ipykernel_16824\\728782376.py:32: FutureWarning: Setting an item of incompatible dtype is deprecated and will raise in a future error of pandas. Value '1.097845487880208' has dtype incompatible with int64, please explicitly cast to a compatible dtype first.\n",
      "  result.iloc[idx, -1] = rtn\n"
     ]
    }
   ],
   "source": [
    "rtn_data = 0\n",
    "for i in range(1, 13):\n",
    "    hw_df, acc_rtn = halloween(df, _mon = i)\n",
    "    # print(f\"{i}월 부터 6개월 투자한 수익율 : {acc_rtn}\")\n",
    "    if acc_rtn > rtn_data:\n",
    "        rtn_data = acc_rtn\n",
    "        month_data = i\n",
    "print(f\"{month_data}월에 6개월 투자 수익율이 {rtn_data}입니다.\")"
   ]
  },
  {
   "cell_type": "code",
   "execution_count": null,
   "metadata": {},
   "outputs": [
    {
     "data": {
      "text/plain": [
       "9"
      ]
     },
     "execution_count": 42,
     "metadata": {},
     "output_type": "execute_result"
    }
   ],
   "source": []
  },
  {
   "cell_type": "code",
   "execution_count": null,
   "metadata": {},
   "outputs": [],
   "source": []
  }
 ],
 "metadata": {
  "kernelspec": {
   "display_name": "Python 3",
   "language": "python",
   "name": "python3"
  },
  "language_info": {
   "codemirror_mode": {
    "name": "ipython",
    "version": 3
   },
   "file_extension": ".py",
   "mimetype": "text/x-python",
   "name": "python",
   "nbconvert_exporter": "python",
   "pygments_lexer": "ipython3",
   "version": "3.11.1"
  }
 },
 "nbformat": 4,
 "nbformat_minor": 2
}
