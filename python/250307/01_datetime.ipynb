{
 "cells": [
  {
   "cell_type": "markdown",
   "metadata": {},
   "source": [
    "#### 시계열데이터 \n",
    "- type\n",
    "    - 년도 표시(4자리수) : %Y\n",
    "    - 년도 표시(2자리수) : %y\n",
    "    - 월을 숫자로 표시 : %m\n",
    "    - 월의 이름을 표시 : %B\n",
    "    - 월의 이름을 축약해서 표시 : %b\n",
    "    - 일을 숫자로 표시 : %d\n",
    "    - 시를 24시 기준으로 표시 : %H\n",
    "    - 시를 12시 기준으로 표시 : %I\n",
    "    - AM/PM을 표시 : %p\n",
    "    - 분을 숫자로 표시 : %M\n",
    "    - 초를 숫자로 표시 : %S\n",
    "    - 요일을 이름으로 표시 : %A\n",
    "    - 요일을 숫자로 표시 : %w ( 0 : 일, ... , 6 : 토 )"
   ]
  },
  {
   "cell_type": "code",
   "execution_count": null,
   "metadata": {},
   "outputs": [],
   "source": [
    "from datetime import datetime"
   ]
  },
  {
   "cell_type": "code",
   "execution_count": null,
   "metadata": {},
   "outputs": [],
   "source": [
    "time_text = \"2025-03-07\""
   ]
  },
  {
   "cell_type": "code",
   "execution_count": null,
   "metadata": {},
   "outputs": [],
   "source": [
    "type(time_text)"
   ]
  },
  {
   "cell_type": "code",
   "execution_count": null,
   "metadata": {},
   "outputs": [],
   "source": [
    "# 문자열 데이터를 시계열 데이터로 변경\n",
    "time_data = datetime.strptime(time_text, '%Y-%m-%d')\n",
    "print(time_data)\n",
    "print(time_text)"
   ]
  },
  {
   "cell_type": "code",
   "execution_count": null,
   "metadata": {},
   "outputs": [],
   "source": [
    "print(type(time_data))"
   ]
  },
  {
   "cell_type": "code",
   "execution_count": null,
   "metadata": {},
   "outputs": [],
   "source": [
    "# 시계열 데이터를 문자열 데이터로 변경\n",
    "time_data.strftime('%y/%m/%d')"
   ]
  },
  {
   "cell_type": "code",
   "execution_count": null,
   "metadata": {},
   "outputs": [],
   "source": [
    "time_data.strftime('%m월')"
   ]
  },
  {
   "cell_type": "code",
   "execution_count": null,
   "metadata": {},
   "outputs": [],
   "source": [
    "time_data.strftime('%w')"
   ]
  },
  {
   "cell_type": "code",
   "execution_count": null,
   "metadata": {},
   "outputs": [],
   "source": [
    "time_data.strftime('%a')"
   ]
  },
  {
   "cell_type": "code",
   "execution_count": null,
   "metadata": {},
   "outputs": [],
   "source": [
    "import pandas as pd"
   ]
  },
  {
   "cell_type": "code",
   "execution_count": null,
   "metadata": {},
   "outputs": [],
   "source": [
    "# pandas에서 제공하는 시계열 데이터 \n",
    "pd.Timestamp(100000)    # 나노초 단위로 시간을 구한다. "
   ]
  },
  {
   "cell_type": "code",
   "execution_count": null,
   "metadata": {},
   "outputs": [],
   "source": [
    "pd.Timestamp(100, unit='D')"
   ]
  },
  {
   "cell_type": "code",
   "execution_count": null,
   "metadata": {},
   "outputs": [],
   "source": [
    "pd.Timestamp('98-03-07')"
   ]
  },
  {
   "cell_type": "code",
   "execution_count": null,
   "metadata": {},
   "outputs": [],
   "source": [
    "pd.Timestamp(\"2016-01\")"
   ]
  },
  {
   "cell_type": "code",
   "execution_count": null,
   "metadata": {},
   "outputs": [],
   "source": [
    "time_data2 = pd.to_datetime('2025년 03월 07일', format=\"%Y년 %m월 %d일\")"
   ]
  },
  {
   "cell_type": "code",
   "execution_count": null,
   "metadata": {},
   "outputs": [],
   "source": [
    "time_data3 = pd.Timestamp(1, unit='D')"
   ]
  },
  {
   "cell_type": "code",
   "execution_count": null,
   "metadata": {},
   "outputs": [],
   "source": [
    "time_data2 - time_data3"
   ]
  },
  {
   "cell_type": "code",
   "execution_count": null,
   "metadata": {},
   "outputs": [],
   "source": [
    "pd.Timedelta(\"3 days\")"
   ]
  },
  {
   "cell_type": "code",
   "execution_count": null,
   "metadata": {},
   "outputs": [],
   "source": [
    "time_data2 - pd.Timedelta('3 days')"
   ]
  },
  {
   "cell_type": "code",
   "execution_count": null,
   "metadata": {},
   "outputs": [],
   "source": [
    "time_data2 - pd.Timedelta(days= 30)"
   ]
  },
  {
   "cell_type": "code",
   "execution_count": null,
   "metadata": {},
   "outputs": [],
   "source": [
    "corona = pd.read_csv(\"../../csv/corona.csv\")"
   ]
  },
  {
   "cell_type": "code",
   "execution_count": null,
   "metadata": {},
   "outputs": [],
   "source": [
    "corona.head()"
   ]
  },
  {
   "cell_type": "code",
   "execution_count": null,
   "metadata": {},
   "outputs": [],
   "source": [
    "# 요일별 평균 일일 확진자의 수가 가장 큰 요일은 언제인가?\n",
    "# 사용할 컬럼들만 추출하여 변수에 저장\n",
    "df = corona[ ['stateDt', 'decideCnt'] ]"
   ]
  },
  {
   "cell_type": "code",
   "execution_count": null,
   "metadata": {},
   "outputs": [],
   "source": [
    "df.head()"
   ]
  },
  {
   "cell_type": "code",
   "execution_count": null,
   "metadata": {},
   "outputs": [],
   "source": [
    "# 일일확진자 컬럼을 생성\n",
    "df2 = df.copy()"
   ]
  },
  {
   "cell_type": "code",
   "execution_count": null,
   "metadata": {},
   "outputs": [],
   "source": [
    "df2.sort_values('stateDt', inplace=True)"
   ]
  },
  {
   "cell_type": "code",
   "execution_count": null,
   "metadata": {},
   "outputs": [],
   "source": [
    "df2.reset_index(drop=True, inplace=True)"
   ]
  },
  {
   "cell_type": "code",
   "execution_count": null,
   "metadata": {},
   "outputs": [],
   "source": [
    "df2['일일확진자'] =\\\n",
    "    (df2['decideCnt'] - df2['decideCnt'].shift()).fillna(0)"
   ]
  },
  {
   "cell_type": "code",
   "execution_count": null,
   "metadata": {},
   "outputs": [],
   "source": [
    "df2.describe()"
   ]
  },
  {
   "cell_type": "code",
   "execution_count": null,
   "metadata": {},
   "outputs": [],
   "source": [
    "df2.loc[ df2['일일확진자'] < 0 ]"
   ]
  },
  {
   "cell_type": "code",
   "execution_count": null,
   "metadata": {},
   "outputs": [],
   "source": [
    "# 기준일 데이터가 내림차순일때\n",
    "df['일일확진자'] = df['decideCnt'].diff(-1).fillna(0)"
   ]
  },
  {
   "cell_type": "code",
   "execution_count": null,
   "metadata": {},
   "outputs": [],
   "source": [
    "df2['일일확진자'].describe()"
   ]
  },
  {
   "cell_type": "code",
   "execution_count": null,
   "metadata": {},
   "outputs": [],
   "source": [
    "df['일일확진자'].describe()"
   ]
  },
  {
   "cell_type": "code",
   "execution_count": null,
   "metadata": {},
   "outputs": [],
   "source": [
    "df['stateDt'].head(2)"
   ]
  },
  {
   "cell_type": "code",
   "execution_count": null,
   "metadata": {},
   "outputs": [],
   "source": [
    "# 기준일 데이터를 시계열 데이터로 변경 \n",
    "# df.info()\n",
    "df['stateDt'] =\\\n",
    "    pd.to_datetime(df['stateDt'], format=\"%Y%m%d\")\n"
   ]
  },
  {
   "cell_type": "code",
   "execution_count": null,
   "metadata": {},
   "outputs": [],
   "source": [
    "df.info()"
   ]
  },
  {
   "cell_type": "code",
   "execution_count": null,
   "metadata": {},
   "outputs": [],
   "source": [
    "# 반복문을 이용해서 시계열데이터의 요일을 출력하는 방법 \n",
    "week_list = []\n",
    "# for i in range( len(df) ):\n",
    "for i in df.index:\n",
    "    week_data = datetime.strftime(df.loc[i, 'stateDt'], '%w')\n",
    "    week_list.append(week_data)\n",
    "print(week_list)"
   ]
  },
  {
   "cell_type": "code",
   "execution_count": null,
   "metadata": {},
   "outputs": [],
   "source": [
    "# map() , lambda()\n",
    "list1 = [10, 20, 30, 40]\n",
    "\n",
    "# for i in list1:\n",
    "#     print(i)\n",
    "list(map(\n",
    "    lambda x : x**2, \n",
    "    list1\n",
    "))"
   ]
  },
  {
   "cell_type": "code",
   "execution_count": null,
   "metadata": {},
   "outputs": [],
   "source": [
    "# list1 데이터에서 값이 25 미만이면 'a' 25이상이면 'b' 변경하는 방법 \n",
    "res = []\n",
    "for i in list1:\n",
    "    # i : list1의 각 원소들 대입\n",
    "    if i < 25 :\n",
    "        res.append('a')\n",
    "    else:\n",
    "        res.append('b')\n",
    "res"
   ]
  },
  {
   "cell_type": "code",
   "execution_count": null,
   "metadata": {},
   "outputs": [],
   "source": [
    "# 일반함수 + map\n",
    "def func_1(x):\n",
    "    if x < 25 :\n",
    "        return 'a'\n",
    "    else:\n",
    "        return 'b'\n",
    "\n",
    "list(\n",
    "    map(\n",
    "        func_1, \n",
    "        list1\n",
    "    )\n",
    ")"
   ]
  },
  {
   "cell_type": "code",
   "execution_count": null,
   "metadata": {},
   "outputs": [],
   "source": [
    "# 참일경우 값 if 조건식 else 거짓일경우 값\n",
    "list(\n",
    "    map(\n",
    "        lambda x : 'a' if x < 25 else 'b', \n",
    "        list1\n",
    "    )\n",
    ")"
   ]
  },
  {
   "cell_type": "code",
   "execution_count": null,
   "metadata": {},
   "outputs": [],
   "source": [
    "df['요일'] = df['stateDt'].map(\n",
    "    lambda x : x.strftime('%w')\n",
    ")"
   ]
  },
  {
   "cell_type": "code",
   "execution_count": null,
   "metadata": {},
   "outputs": [],
   "source": [
    "df.head()"
   ]
  },
  {
   "cell_type": "code",
   "execution_count": 102,
   "metadata": {},
   "outputs": [
    {
     "data": {
      "text/plain": [
       "'3'"
      ]
     },
     "execution_count": 102,
     "metadata": {},
     "output_type": "execute_result"
    }
   ],
   "source": [
    "df.loc[0, '요일']"
   ]
  },
  {
   "cell_type": "code",
   "execution_count": null,
   "metadata": {},
   "outputs": [],
   "source": [
    "# 요일 컬럼의 데이터를 숫자형태에서 문자형태(월, ..., 일)변경\n",
    "# for\n",
    "week_list = []\n",
    "# for i in range(df):\n",
    "for i in df.index:\n",
    "    # 요일 컬럼의 데이터가 0이라면 일 1이라면 월, .... 6이라면 토\n",
    "    if df.loc[i, '요일'] == '0':\n",
    "        week_list.append('일')\n",
    "    elif df.loc[i, \"요일\"] == '1':\n",
    "        week_list.append('월')\n",
    "    elif df.loc[i, '요일'] == '2':\n",
    "        week_list.append('화')\n",
    "    elif df.loc[i, '요일'] == '3':\n",
    "        week_list.append('수')\n",
    "    elif df.loc[i, '요일'] == '4':\n",
    "        week_list.append('목')\n",
    "    elif df.loc[i, '요일'] == '5':\n",
    "        week_list.append('금')\n",
    "    else:\n",
    "        week_list.append('토')\n",
    "print(week_list)\n",
    "\n",
    "# while\n",
    "# 딕셔너리 생성 \n",
    "dict_week = {\n",
    "    '0' : '일', \n",
    "    '1' : '월', \n",
    "    '2' : '화', \n",
    "    '3' : '수', \n",
    "    '4' : '목', \n",
    "    '5' : '금', \n",
    "    '6' : '토'\n",
    "}\n",
    "# 초기값 생성 \n",
    "i = 0\n",
    "week_list2 = []\n",
    "while i < len(df):\n",
    "    # dict_week 데이터에서 필요한 키값을 df의 요일 컬럼에서 추출\n",
    "    dict_key = df.iloc[i, -1]\n",
    "    week_list2.append( dict_week[dict_key] )\n",
    "    i += 1\n",
    "print(week_list2)\n",
    "\n",
    "# print(week_list == week_list2)\n",
    "# map + 일반함수\n",
    "def change_week(x):\n",
    "    # x에 들어오는 데이터는? -> df의 요일 컬럼의 데이터 하나씩 대입\n",
    "    return dict_week[x]\n",
    "\n",
    "print(df['요일'].map(change_week))\n",
    "# map + lambda\n",
    "week_list = ['일', '월', '화', '수', '목', '금', '토']\n",
    "df['요일'].map(\n",
    "    lambda x : week_list[int(x)]\n",
    ")\n",
    "\n"
   ]
  },
  {
   "cell_type": "code",
   "execution_count": null,
   "metadata": {},
   "outputs": [],
   "source": [
    "df['요일'] = df['요일'].map(\n",
    "    lambda x : week_list[int(x)]\n",
    ")\n"
   ]
  },
  {
   "cell_type": "code",
   "execution_count": 112,
   "metadata": {},
   "outputs": [
    {
     "name": "stderr",
     "output_type": "stream",
     "text": [
      "C:\\Users\\moons\\AppData\\Local\\Temp\\ipykernel_14088\\4076322166.py:2: SettingWithCopyWarning: \n",
      "A value is trying to be set on a copy of a slice from a DataFrame\n",
      "\n",
      "See the caveats in the documentation: https://pandas.pydata.org/pandas-docs/stable/user_guide/indexing.html#returning-a-view-versus-a-copy\n",
      "  df.drop(819, axis=0, inplace = True)\n"
     ]
    }
   ],
   "source": [
    "# 특정 인덱스를 제거 \n",
    "df.drop(819, axis=0, inplace = True)"
   ]
  },
  {
   "cell_type": "code",
   "execution_count": 114,
   "metadata": {},
   "outputs": [],
   "source": [
    "# 요일을 기준으로 그룹화 일일확진자의 평균을 출력해서 \n",
    "# 값을 기준으로 내림차순 정렬 \n",
    "group_data = df.groupby('요일')[ [ '일일확진자' ] ].mean()"
   ]
  },
  {
   "cell_type": "code",
   "execution_count": 116,
   "metadata": {},
   "outputs": [],
   "source": [
    "group_data.sort_values('일일확진자', ascending=False, inplace=True)"
   ]
  },
  {
   "cell_type": "code",
   "execution_count": 117,
   "metadata": {},
   "outputs": [],
   "source": [
    "import matplotlib.pyplot as plt"
   ]
  },
  {
   "cell_type": "code",
   "execution_count": 121,
   "metadata": {},
   "outputs": [],
   "source": [
    "# 폰트 설정 \n",
    "import platform"
   ]
  },
  {
   "cell_type": "code",
   "execution_count": 122,
   "metadata": {},
   "outputs": [
    {
     "data": {
      "text/plain": [
       "'Windows'"
      ]
     },
     "execution_count": 122,
     "metadata": {},
     "output_type": "execute_result"
    }
   ],
   "source": [
    "platform.system()"
   ]
  },
  {
   "cell_type": "code",
   "execution_count": 123,
   "metadata": {},
   "outputs": [],
   "source": [
    "# 만약에 os가 mac이라면\n",
    "if platform.system() == 'Darwin':\n",
    "    plt.rc('font', family= 'AppleGothic')\n",
    "else:\n",
    "    plt.rc('font', family= 'Malgun Gothic')"
   ]
  },
  {
   "cell_type": "code",
   "execution_count": 124,
   "metadata": {},
   "outputs": [
    {
     "data": {
      "text/plain": [
       "<AxesSubplot: xlabel='요일'>"
      ]
     },
     "execution_count": 124,
     "metadata": {},
     "output_type": "execute_result"
    },
    {
     "data": {
      "image/png": "[encoded data removed]",
      "text/plain": [
       "<Figure size 640x480 with 1 Axes>"
      ]
     },
     "metadata": {},
     "output_type": "display_data"
    }
   ],
   "source": [
    "# 그래프 시각화 과정에서 한글이 출력에서 문제 발생 \n",
    "group_data.plot(kind='bar')"
   ]
  }
 ],
 "metadata": {
  "kernelspec": {
   "display_name": "Python 3",
   "language": "python",
   "name": "python3"
  },
  "language_info": {
   "codemirror_mode": {
    "name": "ipython",
    "version": 3
   },
   "file_extension": ".py",
   "mimetype": "text/x-python",
   "name": "python",
   "nbconvert_exporter": "python",
   "pygments_lexer": "ipython3",
   "version": "3.11.1"
  }
 },
 "nbformat": 4,
 "nbformat_minor": 2
}
