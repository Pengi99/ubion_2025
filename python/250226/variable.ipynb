{
 "cells": [
  {
   "cell_type": "code",
   "execution_count": null,
   "metadata": {},
   "outputs": [],
   "source": [
    "# 변수 생성\n",
    "a = 10\n",
    "print(a)\n",
    "print(type(a))"
   ]
  },
  {
   "cell_type": "markdown",
   "metadata": {},
   "source": [
    "# title\n",
    "## title2\n",
    "### title3\n",
    "\n",
    "#### list\n",
    "1. list1\n",
    "2. list2\n",
    "    1. sub_list1\n",
    "    2. sub_list2\n",
    "\n",
    "- list1\n",
    "- list2\n",
    "    - sub_list1\n",
    "    - sub_list2"
   ]
  },
  {
   "cell_type": "code",
   "execution_count": null,
   "metadata": {},
   "outputs": [],
   "source": [
    "# 산술연산자 \n",
    "x = 10\n",
    "y = 3\n",
    "\n",
    "print(x + y)\n",
    "print(x - y)\n",
    "print(x * y)\n",
    "print(x / y)\n",
    "# 나눗셈의 몫\n",
    "print(x // y)\n",
    "# 나눗셈의 나머지\n",
    "print(x % y)\n",
    "# 제곱 (지수 승)\n",
    "print(x ** y)\n",
    "\n"
   ]
  },
  {
   "cell_type": "code",
   "execution_count": null,
   "metadata": {},
   "outputs": [],
   "source": [
    "# 대입 연산자\n",
    "x = 10\n",
    "x += 3\n",
    "# x = x + 3\n",
    "print(x)"
   ]
  },
  {
   "cell_type": "code",
   "execution_count": null,
   "metadata": {},
   "outputs": [],
   "source": [
    "# 비교연산자 -> 결과가 True/False (bool)\n",
    "x = 10 \n",
    "y = 5\n",
    "print(x == y, x != y)"
   ]
  },
  {
   "cell_type": "markdown",
   "metadata": {},
   "source": [
    "### 자료형 데이터 \n",
    "- 여러개의 데이터를 하나의 변수에 저장시키는 형태 \n",
    "- tuple\n",
    "    - 자료형 데이터에서 가장 기본적인 방법 \n",
    "    - ()를 이용해서 데이터를 생성 \n",
    "    - 한번 만들어지면 수정이 불가능\n",
    "- list \n",
    "    - []를 이용해서 데이터를 생성 \n",
    "    - tuple과는 다르게 각 원소들을 수정, 추가, 삭제가 가능\n",
    "    - list의 내장 함수를 이용해서 다음과 같은 작업이 가능\n",
    "    - 원소의 개수는 0개 이상으로 생성이 가능\n",
    "- dict\n",
    "    - {} 안에 데이터를 key : value의 형태로 생성\n",
    "    - list, tuple은 데이터의 위치를 기준으로 데이터가 생성이 되는 반면에 dict는 key기준으로 데이터가 생성\n",
    "    - 원소의 개수는 0개 이상으로 생성이 가능"
   ]
  },
  {
   "cell_type": "code",
   "execution_count": null,
   "metadata": {},
   "outputs": [],
   "source": [
    "# tuple 데이터를 생성\n",
    "tuple_a = (10, \"test\")\n",
    "tuple_b = (3, 3.14)\n",
    "print(tuple_a)\n",
    "print(tuple_b)\n",
    "print(type(tuple_a))\n",
    "print(type(tuple_b))"
   ]
  },
  {
   "cell_type": "code",
   "execution_count": null,
   "metadata": {},
   "outputs": [],
   "source": [
    "print(tuple_a + tuple_b)\n",
    "print(tuple_a * 3)"
   ]
  },
  {
   "cell_type": "code",
   "execution_count": null,
   "metadata": {},
   "outputs": [],
   "source": [
    "# tuple 원소들을 따로 추출하여 출력 \n",
    "# python에서는 위치가 0부터 시작\n",
    "print(tuple_a[0])\n",
    "print(tuple_b[1])"
   ]
  },
  {
   "cell_type": "code",
   "execution_count": null,
   "metadata": {},
   "outputs": [],
   "source": [
    "tuple_c = tuple_a * 4\n",
    "# 2번째부터 5번째 까지 데이터를 추출 \n",
    "print(tuple_c[1:5])\n",
    "# 처음부터 3번째 까지 \n",
    "print(tuple_c[:3])\n",
    "# 4번째부터 마지막 까지 \n",
    "print(tuple_c[3:])\n",
    "# 끝에 있는 3개의 데이터 추출 \n",
    "print(tuple_c[len(tuple_c)-3:])\n",
    "print(tuple_c[-3:])"
   ]
  },
  {
   "cell_type": "code",
   "execution_count": null,
   "metadata": {},
   "outputs": [],
   "source": [
    "# list 형태 데이터 확인 \n",
    "list_a = [20, 10, 40, 30]\n",
    "list_b = ['abc', 'fi', 'be']\n",
    "print(list_a)\n",
    "print(list_b)\n",
    "print(type(list_a))\n",
    "print(type(list_b))"
   ]
  },
  {
   "cell_type": "code",
   "execution_count": null,
   "metadata": {},
   "outputs": [],
   "source": [
    "# list 내장 함수 \n",
    "# 정렬을 변경 \n",
    "# sort() 함수를 이용 -> list class 안에 존재하는 sort() 함수\n",
    "list_a.sort()\n",
    "print(list_a)\n",
    "list_b.sort(reverse=True)\n",
    "print(list_b)"
   ]
  },
  {
   "cell_type": "code",
   "execution_count": null,
   "metadata": {},
   "outputs": [],
   "source": [
    "# 순서를 역순으로 변경\n",
    "# reverse()\n",
    "list_b.reverse()\n",
    "print(list_b)"
   ]
  },
  {
   "cell_type": "code",
   "execution_count": null,
   "metadata": {},
   "outputs": [],
   "source": [
    "# 리스트에서 데이터를 추가하는 함수 \n",
    "# append(value)\n",
    "list_a.append(10)\n",
    "print(list_a)"
   ]
  },
  {
   "cell_type": "code",
   "execution_count": null,
   "metadata": {},
   "outputs": [],
   "source": [
    "# 리스트에서 가장 마지막에 있는 데이터를 제거하는 함수 \n",
    "# pop()\n",
    "list_b.pop()\n",
    "print(list_b)"
   ]
  },
  {
   "cell_type": "code",
   "execution_count": null,
   "metadata": {},
   "outputs": [],
   "source": [
    "# 원하는 위치에 데이터를 대입 하는 함수 \n",
    "# insert(index, value)\n",
    "list_a.insert(3, 55)\n",
    "print(list_a)"
   ]
  },
  {
   "cell_type": "code",
   "execution_count": null,
   "metadata": {},
   "outputs": [],
   "source": [
    "# 특정 데이터를 제거하는 함수 \n",
    "# remove(value)\n",
    "list_a.remove(10)\n",
    "print(list_a)"
   ]
  },
  {
   "cell_type": "code",
   "execution_count": null,
   "metadata": {},
   "outputs": [],
   "source": [
    "# 특정 위치의 데이터를 제거하는 함수\n",
    "# del\n",
    "del list_a[2]\n",
    "print(list_a)"
   ]
  },
  {
   "cell_type": "code",
   "execution_count": null,
   "metadata": {},
   "outputs": [],
   "source": [
    "list_a_clone = list_a\n",
    "print(list_a_clone)"
   ]
  },
  {
   "cell_type": "code",
   "execution_count": null,
   "metadata": {},
   "outputs": [],
   "source": [
    "list_a.append(20)\n",
    "print(list_a)\n",
    "print(list_a_clone)"
   ]
  },
  {
   "cell_type": "code",
   "execution_count": null,
   "metadata": {},
   "outputs": [],
   "source": [
    "list_a_copy = list_a.copy()\n",
    "print(list_a_copy)\n",
    "print(list_a)"
   ]
  },
  {
   "cell_type": "code",
   "execution_count": null,
   "metadata": {},
   "outputs": [],
   "source": [
    "list_a.pop()\n",
    "print(list_a)\n",
    "print(list_a_clone)\n",
    "print(list_a_copy)"
   ]
  },
  {
   "cell_type": "code",
   "execution_count": null,
   "metadata": {},
   "outputs": [],
   "source": [
    "sorted(list_a)"
   ]
  },
  {
   "cell_type": "code",
   "execution_count": null,
   "metadata": {},
   "outputs": [],
   "source": [
    "list_a + list_b"
   ]
  },
  {
   "cell_type": "code",
   "execution_count": null,
   "metadata": {},
   "outputs": [],
   "source": [
    "list_a_copy.count(100)"
   ]
  },
  {
   "cell_type": "code",
   "execution_count": null,
   "metadata": {},
   "outputs": [],
   "source": [
    "len(list_a_copy)"
   ]
  },
  {
   "cell_type": "code",
   "execution_count": null,
   "metadata": {},
   "outputs": [],
   "source": [
    "# dict 형태의 데이터\n",
    "dict_a = {\n",
    "    \"name\" : \"test\", \n",
    "    \"age\" : 20, \n",
    "    \"phone\" : \"01012345678\"\n",
    "}\n",
    "print(dict_a)"
   ]
  },
  {
   "cell_type": "code",
   "execution_count": null,
   "metadata": {},
   "outputs": [],
   "source": [
    "print(dict_a['name'])"
   ]
  },
  {
   "cell_type": "code",
   "execution_count": null,
   "metadata": {},
   "outputs": [],
   "source": [
    "# dict 형태에 새로운 key : value 추가하려면\n",
    "dict_a['birth'] = '2000'"
   ]
  },
  {
   "cell_type": "code",
   "execution_count": null,
   "metadata": {},
   "outputs": [],
   "source": [
    "print(dict_a)"
   ]
  },
  {
   "cell_type": "code",
   "execution_count": null,
   "metadata": {},
   "outputs": [],
   "source": [
    "# dict에서 key 값들만 출력 \n",
    "print(dict_a.keys())\n",
    "print(list(dict_a.keys())[0])"
   ]
  },
  {
   "cell_type": "code",
   "execution_count": null,
   "metadata": {},
   "outputs": [],
   "source": [
    "# dict에서 value 값들만 출력 \n",
    "print(dict_a.values())"
   ]
  },
  {
   "cell_type": "code",
   "execution_count": null,
   "metadata": {},
   "outputs": [],
   "source": [
    "print(dict_a.items())"
   ]
  },
  {
   "cell_type": "code",
   "execution_count": 47,
   "metadata": {},
   "outputs": [],
   "source": [
    "# mysql DataBase에서 데이터를 로드 하는 경우 데이터의 타입이 \n",
    "# list 안에 dict 형태의 2차원 데이터\n",
    "sample_data = [\n",
    "    {\n",
    "        'name' : 'test', \n",
    "        'pwd' : '1234'\n",
    "    }, \n",
    "    {\n",
    "        'name' : 'test2', \n",
    "        'pwd' : '1111'\n",
    "    }, \n",
    "    {\n",
    "        'name' : 'test3', \n",
    "        'pwd' : '2222'\n",
    "    }\n",
    "]"
   ]
  },
  {
   "cell_type": "code",
   "execution_count": null,
   "metadata": {},
   "outputs": [],
   "source": [
    "# sample_data에서 'test2' 문자를 출력하려면?\n",
    "# 외곽에 있는 괄호부터 하나씩 차근차근 없앤다. \n",
    "print(sample_data)\n",
    "# sample_data에서 2번째 데이터를 선택 \n",
    "print(sample_data[1])\n",
    "# name이라는 key 값에 데이터를 선택\n",
    "print(sample_data[1]['name'])"
   ]
  },
  {
   "cell_type": "code",
   "execution_count": null,
   "metadata": {},
   "outputs": [],
   "source": [
    "# 조건문 반복문\n",
    "# if문 조건식이 참인경우 거짓인 경우 실행되는 코드 작성 \n",
    "a = 10\n",
    "if a > 5:\n",
    "    print(\"a는 5보다 크다\")\n",
    "else:\n",
    "    print(\"a는 5보다 작거나 같다\")"
   ]
  },
  {
   "cell_type": "code",
   "execution_count": null,
   "metadata": {},
   "outputs": [],
   "source": [
    "score = int(\n",
    "    input(\n",
    "        \"점수를 입력하시오 : \"\n",
    "    )\n",
    ")\n",
    "# 학점을 조건문을 이용해서 출력 \n",
    "if score >= 90:\n",
    "    print('A')\n",
    "elif score >= 80:\n",
    "    print('B')\n",
    "elif score >= 70:\n",
    "    print('C')\n",
    "else:\n",
    "    print('F')\n",
    "# if문이 끝나고 실행이 되는 부분\n",
    "print('프로그램 종료')\n"
   ]
  },
  {
   "cell_type": "code",
   "execution_count": null,
   "metadata": {},
   "outputs": [],
   "source": [
    "# for문\n",
    "# 기본적인 형태\n",
    "# for 변수명 in range(시작값, 종료값, 증가값)\n",
    "# 시작값은 기본값 (0), 증가값 기본값(1)\n",
    "for i in range(1, 10, 1):\n",
    "    print(i, end='\\t')"
   ]
  },
  {
   "cell_type": "code",
   "execution_count": null,
   "metadata": {},
   "outputs": [],
   "source": [
    "# 10번 반복을 하는 반복문\n",
    "for i in range(10):\n",
    "    print(i)"
   ]
  },
  {
   "cell_type": "code",
   "execution_count": null,
   "metadata": {},
   "outputs": [],
   "source": [
    "list_a = [1,3,5,7,9]\n",
    "# 반복문을 이용해서 list_a의 데이터들을 하나씩 출력 \n",
    "for i in range(len(list_a)):\n",
    "    # i가 의미하는 것은? 0 ~ 4 -> 리스트의 index 값\n",
    "    print(list_a[i])"
   ]
  },
  {
   "cell_type": "code",
   "execution_count": null,
   "metadata": {},
   "outputs": [],
   "source": [
    "for i in list_a:\n",
    "    # i는 list_a에 각각의 데이터가 대입이 되서 반복\n",
    "    print(i)"
   ]
  },
  {
   "cell_type": "code",
   "execution_count": null,
   "metadata": {},
   "outputs": [],
   "source": [
    "# while문 \n",
    "# 초기값을 설정 \n",
    "i = 0\n",
    "while i <= 10:\n",
    "    print(i)\n",
    "    # 증가식 \n",
    "    i += 1\n",
    "    # i = i + 1"
   ]
  },
  {
   "cell_type": "code",
   "execution_count": null,
   "metadata": {},
   "outputs": [],
   "source": [
    "# 1 ~ 10 까지의 합계\n",
    "# 합계 초기값 설정\n",
    "result = 0\n",
    "# 첫번째 반복 : i = 1, result = 0 -> result = 0 + 1 -> result = 1\n",
    "# 두번째 반복 : i = 2, result = 1 -> result = 2 + 1 -> result = 3\n",
    "# 세번째 반복 : i = 3, result = 3 -> result = 3 + 3 -> result = 6\n",
    "# ....\n",
    "# 열번째 반복 : i = 10, result = 45 - > result = 10 + 45 -> result = 55\n",
    "# 반복이 종료료\n",
    "for i in range(1, 11, 1):\n",
    "    result += i\n",
    "print(result)"
   ]
  },
  {
   "cell_type": "code",
   "execution_count": null,
   "metadata": {},
   "outputs": [],
   "source": [
    "result = 0 \n",
    "for i in range(10):\n",
    "    result += (i + 1)\n",
    "print(result)"
   ]
  },
  {
   "cell_type": "code",
   "execution_count": null,
   "metadata": {},
   "outputs": [],
   "source": [
    "i = 1 \n",
    "result = 0\n",
    "\n",
    "while i < 11:\n",
    "    result += i\n",
    "    i += 1\n",
    "print(result)"
   ]
  },
  {
   "cell_type": "code",
   "execution_count": null,
   "metadata": {},
   "outputs": [],
   "source": [
    "# 1부터 50까지의 숫자중에 7의 배수인 데이터들을 모두 확인하고 저장\n",
    "\n",
    "# 모든 숫자를 저장할 수 있는 공간(list)을 생성 \n",
    "list_x = []\n",
    "list_y = list()\n",
    "\n",
    "for i in range(1, 51):\n",
    "    # 7의 배수인 조건문 생성 \n",
    "    if i % 7 == 0:\n",
    "        # 조건식이 참이라면? -> list_x에 추가\n",
    "        list_x.append(i)\n",
    "    else:\n",
    "        # 조건식이 거짓이라면? -> list_y에 추가 \n",
    "        list_y.append(i)\n",
    "print(list_x)\n",
    "print(list_y)"
   ]
  },
  {
   "cell_type": "code",
   "execution_count": null,
   "metadata": {},
   "outputs": [],
   "source": [
    "# sample_data에서 name의 value들만 가진 새로운 리스트 생성성\n",
    "name_list = []\n",
    "\n",
    "for i in sample_data:\n",
    "    # print(i)\n",
    "    # print(type(i))\n",
    "    # break\n",
    "    name_list.append(i['name'])\n",
    "print(name_list)"
   ]
  },
  {
   "cell_type": "code",
   "execution_count": null,
   "metadata": {},
   "outputs": [],
   "source": [
    "name_list = []\n",
    "for i in range(len(sample_data)):\n",
    "    # i는? -> sample_data의 index\n",
    "    # print(i)\n",
    "    # print(sample_data[i])\n",
    "    # print(sample_data[i]['name'])\n",
    "    name_list.append(sample_data[i]['name'])\n",
    "print(name_list)"
   ]
  },
  {
   "cell_type": "code",
   "execution_count": null,
   "metadata": {},
   "outputs": [],
   "source": [
    "# continue 구문 -> 반복문으로 되돌아간다. \n",
    "# 1부터 10까지 짝수들을 리스트로 생성 \n",
    "list_x = []\n",
    "for i in range(1, 11, 1):\n",
    "    # 홀수인 조건식 \n",
    "    if i % 2 == 1:\n",
    "        continue\n",
    "    list_x.append(i)\n",
    "print(list_x)"
   ]
  },
  {
   "cell_type": "code",
   "execution_count": null,
   "metadata": {},
   "outputs": [],
   "source": [
    "# 문자열 내장함수 \n",
    "test_str = \"  Hello world  \"\n",
    "test_str"
   ]
  },
  {
   "cell_type": "code",
   "execution_count": null,
   "metadata": {},
   "outputs": [],
   "source": [
    "# 문자열의 모든 문자를 대문자로 변경 \n",
    "# upper()\n",
    "print(test_str.upper())"
   ]
  },
  {
   "cell_type": "code",
   "execution_count": null,
   "metadata": {},
   "outputs": [],
   "source": [
    "# 모든 문자를 소문자로 변경 \n",
    "print(test_str.lower())"
   ]
  },
  {
   "cell_type": "code",
   "execution_count": null,
   "metadata": {},
   "outputs": [],
   "source": [
    "# 대문자는 소문자로 소문자는 대문자로 변경\n",
    "print(test_str.swapcase())"
   ]
  },
  {
   "cell_type": "code",
   "execution_count": null,
   "metadata": {},
   "outputs": [],
   "source": [
    "# 단어를 첫문자를 대문자로 변경\n",
    "print(test_str.title())"
   ]
  },
  {
   "cell_type": "code",
   "execution_count": null,
   "metadata": {},
   "outputs": [],
   "source": [
    "# 위의 함수들을 사용하는 이유는?\n",
    "'Hello' == 'hello'"
   ]
  },
  {
   "cell_type": "code",
   "execution_count": null,
   "metadata": {},
   "outputs": [],
   "source": [
    "a = 'Hello'\n",
    "b = 'hello'\n",
    "print(a == b)\n",
    "print(a.upper() == b.upper())"
   ]
  },
  {
   "cell_type": "code",
   "execution_count": null,
   "metadata": {},
   "outputs": [],
   "source": [
    "# 문자에서 시작과 종료 부분에 있는 공백을 제거하는 함수 \n",
    "# strip() : 좌우 공백을 모두 제거 \n",
    "# lstrip() : 좌측의 공백을 제거 \n",
    "# rstrip() : 우측의 공백을 제거 "
   ]
  },
  {
   "cell_type": "code",
   "execution_count": null,
   "metadata": {},
   "outputs": [],
   "source": [
    "test_str.strip()"
   ]
  },
  {
   "cell_type": "code",
   "execution_count": null,
   "metadata": {},
   "outputs": [],
   "source": [
    "test_str.lstrip()"
   ]
  },
  {
   "cell_type": "code",
   "execution_count": null,
   "metadata": {},
   "outputs": [],
   "source": [
    "test_str.rstrip()"
   ]
  },
  {
   "cell_type": "code",
   "execution_count": null,
   "metadata": {},
   "outputs": [],
   "source": [
    "# lstip()을 활용하는 경우 \n",
    "# 달러 표시 -> $1.00 -> 타입? 문자  --> 사칙연산 불가\n",
    "# 문자를 숫자로 변경 \n",
    "cost = \"$10\"\n",
    "# $문자때문에 숫자로 변경할때 에러 발생\n",
    "# int(cost)\n",
    "# $를 제거 (좌측에 $ 존재) -> lstrip()를 이용해서 제거 \n",
    "print(cost) # $10\n",
    "print(type(cost)) # str\n",
    "print(cost.lstrip('$')) # '10'\n",
    "cost2 = int(cost.lstrip('$'))\n",
    "print(cost2) \n",
    "print(type(cost2))\n"
   ]
  },
  {
   "cell_type": "code",
   "execution_count": null,
   "metadata": {},
   "outputs": [],
   "source": [
    "# '10,000원'이라는 문자를 숫자로 변경\n",
    "# 우측에 있는 '원' 문자를 제거 \n",
    "cost3 = '10,000원'\n",
    "cost4 = cost3.rstrip('원')\n",
    "print(cost4)\n",
    "# ','문자를 숫자로 변환이 불가능 -> 에러 발생\n",
    "# print(int(cost4))\n",
    "# 문자열 중간에 있는 문자를 변경?\n",
    "# replace(타켓문자, 변경될 문자) 함수를 이용\n",
    "# replace(',', '')\n",
    "cost5 = cost4.replace(',' , '')\n",
    "print(cost5)\n",
    "print(type(cost5))"
   ]
  },
  {
   "cell_type": "code",
   "execution_count": null,
   "metadata": {},
   "outputs": [],
   "source": [
    "# replace함수를 이용해서 문자열의 공백을 제거 \n",
    "a = \"상품a\"\n",
    "b = \"상품A\"\n",
    "c = \"상 품 a\"\n",
    "d = \"상 품 A\"\n",
    "\n",
    "print(a == b)\n",
    "print(a == c)\n",
    "print(a == d)\n",
    "# a, b, c, d가 다 같은 형태(b와 같게)로 변경\n",
    "# a는 모든 문자를 대문자로 변경 \n",
    "a = a.upper()\n",
    "# c는 문자열 사이에 있는 공백을 제거 \n",
    "c = c.replace(' ', '')\n",
    "# 모든 문자를 대문자로 변경 \n",
    "c = c.upper()\n",
    "# d는 문자열 사이에 있는 공백을 제거 \n",
    "d = d.replace(' ', '')\n",
    "\n",
    "print(a == b)\n",
    "print(a == c)\n",
    "print(a == d)"
   ]
  },
  {
   "cell_type": "code",
   "execution_count": null,
   "metadata": {},
   "outputs": [],
   "source": [
    "# 문자열을 나눠주는 함수 (기본적으로 공백을 기준)\n",
    "# split()\n",
    "test_str2 = 'Hello World'\n",
    "print(test_str2.split())\n"
   ]
  },
  {
   "cell_type": "code",
   "execution_count": null,
   "metadata": {},
   "outputs": [],
   "source": [
    "# 특정 문자를 기준으로 문자를 나눠주는 방법\n",
    "test_str3 = \"a/b/c/d\"\n",
    "print(test_str3.split('/'))"
   ]
  },
  {
   "cell_type": "code",
   "execution_count": 100,
   "metadata": {},
   "outputs": [],
   "source": [
    "sql = \"select * from table\"\n",
    "sql3 = \"SELECT * FROM table\"\n",
    "sql2 = \"\"\"\n",
    "    insert \n",
    "    into \n",
    "    table\n",
    "    values \n",
    "    ()\n",
    "\"\"\"\n",
    "# print(sql)\n",
    "# print(sql2)"
   ]
  },
  {
   "cell_type": "code",
   "execution_count": null,
   "metadata": {},
   "outputs": [],
   "source": [
    "# sql, sql2 명령어 \n",
    "# select 명령어인 경우에는 SELECT 단어를 출력\n",
    "# select 명령어가 아닌 경우에는 RESULT 단어를 출력 \n",
    "print(sql)\n",
    "print(sql.split())\n",
    "print(sql.split()[0])\n",
    "print(sql.split()[0] == 'select')\n",
    "# sql3에 문자는 모두 소문자로 변경 -> \n",
    "# 공백을 기준으로 문자를 나눠주고 ->\n",
    "# 첫번째 문자를 추출\n",
    "print(sql3.lower().split()[0] == 'select')"
   ]
  },
  {
   "cell_type": "code",
   "execution_count": 109,
   "metadata": {},
   "outputs": [
    {
     "name": "stdout",
     "output_type": "stream",
     "text": [
      "insert\n"
     ]
    }
   ],
   "source": [
    "print(sql2.split()[0])"
   ]
  },
  {
   "cell_type": "code",
   "execution_count": 114,
   "metadata": {},
   "outputs": [
    {
     "name": "stdout",
     "output_type": "stream",
     "text": [
      "True\n",
      "True\n",
      "True\n"
     ]
    }
   ],
   "source": [
    "# 문자열의 시작이 특정한 문자와 같은가? 함수 존재\n",
    "print(sql.startswith('select'))\n",
    "print(sql3.lower().startswith('select'))\n",
    "print(sql2.lstrip().startswith('insert'))"
   ]
  },
  {
   "cell_type": "code",
   "execution_count": 116,
   "metadata": {},
   "outputs": [
    {
     "name": "stdout",
     "output_type": "stream",
     "text": [
      "../csv/test.csv\n",
      "../csv/test5.csv\n"
     ]
    }
   ],
   "source": [
    "# 문자의 마지막이 특정한 문자와 같은가?\n",
    "file_path = [\"../csv/test.csv\", \n",
    "\"../csv/test2.xlsx\", \n",
    "\"../csv/test3.json\", \n",
    "\"../csv/test4.txt\", \n",
    "\"../csv/test5.csv\"]\n",
    "\n",
    "for i in file_path:\n",
    "    # 파일의 경로 중 확장자가 csv인 데이터만 출력 \n",
    "    if i.endswith('.csv'):\n",
    "        print(i)"
   ]
  },
  {
   "cell_type": "code",
   "execution_count": 120,
   "metadata": {},
   "outputs": [
    {
     "data": {
      "text/plain": [
       "True"
      ]
     },
     "execution_count": 120,
     "metadata": {},
     "output_type": "execute_result"
    }
   ],
   "source": [
    "# startswith() 함수 흐름을 생각\n",
    "# 문자열에서 시작하는 문자가 입력값과 같은지?\n",
    "# 'select'값으로 시작하는가?\n",
    "# 특정 문자에서 처음부터 7번째 전까지의 문자를 추출\n",
    "# 위에서 나온 결과인 문자열과 'select'가 같은가?\n",
    "text = 'select'\n",
    "sql[:len(text)] == text\n"
   ]
  },
  {
   "cell_type": "code",
   "execution_count": 123,
   "metadata": {},
   "outputs": [
    {
     "data": {
      "text/plain": [
       "True"
      ]
     },
     "execution_count": 123,
     "metadata": {},
     "output_type": "execute_result"
    }
   ],
   "source": [
    "# endswith() 함수 흐름을 생각 \n",
    "text2 = \".csv\"\n",
    "file_path2 = \"../csv/test.csv\"\n",
    "\n",
    "file_path2[-len(text2):] == text2"
   ]
  },
  {
   "cell_type": "code",
   "execution_count": 143,
   "metadata": {},
   "outputs": [
    {
     "name": "stdout",
     "output_type": "stream",
     "text": [
      "[{'name': 'test'}]\n",
      "[{'name': 'test'}, {'name': 'test2'}]\n",
      "[{'name': 'test'}, {'name': 'test2'}, {'name': 'test3'}]\n",
      "[{'name': 'test', 'age': 20}, {'name': 'test2'}, {'name': 'test3'}]\n",
      "[{'name': 'test', 'age': 20}, {'name': 'test2', 'age': 30}, {'name': 'test3'}]\n",
      "[{'name': 'test', 'age': 20}, {'name': 'test2', 'age': 30}, {'name': 'test3', 'age': 40}]\n",
      "[{'name': 'test', 'age': 20, 'loc': 'a'}, {'name': 'test2', 'age': 30}, {'name': 'test3', 'age': 40}]\n",
      "[{'name': 'test', 'age': 20, 'loc': 'a'}, {'name': 'test2', 'age': 30, 'loc': 'b'}, {'name': 'test3', 'age': 40}]\n"
     ]
    }
   ],
   "source": [
    "dict_text = {\n",
    "    \"name\" : ['test', 'test2', 'test3'], \n",
    "    \"age\" : [20, 30, 40]\n",
    "}\n",
    "# dict안에 list로 되어있는 데이터의 형태를\n",
    "# list 안에 dict로 변경 [{'name':'test', 'age':20}, {'name':'test2', 'age':30},...]\n",
    "result = []\n",
    "\n",
    "for i in dict_text:\n",
    "    # print(i)\n",
    "    # 두번째 반복문 : dict_text[i]의 길이만큼 반복\n",
    "    for j in range(len(dict_text[i])):\n",
    "        # j 변수가 의미하는것은?-> index\n",
    "        # print(j, i)\n",
    "        # dict를 result에 추가 -> append()\n",
    "        # 조건식\n",
    "        if len(dict_text[i]) > len(result):\n",
    "            result.append({})\n",
    "        # print(result)\n",
    "        # i를 key로 해서 각각의 value() 추가 \n",
    "        # -> result[index][key] = value\n",
    "        result[j][i] = dict_text[i][j]\n",
    "        print(result)"
   ]
  },
  {
   "cell_type": "code",
   "execution_count": 141,
   "metadata": {},
   "outputs": [
    {
     "name": "stdout",
     "output_type": "stream",
     "text": [
      "0\n",
      "1\n",
      "2\n"
     ]
    },
    {
     "ename": "IndexError",
     "evalue": "list index out of range",
     "output_type": "error",
     "traceback": [
      "\u001b[1;31m---------------------------------------------------------------------------\u001b[0m",
      "\u001b[1;31mIndexError\u001b[0m                                Traceback (most recent call last)",
      "Cell \u001b[1;32mIn[141], line 12\u001b[0m\n\u001b[0;32m     10\u001b[0m dict_data \u001b[38;5;241m=\u001b[39m {}\n\u001b[0;32m     11\u001b[0m \u001b[38;5;28;01mfor\u001b[39;00m j \u001b[38;5;129;01min\u001b[39;00m dict_text:\n\u001b[1;32m---> 12\u001b[0m     dict_data[j] \u001b[38;5;241m=\u001b[39m \u001b[43mdict_text\u001b[49m\u001b[43m[\u001b[49m\u001b[43mj\u001b[49m\u001b[43m]\u001b[49m\u001b[43m[\u001b[49m\u001b[43mi\u001b[49m\u001b[43m]\u001b[49m\n\u001b[0;32m     13\u001b[0m \u001b[38;5;66;03m# print(dict_data)\u001b[39;00m\n\u001b[0;32m     14\u001b[0m result\u001b[38;5;241m.\u001b[39mappend(dict_data)\n",
      "\u001b[1;31mIndexError\u001b[0m: list index out of range"
     ]
    }
   ],
   "source": [
    "dict_text = {\n",
    "    \"name\" : ['test', 'test2', 'test3'], \n",
    "    \"age\" : [20, 30, 40], \n",
    "    'loc' : ['a', 'b', 'c']\n",
    "}\n",
    "result = []\n",
    "# 첫번째 values의 길이 만큼 반복 \n",
    "for i in range(len(list(dict_text.values())[0])):\n",
    "    print(i)\n",
    "    dict_data = {}\n",
    "    for j in dict_text:\n",
    "        dict_data[j] = dict_text[j][i]\n",
    "    # print(dict_data)\n",
    "    result.append(dict_data)\n",
    "print(result)"
   ]
  }
 ],
 "metadata": {
  "kernelspec": {
   "display_name": "Python 3",
   "language": "python",
   "name": "python3"
  },
  "language_info": {
   "codemirror_mode": {
    "name": "ipython",
    "version": 3
   },
   "file_extension": ".py",
   "mimetype": "text/x-python",
   "name": "python",
   "nbconvert_exporter": "python",
   "pygments_lexer": "ipython3",
   "version": "3.11.1"
  }
 },
 "nbformat": 4,
 "nbformat_minor": 2
}
