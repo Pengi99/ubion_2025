{
 "cells": [
  {
   "cell_type": "code",
   "execution_count": 1,
   "metadata": {},
   "outputs": [],
   "source": [
    "service_key = \"dtbWOdJ/Cz5HE0DGLU+CRPe7pOW0NIQBUcGEqsHZaTRiYCI/5+zugwzQjcvuId7NPdg6rUiW+ft3fm7yqyD4pw==\"\n"
   ]
  },
  {
   "cell_type": "code",
   "execution_count": null,
   "metadata": {},
   "outputs": [
    {
     "name": "stderr",
     "output_type": "stream",
     "text": [
      "ERROR: Could not find a version that satisfies the requirement pprint (from versions: none)\n",
      "ERROR: No matching distribution found for pprint\n",
      "\n",
      "[notice] A new release of pip is available: 23.2.1 -> 25.0.1\n",
      "[notice] To update, run: python.exe -m pip install --upgrade pip\n"
     ]
    }
   ],
   "source": [
    "# !pip install requests\n",
    "# !pip install pprint"
   ]
  },
  {
   "cell_type": "code",
   "execution_count": 12,
   "metadata": {},
   "outputs": [
    {
     "name": "stdout",
     "output_type": "stream",
     "text": [
      "b\"<response><body><dataType>XML</dataType><items><item><popltn_cnt>31522290</popltn_cnt><country_nm><![CDATA[\\xea\\xb0\\x80\\xeb\\x82\\x98]]></country_nm><country_eng_nm><![CDATA[Ghana]]></country_eng_nm><popltn_year>2019</popltn_year><popltn_month></popltn_month><popltn_cn></popltn_cn><country_iso_alp2><![CDATA[GH]]></country_iso_alp2><popltn_cnt_src><![CDATA[('19) World Bank (\\xec\\xb5\\x9c\\xea\\xb7\\xbc \\xec\\x88\\x98\\xec\\xa0\\x95\\xec\\x9d\\xbc : 2024.11.13.)]]></popltn_cnt_src><popltn_growth><![CDATA[2.09]]></popltn_growth><popltn_growth_src><![CDATA[('19) World Bank (\\xec\\xb5\\x9c\\xea\\xb7\\xbc \\xec\\x88\\x98\\xec\\xa0\\x95\\xec\\x9d\\xbc : 2024.11.13.)]]></popltn_growth_src></item><item><popltn_cnt_src><![CDATA[('18) World Bank (\\xec\\xb5\\x9c\\xea\\xb7\\xbc \\xec\\x88\\x98\\xec\\xa0\\x95\\xec\\x9d\\xbc : 2024.11.13.)]]></popltn_cnt_src><popltn_growth><![CDATA[2.12]]></popltn_growth><popltn_growth_src><![CDATA[('18) World Bank (\\xec\\xb5\\x9c\\xea\\xb7\\xbc \\xec\\x88\\x98\\xec\\xa0\\x95\\xec\\x9d\\xbc : 2024.11.13.)]]></popltn_growth_src><popltn_cn></popltn_cn><country_iso_alp2><![CDATA[GH]]></country_iso_alp2><country_eng_nm><![CDATA[Ghana]]></country_eng_nm><popltn_year>2018</popltn_year><popltn_month></popltn_month><popltn_cnt>30870641</popltn_cnt><country_nm><![CDATA[\\xea\\xb0\\x80\\xeb\\x82\\x98]]></country_nm></item></items><numOfRows>10</numOfRows><pageNo>1</pageNo><totalCount>2</totalCount></body><header><resultCode>0</resultCode><resultMsg>\\xec\\xa0\\x95\\xec\\x83\\x81</resultMsg></header></response>\"\n"
     ]
    }
   ],
   "source": [
    "import requests\n",
    "\n",
    "url = 'http://apis.data.go.kr/1262000/CountryPopulationService2/getCountryPopulationList2'\n",
    "params ={'serviceKey' : service_key, 'pageNo' : '1', 'numOfRows' : '10', 'cond[country_nm::EQ]' : '가나', 'cond[country_iso_alp2::EQ]' : 'GH', 'returnType' : 'xml' }\n",
    "\n",
    "response = requests.get(url, params=params)\n",
    "print(response.content)"
   ]
  },
  {
   "cell_type": "code",
   "execution_count": null,
   "metadata": {},
   "outputs": [],
   "source": [
    "# !pip install xmltodict"
   ]
  },
  {
   "cell_type": "code",
   "execution_count": 14,
   "metadata": {},
   "outputs": [],
   "source": [
    "import xmltodict"
   ]
  },
  {
   "cell_type": "code",
   "execution_count": null,
   "metadata": {},
   "outputs": [],
   "source": [
    "# xml 데이터를 dict형으로 변환\n",
    "res_data = xmltodict.parse(response.content)\\\n",
    "    ['response']['body']['items']['item']"
   ]
  },
  {
   "cell_type": "code",
   "execution_count": 21,
   "metadata": {},
   "outputs": [],
   "source": [
    "import pandas as pd"
   ]
  },
  {
   "cell_type": "code",
   "execution_count": 25,
   "metadata": {},
   "outputs": [],
   "source": [
    "pd.DataFrame(res_data).to_csv(\"test.csv\", index=False)"
   ]
  },
  {
   "cell_type": "code",
   "execution_count": 26,
   "metadata": {},
   "outputs": [
    {
     "data": {
      "text/html": [
       "<div>\n",
       "<style scoped>\n",
       "    .dataframe tbody tr th:only-of-type {\n",
       "        vertical-align: middle;\n",
       "    }\n",
       "\n",
       "    .dataframe tbody tr th {\n",
       "        vertical-align: top;\n",
       "    }\n",
       "\n",
       "    .dataframe thead th {\n",
       "        text-align: right;\n",
       "    }\n",
       "</style>\n",
       "<table border=\"1\" class=\"dataframe\">\n",
       "  <thead>\n",
       "    <tr style=\"text-align: right;\">\n",
       "      <th></th>\n",
       "      <th>popltn_cnt</th>\n",
       "      <th>country_nm</th>\n",
       "      <th>country_eng_nm</th>\n",
       "      <th>popltn_year</th>\n",
       "      <th>popltn_month</th>\n",
       "      <th>popltn_cn</th>\n",
       "      <th>country_iso_alp2</th>\n",
       "      <th>popltn_cnt_src</th>\n",
       "      <th>popltn_growth</th>\n",
       "      <th>popltn_growth_src</th>\n",
       "    </tr>\n",
       "  </thead>\n",
       "  <tbody>\n",
       "    <tr>\n",
       "      <th>0</th>\n",
       "      <td>31522290</td>\n",
       "      <td>가나</td>\n",
       "      <td>Ghana</td>\n",
       "      <td>2019</td>\n",
       "      <td>NaN</td>\n",
       "      <td>NaN</td>\n",
       "      <td>GH</td>\n",
       "      <td>('19) World Bank (최근 수정일 : 2024.11.13.)</td>\n",
       "      <td>2.09</td>\n",
       "      <td>('19) World Bank (최근 수정일 : 2024.11.13.)</td>\n",
       "    </tr>\n",
       "    <tr>\n",
       "      <th>1</th>\n",
       "      <td>30870641</td>\n",
       "      <td>가나</td>\n",
       "      <td>Ghana</td>\n",
       "      <td>2018</td>\n",
       "      <td>NaN</td>\n",
       "      <td>NaN</td>\n",
       "      <td>GH</td>\n",
       "      <td>('18) World Bank (최근 수정일 : 2024.11.13.)</td>\n",
       "      <td>2.12</td>\n",
       "      <td>('18) World Bank (최근 수정일 : 2024.11.13.)</td>\n",
       "    </tr>\n",
       "  </tbody>\n",
       "</table>\n",
       "</div>"
      ],
      "text/plain": [
       "   popltn_cnt country_nm country_eng_nm  popltn_year  popltn_month  popltn_cn  \\\n",
       "0    31522290         가나          Ghana         2019           NaN        NaN   \n",
       "1    30870641         가나          Ghana         2018           NaN        NaN   \n",
       "\n",
       "  country_iso_alp2                           popltn_cnt_src  popltn_growth  \\\n",
       "0               GH  ('19) World Bank (최근 수정일 : 2024.11.13.)           2.09   \n",
       "1               GH  ('18) World Bank (최근 수정일 : 2024.11.13.)           2.12   \n",
       "\n",
       "                         popltn_growth_src  \n",
       "0  ('19) World Bank (최근 수정일 : 2024.11.13.)  \n",
       "1  ('18) World Bank (최근 수정일 : 2024.11.13.)  "
      ]
     },
     "execution_count": 26,
     "metadata": {},
     "output_type": "execute_result"
    }
   ],
   "source": [
    "pd.read_csv('test.csv')"
   ]
  },
  {
   "cell_type": "code",
   "execution_count": 27,
   "metadata": {},
   "outputs": [
    {
     "name": "stdout",
     "output_type": "stream",
     "text": [
      "b'{\"response\":{\"body\":{\"dataType\":\"JSON\",\"items\":{\"item\":[{\"country_eng_nm\":\"Ghana\",\"country_iso_alp2\":\"GH\",\"country_nm\":\"\\xea\\xb0\\x80\\xeb\\x82\\x98\",\"popltn_cn\":null,\"popltn_cnt\":31522290,\"popltn_cnt_src\":\"(\\'19) World Bank (\\xec\\xb5\\x9c\\xea\\xb7\\xbc \\xec\\x88\\x98\\xec\\xa0\\x95\\xec\\x9d\\xbc : 2024.11.13.)\",\"popltn_growth\":2.09,\"popltn_growth_src\":\"(\\'19) World Bank (\\xec\\xb5\\x9c\\xea\\xb7\\xbc \\xec\\x88\\x98\\xec\\xa0\\x95\\xec\\x9d\\xbc : 2024.11.13.)\",\"popltn_month\":null,\"popltn_year\":2019},{\"country_eng_nm\":\"Ghana\",\"country_iso_alp2\":\"GH\",\"country_nm\":\"\\xea\\xb0\\x80\\xeb\\x82\\x98\",\"popltn_cn\":null,\"popltn_cnt\":30870641,\"popltn_cnt_src\":\"(\\'18) World Bank (\\xec\\xb5\\x9c\\xea\\xb7\\xbc \\xec\\x88\\x98\\xec\\xa0\\x95\\xec\\x9d\\xbc : 2024.11.13.)\",\"popltn_growth\":2.12,\"popltn_growth_src\":\"(\\'18) World Bank (\\xec\\xb5\\x9c\\xea\\xb7\\xbc \\xec\\x88\\x98\\xec\\xa0\\x95\\xec\\x9d\\xbc : 2024.11.13.)\",\"popltn_month\":null,\"popltn_year\":2018},{\"country_eng_nm\":\"Gabon\",\"country_iso_alp2\":\"GA\",\"country_nm\":\"\\xea\\xb0\\x80\\xeb\\xb4\\x89\",\"popltn_cn\":null,\"popltn_cnt\":2242785,\"popltn_cnt_src\":\"(\\'19) World Bank (\\xec\\xb5\\x9c\\xea\\xb7\\xbc \\xec\\x88\\x98\\xec\\xa0\\x95\\xec\\x9d\\xbc : 2024.11.13.)\",\"popltn_growth\":2.29,\"popltn_growth_src\":\"(\\'19) World Bank (\\xec\\xb5\\x9c\\xea\\xb7\\xbc \\xec\\x88\\x98\\xec\\xa0\\x95\\xec\\x9d\\xbc : 2024.11.13.)\",\"popltn_month\":null,\"popltn_year\":2019},{\"country_eng_nm\":\"Gabon\",\"country_iso_alp2\":\"GA\",\"country_nm\":\"\\xea\\xb0\\x80\\xeb\\xb4\\x89\",\"popltn_cn\":null,\"popltn_cnt\":2192012,\"popltn_cnt_src\":\"(\\'18) World Bank (\\xec\\xb5\\x9c\\xea\\xb7\\xbc \\xec\\x88\\x98\\xec\\xa0\\x95\\xec\\x9d\\xbc : 2024.11.13.)\",\"popltn_growth\":2.39,\"popltn_growth_src\":\"(\\'18) World Bank (\\xec\\xb5\\x9c\\xea\\xb7\\xbc \\xec\\x88\\x98\\xec\\xa0\\x95\\xec\\x9d\\xbc : 2024.11.13.)\",\"popltn_month\":null,\"popltn_year\":2018},{\"country_eng_nm\":\"Guyana\",\"country_iso_alp2\":\"GY\",\"country_nm\":\"\\xea\\xb0\\x80\\xec\\x9d\\xb4\\xec\\x95\\x84\\xeb\\x82\\x98\",\"popltn_cn\":null,\"popltn_cnt\":798753,\"popltn_cnt_src\":\"(\\'19) World Bank (\\xec\\xb5\\x9c\\xea\\xb7\\xbc \\xec\\x88\\x98\\xec\\xa0\\x95\\xec\\x9d\\xbc : 2024.11.13.)\",\"popltn_growth\":1.67,\"popltn_growth_src\":\"(\\'19) World Bank (\\xec\\xb5\\x9c\\xea\\xb7\\xbc \\xec\\x88\\x98\\xec\\xa0\\x95\\xec\\x9d\\xbc : 2024.11.13.)\",\"popltn_month\":null,\"popltn_year\":2019},{\"country_eng_nm\":\"Guyana\",\"country_iso_alp2\":\"GY\",\"country_nm\":\"\\xea\\xb0\\x80\\xec\\x9d\\xb4\\xec\\x95\\x84\\xeb\\x82\\x98\",\"popltn_cn\":null,\"popltn_cnt\":785514,\"popltn_cnt_src\":\"(\\'18) World Bank (\\xec\\xb5\\x9c\\xea\\xb7\\xbc \\xec\\x88\\x98\\xec\\xa0\\x95\\xec\\x9d\\xbc : 2024.11.13.)\",\"popltn_growth\":2.88,\"popltn_growth_src\":\"(\\'18) World Bank (\\xec\\xb5\\x9c\\xea\\xb7\\xbc \\xec\\x88\\x98\\xec\\xa0\\x95\\xec\\x9d\\xbc : 2024.11.13.)\",\"popltn_month\":null,\"popltn_year\":2018},{\"country_eng_nm\":\"Gambia\",\"country_iso_alp2\":\"GM\",\"country_nm\":\"\\xea\\xb0\\x90\\xeb\\xb9\\x84\\xec\\x95\\x84\",\"popltn_cn\":null,\"popltn_cnt\":2508883,\"popltn_cnt_src\":\"(\\'19) World Bank (\\xec\\xb5\\x9c\\xea\\xb7\\xbc \\xec\\x88\\x98\\xec\\xa0\\x95\\xec\\x9d\\xbc : 2024.11.13.)\",\"popltn_growth\":2.58,\"popltn_growth_src\":\"(\\'19) World Bank (\\xec\\xb5\\x9c\\xea\\xb7\\xbc \\xec\\x88\\x98\\xec\\xa0\\x95\\xec\\x9d\\xbc : 2024.11.13.)\",\"popltn_month\":null,\"popltn_year\":2019},{\"country_eng_nm\":\"Gambia\",\"country_iso_alp2\":\"GM\",\"country_nm\":\"\\xea\\xb0\\x90\\xeb\\xb9\\x84\\xec\\x95\\x84\",\"popltn_cn\":null,\"popltn_cnt\":2444916,\"popltn_cnt_src\":\"(\\'18) World Bank (\\xec\\xb5\\x9c\\xea\\xb7\\xbc \\xec\\x88\\x98\\xec\\xa0\\x95\\xec\\x9d\\xbc : 2024.11.13.)\",\"popltn_growth\":2.64,\"popltn_growth_src\":\"(\\'18) World Bank (\\xec\\xb5\\x9c\\xea\\xb7\\xbc \\xec\\x88\\x98\\xec\\xa0\\x95\\xec\\x9d\\xbc : 2024.11.13.)\",\"popltn_month\":null,\"popltn_year\":2018},{\"country_eng_nm\":\"Bailiwick of Guernsey\",\"country_iso_alp2\":\"GG\",\"country_nm\":\"\\xea\\xb1\\xb4\\xec\\xa7\\x80\",\"popltn_cn\":null,\"popltn_cnt\":62506,\"popltn_cnt_src\":null,\"popltn_growth\":null,\"popltn_growth_src\":null,\"popltn_month\":12,\"popltn_year\":2018},{\"country_eng_nm\":\"Bailiwick of Guernsey\",\"country_iso_alp2\":\"GG\",\"country_nm\":\"\\xea\\xb1\\xb4\\xec\\xa7\\x80\",\"popltn_cn\":null,\"popltn_cnt\":null,\"popltn_cnt_src\":null,\"popltn_growth\":null,\"popltn_growth_src\":null,\"popltn_month\":null,\"popltn_year\":null}]},\"numOfRows\":10,\"pageNo\":1,\"totalCount\":450},\"header\":{\"resultCode\":\"0\",\"resultMsg\":\"\\xec\\xa0\\x95\\xec\\x83\\x81\"}}}\\n'\n"
     ]
    }
   ],
   "source": [
    "import requests\n",
    "\n",
    "url = 'http://apis.data.go.kr/1262000/CountryPopulationService2/getCountryPopulationList2'\n",
    "params ={'serviceKey' : service_key, \n",
    "         'pageNo' : '1', \n",
    "         'numOfRows' : '10', \n",
    "         'returnType' : 'json' }\n",
    "\n",
    "response = requests.get(url, params=params)\n",
    "print(response.content)"
   ]
  },
  {
   "cell_type": "code",
   "execution_count": 28,
   "metadata": {},
   "outputs": [],
   "source": [
    "# bytes 데이터를 dict\n",
    "import json"
   ]
  },
  {
   "cell_type": "code",
   "execution_count": 29,
   "metadata": {},
   "outputs": [
    {
     "data": {
      "text/plain": [
       "{'response': {'body': {'dataType': 'JSON',\n",
       "   'items': {'item': [{'country_eng_nm': 'Ghana',\n",
       "      'country_iso_alp2': 'GH',\n",
       "      'country_nm': '가나',\n",
       "      'popltn_cn': None,\n",
       "      'popltn_cnt': 31522290,\n",
       "      'popltn_cnt_src': \"('19) World Bank (최근 수정일 : 2024.11.13.)\",\n",
       "      'popltn_growth': 2.09,\n",
       "      'popltn_growth_src': \"('19) World Bank (최근 수정일 : 2024.11.13.)\",\n",
       "      'popltn_month': None,\n",
       "      'popltn_year': 2019},\n",
       "     {'country_eng_nm': 'Ghana',\n",
       "      'country_iso_alp2': 'GH',\n",
       "      'country_nm': '가나',\n",
       "      'popltn_cn': None,\n",
       "      'popltn_cnt': 30870641,\n",
       "      'popltn_cnt_src': \"('18) World Bank (최근 수정일 : 2024.11.13.)\",\n",
       "      'popltn_growth': 2.12,\n",
       "      'popltn_growth_src': \"('18) World Bank (최근 수정일 : 2024.11.13.)\",\n",
       "      'popltn_month': None,\n",
       "      'popltn_year': 2018},\n",
       "     {'country_eng_nm': 'Gabon',\n",
       "      'country_iso_alp2': 'GA',\n",
       "      'country_nm': '가봉',\n",
       "      'popltn_cn': None,\n",
       "      'popltn_cnt': 2242785,\n",
       "      'popltn_cnt_src': \"('19) World Bank (최근 수정일 : 2024.11.13.)\",\n",
       "      'popltn_growth': 2.29,\n",
       "      'popltn_growth_src': \"('19) World Bank (최근 수정일 : 2024.11.13.)\",\n",
       "      'popltn_month': None,\n",
       "      'popltn_year': 2019},\n",
       "     {'country_eng_nm': 'Gabon',\n",
       "      'country_iso_alp2': 'GA',\n",
       "      'country_nm': '가봉',\n",
       "      'popltn_cn': None,\n",
       "      'popltn_cnt': 2192012,\n",
       "      'popltn_cnt_src': \"('18) World Bank (최근 수정일 : 2024.11.13.)\",\n",
       "      'popltn_growth': 2.39,\n",
       "      'popltn_growth_src': \"('18) World Bank (최근 수정일 : 2024.11.13.)\",\n",
       "      'popltn_month': None,\n",
       "      'popltn_year': 2018},\n",
       "     {'country_eng_nm': 'Guyana',\n",
       "      'country_iso_alp2': 'GY',\n",
       "      'country_nm': '가이아나',\n",
       "      'popltn_cn': None,\n",
       "      'popltn_cnt': 798753,\n",
       "      'popltn_cnt_src': \"('19) World Bank (최근 수정일 : 2024.11.13.)\",\n",
       "      'popltn_growth': 1.67,\n",
       "      'popltn_growth_src': \"('19) World Bank (최근 수정일 : 2024.11.13.)\",\n",
       "      'popltn_month': None,\n",
       "      'popltn_year': 2019},\n",
       "     {'country_eng_nm': 'Guyana',\n",
       "      'country_iso_alp2': 'GY',\n",
       "      'country_nm': '가이아나',\n",
       "      'popltn_cn': None,\n",
       "      'popltn_cnt': 785514,\n",
       "      'popltn_cnt_src': \"('18) World Bank (최근 수정일 : 2024.11.13.)\",\n",
       "      'popltn_growth': 2.88,\n",
       "      'popltn_growth_src': \"('18) World Bank (최근 수정일 : 2024.11.13.)\",\n",
       "      'popltn_month': None,\n",
       "      'popltn_year': 2018},\n",
       "     {'country_eng_nm': 'Gambia',\n",
       "      'country_iso_alp2': 'GM',\n",
       "      'country_nm': '감비아',\n",
       "      'popltn_cn': None,\n",
       "      'popltn_cnt': 2508883,\n",
       "      'popltn_cnt_src': \"('19) World Bank (최근 수정일 : 2024.11.13.)\",\n",
       "      'popltn_growth': 2.58,\n",
       "      'popltn_growth_src': \"('19) World Bank (최근 수정일 : 2024.11.13.)\",\n",
       "      'popltn_month': None,\n",
       "      'popltn_year': 2019},\n",
       "     {'country_eng_nm': 'Gambia',\n",
       "      'country_iso_alp2': 'GM',\n",
       "      'country_nm': '감비아',\n",
       "      'popltn_cn': None,\n",
       "      'popltn_cnt': 2444916,\n",
       "      'popltn_cnt_src': \"('18) World Bank (최근 수정일 : 2024.11.13.)\",\n",
       "      'popltn_growth': 2.64,\n",
       "      'popltn_growth_src': \"('18) World Bank (최근 수정일 : 2024.11.13.)\",\n",
       "      'popltn_month': None,\n",
       "      'popltn_year': 2018},\n",
       "     {'country_eng_nm': 'Bailiwick of Guernsey',\n",
       "      'country_iso_alp2': 'GG',\n",
       "      'country_nm': '건지',\n",
       "      'popltn_cn': None,\n",
       "      'popltn_cnt': 62506,\n",
       "      'popltn_cnt_src': None,\n",
       "      'popltn_growth': None,\n",
       "      'popltn_growth_src': None,\n",
       "      'popltn_month': 12,\n",
       "      'popltn_year': 2018},\n",
       "     {'country_eng_nm': 'Bailiwick of Guernsey',\n",
       "      'country_iso_alp2': 'GG',\n",
       "      'country_nm': '건지',\n",
       "      'popltn_cn': None,\n",
       "      'popltn_cnt': None,\n",
       "      'popltn_cnt_src': None,\n",
       "      'popltn_growth': None,\n",
       "      'popltn_growth_src': None,\n",
       "      'popltn_month': None,\n",
       "      'popltn_year': None}]},\n",
       "   'numOfRows': 10,\n",
       "   'pageNo': 1,\n",
       "   'totalCount': 450},\n",
       "  'header': {'resultCode': '0', 'resultMsg': '정상'}}}"
      ]
     },
     "execution_count": 29,
     "metadata": {},
     "output_type": "execute_result"
    }
   ],
   "source": [
    "json.loads(response.content)"
   ]
  },
  {
   "cell_type": "code",
   "execution_count": 31,
   "metadata": {},
   "outputs": [
    {
     "name": "stdout",
     "output_type": "stream",
     "text": [
      "(b'<!doctype html><html itemscope=\"\" itemtype=\"http://schema.org/WebPage\" lang='\n",
      " b'\"ko\"><head><meta content=\"text/html; charset=UTF-8\" http-equiv=\"Content-Type'\n",
      " b'\"><meta content=\"/images/branding/googleg/1x/googleg_standard_color_128dp.pn'\n",
      " b'g\" itemprop=\"image\"><title>Google</title><script nonce=\"95usZ9ljBTPoAjy7NIAQ'\n",
      " b'yw\">(function(){var _g={kEI:\\'-LrPZ_K0Iczc1sQP0OX8gA8\\',kEXPI:\\'0,202792,34'\n",
      " b'97458,688,446,541533,2891,79448,9707,344796,228119,19201,42724,5230293,11461'\n",
      " b',8834893,79,5,2,7,4,6,2,23933863,4043709,25228681,123103,15165,8182,5935,455'\n",
      " b'7,60607,6754,23879,9138,745,2,2,3851,328,6225,34310,19335,6976,3544,1341,532'\n",
      " b'8,8380,8212,891,6531,21302,33,9041,17667,10672,21339,2986,5354,41,13162,477,'\n",
      " b'1,6741,4106,4452,19746,2,1853,2149,758,3856,5773,1202,3108,10599,1743,3352,7'\n",
      " b'608,4719,2545,7576,49,1635,2808,446,8,458,1639,892,35,3072,1062,850,939,1254'\n",
      " b',55,140,887,1,828,218,1,83,4232,3281,570,2367,1822,1297,1965,1891,1641,201,3'\n",
      " b'54,656,611,3143,820,426,5,113,8,2191,1905,1648,1307,85,369,663,2434,231,143,'\n",
      " b'335,12,548,589,2429,278,25,774,127,336,219,4,1147,243,571,108,520,297,235,12'\n",
      " b'13,4,287,991,1410,75,206,898,88,616,6,1,741,586,582,36,913,406,346,264,755,2'\n",
      " b'41,98,6,534,495,597,336,103,25,532,137,540,3,2,346,454,8,303,510,2,294,291,3'\n",
      " b'3,1363,96,148,107,496,383,130,111,537,477,255,35,332,621,294,284,51,348,198,'\n",
      " b'321,314,1325,2,96,85,92,592,103,375,3,394,91,126,457,1999,558,150,314,166,24'\n",
      " b',435,146,3,22,1342,283,517,2,1,2,2,2,474,83,130,990,1066,642,512,148,343,2,2'\n",
      " b',239,320,958,83,1142,21332956,18,3224,1316,8,3873,12,1888,199,5165,132,37683'\n",
      " b\"26,2244575,2500108',kBL:'h1Nt',kOPI:89978449};(function(){var a;((a=window.g\"\n",
      " b'oogle)==null?0:a.stvsc)?google.kEI=_g.kEI:window.google=_g;}).call(this);})('\n",
      " b\");(function(){google.sn='webhp';google.kHL='ko';})();(function(){\\nvar g=\"\n",
      " b'this||self;function k(){return window.google&&window.google.kOPI||null};var '\n",
      " b'l,m=[];function n(a){for(var b;a&&(!a.getAttribute||!(b=a.getAttribute(\"eid\"'\n",
      " b')));)a=a.parentNode;return b||l}function p(a){for(var b=null;a&&(!a.getAttri'\n",
      " b'bute||!(b=a.getAttribute(\"leid\")));)a=a.parentNode;return b}function q(a){/^'\n",
      " b'http:/i.test(a)&&window.location.protocol===\"https:\"&&(google.ml&&google.ml('\n",
      " b'Error(\"a\"),!1,{src:a,glmm:1}),a=\"\");return a}\\nfunction r(a,b,d,c,h){var '\n",
      " b'e=\"\";b.search(\"&ei=\")===-1&&(e=\"&ei=\"+n(c),b.search(\"&lei=\")===-1&&(c=p(c))&'\n",
      " b'&(e+=\"&lei=\"+c));var f=b.search(\"&cshid=\")===-1&&a!==\"slh\";c=\"&zx=\"+Date.now'\n",
      " b'().toString();g._cshid&&f&&(c+=\"&cshid=\"+g._cshid);(d=d())&&(c+=\"&opi=\"+d);r'\n",
      " b'eturn\"/\"+(h||\"gen_204\")+\"?atyp=i&ct=\"+String(a)+\"&cad=\"+(b+e+c)};l=google.kE'\n",
      " b'I;google.getEI=n;google.getLEI=p;google.ml=function(){return null};google.lo'\n",
      " b'g=function(a,b,d,c,h,e){e=e===void 0?k:e;d||(d=r(a,b,e,c,h));if(d=q(d)){a=ne'\n",
      " b'w Image;var f=m.length;m[f]=a;a.onerror=a.onload=a.onabort=function(){delete'\n",
      " b' m[f]};a.src=d}};google.logUrl=function(a,b){b=b===void 0?k:b;return r(\"\",a,'\n",
      " b'b)};}).call(this);(function(){google.y={};google.sy=[];var d;(d=google).x||('\n",
      " b'd.x=function(a,b){if(a)var c=a.id;else{do c=Math.random();while(google.y[c])'\n",
      " b'}google.y[c]=[a,b];return!1});var e;(e=google).sx||(e.sx=function(a){google.'\n",
      " b'sy.push(a)});google.lm=[];var f;(f=google).plm||(f.plm=function(a){google.lm'\n",
      " b'.push.apply(google.lm,a)});google.lq=[];var g;(g=google).load||(g.load=funct'\n",
      " b'ion(a,b,c){google.lq.push([[a],b,c])});var h;(h=google).loadAll||(h.loadAll='\n",
      " b'function(a,b){google.lq.push([a,b])});google.bx=!1;var k;(k=google).lx||(k.l'\n",
      " b'x=function(){});var l=[],m;(m=google).fce||(m.fce=function(a,b,c,n){l.push(['\n",
      " b'a,b,c,n])});google.qce=l;}).call(this);google.f={};(function(){\\ndocument'\n",
      " b'.documentElement.addEventListener(\"submit\",function(b){var a;if(a=b.target){'\n",
      " b'var c=a.getAttribute(\"data-submitfalse\");a=c===\"1\"||c===\"q\"&&!a.elements.q.v'\n",
      " b'alue?!0:!1}else a=!1;a&&(b.preventDefault(),b.stopPropagation())},!0);docume'\n",
      " b'nt.documentElement.addEventListener(\"click\",function(b){var a;a:{for(a=b.tar'\n",
      " b'get;a&&a!==document.documentElement;a=a.parentElement)if(a.tagName===\"A\"){a='\n",
      " b'a.getAttribute(\"data-nohref\")===\"1\";break a}a=!1}a&&b.preventDefault()},!0);'\n",
      " b'}).call(this);</script><style>#gbar,#guser{font-size:13px;padding-top:1px !i'\n",
      " b'mportant;}#gbar{height:22px}#guser{padding-bottom:7px !important;text-align:'\n",
      " b'right}.gbh,.gbd{border-top:1px solid #c9d7f1;font-size:1px}.gbh{height:0;pos'\n",
      " b'ition:absolute;top:24px;width:100%}@media all{.gb1{height:22px;margin-right:'\n",
      " b'.5em;vertical-align:top}#gbar{float:left}}a.gb1,a.gb4{text-decoration:underl'\n",
      " b'ine !important}a.gb1,a.gb4{color:#00c !important}.gbi .gb4{color:#dd8e27 !im'\n",
      " b'portant}.gbf .gb4{color:#900 !important}\\n</style><style>body,td,a,p,.h{f'\n",
      " b'ont-family:&#44404;&#47548;,&#46027;&#50880;,sans-serif}.ko{font-size:9pt}bo'\n",
      " b'dy{margin:0;overflow-y:scroll}#gog{padding:3px 8px 0}td{line-height:.8em}.ga'\n",
      " b'c_m td{line-height:17px}form{margin-bottom:20px}.h{color:#1967d2}em{font-wei'\n",
      " b'ght:bold;font-style:normal}.lst{height:25px;width:496px}.gsfi,.lst{font:18px'\n",
      " b' sans-serif}.gsfs{font:17px sans-serif}.ds{display:inline-box;display:inline'\n",
      " b'-block;margin:3px 0 4px;margin-left:4px}input{font-family:inherit}body{backg'\n",
      " b'round:#fff;color:#000}a{color:#681da8;text-decoration:none}a:hover,a:active{'\n",
      " b'text-decoration:underline}.fl a{color:#1967d2}a:visited{color:#681da8}.sblc{'\n",
      " b'padding-top:5px}.sblc a{display:block;margin:2px 0;margin-left:13px;font-siz'\n",
      " b'e:11px}.lsbb{background:#f8f9fa;border:solid 1px;border-color:#dadce0 #70757'\n",
      " b'a #70757a #dadce0;height:30px}.lsbb{display:block}#WqQANb a{display:inline-b'\n",
      " b'lock;margin:0 12px}.lsb{background:url(/images/nav_logo229.png) 0 -261px rep'\n",
      " b'eat-x;color:#000;border:none;cursor:pointer;height:30px;margin:0;outline:0;f'\n",
      " b'ont:15px sans-serif;vertical-align:top}.lsb:active{background:#dadce0}.lst:f'\n",
      " b'ocus{outline:none}.Ucigb{width:458px}</style><script nonce=\"95usZ9ljBTPoAjy7'\n",
      " b'NIAQyw\">(function(){window.google.erd={jsr:1,bv:2181,de:true,dpf:\\'N0BYxz'\n",
      " b\"VI4HVF1GA2u91TLRuZFc67GARkaLZqnCuhBfU'};\\nvar g=this||self;var k,l=(k=g.m\"\n",
      " b'ei)!=null?k:1,m,p=(m=g.diel)!=null?m:0,q,r=(q=g.sdo)!=null?q:!0,t=0,u,w=goog'\n",
      " b'le.erd,x=w.jsr;google.ml=function(a,b,d,n,e){e=e===void 0?2:e;b&&(u=a&&a.mes'\n",
      " b'sage);d===void 0&&(d={});d.cad=\"ple_\"+google.ple+\".aple_\"+google.aple;if(goo'\n",
      " b'gle.dl)return google.dl(a,e,d,!0),null;b=d;if(x<0){window.console&&console.e'\n",
      " b'rror(a,b);if(x===-2)throw a;b=!1}else b=!a||!a.message||a.message===\"Error l'\n",
      " b'oading script\"||t>=l&&!n?!1:!0;if(!b)return null;t++;d=d||{};b=encodeURIComp'\n",
      " b'onent;var c=\"/gen_204?atyp=i&ei=\"+b(google.kEI);google.kEXPI&&(c+=\"&jexpid=\"'\n",
      " b'+b(google.kEXPI));c+=\"&srcpg=\"+b(google.sn)+\"&jsr=\"+b(w.jsr)+\\n\"&bver=\"+b'\n",
      " b'(w.bv);w.dpf&&(c+=\"&dpf=\"+b(w.dpf));var f=a.lineNumber;f!==void 0&&(c+=\"&lin'\n",
      " b'e=\"+f);var h=a.fileName;h&&(h.indexOf(\"-extension:/\")>0&&(e=3),c+=\"&script=\"'\n",
      " b'+b(h),f&&h===window.location.href&&(f=document.documentElement.outerHTML.spl'\n",
      " b'it(\"\\\\n\")[f],c+=\"&cad=\"+b(f?f.substring(0,300):\"No script found.\")));goog'\n",
      " b'le.ple&&google.ple===1&&(e=2);c+=\"&jsel=\"+e;for(var v in d)c+=\"&\",c+=b(v),c+'\n",
      " b'=\"=\",c+=b(d[v]);c=c+\"&emsg=\"+b(a.name+\": \"+a.message);c=c+\"&jsst=\"+b(a.stack'\n",
      " b'||\"N/A\");c.length>=12288&&(c=c.substr(0,12288));a=c;n||google.log(0,\"\",a);re'\n",
      " b'turn a};window.onerror=function(a,b,d,n,e){u!==a&&(a=e instanceof Error?e:Er'\n",
      " b'ror(a),d===void 0||\"lineNumber\"in a||(a.lineNumber=d),b===void 0||\"fileName\"'\n",
      " b'in a||(a.fileName=b),google.ml(a,!1,void 0,!1,a.name===\"SyntaxError\"||a.mess'\n",
      " b'age.substring(0,11)===\"SyntaxError\"||a.message.indexOf(\"Script error\")!==-1?'\n",
      " b'3:p));u=null;r&&t>=l&&(window.onerror=null)};})();</script></head><body bgco'\n",
      " b'lor=\"#fff\"><script nonce=\"95usZ9ljBTPoAjy7NIAQyw\">(function(){var src=\\'/'\n",
      " b\"images/nav_logo229.png';var iesg=false;document.body.onload = function(){win\"\n",
      " b'dow.n && window.n();if (document.images){new Image().src=src;}\\nif (!iesg'\n",
      " b'){document.f&&document.f.q.focus();document.gbqf&&document.gbqf.q.focus('\n",
      " b');}\\n}\\n})();</script><div id=\"mngb\"><div id=gbar><nobr><b class=gb1>&#441'\n",
      " b'60;&#49353;</b> <a class=gb1 href=\"https://www.google.com/imghp?hl=ko&tab=wi'\n",
      " b'\">&#51060;&#48120;&#51648;</a> <a class=gb1 href=\"http://maps.google.co.kr/m'\n",
      " b'aps?hl=ko&tab=wl\">&#51648;&#46020;</a> <a class=gb1 href=\"https://play.googl'\n",
      " b'e.com/?hl=ko&tab=w8\">Play</a> <a class=gb1 href=\"https://www.youtube.com/?ta'\n",
      " b'b=w1\">YouTube</a> <a class=gb1 href=\"https://news.google.com/?tab=wn\">&#4568'\n",
      " b'4;&#49828;</a> <a class=gb1 href=\"https://mail.google.com/mail/?tab=wm\">Gmai'\n",
      " b'l</a> <a class=gb1 href=\"https://drive.google.com/?tab=wo\">&#46300;&#46972;&'\n",
      " b'#51060;&#48652;</a> <a class=gb1 style=\"text-decoration:none\" href=\"https://'\n",
      " b'www.google.co.kr/intl/ko/about/products?tab=wh\"><u>&#45908;&#48372;&#44592;<'\n",
      " b'/u> &raquo;</a></nobr></div><div id=guser width=100%><nobr><span id=gbn clas'\n",
      " b's=gbi></span><span id=gbf class=gbf></span><span id=gbe></span><a href=\"http'\n",
      " b'://www.google.co.kr/history/optout?hl=ko\" class=gb4>&#50937; &#44592;&#47197'\n",
      " b';</a> | <a  href=\"/preferences?hl=ko\" class=gb4>&#49444;&#51221;</a> | <a ta'\n",
      " b'rget=_top id=gb_70 href=\"https://accounts.google.com/ServiceLogin?hl=ko&pass'\n",
      " b'ive=true&continue=http://www.google.com/&ec=GAZAAQ\" class=gb4>&#47196;&#4453'\n",
      " b'6;&#51064;</a></nobr></div><div class=gbh style=left:0></div><div class=gbh '\n",
      " b'style=right:0></div></div><center><br clear=\"all\" id=\"lgpd\"><div id=\"XjhHGf\"'\n",
      " b'><img alt=\"Google\" height=\"92\" src=\"/images/branding/googlelogo/1x/googlelog'\n",
      " b'o_white_background_color_272x92dp.png\" style=\"padding:28px 0 14px\" width=\"27'\n",
      " b'2\" id=\"hplogo\"><br><br></div><form action=\"/search\" name=\"f\"><table cellpadd'\n",
      " b'ing=\"0\" cellspacing=\"0\"><tr valign=\"top\"><td width=\"25%\">&nbsp;</td><td alig'\n",
      " b'n=\"center\" nowrap=\"\"><input name=\"ie\" value=\"ISO-8859-1\" type=\"hidden\"><inpu'\n",
      " b't value=\"ko\" name=\"hl\" type=\"hidden\"><input name=\"source\" type=\"hidden\" valu'\n",
      " b'e=\"hp\"><input name=\"biw\" type=\"hidden\"><input name=\"bih\" type=\"hidden\"><div '\n",
      " b'class=\"ds\" style=\"height:32px;margin:4px 0\"><div style=\"position:relative;zo'\n",
      " b'om:1\"><input class=\"lst Ucigb\" style=\"margin:0;padding:5px 8px 0 6px;vertica'\n",
      " b'l-align:top;color:#000;padding-right:38px\" autocomplete=\"off\" value=\"\" title'\n",
      " b'=\"Google &#44160;&#49353;\" maxlength=\"2048\" name=\"q\" size=\"57\"><img src=\"/te'\n",
      " b'xtinputassistant/tia.png\" style=\"position:absolute;cursor:pointer;right:5px;'\n",
      " b'top:4px;z-index:300\" data-script-url=\"/textinputassistant/13/ko_tia.js\" id=\"'\n",
      " b'tsuid_-LrPZ_K0Iczc1sQP0OX8gA8_1\" alt=\"\" height=\"23\" width=\"27\"><script nonce'\n",
      " b'=\"95usZ9ljBTPoAjy7NIAQyw\">(function(){var id=\\'tsuid_-LrPZ_K0Iczc1sQP0OX8'\n",
      " b\"gA8_1';document.getElementById(id).onclick = function(){var s = document.cre\"\n",
      " b\"ateElement('script');s.src = this.getAttribute('data-script-url');document.b\"\n",
      " b'ody.appendChild(s);};})();</script></div></div><br style=\"line-height:0\"><sp'\n",
      " b'an class=\"ds\"><span class=\"lsbb\"><input class=\"lsb\" value=\"Google &#44160;&#'\n",
      " b'49353;\" name=\"btnG\" type=\"submit\"></span></span><span class=\"ds\"><span class'\n",
      " b'=\"lsbb\"><input class=\"lsb\" id=\"tsuid_-LrPZ_K0Iczc1sQP0OX8gA8_2\" value=\"I&#82'\n",
      " b'17;m Feeling Lucky\" name=\"btnI\" type=\"submit\"><script nonce=\"95usZ9ljBTPoAjy'\n",
      " b'7NIAQyw\">(function(){var id=\\'tsuid_-LrPZ_K0Iczc1sQP0OX8gA8_2\\';document.g'\n",
      " b'etElementById(id).onclick = function(){if (this.form.q.value){this.checked ='\n",
      " b' 1;if (this.form.iflsig)this.form.iflsig.disabled = false;}\\nelse top.loc'\n",
      " b'ation=\\'/doodles/\\';};})();</script><input value=\"ACkRmUkAAAAAZ8_JCGkMOsac'\n",
      " b'PPq7O_GlyxhweEeHnDu4\" name=\"iflsig\" type=\"hidden\"></span></span></td><td cla'\n",
      " b'ss=\"fl sblc\" align=\"left\" nowrap=\"\" width=\"25%\"><a href=\"/advanced_search?hl'\n",
      " b'=ko&amp;authuser=0\">&#44256;&#44553;&#44160;&#49353;</a></td></tr></table><i'\n",
      " b'nput id=\"gbv\" name=\"gbv\" type=\"hidden\" value=\"1\"><script nonce=\"95usZ9ljBTPo'\n",
      " b'Ajy7NIAQyw\">(function(){var a,b=\"1\";if(document&&document.getElementById)if('\n",
      " b'typeof XMLHttpRequest!=\"undefined\")b=\"2\";else if(typeof ActiveXObject!=\"unde'\n",
      " b'fined\"){var c,d,e=[\"MSXML2.XMLHTTP.6.0\",\"MSXML2.XMLHTTP.3.0\",\"MSXML2.XMLHTTP'\n",
      " b'\",\"Microsoft.XMLHTTP\"];for(c=0;d=e[c++];)try{new ActiveXObject(d),b=\"2\"}catc'\n",
      " b'h(h){}}a=b;if(a==\"2\"&&location.search.indexOf(\"&gbv=2\")==-1){var f=google.gb'\n",
      " b'vu,g=document.getElementById(\"gbv\");g&&(g.value=a);f&&window.setTimeout(func'\n",
      " b'tion(){location.href=f},0)};}).call(this);</script></form><div style=\"font-s'\n",
      " b'ize:83%;min-height:3.5em\"><br></div><span id=\"footer\"><div style=\"font-size:'\n",
      " b'10pt\"><div style=\"margin:19px auto;text-align:center\" id=\"WqQANb\"><a href=\"/'\n",
      " b'intl/ko/ads/\">&#44305;&#44256;</a><a href=\"http://www.google.co.kr/intl/ko/s'\n",
      " b'ervices/\">&#48708;&#51592;&#45768;&#49828; &#49556;&#47336;&#49496;</a><a hr'\n",
      " b'ef=\"/intl/ko/about.html\">Google &#51221;&#48372;</a><a href=\"http://www.goog'\n",
      " b'le.com/setprefdomain?prefdom=KR&amp;prev=http://www.google.co.kr/&amp;sig=K_'\n",
      " b'WFOZko-JJDWYV1ubt6xBtgATv0Q%3D\">Google.co.kr</a></div></div><p style=\"font-s'\n",
      " b'ize:8pt;color:#70757a\">&copy; 2025 - <a href=\"/intl/ko/policies/privacy/\">&#'\n",
      " b'44060;&#51064;&#51221;&#48372;&#52376;&#47532;&#48169;&#52840;</a> - <a href'\n",
      " b'=\"/intl/ko/policies/terms/\">&#50557;&#44288;</a></p></span></center><script '\n",
      " b'nonce=\"95usZ9ljBTPoAjy7NIAQyw\">(function(){window.google.cdo={height:757,wid'\n",
      " b'th:1440};(function(){var a=window.innerWidth,b=window.innerHeight;if(!a||!b)'\n",
      " b'{var c=window.document,d=c.compatMode==\"CSS1Compat\"?c.documentElement:c.body'\n",
      " b';a=d.clientWidth;b=d.clientHeight}if(a&&b&&(a!=google.cdo.width||b!=google.c'\n",
      " b'do.height)){var e=google,f=e.log,g=\"/client_204?&atyp=i&biw=\"+a+\"&bih=\"+b+\"&'\n",
      " b'ei=\"+google.kEI,h=\"\",k=window.google&&window.google.kOPI||null;k&&(h+=\"&opi='\n",
      " b'\"+k);f.call(e,\"\",\"\",g+h)};}).call(this);})();</script>   <script nonce=\"95us'\n",
      " b'Z9ljBTPoAjy7NIAQyw\">(function(){google.xjs={basecomb:\\'/xjs/_/js/k\\\\x3dxjs'\n",
      " b'.hp.en.Hzp9PlC5l14.es5.O/ck\\\\x3dxjs.hp.6iNRfB8cQSM.L.X.O/am\\\\x3dBgAAAAAQAA'\n",
      " b'AAAAAAAAAAAAAAAAAAAAAAAAAAAACCAAAAAAAAAAAAgAMAAJgNwAEAAAEACBAAAAAAAAAAAAAAAE'\n",
      " b'gAIAQAAAKAAAAgviMAIAAWAQDACw/d\\\\x3d1/ed\\\\x3d1/dg\\\\x3d0/ujg\\\\x3d1/rs\\\\x3dA'\n",
      " b\"CT90oGAK2MF3EfKxuSjIagyWCf0--16kw',basecss:'/xjs/_/ss/k\\\\x3dxjs.hp.6iNRfB\"\n",
      " b'8cQSM.L.X.O/am\\\\x3dBgAAAAAQAAAAAAAAAAAAAAAAAAAAAAAAAAAAAACAAAAAAAAAAAAAAA'\n",
      " b'AAAJgBAAAAAAEACBAAAAAAAAAAAAAAAEgAIAQAAAKA/rs\\\\x3dACT90oFzemtKuax7p76KpXG'\n",
      " b\"dE7CWQVFKRA',basejs:'/xjs/_/js/k\\\\x3dxjs.hp.en.Hzp9PlC5l14.es5.O/am\\\\x3dAA\"\n",
      " b'AAAAAAAAAAAAAAAAAAAAAAAAAAAAAAAAAAAAACAAAAAAAAAAAAgAMAAAAMwAEAAAAAAAAAAAAAAA'\n",
      " b'AAAAAAAAAAAAAAAAAAAAAgviMAIAAWAQDACw/dg\\\\x3d0/rs\\\\x3dACT90oHyyOOj6QmR-7kNo'\n",
      " b'sR44h8BKL1nqw\\',excm:[]};})();</script>        <script nonce=\"95usZ9ljBTP'\n",
      " b'oAjy7NIAQyw\">(function(){var u=\\'/xjs/_/js/k\\\\x3dxjs.hp.en.Hzp9PlC5l14.es5'\n",
      " b'.O/am\\\\x3dAAAAAAAAAAAAAAAAAAAAAAAAAAAAAAAAAAAAAAACAAAAAAAAAAAAgAMAAAAMwAE'\n",
      " b'AAAAAAAAAAAAAAAAAAAAAAAAAAAAAAAAAAAAgviMAIAAWAQDACw/d\\\\x3d1/ed\\\\x3d1/dg\\\\x3'\n",
      " b\"d3/rs\\\\x3dACT90oHyyOOj6QmR-7kNosR44h8BKL1nqw/m\\\\x3dsb_he,d';var st=1;var a\"\n",
      " b\"md=1000;var mmd=0;var pod=true;var pop=true;var fp='';\\nvar e=this||self;\"\n",
      " b'function f(){var a,b,d;if(b=a=(b=window.google)==null?void 0:(d=b.ia)==null?'\n",
      " b'void 0:d.r.B2Jtyd)b=a.m,b=b===1||b===5;return b&&a.cbfd!=null&&a.cbvi!=null?'\n",
      " b'a:void 0};function g(){var a=[u];if(!google.dp){for(var b=0;b<a.length;b++){'\n",
      " b'var d=a[b],c=document.createElement(\"link\");c.as=\"script\";c.href=d;c.rel=\"pr'\n",
      " b'eload\";document.body.appendChild(c)}google.dp=!0}};google.ps===void 0&&(goog'\n",
      " b'le.ps=[]);function h(){var a=u,b=function(){};google.lx=google.stvsc?b:funct'\n",
      " b'ion(){k(a);google.lx=b};google.bx||google.lx()}function l(a,b){b&&(a.src=b);'\n",
      " b'fp&&(a.fetchPriority=fp);var d=a.onload;a.onload=function(c){d&&d(c);google.'\n",
      " b'ps=google.ps.filter(function(E){return a!==E})};google.ps.push(a);document.b'\n",
      " b'ody.appendChild(a)}google.as=l;function k(a){google.timers&&google.timers.lo'\n",
      " b'ad&&google.tick&&google.tick(\"load\",\"xjsls\");var b=document.createElement(\"s'\n",
      " b'cript\");b.onerror=function(){google.ple=1};b.onload=function(){google.ple=0}'\n",
      " b';google.xjsus=void 0;l(b,a);google.aple=-1;google.dp=!0};function m(a){var b'\n",
      " b'=a.getAttribute(\"jscontroller\");return(b===\"UBXHI\"||b===\"R3fhkb\"||b===\"TSZEq'\n",
      " b'd\")&&a.hasAttribute(\"data-src\")}function n(){for(var a=document.getElementsB'\n",
      " b'yTagName(\"img\"),b=0,d=a.length;b<d;b++){var c=a[b];if(c.hasAttribute(\"data-l'\n",
      " b'zy_\")&&Number(c.getAttribute(\"data-atf\"))&1&&!m(c))return!0}return!1}for(var'\n",
      " b' p=document.getElementsByTagName(\"img\"),q=0,r=p.length;q<r;++q){var t=p[q];N'\n",
      " b'umber(t.getAttribute(\"data-atf\"))&1&&m(t)&&(t.src=t.getAttribute(\"data-src\")'\n",
      " b')};var w,x,y,z,A,B,C,D;function F(){google.xjsu=u;e._F_jsUrl=u;A=function(){'\n",
      " b'h()};w=!1;x=(st===1||st===3)&&!!google.caft&&!n();y=f();z=(st===2||st===3)&&'\n",
      " b'!!y&&!n();B=pod;D=(C=pop)&&document.prerendering}function G(){w||x||z||D||(A'\n",
      " b'(),w=!0)}\\nsetTimeout(function(){google&&google.tick&&google.timers&&goog'\n",
      " b'le.timers.load&&google.tick(\"load\",\"xjspls\");F();if(x||z||D){if(x){var a=fun'\n",
      " b'ction(){x=!1;G()};google.caft(a);window.setTimeout(a,amd)}z&&(a=function(){z'\n",
      " b'=!1;G()},y.cbvi.push(a),window.setTimeout(a,mmd));D&&document.addEventListen'\n",
      " b'er(\"prerenderingchange\",function(){D=!1;G()},{once:!0});if(B||C)w||g()}else '\n",
      " b'A()},0);})();window._ = window._ || {};window._DumpException = _._DumpExcept'\n",
      " b'ion = function(e){throw e;};window._s = window._s || {};_s._DumpException = '\n",
      " b'_._DumpException;window._qs = window._qs || {};_qs._DumpException = _._DumpE'\n",
      " b'xception;(function(){var t=[6,16384,0,0,0,0,0,545423360,0,1048576,3883008,57'\n",
      " b'019664,3008,2097220,4194305,0,0,276824352,2097152,134217760,536880062,284736'\n",
      " b',48128];window._F_toggles = window._xjs_toggles = t;})();window._F_installCs'\n",
      " b's = window._F_installCss || function(css){};(function(){google.jl={bfl:0,dw:'\n",
      " b\"false,ine:false,ubm:false,uwp:true,vs:false};})();(function(){var pmc='{\"\n",
      " b'\\\\x22d\\\\x22:{},\\\\x22sb_he\\\\x22:{\\\\x22agen\\\\x22:false,\\\\x22cgen\\\\x22:fals'\n",
      " b'e,\\\\x22client\\\\x22:\\\\x22heirloom-hp\\\\x22,\\\\x22dh\\\\x22:true,\\\\x22ds\\\\x22:'\n",
      " b'\\\\x22\\\\x22,\\\\x22fl\\\\x22:true,\\\\x22host\\\\x22:\\\\x22google.com\\\\x22,\\\\x22jso'\n",
      " b'np\\\\x22:true,\\\\x22msgs\\\\x22:{\\\\x22cibl\\\\x22:\\\\x22\\\\\\\\uac80\\\\\\\\uc0c9\\\\\\\\uc5b4'\n",
      " b' \\\\\\\\uc9c0\\\\\\\\uc6b0\\\\\\\\uae30\\\\x22,\\\\x22dym\\\\x22:\\\\x22\\\\\\\\uc774\\\\\\\\uac83\\\\\\\\u'\n",
      " b'c744 \\\\\\\\ucc3e\\\\\\\\uc73c\\\\\\\\uc168\\\\\\\\ub098\\\\\\\\uc694?\\\\x22,\\\\x22lcky\\\\x22:\\\\'\n",
      " b'x22I\\\\\\\\u2019m Feeling Lucky\\\\x22,\\\\x22lml\\\\x22:\\\\x22\\\\\\\\uc790\\\\\\\\uc138\\\\\\\\u'\n",
      " b'd788 \\\\\\\\uc54c\\\\\\\\uc544\\\\\\\\ubcf4\\\\\\\\uae30\\\\x22,\\\\x22psrc\\\\x22:\\\\x22\\\\\\\\uac'\n",
      " b'80\\\\\\\\uc0c9\\\\\\\\uc5b4\\\\\\\\uac00 \\\\\\\\u003Ca href\\\\x3d\\\\\\\\\\\\x22/history\\\\\\\\\\\\x2'\n",
      " b'2\\\\\\\\u003E\\\\\\\\uc6f9 \\\\\\\\uae30\\\\\\\\ub85d\\\\\\\\u003C/a\\\\\\\\u003E\\\\\\\\uc5d0\\\\\\\\uc11c'\n",
      " b' \\\\\\\\uc0ad\\\\\\\\uc81c\\\\\\\\ub418\\\\\\\\uc5c8\\\\\\\\uc2b5\\\\\\\\ub2c8\\\\\\\\ub2e4.\\\\x22,\\\\x22'\n",
      " b'psrl\\\\x22:\\\\x22\\\\\\\\uc0ad\\\\\\\\uc81c\\\\x22,\\\\x22sbit\\\\x22:\\\\x22\\\\\\\\uc774\\\\\\\\ub'\n",
      " b'bf8\\\\\\\\uc9c0\\\\\\\\ub85c \\\\\\\\uac80\\\\\\\\uc0c9\\\\x22,\\\\x22srch\\\\x22:\\\\x22Google'\n",
      " b' \\\\\\\\uac80\\\\\\\\uc0c9\\\\x22},\\\\x22ovr\\\\x22:{},\\\\x22pq\\\\x22:\\\\x22\\\\x22,\\\\x22'\n",
      " b\"rfs\\\\x22:[],\\\\x22stok\\\\x22:\\\\x22sUxaGWS6-Su2oJgJZkOs0oXAkSk\\\\x22}}';googl\"\n",
      " b'e.pmc=JSON.parse(pmc);})();</script>       </body></html>')\n"
     ]
    }
   ],
   "source": [
    "url = \"http://www.google.com\"\n",
    "\n",
    "\n",
    "pprint(requests.get(url).content)"
   ]
  },
  {
   "cell_type": "code",
   "execution_count": 32,
   "metadata": {},
   "outputs": [
    {
     "data": {
      "text/plain": [
       "b'{\"response\":{\"body\":{\"dataType\":\"JSON\",\"items\":{\"item\":[{\"country_eng_nm\":\"Ghana\",\"country_iso_alp2\":\"GH\",\"country_nm\":\"\\xea\\xb0\\x80\\xeb\\x82\\x98\",\"popltn_cn\":null,\"popltn_cnt\":31522290,\"popltn_cnt_src\":\"(\\'19) World Bank (\\xec\\xb5\\x9c\\xea\\xb7\\xbc \\xec\\x88\\x98\\xec\\xa0\\x95\\xec\\x9d\\xbc : 2024.11.13.)\",\"popltn_growth\":2.09,\"popltn_growth_src\":\"(\\'19) World Bank (\\xec\\xb5\\x9c\\xea\\xb7\\xbc \\xec\\x88\\x98\\xec\\xa0\\x95\\xec\\x9d\\xbc : 2024.11.13.)\",\"popltn_month\":null,\"popltn_year\":2019},{\"country_eng_nm\":\"Ghana\",\"country_iso_alp2\":\"GH\",\"country_nm\":\"\\xea\\xb0\\x80\\xeb\\x82\\x98\",\"popltn_cn\":null,\"popltn_cnt\":30870641,\"popltn_cnt_src\":\"(\\'18) World Bank (\\xec\\xb5\\x9c\\xea\\xb7\\xbc \\xec\\x88\\x98\\xec\\xa0\\x95\\xec\\x9d\\xbc : 2024.11.13.)\",\"popltn_growth\":2.12,\"popltn_growth_src\":\"(\\'18) World Bank (\\xec\\xb5\\x9c\\xea\\xb7\\xbc \\xec\\x88\\x98\\xec\\xa0\\x95\\xec\\x9d\\xbc : 2024.11.13.)\",\"popltn_month\":null,\"popltn_year\":2018}]},\"numOfRows\":10,\"pageNo\":1,\"totalCount\":2},\"header\":{\"resultCode\":\"0\",\"resultMsg\":\"\\xec\\xa0\\x95\\xec\\x83\\x81\"}}}\\n'"
      ]
     },
     "execution_count": 32,
     "metadata": {},
     "output_type": "execute_result"
    }
   ],
   "source": [
    "url = \"https://apis.data.go.kr/1262000/CountryPopulationService2/getCountryPopulationList2?serviceKey=dtbWOdJ%2FCz5HE0DGLU%2BCRPe7pOW0NIQBUcGEqsHZaTRiYCI%2F5%2BzugwzQjcvuId7NPdg6rUiW%2Bft3fm7yqyD4pw%3D%3D&pageNo=1&numOfRows=10&cond[country_nm::EQ]=%EA%B0%80%EB%82%98&cond[country_iso_alp2::EQ]=GH&returnType=JSON\"\n",
    "\n",
    "\n",
    "requests.get(url).content"
   ]
  },
  {
   "cell_type": "code",
   "execution_count": 33,
   "metadata": {},
   "outputs": [],
   "source": [
    "import pprint"
   ]
  },
  {
   "cell_type": "code",
   "execution_count": 34,
   "metadata": {},
   "outputs": [
    {
     "name": "stdout",
     "output_type": "stream",
     "text": [
      "(b'{\"response\":{\"body\":{\"dataType\":\"JSON\",\"items\":{\"item\":[{\"country_eng_nm\":\"G'\n",
      " b'hana\",\"country_iso_alp2\":\"GH\",\"country_nm\":\"\\xea\\xb0\\x80\\xeb\\x82\\x98\",\"pop'\n",
      " b'ltn_cn\":null,\"popltn_cnt\":31522290,\"popltn_cnt_src\":\"(\\'19) World Bank (\\xec'\n",
      " b'\\xb5\\x9c\\xea\\xb7\\xbc \\xec\\x88\\x98\\xec\\xa0\\x95\\xec\\x9d\\xbc : 2024.11.13.)\",'\n",
      " b'\"popltn_growth\":2.09,\"popltn_growth_src\":\"(\\'19) World Bank ('\n",
      " b'\\xec\\xb5\\x9c\\xea\\xb7\\xbc \\xec\\x88\\x98\\xec\\xa0\\x95\\xec\\x9d\\xbc : 2024.11.1'\n",
      " b'3.)\",\"popltn_month\":null,\"popltn_year\":2019},{\"country_eng_nm\":\"Ghana\",\"coun'\n",
      " b'try_iso_alp2\":\"GH\",\"country_nm\":\"\\xea\\xb0\\x80\\xeb\\x82\\x98\",\"popltn_cn\":nul'\n",
      " b'l,\"popltn_cnt\":30870641,\"popltn_cnt_src\":\"(\\'18) World Bank ('\n",
      " b'\\xec\\xb5\\x9c\\xea\\xb7\\xbc \\xec\\x88\\x98\\xec\\xa0\\x95\\xec\\x9d\\xbc : 2024.11.1'\n",
      " b'3.)\",\"popltn_growth\":2.12,\"popltn_growth_src\":\"(\\'18) World Bank '\n",
      " b'(\\xec\\xb5\\x9c\\xea\\xb7\\xbc \\xec\\x88\\x98\\xec\\xa0\\x95\\xec\\x9d\\xbc : 2024.11.'\n",
      " b'13.)\",\"popltn_month\":null,\"popltn_year\":2018}]},\"numOfRows\":10,\"pageNo\":1,\"t'\n",
      " b'otalCount\":2},\"header\":{\"resultCode\":\"0\",\"resultMsg\":\"\\xec\\xa0'\n",
      " b'\\x95\\xec\\x83\\x81\"}}}\\n')\n"
     ]
    }
   ],
   "source": [
    "pprint.pp(requests.get(url).content)"
   ]
  },
  {
   "cell_type": "code",
   "execution_count": 41,
   "metadata": {},
   "outputs": [],
   "source": [
    "url = \"http://apis.data.go.kr/B190001/localGiftsPaymentV3/paymentsV3\"\n",
    "\n",
    "params = {\n",
    "    \"serviceKey\" : service_key, \n",
    "    'page' : 1, \n",
    "    'perPage' : 10, \n",
    "    'cond[par_gend::EQ]' : 'F'\n",
    "}\n",
    "\n",
    "response = requests.get(url, params=params)"
   ]
  },
  {
   "cell_type": "code",
   "execution_count": 38,
   "metadata": {},
   "outputs": [
    {
     "data": {
      "text/plain": [
       "b'{\"currentCount\":10,\"data\":[{\"card_use_amt\":0,\"crtr_ym\":\"201006\",\"emd_cd\":\"41820000\",\"emd_nm\":null,\"mbl_use_amt\":0,\"mbl_user_cnt\":0,\"par_ag\":null,\"par_gend\":null,\"stlm_amt\":71820000,\"stlm_nocs\":534,\"usage_rgn_cd\":\"41820\"},{\"card_use_amt\":0,\"crtr_ym\":\"201007\",\"emd_cd\":\"41820000\",\"emd_nm\":null,\"mbl_use_amt\":0,\"mbl_user_cnt\":0,\"par_ag\":null,\"par_gend\":null,\"stlm_amt\":80115000,\"stlm_nocs\":798,\"usage_rgn_cd\":\"41820\"},{\"card_use_amt\":0,\"crtr_ym\":\"201008\",\"emd_cd\":\"41820000\",\"emd_nm\":null,\"mbl_use_amt\":0,\"mbl_user_cnt\":0,\"par_ag\":null,\"par_gend\":null,\"stlm_amt\":103695000,\"stlm_nocs\":774,\"usage_rgn_cd\":\"41820\"},{\"card_use_amt\":0,\"crtr_ym\":\"201009\",\"emd_cd\":\"41820000\",\"emd_nm\":null,\"mbl_use_amt\":0,\"mbl_user_cnt\":0,\"par_ag\":null,\"par_gend\":null,\"stlm_amt\":214950000,\"stlm_nocs\":852,\"usage_rgn_cd\":\"41820\"},{\"card_use_amt\":0,\"crtr_ym\":\"201010\",\"emd_cd\":\"41820000\",\"emd_nm\":null,\"mbl_use_amt\":0,\"mbl_user_cnt\":0,\"par_ag\":null,\"par_gend\":null,\"stlm_amt\":361980000,\"stlm_nocs\":1587,\"usage_rgn_cd\":\"41820\"},{\"card_use_amt\":0,\"crtr_ym\":\"201011\",\"emd_cd\":\"41820000\",\"emd_nm\":null,\"mbl_use_amt\":0,\"mbl_user_cnt\":0,\"par_ag\":null,\"par_gend\":null,\"stlm_amt\":147585000,\"stlm_nocs\":1101,\"usage_rgn_cd\":\"41820\"},{\"card_use_amt\":0,\"crtr_ym\":\"201012\",\"emd_cd\":\"41820000\",\"emd_nm\":null,\"mbl_use_amt\":0,\"mbl_user_cnt\":0,\"par_ag\":null,\"par_gend\":null,\"stlm_amt\":146220000,\"stlm_nocs\":1092,\"usage_rgn_cd\":\"41820\"},{\"card_use_amt\":0,\"crtr_ym\":\"201101\",\"emd_cd\":\"41820000\",\"emd_nm\":null,\"mbl_use_amt\":0,\"mbl_user_cnt\":0,\"par_ag\":null,\"par_gend\":null,\"stlm_amt\":300180000,\"stlm_nocs\":1470,\"usage_rgn_cd\":\"41820\"},{\"card_use_amt\":0,\"crtr_ym\":\"201101\",\"emd_cd\":\"47850000\",\"emd_nm\":null,\"mbl_use_amt\":0,\"mbl_user_cnt\":0,\"par_ag\":null,\"par_gend\":null,\"stlm_amt\":587610000,\"stlm_nocs\":861,\"usage_rgn_cd\":\"47850\"},{\"card_use_amt\":0,\"crtr_ym\":\"201101\",\"emd_cd\":\"47850250\",\"emd_nm\":\"\\xec\\x99\\x9c\\xea\\xb4\\x80\\xec\\x9d\\x8d\",\"mbl_use_amt\":0,\"mbl_user_cnt\":0,\"par_ag\":null,\"par_gend\":null,\"stlm_amt\":42660000,\"stlm_nocs\":177,\"usage_rgn_cd\":\"47850\"}],\"matchCount\":2190182,\"page\":1,\"perPage\":10,\"totalCount\":2190182}\\n'"
      ]
     },
     "execution_count": 38,
     "metadata": {},
     "output_type": "execute_result"
    }
   ],
   "source": [
    "response.content"
   ]
  },
  {
   "cell_type": "code",
   "execution_count": 42,
   "metadata": {},
   "outputs": [],
   "source": [
    "# bytes 데이터를 dict\n",
    "data = json.loads(response.content)"
   ]
  },
  {
   "cell_type": "code",
   "execution_count": null,
   "metadata": {},
   "outputs": [],
   "source": [
    "data"
   ]
  },
  {
   "cell_type": "code",
   "execution_count": 46,
   "metadata": {},
   "outputs": [
    {
     "data": {
      "text/html": [
       "<div>\n",
       "<style scoped>\n",
       "    .dataframe tbody tr th:only-of-type {\n",
       "        vertical-align: middle;\n",
       "    }\n",
       "\n",
       "    .dataframe tbody tr th {\n",
       "        vertical-align: top;\n",
       "    }\n",
       "\n",
       "    .dataframe thead th {\n",
       "        text-align: right;\n",
       "    }\n",
       "</style>\n",
       "<table border=\"1\" class=\"dataframe\">\n",
       "  <thead>\n",
       "    <tr style=\"text-align: right;\">\n",
       "      <th></th>\n",
       "      <th>card_use_amt</th>\n",
       "      <th>crtr_ym</th>\n",
       "      <th>emd_cd</th>\n",
       "      <th>emd_nm</th>\n",
       "      <th>mbl_use_amt</th>\n",
       "      <th>mbl_user_cnt</th>\n",
       "      <th>par_ag</th>\n",
       "      <th>par_gend</th>\n",
       "      <th>stlm_amt</th>\n",
       "      <th>stlm_nocs</th>\n",
       "      <th>usage_rgn_cd</th>\n",
       "    </tr>\n",
       "  </thead>\n",
       "  <tbody>\n",
       "    <tr>\n",
       "      <th>0</th>\n",
       "      <td>0</td>\n",
       "      <td>201901</td>\n",
       "      <td>41390000</td>\n",
       "      <td>None</td>\n",
       "      <td>336</td>\n",
       "      <td>12</td>\n",
       "      <td>02</td>\n",
       "      <td>F</td>\n",
       "      <td>336</td>\n",
       "      <td>12</td>\n",
       "      <td>41390</td>\n",
       "    </tr>\n",
       "    <tr>\n",
       "      <th>1</th>\n",
       "      <td>0</td>\n",
       "      <td>201901</td>\n",
       "      <td>41390000</td>\n",
       "      <td>None</td>\n",
       "      <td>14810</td>\n",
       "      <td>2</td>\n",
       "      <td>03</td>\n",
       "      <td>F</td>\n",
       "      <td>14810</td>\n",
       "      <td>2</td>\n",
       "      <td>41390</td>\n",
       "    </tr>\n",
       "    <tr>\n",
       "      <th>2</th>\n",
       "      <td>0</td>\n",
       "      <td>201901</td>\n",
       "      <td>41390000</td>\n",
       "      <td>None</td>\n",
       "      <td>4200</td>\n",
       "      <td>3</td>\n",
       "      <td>04</td>\n",
       "      <td>F</td>\n",
       "      <td>4200</td>\n",
       "      <td>3</td>\n",
       "      <td>41390</td>\n",
       "    </tr>\n",
       "    <tr>\n",
       "      <th>3</th>\n",
       "      <td>0</td>\n",
       "      <td>201901</td>\n",
       "      <td>41390000</td>\n",
       "      <td>None</td>\n",
       "      <td>65500</td>\n",
       "      <td>8</td>\n",
       "      <td>05</td>\n",
       "      <td>F</td>\n",
       "      <td>65500</td>\n",
       "      <td>8</td>\n",
       "      <td>41390</td>\n",
       "    </tr>\n",
       "    <tr>\n",
       "      <th>4</th>\n",
       "      <td>0</td>\n",
       "      <td>201901</td>\n",
       "      <td>41390000</td>\n",
       "      <td>None</td>\n",
       "      <td>50000</td>\n",
       "      <td>1</td>\n",
       "      <td>06</td>\n",
       "      <td>F</td>\n",
       "      <td>50000</td>\n",
       "      <td>1</td>\n",
       "      <td>41390</td>\n",
       "    </tr>\n",
       "    <tr>\n",
       "      <th>5</th>\n",
       "      <td>0</td>\n",
       "      <td>201901</td>\n",
       "      <td>41390101</td>\n",
       "      <td>대야동</td>\n",
       "      <td>10</td>\n",
       "      <td>1</td>\n",
       "      <td>04</td>\n",
       "      <td>F</td>\n",
       "      <td>10</td>\n",
       "      <td>1</td>\n",
       "      <td>41390</td>\n",
       "    </tr>\n",
       "    <tr>\n",
       "      <th>6</th>\n",
       "      <td>0</td>\n",
       "      <td>201901</td>\n",
       "      <td>41390101</td>\n",
       "      <td>대야동</td>\n",
       "      <td>500</td>\n",
       "      <td>1</td>\n",
       "      <td>05</td>\n",
       "      <td>F</td>\n",
       "      <td>500</td>\n",
       "      <td>1</td>\n",
       "      <td>41390</td>\n",
       "    </tr>\n",
       "    <tr>\n",
       "      <th>7</th>\n",
       "      <td>0</td>\n",
       "      <td>201901</td>\n",
       "      <td>41390102</td>\n",
       "      <td>신천동</td>\n",
       "      <td>18000</td>\n",
       "      <td>3</td>\n",
       "      <td>05</td>\n",
       "      <td>F</td>\n",
       "      <td>18000</td>\n",
       "      <td>3</td>\n",
       "      <td>41390</td>\n",
       "    </tr>\n",
       "    <tr>\n",
       "      <th>8</th>\n",
       "      <td>0</td>\n",
       "      <td>201901</td>\n",
       "      <td>41390106</td>\n",
       "      <td>은행동</td>\n",
       "      <td>1000</td>\n",
       "      <td>1</td>\n",
       "      <td>05</td>\n",
       "      <td>F</td>\n",
       "      <td>1000</td>\n",
       "      <td>1</td>\n",
       "      <td>41390</td>\n",
       "    </tr>\n",
       "    <tr>\n",
       "      <th>9</th>\n",
       "      <td>0</td>\n",
       "      <td>201901</td>\n",
       "      <td>41390120</td>\n",
       "      <td>하상동</td>\n",
       "      <td>100</td>\n",
       "      <td>1</td>\n",
       "      <td>05</td>\n",
       "      <td>F</td>\n",
       "      <td>100</td>\n",
       "      <td>1</td>\n",
       "      <td>41390</td>\n",
       "    </tr>\n",
       "  </tbody>\n",
       "</table>\n",
       "</div>"
      ],
      "text/plain": [
       "   card_use_amt crtr_ym    emd_cd emd_nm  mbl_use_amt  mbl_user_cnt par_ag  \\\n",
       "0             0  201901  41390000   None          336            12     02   \n",
       "1             0  201901  41390000   None        14810             2     03   \n",
       "2             0  201901  41390000   None         4200             3     04   \n",
       "3             0  201901  41390000   None        65500             8     05   \n",
       "4             0  201901  41390000   None        50000             1     06   \n",
       "5             0  201901  41390101    대야동           10             1     04   \n",
       "6             0  201901  41390101    대야동          500             1     05   \n",
       "7             0  201901  41390102    신천동        18000             3     05   \n",
       "8             0  201901  41390106    은행동         1000             1     05   \n",
       "9             0  201901  41390120    하상동          100             1     05   \n",
       "\n",
       "  par_gend  stlm_amt  stlm_nocs usage_rgn_cd  \n",
       "0        F       336         12        41390  \n",
       "1        F     14810          2        41390  \n",
       "2        F      4200          3        41390  \n",
       "3        F     65500          8        41390  \n",
       "4        F     50000          1        41390  \n",
       "5        F        10          1        41390  \n",
       "6        F       500          1        41390  \n",
       "7        F     18000          3        41390  \n",
       "8        F      1000          1        41390  \n",
       "9        F       100          1        41390  "
      ]
     },
     "execution_count": 46,
     "metadata": {},
     "output_type": "execute_result"
    }
   ],
   "source": [
    "pd.DataFrame(data['data'])"
   ]
  },
  {
   "cell_type": "code",
   "execution_count": 47,
   "metadata": {},
   "outputs": [],
   "source": [
    "url = \"https://dataapi.wehago.com/data/?dataset_key=DATASET_KTNET_68\"\n",
    "\n",
    "header = {\n",
    "    'apicode' : 'f865e7be-5f88-49ff-a462-31b3c97b582e'\n",
    "}\n",
    "\n",
    "response = requests.get(url, headers=header)"
   ]
  },
  {
   "cell_type": "code",
   "execution_count": 50,
   "metadata": {},
   "outputs": [],
   "source": [
    "data2 =  json.loads(response.content)"
   ]
  },
  {
   "cell_type": "code",
   "execution_count": 54,
   "metadata": {},
   "outputs": [],
   "source": [
    "df = pd.DataFrame(data2['data'])"
   ]
  },
  {
   "cell_type": "code",
   "execution_count": 57,
   "metadata": {},
   "outputs": [],
   "source": [
    "df.drop('index', axis=1, inplace=True)"
   ]
  },
  {
   "cell_type": "code",
   "execution_count": 58,
   "metadata": {},
   "outputs": [
    {
     "data": {
      "text/plain": [
       "Index(['STDR_DTTE', 'EHGT_SE', 'CRNCY_CODE', 'EHGT'], dtype='object')"
      ]
     },
     "execution_count": 58,
     "metadata": {},
     "output_type": "execute_result"
    }
   ],
   "source": [
    "df.columns"
   ]
  },
  {
   "cell_type": "code",
   "execution_count": 62,
   "metadata": {},
   "outputs": [],
   "source": [
    "cols_data = data2['schema']['fields']"
   ]
  },
  {
   "cell_type": "code",
   "execution_count": 64,
   "metadata": {},
   "outputs": [],
   "source": [
    "# cols_data에서 column_name의 value만 추출하여 리스트로 생성\n",
    "cols_list = list(\n",
    "    map(\n",
    "        lambda x : x['column_name'], \n",
    "        cols_data\n",
    "    )\n",
    ")"
   ]
  },
  {
   "cell_type": "code",
   "execution_count": 65,
   "metadata": {},
   "outputs": [
    {
     "name": "stdout",
     "output_type": "stream",
     "text": [
      "{'STDR_DTTE': '기준 일자', 'EHGT_SE': '환율 구분', 'CRNCY_CODE': '통화 코드', 'EHGT': '환율'}\n"
     ]
    }
   ],
   "source": [
    "cols_dict = {}\n",
    "\n",
    "for cols in cols_data:\n",
    "    # cols는 cols_data의 각 원소들이 대입\n",
    "    # cols_dict에 key(column_code) : value(column_name)추가\n",
    "    cols_dict[cols['column_code']] = cols['column_name']\n",
    "\n",
    "print(cols_dict)"
   ]
  },
  {
   "cell_type": "code",
   "execution_count": null,
   "metadata": {},
   "outputs": [],
   "source": [
    "df.rename(\n",
    "    columns = cols_dict\n",
    ")"
   ]
  },
  {
   "cell_type": "markdown",
   "metadata": {},
   "source": []
  },
  {
   "cell_type": "code",
   "execution_count": 68,
   "metadata": {},
   "outputs": [],
   "source": [
    "df.columns = cols_list"
   ]
  },
  {
   "cell_type": "code",
   "execution_count": 70,
   "metadata": {},
   "outputs": [],
   "source": [
    "df.to_excel(\"../test.xlsx\", index=False)"
   ]
  },
  {
   "cell_type": "code",
   "execution_count": null,
   "metadata": {},
   "outputs": [],
   "source": []
  }
 ],
 "metadata": {
  "kernelspec": {
   "display_name": "Python 3",
   "language": "python",
   "name": "python3"
  },
  "language_info": {
   "codemirror_mode": {
    "name": "ipython",
    "version": 3
   },
   "file_extension": ".py",
   "mimetype": "text/x-python",
   "name": "python",
   "nbconvert_exporter": "python",
   "pygments_lexer": "ipython3",
   "version": "3.11.1"
  }
 },
 "nbformat": 4,
 "nbformat_minor": 2
}
