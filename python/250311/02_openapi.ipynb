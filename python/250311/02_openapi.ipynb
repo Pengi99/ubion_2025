{
 "cells": [
  {
   "cell_type": "code",
   "execution_count": 1,
   "metadata": {},
   "outputs": [],
   "source": [
    "service_key = \"dtbWOdJ/Cz5HE0DGLU+CRPe7pOW0NIQBUcGEqsHZaTRiYCI/5+zugwzQjcvuId7NPdg6rUiW+ft3fm7yqyD4pw==\"\n"
   ]
  },
  {
   "cell_type": "code",
   "execution_count": null,
   "metadata": {},
   "outputs": [
    {
     "name": "stderr",
     "output_type": "stream",
     "text": [
      "ERROR: Could not find a version that satisfies the requirement pprint (from versions: none)\n",
      "ERROR: No matching distribution found for pprint\n",
      "\n",
      "[notice] A new release of pip is available: 23.2.1 -> 25.0.1\n",
      "[notice] To update, run: python.exe -m pip install --upgrade pip\n"
     ]
    }
   ],
   "source": [
    "# !pip install requests\n",
    "# !pip install pprint"
   ]
  },
  {
   "cell_type": "code",
   "execution_count": 12,
   "metadata": {},
   "outputs": [
    {
     "name": "stdout",
     "output_type": "stream",
     "text": [
      "b\"<response><body><dataType>XML</dataType><items><item><popltn_cnt>31522290</popltn_cnt><country_nm><![CDATA[\\xea\\xb0\\x80\\xeb\\x82\\x98]]></country_nm><country_eng_nm><![CDATA[Ghana]]></country_eng_nm><popltn_year>2019</popltn_year><popltn_month></popltn_month><popltn_cn></popltn_cn><country_iso_alp2><![CDATA[GH]]></country_iso_alp2><popltn_cnt_src><![CDATA[('19) World Bank (\\xec\\xb5\\x9c\\xea\\xb7\\xbc \\xec\\x88\\x98\\xec\\xa0\\x95\\xec\\x9d\\xbc : 2024.11.13.)]]></popltn_cnt_src><popltn_growth><![CDATA[2.09]]></popltn_growth><popltn_growth_src><![CDATA[('19) World Bank (\\xec\\xb5\\x9c\\xea\\xb7\\xbc \\xec\\x88\\x98\\xec\\xa0\\x95\\xec\\x9d\\xbc : 2024.11.13.)]]></popltn_growth_src></item><item><popltn_cnt_src><![CDATA[('18) World Bank (\\xec\\xb5\\x9c\\xea\\xb7\\xbc \\xec\\x88\\x98\\xec\\xa0\\x95\\xec\\x9d\\xbc : 2024.11.13.)]]></popltn_cnt_src><popltn_growth><![CDATA[2.12]]></popltn_growth><popltn_growth_src><![CDATA[('18) World Bank (\\xec\\xb5\\x9c\\xea\\xb7\\xbc \\xec\\x88\\x98\\xec\\xa0\\x95\\xec\\x9d\\xbc : 2024.11.13.)]]></popltn_growth_src><popltn_cn></popltn_cn><country_iso_alp2><![CDATA[GH]]></country_iso_alp2><country_eng_nm><![CDATA[Ghana]]></country_eng_nm><popltn_year>2018</popltn_year><popltn_month></popltn_month><popltn_cnt>30870641</popltn_cnt><country_nm><![CDATA[\\xea\\xb0\\x80\\xeb\\x82\\x98]]></country_nm></item></items><numOfRows>10</numOfRows><pageNo>1</pageNo><totalCount>2</totalCount></body><header><resultCode>0</resultCode><resultMsg>\\xec\\xa0\\x95\\xec\\x83\\x81</resultMsg></header></response>\"\n"
     ]
    }
   ],
   "source": [
    "import requests\n",
    "\n",
    "url = 'http://apis.data.go.kr/1262000/CountryPopulationService2/getCountryPopulationList2'\n",
    "params ={'serviceKey' : service_key, 'pageNo' : '1', 'numOfRows' : '10', 'cond[country_nm::EQ]' : '가나', 'cond[country_iso_alp2::EQ]' : 'GH', 'returnType' : 'xml' }\n",
    "\n",
    "response = requests.get(url, params=params)\n",
    "print(response.content)"
   ]
  },
  {
   "cell_type": "code",
   "execution_count": null,
   "metadata": {},
   "outputs": [],
   "source": [
    "# !pip install xmltodict"
   ]
  },
  {
   "cell_type": "code",
   "execution_count": 14,
   "metadata": {},
   "outputs": [],
   "source": [
    "import xmltodict"
   ]
  },
  {
   "cell_type": "code",
   "execution_count": null,
   "metadata": {},
   "outputs": [],
   "source": [
    "# xml 데이터를 dict형으로 변환\n",
    "res_data = xmltodict.parse(response.content)\\\n",
    "    ['response']['body']['items']['item']"
   ]
  },
  {
   "cell_type": "code",
   "execution_count": 21,
   "metadata": {},
   "outputs": [],
   "source": [
    "import pandas as pd"
   ]
  },
  {
   "cell_type": "code",
   "execution_count": 25,
   "metadata": {},
   "outputs": [],
   "source": [
    "pd.DataFrame(res_data).to_csv(\"test.csv\", index=False)"
   ]
  },
  {
   "cell_type": "code",
   "execution_count": 26,
   "metadata": {},
   "outputs": [
    {
     "data": {
      "text/html": [
       "<div>\n",
       "<style scoped>\n",
       "    .dataframe tbody tr th:only-of-type {\n",
       "        vertical-align: middle;\n",
       "    }\n",
       "\n",
       "    .dataframe tbody tr th {\n",
       "        vertical-align: top;\n",
       "    }\n",
       "\n",
       "    .dataframe thead th {\n",
       "        text-align: right;\n",
       "    }\n",
       "</style>\n",
       "<table border=\"1\" class=\"dataframe\">\n",
       "  <thead>\n",
       "    <tr style=\"text-align: right;\">\n",
       "      <th></th>\n",
       "      <th>popltn_cnt</th>\n",
       "      <th>country_nm</th>\n",
       "      <th>country_eng_nm</th>\n",
       "      <th>popltn_year</th>\n",
       "      <th>popltn_month</th>\n",
       "      <th>popltn_cn</th>\n",
       "      <th>country_iso_alp2</th>\n",
       "      <th>popltn_cnt_src</th>\n",
       "      <th>popltn_growth</th>\n",
       "      <th>popltn_growth_src</th>\n",
       "    </tr>\n",
       "  </thead>\n",
       "  <tbody>\n",
       "    <tr>\n",
       "      <th>0</th>\n",
       "      <td>31522290</td>\n",
       "      <td>가나</td>\n",
       "      <td>Ghana</td>\n",
       "      <td>2019</td>\n",
       "      <td>NaN</td>\n",
       "      <td>NaN</td>\n",
       "      <td>GH</td>\n",
       "      <td>('19) World Bank (최근 수정일 : 2024.11.13.)</td>\n",
       "      <td>2.09</td>\n",
       "      <td>('19) World Bank (최근 수정일 : 2024.11.13.)</td>\n",
       "    </tr>\n",
       "    <tr>\n",
       "      <th>1</th>\n",
       "      <td>30870641</td>\n",
       "      <td>가나</td>\n",
       "      <td>Ghana</td>\n",
       "      <td>2018</td>\n",
       "      <td>NaN</td>\n",
       "      <td>NaN</td>\n",
       "      <td>GH</td>\n",
       "      <td>('18) World Bank (최근 수정일 : 2024.11.13.)</td>\n",
       "      <td>2.12</td>\n",
       "      <td>('18) World Bank (최근 수정일 : 2024.11.13.)</td>\n",
       "    </tr>\n",
       "  </tbody>\n",
       "</table>\n",
       "</div>"
      ],
      "text/plain": [
       "   popltn_cnt country_nm country_eng_nm  popltn_year  popltn_month  popltn_cn  \\\n",
       "0    31522290         가나          Ghana         2019           NaN        NaN   \n",
       "1    30870641         가나          Ghana         2018           NaN        NaN   \n",
       "\n",
       "  country_iso_alp2                           popltn_cnt_src  popltn_growth  \\\n",
       "0               GH  ('19) World Bank (최근 수정일 : 2024.11.13.)           2.09   \n",
       "1               GH  ('18) World Bank (최근 수정일 : 2024.11.13.)           2.12   \n",
       "\n",
       "                         popltn_growth_src  \n",
       "0  ('19) World Bank (최근 수정일 : 2024.11.13.)  \n",
       "1  ('18) World Bank (최근 수정일 : 2024.11.13.)  "
      ]
     },
     "execution_count": 26,
     "metadata": {},
     "output_type": "execute_result"
    }
   ],
   "source": [
    "pd.read_csv('test.csv')"
   ]
  },
  {
   "cell_type": "code",
   "execution_count": null,
   "metadata": {},
   "outputs": [],
   "source": []
  }
 ],
 "metadata": {
  "kernelspec": {
   "display_name": "Python 3",
   "language": "python",
   "name": "python3"
  },
  "language_info": {
   "codemirror_mode": {
    "name": "ipython",
    "version": 3
   },
   "file_extension": ".py",
   "mimetype": "text/x-python",
   "name": "python",
   "nbconvert_exporter": "python",
   "pygments_lexer": "ipython3",
   "version": "3.11.1"
  }
 },
 "nbformat": 4,
 "nbformat_minor": 2
}
