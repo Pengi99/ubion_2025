{
 "cells": [
  {
   "cell_type": "code",
   "execution_count": null,
   "metadata": {},
   "outputs": [],
   "source": [
    "import pandas as pd \n",
    "import pymysql \n",
    "import os \n",
    "from dotenv import load_dotenv"
   ]
  },
  {
   "cell_type": "code",
   "execution_count": null,
   "metadata": {},
   "outputs": [],
   "source": [
    "# 환경 변수 설정 \n",
    "load_dotenv()"
   ]
  },
  {
   "cell_type": "code",
   "execution_count": null,
   "metadata": {},
   "outputs": [],
   "source": [
    "# mysql 서버에 접속 \n",
    "_db = pymysql.connect(\n",
    "    host = os.getenv('host'), \n",
    "    port = int(os.getenv('port')), \n",
    "    user = os.getenv('user'), \n",
    "    password = os.getenv('pwd'), \n",
    "    db = os.getenv('db_name')\n",
    ")"
   ]
  },
  {
   "cell_type": "code",
   "execution_count": null,
   "metadata": {},
   "outputs": [],
   "source": [
    "# 커서 생성 \n",
    "cursor = _db.cursor(pymysql.cursors.DictCursor)"
   ]
  },
  {
   "cell_type": "code",
   "execution_count": null,
   "metadata": {},
   "outputs": [],
   "source": [
    "select_sql = \"\"\"\n",
    "    SELECT \n",
    "    *\n",
    "    FROM \n",
    "    `sales records`\n",
    "    WHERE \n",
    "    `Sales Channel` = 'Online'\n",
    "\"\"\"\n",
    "cursor.execute(select_sql)"
   ]
  },
  {
   "cell_type": "code",
   "execution_count": null,
   "metadata": {},
   "outputs": [],
   "source": [
    "cursor.fetchall()"
   ]
  },
  {
   "cell_type": "code",
   "execution_count": null,
   "metadata": {},
   "outputs": [],
   "source": [
    "select_sql2 = \"\"\"\n",
    "    SELECT \n",
    "    * \n",
    "    FROM \n",
    "    `sales records`\n",
    "    WHERE `Sales Channel` = %s\n",
    "\"\"\"\n",
    "values = ['Online', 'Offline']\n",
    "\n",
    "cursor.execute(select_sql2, values)"
   ]
  },
  {
   "cell_type": "code",
   "execution_count": null,
   "metadata": {},
   "outputs": [],
   "source": [
    "def select_query(\n",
    "        _sql, \n",
    "        *_val\n",
    "):\n",
    "    # _sql : query문이 입력\n",
    "    # _val : query에서 사용될 변수들의 모음(tuple)\n",
    "    # 커서에 query문을 보낸다. \n",
    "    cursor.execute(_sql, _val)\n",
    "    # query에 대한 응답을 가져온다. \n",
    "    cursor_data = cursor.fetchall()\n",
    "    # cursor_data를 데이터프레임으로 변환 \n",
    "    df = pd.DataFrame(cursor_data)\n",
    "    # 데이터프레임을 되돌려준다. \n",
    "    return df"
   ]
  },
  {
   "cell_type": "code",
   "execution_count": null,
   "metadata": {},
   "outputs": [],
   "source": [
    "query1 = \"\"\"\n",
    "    SELECT \n",
    "    * \n",
    "    FROM \n",
    "    `sales records` \n",
    "    WHERE `Country` in (%s, %s)\n",
    "\"\"\"\n",
    "select_query(query1, 'South Korea', 'North Korea')"
   ]
  },
  {
   "cell_type": "code",
   "execution_count": null,
   "metadata": {},
   "outputs": [],
   "source": [
    "# emp table 에서 특정 조건에 맞는 데이터를 출력 \n",
    "# SAL 필드에서 1500이상인 사원 정보를 출력\n",
    "sql_query2 = \"\"\"\n",
    "    SELECT \n",
    "    * \n",
    "    FROM \n",
    "    `emp`\n",
    "    WHERE `SAL` >= 1500\n",
    "\"\"\"\n",
    "select_query(sql_query2)\n"
   ]
  },
  {
   "cell_type": "code",
   "execution_count": null,
   "metadata": {},
   "outputs": [],
   "source": [
    "sql_query = \"\"\"\n",
    "    SELECT \n",
    "    * \n",
    "    FROM \n",
    "    `emp`\n",
    "\"\"\"\n",
    "df = select_query(sql_query)\n",
    "df"
   ]
  },
  {
   "cell_type": "code",
   "execution_count": null,
   "metadata": {},
   "outputs": [],
   "source": [
    "# df에서 SAL 컬럼의 데이터가 1500이상인 데이터를 출력하시오\n",
    "flag = df['SAL'] >= 1500\n",
    "df.loc[flag]"
   ]
  },
  {
   "cell_type": "code",
   "execution_count": null,
   "metadata": {},
   "outputs": [],
   "source": [
    "# sql \n",
    "# SAL 이 1500이상이고(and) 3000이하인 사원의 이름을 출력 \n",
    "select_query3 = \"\"\"\n",
    "    SELECT \n",
    "    `ENAME`\n",
    "    FROM \n",
    "    `emp`\n",
    "    WHERE \n",
    "    `SAL` >= 1500 AND `SAL` <= 3000\n",
    "\"\"\"\n",
    "select_query(select_query3)"
   ]
  },
  {
   "cell_type": "code",
   "execution_count": null,
   "metadata": {},
   "outputs": [],
   "source": [
    "sql_query3 = \"\"\"\n",
    "    SELECT\n",
    "    `ENAME`\n",
    "    FROM \n",
    "    `emp`\n",
    "    WHERE `SAL` BETWEEN 1500 AND 3000\n",
    "\"\"\"\n",
    "select_query(sql_query3)"
   ]
  },
  {
   "cell_type": "markdown",
   "metadata": {},
   "source": [
    "- pandas에서 데이터프레임 필터 \n",
    "- df[조건식]\n",
    "- df[컬럼명]\n",
    "- loc[]\n",
    "    - 인덱스의 조건식, 컬럼의 조건식\n",
    "- iloc[]\n",
    "    - 인덱스의 위치, 컬럼의 위치"
   ]
  },
  {
   "cell_type": "code",
   "execution_count": null,
   "metadata": {},
   "outputs": [],
   "source": [
    "flag = df['SAL'] >= 1500\n",
    "flag2 = df['SAL'] <= 3000\n",
    "\n",
    "df[flag & flag2][['ENAME']]\n",
    "df.loc[flag & flag2, ['ENAME']]"
   ]
  },
  {
   "cell_type": "code",
   "execution_count": null,
   "metadata": {},
   "outputs": [],
   "source": [
    "# sql\n",
    "# 사원의 이름이 S 시작하는 사원의 정보를 확인\n",
    "sql_query4 = \"\"\"\n",
    "    SELECT \n",
    "    * \n",
    "    FROM \n",
    "    `emp`\n",
    "    WHERE `ENAME` LIKE 'S%%'\n",
    "\"\"\"\n",
    "select_query(sql_query4)"
   ]
  },
  {
   "cell_type": "code",
   "execution_count": null,
   "metadata": {},
   "outputs": [],
   "source": [
    "# pandas \n",
    "# 조건식 : ENAME 컬럼의 데이터가 S로 시작하는가?\n",
    "# 문자형 내장함수 : startswith()\n",
    "# 스리즈 형태 데이터에서 문자형 내장함수 사용 : series.str.함수명()\n",
    "flag = df['ENAME'].str.startswith('S')\n",
    "\n",
    "df.loc[flag]"
   ]
  },
  {
   "cell_type": "code",
   "execution_count": null,
   "metadata": {},
   "outputs": [],
   "source": [
    "# ENAME에 데이터를 하나씩 뽑아서 앞의 단어가 S 인가?\n",
    "word = 'S'\n",
    "\n",
    "# map() 함수 \n",
    "# series.map( 함수(일반함수, lambda함수) )\n",
    "flag = df['ENAME'].map(\n",
    "    # lambda x 의 x는 ENAME 값들이 하나씩 대입\n",
    "    # if문을 한줄로 표현 : \"참일경우 값\" if 조건식 else \"거짓일경우 값값\"\n",
    "    lambda x : True if x[ : len(word)] == word else False\n",
    ")\n",
    "df.loc[flag]"
   ]
  },
  {
   "cell_type": "code",
   "execution_count": null,
   "metadata": {},
   "outputs": [],
   "source": [
    "word = 'S'\n",
    "flag = []\n",
    "for i in df['ENAME']:\n",
    "    # i : ENAME의 값들이 하나씩 대입 \n",
    "    flag.append(i[ : len(word)] == word)\n",
    "df.loc[flag]"
   ]
  },
  {
   "cell_type": "code",
   "execution_count": null,
   "metadata": {},
   "outputs": [],
   "source": [
    "flag = df['ENAME'].str.contains('S')\n",
    "df.loc[flag]"
   ]
  },
  {
   "cell_type": "code",
   "execution_count": null,
   "metadata": {},
   "outputs": [],
   "source": [
    "word = 'S'\n",
    "flag = df['ENAME'].map(\n",
    "    lambda x : word in x \n",
    ")\n",
    "df.loc[flag]"
   ]
  },
  {
   "cell_type": "code",
   "execution_count": null,
   "metadata": {},
   "outputs": [],
   "source": [
    "# join \n",
    "# 두개의 테이블을 결합하는 방식 중 하나 \n",
    "# 특정한 조건에 맞춰서 테이블의 열을 결합하는 방식 \n",
    "# pandas에서 merge()와 같은 기능\n",
    "# emp table과 dept table을 결합 \n",
    "sql_query5 = \"\"\"\n",
    "    SELECT \n",
    "    *\n",
    "    FROM \n",
    "    `dept`\n",
    "\"\"\"\n",
    "dept = select_query(sql_query5)\n",
    "dept"
   ]
  },
  {
   "cell_type": "code",
   "execution_count": null,
   "metadata": {},
   "outputs": [],
   "source": [
    "df"
   ]
  },
  {
   "cell_type": "code",
   "execution_count": null,
   "metadata": {},
   "outputs": [],
   "source": [
    "# emp, dept table join 결합 \n",
    "# left join\n",
    "join_query = \"\"\"\n",
    "    SELECT \n",
    "    a.`ENAME`, a.`JOB`, a.`SAL`, b.`DNAME`, b.`LOC`\n",
    "    FROM \n",
    "    `emp` a\n",
    "    LEFT JOIN \n",
    "    `dept` b\n",
    "    ON a.`DEPTNO` = b.`DEPTNO`\n",
    "\"\"\"\n",
    "select_query(join_query)"
   ]
  },
  {
   "cell_type": "code",
   "execution_count": null,
   "metadata": {},
   "outputs": [],
   "source": [
    "# pandas \n",
    "# pandas에서 merge(데이터프레임, 데이터프레임, on = 조건, how = 방식)\n",
    "pd.merge(df, dept, on='DEPTNO', how = 'left')\\\n",
    "    [ ['ENAME', 'JOB', \"SAL\", 'DNAME', 'LOC'] ]\n",
    "# Dataframe에서 merge(데이터프레임, on = 조건, how = 방식)\n",
    "df.merge(dept, on='DEPTNO', how='left')\\\n",
    "    [ ['ENAME', 'JOB', \"SAL\", 'DNAME', 'LOC'] ]"
   ]
  },
  {
   "cell_type": "code",
   "execution_count": 68,
   "metadata": {},
   "outputs": [],
   "source": [
    "# 외부의 데이터베이스에 접속 \n",
    "_db2 = pymysql.connect(\n",
    "    host = '172.30.1.56', \n",
    "    port = 3306, \n",
    "    user = 'ubion', \n",
    "    password = '1234', \n",
    "    db = 'ubion'\n",
    ")"
   ]
  },
  {
   "cell_type": "code",
   "execution_count": 69,
   "metadata": {},
   "outputs": [],
   "source": [
    "# 커서 생성\n",
    "cursor2 = _db2.cursor(pymysql.cursors.DictCursor)"
   ]
  },
  {
   "cell_type": "code",
   "execution_count": 70,
   "metadata": {},
   "outputs": [],
   "source": [
    "sql_query = \"\"\"\n",
    "    SELECT \n",
    "    * \n",
    "    FROM\n",
    "    `tran_1`\n",
    "\"\"\""
   ]
  },
  {
   "cell_type": "code",
   "execution_count": null,
   "metadata": {},
   "outputs": [],
   "source": [
    "cursor.execute(sql_query)"
   ]
  },
  {
   "cell_type": "code",
   "execution_count": 72,
   "metadata": {},
   "outputs": [
    {
     "data": {
      "text/plain": [
       "5000"
      ]
     },
     "execution_count": 72,
     "metadata": {},
     "output_type": "execute_result"
    }
   ],
   "source": [
    "cursor2.execute(sql_query)"
   ]
  },
  {
   "cell_type": "code",
   "execution_count": 74,
   "metadata": {},
   "outputs": [
    {
     "data": {
      "text/plain": [
       "6786"
      ]
     },
     "execution_count": 74,
     "metadata": {},
     "output_type": "execute_result"
    }
   ],
   "source": [
    "# union 결합 \n",
    "# 2개의 table을 단순하게 행으로 결합 \n",
    "# pandas에서는 concat() 같은 기능\n",
    "union_query = \"\"\"\n",
    "    SELECT \n",
    "    * \n",
    "    FROM \n",
    "    `tran_1` \n",
    "    UNION \n",
    "    SELECT \n",
    "    *\n",
    "    FROM \n",
    "    `tran_2`\n",
    "\"\"\"\n",
    "cursor2.execute(union_query)"
   ]
  },
  {
   "cell_type": "code",
   "execution_count": null,
   "metadata": {},
   "outputs": [],
   "source": [
    "pd.DataFrame(cursor2.fetchall())"
   ]
  },
  {
   "cell_type": "code",
   "execution_count": 76,
   "metadata": {},
   "outputs": [],
   "source": [
    "_db.close()\n",
    "_db2.close()"
   ]
  },
  {
   "cell_type": "code",
   "execution_count": null,
   "metadata": {},
   "outputs": [],
   "source": [
    "# Database에 접속하여 query문을 보내는 함수까지 결합하여 Class 생성\n",
    "\n",
    "# class 키워드를 통해서 class 선언\n",
    "\n",
    "\n",
    "class MyDB:\n",
    "    # 독립적으로 저장이 되는 변수를 생성 \n",
    "    # class가 생성되는 과정에서 바로 호출이 되는 함수 : 생성자 함수 \n",
    "    # 변수 : 서버의 주소, 포트번호, 유저명, 비밀번호, 데이터베이스명\n",
    "    # 변수들의 기본값을 설정 ( 로컬 피씨씨 ) \n",
    "    def __init__(self, \n",
    "                 host = \"127.0.0.1\", \n",
    "                 port = 3306, \n",
    "                 user = 'root', \n",
    "                 pwd = '1234', \n",
    "                 db = 'ubion'):\n",
    "        self.host = host\n",
    "        self.port = port\n",
    "        self.user = user\n",
    "        self.pwd = pwd\n",
    "        self.db = db\n",
    "    \n",
    "    # 서버와 연결하고 커서를 생성하는 함수 \n",
    "    def connect_sql(self):\n",
    "        # 서버와 연결 \n",
    "        self.server = pymysql.connect(\n",
    "            host = self.host, \n",
    "            port = self.port, \n",
    "            user = self.user, \n",
    "            password = self.pwd, \n",
    "            db = self.db\n",
    "        )\n",
    "        # 커서를 생성 (독립적)\n",
    "        self.cursor = self.server.cursor(pymysql.cursors.DictCursor)\n",
    "    # 서버와 연결을 종료하는 함수 \n",
    "    def close_sql(self):\n",
    "        self.server.close()\n",
    "\n",
    "    # 쿼리문을 실행하는 함수 \n",
    "    def execute_query(self, sql_query, *values):\n",
    "        # 커서에 sql_query를 보낸다. \n",
    "        self.cursor.execute(sql_query, values)\n",
    "        # 커서에서 데이터를 가져온다. \n",
    "        sql_data = self.cursor.fetchall()\n",
    "        # 데이터프레임으로 변환\n",
    "        result = pd.DataFrame(sql_data)\n",
    "        return result"
   ]
  },
  {
   "cell_type": "code",
   "execution_count": null,
   "metadata": {},
   "outputs": [],
   "source": []
  }
 ],
 "metadata": {
  "kernelspec": {
   "display_name": "Python 3",
   "language": "python",
   "name": "python3"
  },
  "language_info": {
   "codemirror_mode": {
    "name": "ipython",
    "version": 3
   },
   "file_extension": ".py",
   "mimetype": "text/x-python",
   "name": "python",
   "nbconvert_exporter": "python",
   "pygments_lexer": "ipython3",
   "version": "3.11.1"
  }
 },
 "nbformat": 4,
 "nbformat_minor": 2
}
