{
 "cells": [
  {
   "cell_type": "code",
   "execution_count": null,
   "metadata": {},
   "outputs": [],
   "source": [
    "import pandas as pd \n",
    "import pymysql \n",
    "import os \n",
    "from dotenv import load_dotenv"
   ]
  },
  {
   "cell_type": "code",
   "execution_count": null,
   "metadata": {},
   "outputs": [],
   "source": [
    "# 환경 변수 설정 \n",
    "load_dotenv()"
   ]
  },
  {
   "cell_type": "code",
   "execution_count": null,
   "metadata": {},
   "outputs": [],
   "source": [
    "# mysql 서버에 접속 \n",
    "_db = pymysql.connect(\n",
    "    host = os.getenv('host'), \n",
    "    port = int(os.getenv('port')), \n",
    "    user = os.getenv('user'), \n",
    "    password = os.getenv('pwd'), \n",
    "    db = os.getenv('db_name')\n",
    ")"
   ]
  },
  {
   "cell_type": "code",
   "execution_count": null,
   "metadata": {},
   "outputs": [],
   "source": [
    "# 커서 생성 \n",
    "cursor = _db.cursor(pymysql.cursors.DictCursor)"
   ]
  },
  {
   "cell_type": "code",
   "execution_count": null,
   "metadata": {},
   "outputs": [],
   "source": [
    "select_sql = \"\"\"\n",
    "    SELECT \n",
    "    *\n",
    "    FROM \n",
    "    `sales records`\n",
    "    WHERE \n",
    "    `Sales Channel` = 'Online'\n",
    "\"\"\"\n",
    "cursor.execute(select_sql)"
   ]
  },
  {
   "cell_type": "code",
   "execution_count": null,
   "metadata": {},
   "outputs": [],
   "source": [
    "cursor.fetchall()"
   ]
  },
  {
   "cell_type": "code",
   "execution_count": null,
   "metadata": {},
   "outputs": [],
   "source": [
    "select_sql2 = \"\"\"\n",
    "    SELECT \n",
    "    * \n",
    "    FROM \n",
    "    `sales records`\n",
    "    WHERE `Sales Channel` = %s\n",
    "\"\"\"\n",
    "values = ['Online', 'Offline']\n",
    "\n",
    "cursor.execute(select_sql2, values)"
   ]
  },
  {
   "cell_type": "code",
   "execution_count": null,
   "metadata": {},
   "outputs": [],
   "source": [
    "def select_query(\n",
    "        _sql, \n",
    "        *_val\n",
    "):\n",
    "    # _sql : query문이 입력\n",
    "    # _val : query에서 사용될 변수들의 모음(tuple)\n",
    "    # 커서에 query문을 보낸다. \n",
    "    cursor.execute(_sql, _val)\n",
    "    # query에 대한 응답을 가져온다. \n",
    "    cursor_data = cursor.fetchall()\n",
    "    # cursor_data를 데이터프레임으로 변환 \n",
    "    df = pd.DataFrame(cursor_data)\n",
    "    # 데이터프레임을 되돌려준다. \n",
    "    return df"
   ]
  },
  {
   "cell_type": "code",
   "execution_count": null,
   "metadata": {},
   "outputs": [],
   "source": [
    "query1 = \"\"\"\n",
    "    SELECT \n",
    "    * \n",
    "    FROM \n",
    "    `sales records` \n",
    "    WHERE `Country` in (%s, %s)\n",
    "\"\"\"\n",
    "select_query(query1, 'South Korea', 'North Korea')"
   ]
  },
  {
   "cell_type": "code",
   "execution_count": null,
   "metadata": {},
   "outputs": [],
   "source": [
    "# emp table 에서 특정 조건에 맞는 데이터를 출력 \n",
    "# SAL 필드에서 1500이상인 사원 정보를 출력\n",
    "sql_query2 = \"\"\"\n",
    "    SELECT \n",
    "    * \n",
    "    FROM \n",
    "    `emp`\n",
    "    WHERE `SAL` >= 1500\n",
    "\"\"\"\n",
    "select_query(sql_query2)\n"
   ]
  },
  {
   "cell_type": "code",
   "execution_count": null,
   "metadata": {},
   "outputs": [],
   "source": [
    "sql_query = \"\"\"\n",
    "    SELECT \n",
    "    * \n",
    "    FROM \n",
    "    `emp`\n",
    "\"\"\"\n",
    "df = select_query(sql_query)\n",
    "df"
   ]
  },
  {
   "cell_type": "code",
   "execution_count": null,
   "metadata": {},
   "outputs": [],
   "source": [
    "# df에서 SAL 컬럼의 데이터가 1500이상인 데이터를 출력하시오\n",
    "flag = df['SAL'] >= 1500\n",
    "df.loc[flag]"
   ]
  },
  {
   "cell_type": "code",
   "execution_count": null,
   "metadata": {},
   "outputs": [],
   "source": [
    "# sql \n",
    "# SAL 이 1500이상이고(and) 3000이하인 사원의 이름을 출력 \n",
    "select_query3 = \"\"\"\n",
    "    SELECT \n",
    "    `ENAME`\n",
    "    FROM \n",
    "    `emp`\n",
    "    WHERE \n",
    "    `SAL` >= 1500 AND `SAL` <= 3000\n",
    "\"\"\"\n",
    "select_query(select_query3)"
   ]
  },
  {
   "cell_type": "code",
   "execution_count": null,
   "metadata": {},
   "outputs": [],
   "source": [
    "sql_query3 = \"\"\"\n",
    "    SELECT\n",
    "    `ENAME`\n",
    "    FROM \n",
    "    `emp`\n",
    "    WHERE `SAL` BETWEEN 1500 AND 3000\n",
    "\"\"\"\n",
    "select_query(sql_query3)"
   ]
  },
  {
   "cell_type": "markdown",
   "metadata": {},
   "source": [
    "- pandas에서 데이터프레임 필터 \n",
    "- df[조건식]\n",
    "- df[컬럼명]\n",
    "- loc[]\n",
    "    - 인덱스의 조건식, 컬럼의 조건식\n",
    "- iloc[]\n",
    "    - 인덱스의 위치, 컬럼의 위치"
   ]
  },
  {
   "cell_type": "code",
   "execution_count": null,
   "metadata": {},
   "outputs": [],
   "source": [
    "flag = df['SAL'] >= 1500\n",
    "flag2 = df['SAL'] <= 3000\n",
    "\n",
    "df[flag & flag2][['ENAME']]\n",
    "df.loc[flag & flag2, ['ENAME']]"
   ]
  },
  {
   "cell_type": "code",
   "execution_count": null,
   "metadata": {},
   "outputs": [],
   "source": [
    "# sql\n",
    "# 사원의 이름이 S 시작하는 사원의 정보를 확인\n",
    "sql_query4 = \"\"\"\n",
    "    SELECT \n",
    "    * \n",
    "    FROM \n",
    "    `emp`\n",
    "    WHERE `ENAME` LIKE 'S%%'\n",
    "\"\"\"\n",
    "select_query(sql_query4)"
   ]
  },
  {
   "cell_type": "code",
   "execution_count": null,
   "metadata": {},
   "outputs": [],
   "source": [
    "# pandas \n",
    "# 조건식 : ENAME 컬럼의 데이터가 S로 시작하는가?\n",
    "# 문자형 내장함수 : startswith()\n",
    "# 스리즈 형태 데이터에서 문자형 내장함수 사용 : series.str.함수명()\n",
    "flag = df['ENAME'].str.startswith('S')\n",
    "\n",
    "df.loc[flag]"
   ]
  },
  {
   "cell_type": "code",
   "execution_count": null,
   "metadata": {},
   "outputs": [],
   "source": [
    "# ENAME에 데이터를 하나씩 뽑아서 앞의 단어가 S 인가?\n",
    "word = 'S'\n",
    "\n",
    "# map() 함수 \n",
    "# series.map( 함수(일반함수, lambda함수) )\n",
    "flag = df['ENAME'].map(\n",
    "    # lambda x 의 x는 ENAME 값들이 하나씩 대입\n",
    "    # if문을 한줄로 표현 : \"참일경우 값\" if 조건식 else \"거짓일경우 값값\"\n",
    "    lambda x : True if x[ : len(word)] == word else False\n",
    ")\n",
    "df.loc[flag]"
   ]
  },
  {
   "cell_type": "code",
   "execution_count": null,
   "metadata": {},
   "outputs": [],
   "source": [
    "word = 'S'\n",
    "flag = []\n",
    "for i in df['ENAME']:\n",
    "    # i : ENAME의 값들이 하나씩 대입 \n",
    "    flag.append(i[ : len(word)] == word)\n",
    "df.loc[flag]"
   ]
  },
  {
   "cell_type": "code",
   "execution_count": null,
   "metadata": {},
   "outputs": [],
   "source": [
    "flag = df['ENAME'].str.contains('S')\n",
    "df.loc[flag]"
   ]
  },
  {
   "cell_type": "code",
   "execution_count": null,
   "metadata": {},
   "outputs": [],
   "source": [
    "word = 'S'\n",
    "flag = df['ENAME'].map(\n",
    "    lambda x : word in x \n",
    ")\n",
    "df.loc[flag]"
   ]
  },
  {
   "cell_type": "code",
   "execution_count": null,
   "metadata": {},
   "outputs": [],
   "source": [
    "# join \n",
    "# 두개의 테이블을 결합하는 방식 중 하나 \n",
    "# 특정한 조건에 맞춰서 테이블의 열을 결합하는 방식 \n",
    "# pandas에서 merge()와 같은 기능\n",
    "# emp table과 dept table을 결합 \n",
    "sql_query5 = \"\"\"\n",
    "    SELECT \n",
    "    *\n",
    "    FROM \n",
    "    `dept`\n",
    "\"\"\"\n",
    "dept = select_query(sql_query5)\n",
    "dept"
   ]
  },
  {
   "cell_type": "code",
   "execution_count": null,
   "metadata": {},
   "outputs": [],
   "source": [
    "df"
   ]
  },
  {
   "cell_type": "code",
   "execution_count": null,
   "metadata": {},
   "outputs": [],
   "source": [
    "# emp, dept table join 결합 \n",
    "# left join\n",
    "join_query = \"\"\"\n",
    "    SELECT \n",
    "    a.`ENAME`, a.`JOB`, a.`SAL`, b.`DNAME`, b.`LOC`\n",
    "    FROM \n",
    "    `emp` a\n",
    "    LEFT JOIN \n",
    "    `dept` b\n",
    "    ON a.`DEPTNO` = b.`DEPTNO`\n",
    "\"\"\"\n",
    "select_query(join_query)"
   ]
  },
  {
   "cell_type": "code",
   "execution_count": null,
   "metadata": {},
   "outputs": [],
   "source": [
    "# pandas \n",
    "# pandas에서 merge(데이터프레임, 데이터프레임, on = 조건, how = 방식)\n",
    "pd.merge(df, dept, on='DEPTNO', how = 'left')\\\n",
    "    [ ['ENAME', 'JOB', \"SAL\", 'DNAME', 'LOC'] ]\n",
    "# Dataframe에서 merge(데이터프레임, on = 조건, how = 방식)\n",
    "df.merge(dept, on='DEPTNO', how='left')\\\n",
    "    [ ['ENAME', 'JOB', \"SAL\", 'DNAME', 'LOC'] ]"
   ]
  },
  {
   "cell_type": "code",
   "execution_count": 68,
   "metadata": {},
   "outputs": [],
   "source": [
    "# 외부의 데이터베이스에 접속 \n",
    "_db2 = pymysql.connect(\n",
    "    host = '172.30.1.56', \n",
    "    port = 3306, \n",
    "    user = 'ubion', \n",
    "    password = '1234', \n",
    "    db = 'ubion'\n",
    ")"
   ]
  },
  {
   "cell_type": "code",
   "execution_count": 69,
   "metadata": {},
   "outputs": [],
   "source": [
    "# 커서 생성\n",
    "cursor2 = _db2.cursor(pymysql.cursors.DictCursor)"
   ]
  },
  {
   "cell_type": "code",
   "execution_count": 70,
   "metadata": {},
   "outputs": [],
   "source": [
    "sql_query = \"\"\"\n",
    "    SELECT \n",
    "    * \n",
    "    FROM\n",
    "    `tran_1`\n",
    "\"\"\""
   ]
  },
  {
   "cell_type": "code",
   "execution_count": null,
   "metadata": {},
   "outputs": [],
   "source": [
    "cursor.execute(sql_query)"
   ]
  },
  {
   "cell_type": "code",
   "execution_count": 72,
   "metadata": {},
   "outputs": [
    {
     "data": {
      "text/plain": [
       "5000"
      ]
     },
     "execution_count": 72,
     "metadata": {},
     "output_type": "execute_result"
    }
   ],
   "source": [
    "cursor2.execute(sql_query)"
   ]
  },
  {
   "cell_type": "code",
   "execution_count": 74,
   "metadata": {},
   "outputs": [
    {
     "data": {
      "text/plain": [
       "6786"
      ]
     },
     "execution_count": 74,
     "metadata": {},
     "output_type": "execute_result"
    }
   ],
   "source": [
    "# union 결합 \n",
    "# 2개의 table을 단순하게 행으로 결합 \n",
    "# pandas에서는 concat() 같은 기능\n",
    "union_query = \"\"\"\n",
    "    SELECT \n",
    "    * \n",
    "    FROM \n",
    "    `tran_1` \n",
    "    UNION \n",
    "    SELECT \n",
    "    *\n",
    "    FROM \n",
    "    `tran_2`\n",
    "\"\"\"\n",
    "cursor2.execute(union_query)"
   ]
  },
  {
   "cell_type": "code",
   "execution_count": null,
   "metadata": {},
   "outputs": [],
   "source": [
    "pd.DataFrame(cursor2.fetchall())"
   ]
  },
  {
   "cell_type": "code",
   "execution_count": 76,
   "metadata": {},
   "outputs": [],
   "source": [
    "_db.close()\n",
    "_db2.close()"
   ]
  },
  {
   "cell_type": "code",
   "execution_count": 107,
   "metadata": {},
   "outputs": [],
   "source": [
    "# Database에 접속하여 query문을 보내는 함수까지 결합하여 Class 생성\n",
    "\n",
    "# class 키워드를 통해서 class 선언\n",
    "\n",
    "\n",
    "class MyDB:\n",
    "    # 독립적으로 저장이 되는 변수를 생성 \n",
    "    # class가 생성되는 과정에서 바로 호출이 되는 함수 : 생성자 함수 \n",
    "    # 변수 : 서버의 주소, 포트번호, 유저명, 비밀번호, 데이터베이스명\n",
    "    # 변수들의 기본값을 설정 ( 로컬 피씨씨 ) \n",
    "    def __init__(self, \n",
    "                 host = \"127.0.0.1\", \n",
    "                 port = 3306, \n",
    "                 user = 'root', \n",
    "                 pwd = '1234', \n",
    "                 db = 'ubion'):\n",
    "        self.host = host\n",
    "        self.port = port\n",
    "        self.user = user\n",
    "        self.pwd = pwd\n",
    "        self.db = db\n",
    "    \n",
    "    # 서버와 연결하고 커서를 생성하는 함수 \n",
    "    def connect_sql(self):\n",
    "        # 서버와 연결 \n",
    "        self.server = pymysql.connect(\n",
    "            host = self.host, \n",
    "            port = self.port, \n",
    "            user = self.user, \n",
    "            password = self.pwd, \n",
    "            db = self.db\n",
    "        )\n",
    "        # 커서를 생성 (독립적)\n",
    "        self.cursor = self.server.cursor(pymysql.cursors.DictCursor)\n",
    "    # 서버와 연결을 종료하는 함수 \n",
    "    def close_sql(self):\n",
    "        self.server.close()\n",
    "\n",
    "    # 쿼리문을 실행하는 함수 \n",
    "    def execute_query(self, sql_query, *values, inplace = False):\n",
    "        # 서버와 연결\n",
    "        self.connect_sql()\n",
    "        # 커서에 sql_query를 보낸다. \n",
    "        self.cursor.execute(sql_query, values)\n",
    "        # sql_query가 select문이라면?\n",
    "        # if sql_query.upper().lstrip().startswith('SELECT'):\n",
    "        if sql_query.upper().split()[0] == 'SELECT':\n",
    "            # 커서에서 데이터를 가져온다. \n",
    "            sql_data = self.cursor.fetchall()\n",
    "            # 데이터프레임으로 변환\n",
    "            result = pd.DataFrame(sql_data)\n",
    "        else:\n",
    "            # insert, update, delete인 경우\n",
    "            # inplace True인 경우\n",
    "            if inplace:\n",
    "                self.server.commit()\n",
    "            result = \"Query OK\"\n",
    "        \n",
    "        # 서버와의 연결을 종료\n",
    "        self.close_sql()\n",
    "        \n",
    "        return result"
   ]
  },
  {
   "cell_type": "code",
   "execution_count": null,
   "metadata": {},
   "outputs": [],
   "source": [
    "# class 생성 \n",
    "db1 = MyDB()\n",
    "# class 생성 -> class 안에 __init__ 함수가 호출 \n",
    "# 로컬 피씨의 데이터베이스서버에 연결하는 class"
   ]
  },
  {
   "cell_type": "code",
   "execution_count": 108,
   "metadata": {},
   "outputs": [],
   "source": [
    "db2 = MyDB(\n",
    "    host = '172.30.1.56', \n",
    "    port = 3306,\n",
    "    user = 'ubion', \n",
    "    pwd = '1234', \n",
    "    db = 'ubion'\n",
    ")"
   ]
  },
  {
   "cell_type": "code",
   "execution_count": 82,
   "metadata": {},
   "outputs": [],
   "source": [
    "# db1, db2 두 class 모두 서버와 연결하는 함수를 호출 \n",
    "db1.connect_sql()\n",
    "db2.connect_sql()"
   ]
  },
  {
   "cell_type": "code",
   "execution_count": 109,
   "metadata": {},
   "outputs": [
    {
     "data": {
      "text/html": [
       "<div>\n",
       "<style scoped>\n",
       "    .dataframe tbody tr th:only-of-type {\n",
       "        vertical-align: middle;\n",
       "    }\n",
       "\n",
       "    .dataframe tbody tr th {\n",
       "        vertical-align: top;\n",
       "    }\n",
       "\n",
       "    .dataframe thead th {\n",
       "        text-align: right;\n",
       "    }\n",
       "</style>\n",
       "<table border=\"1\" class=\"dataframe\">\n",
       "  <thead>\n",
       "    <tr style=\"text-align: right;\">\n",
       "      <th></th>\n",
       "      <th>transaction_id</th>\n",
       "      <th>price</th>\n",
       "      <th>payment_date</th>\n",
       "      <th>customer_id</th>\n",
       "      <th>detail_id</th>\n",
       "      <th>b.transaction_id</th>\n",
       "      <th>item_id</th>\n",
       "      <th>quantity</th>\n",
       "    </tr>\n",
       "  </thead>\n",
       "  <tbody>\n",
       "    <tr>\n",
       "      <th>0</th>\n",
       "      <td>T0000000113</td>\n",
       "      <td>210000</td>\n",
       "      <td>2019-02-01 01:36:57</td>\n",
       "      <td>PL563502</td>\n",
       "      <td>0</td>\n",
       "      <td>T0000000113</td>\n",
       "      <td>S005</td>\n",
       "      <td>1</td>\n",
       "    </tr>\n",
       "    <tr>\n",
       "      <th>1</th>\n",
       "      <td>T0000000114</td>\n",
       "      <td>50000</td>\n",
       "      <td>2019-02-01 01:37:23</td>\n",
       "      <td>HD678019</td>\n",
       "      <td>1</td>\n",
       "      <td>T0000000114</td>\n",
       "      <td>S001</td>\n",
       "      <td>1</td>\n",
       "    </tr>\n",
       "    <tr>\n",
       "      <th>2</th>\n",
       "      <td>T0000000115</td>\n",
       "      <td>120000</td>\n",
       "      <td>2019-02-01 02:34:19</td>\n",
       "      <td>HD298120</td>\n",
       "      <td>2</td>\n",
       "      <td>T0000000115</td>\n",
       "      <td>S003</td>\n",
       "      <td>1</td>\n",
       "    </tr>\n",
       "    <tr>\n",
       "      <th>3</th>\n",
       "      <td>T0000000116</td>\n",
       "      <td>210000</td>\n",
       "      <td>2019-02-01 02:47:23</td>\n",
       "      <td>IK452215</td>\n",
       "      <td>3</td>\n",
       "      <td>T0000000116</td>\n",
       "      <td>S005</td>\n",
       "      <td>1</td>\n",
       "    </tr>\n",
       "    <tr>\n",
       "      <th>4</th>\n",
       "      <td>T0000000117</td>\n",
       "      <td>170000</td>\n",
       "      <td>2019-02-01 04:33:46</td>\n",
       "      <td>PL542865</td>\n",
       "      <td>4</td>\n",
       "      <td>T0000000117</td>\n",
       "      <td>S002</td>\n",
       "      <td>2</td>\n",
       "    </tr>\n",
       "    <tr>\n",
       "      <th>...</th>\n",
       "      <td>...</td>\n",
       "      <td>...</td>\n",
       "      <td>...</td>\n",
       "      <td>...</td>\n",
       "      <td>...</td>\n",
       "      <td>...</td>\n",
       "      <td>...</td>\n",
       "      <td>...</td>\n",
       "    </tr>\n",
       "    <tr>\n",
       "      <th>7139</th>\n",
       "      <td>T0000006887</td>\n",
       "      <td>210000</td>\n",
       "      <td>2019-07-31 19:43:42</td>\n",
       "      <td>AS961301</td>\n",
       "      <td>7132</td>\n",
       "      <td>T0000006887</td>\n",
       "      <td>S005</td>\n",
       "      <td>1</td>\n",
       "    </tr>\n",
       "    <tr>\n",
       "      <th>7140</th>\n",
       "      <td>T0000006888</td>\n",
       "      <td>210000</td>\n",
       "      <td>2019-07-31 20:05:45</td>\n",
       "      <td>GD025393</td>\n",
       "      <td>7133</td>\n",
       "      <td>T0000006888</td>\n",
       "      <td>S005</td>\n",
       "      <td>1</td>\n",
       "    </tr>\n",
       "    <tr>\n",
       "      <th>7141</th>\n",
       "      <td>T0000006891</td>\n",
       "      <td>50000</td>\n",
       "      <td>2019-07-31 20:28:20</td>\n",
       "      <td>HI337854</td>\n",
       "      <td>7136</td>\n",
       "      <td>T0000006891</td>\n",
       "      <td>S001</td>\n",
       "      <td>1</td>\n",
       "    </tr>\n",
       "    <tr>\n",
       "      <th>7142</th>\n",
       "      <td>T0000006894</td>\n",
       "      <td>180000</td>\n",
       "      <td>2019-07-31 21:20:44</td>\n",
       "      <td>HI400734</td>\n",
       "      <td>7139</td>\n",
       "      <td>T0000006894</td>\n",
       "      <td>S004</td>\n",
       "      <td>1</td>\n",
       "    </tr>\n",
       "    <tr>\n",
       "      <th>7143</th>\n",
       "      <td>T0000006895</td>\n",
       "      <td>85000</td>\n",
       "      <td>2019-07-31 21:52:48</td>\n",
       "      <td>AS339451</td>\n",
       "      <td>7140</td>\n",
       "      <td>T0000006895</td>\n",
       "      <td>S002</td>\n",
       "      <td>1</td>\n",
       "    </tr>\n",
       "  </tbody>\n",
       "</table>\n",
       "<p>7144 rows × 8 columns</p>\n",
       "</div>"
      ],
      "text/plain": [
       "     transaction_id   price         payment_date customer_id  detail_id  \\\n",
       "0       T0000000113  210000  2019-02-01 01:36:57    PL563502          0   \n",
       "1       T0000000114   50000  2019-02-01 01:37:23    HD678019          1   \n",
       "2       T0000000115  120000  2019-02-01 02:34:19    HD298120          2   \n",
       "3       T0000000116  210000  2019-02-01 02:47:23    IK452215          3   \n",
       "4       T0000000117  170000  2019-02-01 04:33:46    PL542865          4   \n",
       "...             ...     ...                  ...         ...        ...   \n",
       "7139    T0000006887  210000  2019-07-31 19:43:42    AS961301       7132   \n",
       "7140    T0000006888  210000  2019-07-31 20:05:45    GD025393       7133   \n",
       "7141    T0000006891   50000  2019-07-31 20:28:20    HI337854       7136   \n",
       "7142    T0000006894  180000  2019-07-31 21:20:44    HI400734       7139   \n",
       "7143    T0000006895   85000  2019-07-31 21:52:48    AS339451       7140   \n",
       "\n",
       "     b.transaction_id item_id  quantity  \n",
       "0         T0000000113    S005         1  \n",
       "1         T0000000114    S001         1  \n",
       "2         T0000000115    S003         1  \n",
       "3         T0000000116    S005         1  \n",
       "4         T0000000117    S002         2  \n",
       "...               ...     ...       ...  \n",
       "7139      T0000006887    S005         1  \n",
       "7140      T0000006888    S005         1  \n",
       "7141      T0000006891    S001         1  \n",
       "7142      T0000006894    S004         1  \n",
       "7143      T0000006895    S002         1  \n",
       "\n",
       "[7144 rows x 8 columns]"
      ]
     },
     "execution_count": 109,
     "metadata": {},
     "output_type": "execute_result"
    }
   ],
   "source": [
    "# 4개 테이블을 결합 \n",
    "# tran_1, tran_2 union 결합\n",
    "# tran_d1, tran_d2 union 결합 \n",
    "# union 결합 후 join 결합\n",
    "\n",
    "query_1 = \"\"\"\n",
    "    SELECT * FROM \n",
    "    (SELECT * FROM `tran_1` \n",
    "    UNION \n",
    "    SELECT * FROM `tran_2`) as a\n",
    "    LEFT JOIN \n",
    "    (SELECT * FROM `tran_d_1`\n",
    "    UNION \n",
    "    SELECT * FROM `tran_d_2`) as b\n",
    "    ON a.`transaction_id` = b.`transaction_id`\n",
    "\"\"\"\n",
    "db2.execute_query(query_1)"
   ]
  },
  {
   "cell_type": "code",
   "execution_count": 102,
   "metadata": {},
   "outputs": [
    {
     "data": {
      "text/html": [
       "<div>\n",
       "<style scoped>\n",
       "    .dataframe tbody tr th:only-of-type {\n",
       "        vertical-align: middle;\n",
       "    }\n",
       "\n",
       "    .dataframe tbody tr th {\n",
       "        vertical-align: top;\n",
       "    }\n",
       "\n",
       "    .dataframe thead th {\n",
       "        text-align: right;\n",
       "    }\n",
       "</style>\n",
       "<table border=\"1\" class=\"dataframe\">\n",
       "  <thead>\n",
       "    <tr style=\"text-align: right;\">\n",
       "      <th></th>\n",
       "      <th>transaction_id</th>\n",
       "      <th>price</th>\n",
       "      <th>payment_date</th>\n",
       "      <th>customer_id</th>\n",
       "    </tr>\n",
       "  </thead>\n",
       "  <tbody>\n",
       "    <tr>\n",
       "      <th>0</th>\n",
       "      <td>T0000000113</td>\n",
       "      <td>210000</td>\n",
       "      <td>2019-02-01 01:36:57</td>\n",
       "      <td>PL563502</td>\n",
       "    </tr>\n",
       "    <tr>\n",
       "      <th>1</th>\n",
       "      <td>T0000000114</td>\n",
       "      <td>50000</td>\n",
       "      <td>2019-02-01 01:37:23</td>\n",
       "      <td>HD678019</td>\n",
       "    </tr>\n",
       "    <tr>\n",
       "      <th>2</th>\n",
       "      <td>T0000000115</td>\n",
       "      <td>120000</td>\n",
       "      <td>2019-02-01 02:34:19</td>\n",
       "      <td>HD298120</td>\n",
       "    </tr>\n",
       "    <tr>\n",
       "      <th>3</th>\n",
       "      <td>T0000000116</td>\n",
       "      <td>210000</td>\n",
       "      <td>2019-02-01 02:47:23</td>\n",
       "      <td>IK452215</td>\n",
       "    </tr>\n",
       "    <tr>\n",
       "      <th>4</th>\n",
       "      <td>T0000000117</td>\n",
       "      <td>170000</td>\n",
       "      <td>2019-02-01 04:33:46</td>\n",
       "      <td>PL542865</td>\n",
       "    </tr>\n",
       "    <tr>\n",
       "      <th>...</th>\n",
       "      <td>...</td>\n",
       "      <td>...</td>\n",
       "      <td>...</td>\n",
       "      <td>...</td>\n",
       "    </tr>\n",
       "    <tr>\n",
       "      <th>4995</th>\n",
       "      <td>T0000005108</td>\n",
       "      <td>210000</td>\n",
       "      <td>2019-06-15 02:42:41</td>\n",
       "      <td>HD315748</td>\n",
       "    </tr>\n",
       "    <tr>\n",
       "      <th>4996</th>\n",
       "      <td>T0000005109</td>\n",
       "      <td>150000</td>\n",
       "      <td>2019-06-15 03:36:16</td>\n",
       "      <td>HI215420</td>\n",
       "    </tr>\n",
       "    <tr>\n",
       "      <th>4997</th>\n",
       "      <td>T0000005110</td>\n",
       "      <td>50000</td>\n",
       "      <td>2019-06-15 03:44:06</td>\n",
       "      <td>IK880102</td>\n",
       "    </tr>\n",
       "    <tr>\n",
       "      <th>4998</th>\n",
       "      <td>T0000005111</td>\n",
       "      <td>210000</td>\n",
       "      <td>2019-06-15 04:14:06</td>\n",
       "      <td>IK074758</td>\n",
       "    </tr>\n",
       "    <tr>\n",
       "      <th>4999</th>\n",
       "      <td>T0000005112</td>\n",
       "      <td>50000</td>\n",
       "      <td>2019-06-15 04:42:38</td>\n",
       "      <td>HD444151</td>\n",
       "    </tr>\n",
       "  </tbody>\n",
       "</table>\n",
       "<p>5000 rows × 4 columns</p>\n",
       "</div>"
      ],
      "text/plain": [
       "     transaction_id   price         payment_date customer_id\n",
       "0       T0000000113  210000  2019-02-01 01:36:57    PL563502\n",
       "1       T0000000114   50000  2019-02-01 01:37:23    HD678019\n",
       "2       T0000000115  120000  2019-02-01 02:34:19    HD298120\n",
       "3       T0000000116  210000  2019-02-01 02:47:23    IK452215\n",
       "4       T0000000117  170000  2019-02-01 04:33:46    PL542865\n",
       "...             ...     ...                  ...         ...\n",
       "4995    T0000005108  210000  2019-06-15 02:42:41    HD315748\n",
       "4996    T0000005109  150000  2019-06-15 03:36:16    HI215420\n",
       "4997    T0000005110   50000  2019-06-15 03:44:06    IK880102\n",
       "4998    T0000005111  210000  2019-06-15 04:14:06    IK074758\n",
       "4999    T0000005112   50000  2019-06-15 04:42:38    HD444151\n",
       "\n",
       "[5000 rows x 4 columns]"
      ]
     },
     "execution_count": 102,
     "metadata": {},
     "output_type": "execute_result"
    }
   ],
   "source": [
    "values = 'tran_1'\n",
    "query_2 = f\"\"\"SELECT * FROM `{values}`\"\"\"\n",
    "tran_1 = db2.execute_query(query_2)\n",
    "tran_1"
   ]
  },
  {
   "cell_type": "code",
   "execution_count": 91,
   "metadata": {},
   "outputs": [],
   "source": [
    "values = 'tran_2'\n",
    "query_2 = f\"SELECT * FROM `{values}`\"\n",
    "tran_2 = db2.execute_query(query_2)"
   ]
  },
  {
   "cell_type": "code",
   "execution_count": 93,
   "metadata": {},
   "outputs": [],
   "source": [
    "table_list = ['tran_1', 'tran_2', 'tran_d_1', 'tran_d_2']\n",
    "\n",
    "for i in table_list:\n",
    "    query_3 = f\"SELECT * FROM `{i}`\"\n",
    "    globals()[i] = db2.execute_query(query_3)"
   ]
  },
  {
   "cell_type": "code",
   "execution_count": 96,
   "metadata": {},
   "outputs": [],
   "source": [
    "# tran_1, tran_2 concat() 결합 \n",
    "tran = pd.concat( [tran_1, tran_2], axis='rows', ignore_index=True )\n",
    "tran_d = pd.concat( [tran_d_1, tran_d_2], axis = 0, ignore_index=True )"
   ]
  },
  {
   "cell_type": "code",
   "execution_count": 97,
   "metadata": {},
   "outputs": [
    {
     "data": {
      "text/html": [
       "<div>\n",
       "<style scoped>\n",
       "    .dataframe tbody tr th:only-of-type {\n",
       "        vertical-align: middle;\n",
       "    }\n",
       "\n",
       "    .dataframe tbody tr th {\n",
       "        vertical-align: top;\n",
       "    }\n",
       "\n",
       "    .dataframe thead th {\n",
       "        text-align: right;\n",
       "    }\n",
       "</style>\n",
       "<table border=\"1\" class=\"dataframe\">\n",
       "  <thead>\n",
       "    <tr style=\"text-align: right;\">\n",
       "      <th></th>\n",
       "      <th>transaction_id</th>\n",
       "      <th>price</th>\n",
       "      <th>payment_date</th>\n",
       "      <th>customer_id</th>\n",
       "      <th>detail_id</th>\n",
       "      <th>item_id</th>\n",
       "      <th>quantity</th>\n",
       "    </tr>\n",
       "  </thead>\n",
       "  <tbody>\n",
       "    <tr>\n",
       "      <th>0</th>\n",
       "      <td>T0000000113</td>\n",
       "      <td>210000</td>\n",
       "      <td>2019-02-01 01:36:57</td>\n",
       "      <td>PL563502</td>\n",
       "      <td>0</td>\n",
       "      <td>S005</td>\n",
       "      <td>1</td>\n",
       "    </tr>\n",
       "    <tr>\n",
       "      <th>1</th>\n",
       "      <td>T0000000114</td>\n",
       "      <td>50000</td>\n",
       "      <td>2019-02-01 01:37:23</td>\n",
       "      <td>HD678019</td>\n",
       "      <td>1</td>\n",
       "      <td>S001</td>\n",
       "      <td>1</td>\n",
       "    </tr>\n",
       "    <tr>\n",
       "      <th>2</th>\n",
       "      <td>T0000000115</td>\n",
       "      <td>120000</td>\n",
       "      <td>2019-02-01 02:34:19</td>\n",
       "      <td>HD298120</td>\n",
       "      <td>2</td>\n",
       "      <td>S003</td>\n",
       "      <td>1</td>\n",
       "    </tr>\n",
       "    <tr>\n",
       "      <th>3</th>\n",
       "      <td>T0000000116</td>\n",
       "      <td>210000</td>\n",
       "      <td>2019-02-01 02:47:23</td>\n",
       "      <td>IK452215</td>\n",
       "      <td>3</td>\n",
       "      <td>S005</td>\n",
       "      <td>1</td>\n",
       "    </tr>\n",
       "    <tr>\n",
       "      <th>4</th>\n",
       "      <td>T0000000117</td>\n",
       "      <td>170000</td>\n",
       "      <td>2019-02-01 04:33:46</td>\n",
       "      <td>PL542865</td>\n",
       "      <td>4</td>\n",
       "      <td>S002</td>\n",
       "      <td>2</td>\n",
       "    </tr>\n",
       "  </tbody>\n",
       "</table>\n",
       "</div>"
      ],
      "text/plain": [
       "  transaction_id   price         payment_date customer_id  detail_id item_id  \\\n",
       "0    T0000000113  210000  2019-02-01 01:36:57    PL563502          0    S005   \n",
       "1    T0000000114   50000  2019-02-01 01:37:23    HD678019          1    S001   \n",
       "2    T0000000115  120000  2019-02-01 02:34:19    HD298120          2    S003   \n",
       "3    T0000000116  210000  2019-02-01 02:47:23    IK452215          3    S005   \n",
       "4    T0000000117  170000  2019-02-01 04:33:46    PL542865          4    S002   \n",
       "\n",
       "   quantity  \n",
       "0         1  \n",
       "1         1  \n",
       "2         1  \n",
       "3         1  \n",
       "4         2  "
      ]
     },
     "execution_count": 97,
     "metadata": {},
     "output_type": "execute_result"
    }
   ],
   "source": [
    "# tran, tran_d merge를 이용하여 결합 \n",
    "df = pd.merge(tran, tran_d, on = 'transaction_id', how='left')\n",
    "df.head()"
   ]
  },
  {
   "cell_type": "code",
   "execution_count": 110,
   "metadata": {},
   "outputs": [],
   "source": [
    "# 생성한 모듈을 로드 \n",
    "import database"
   ]
  },
  {
   "cell_type": "code",
   "execution_count": 111,
   "metadata": {},
   "outputs": [],
   "source": [
    "# 모듈 안에 존재하는 MyDB class를 생성\n",
    "mod_db = database.MyDB()"
   ]
  },
  {
   "cell_type": "code",
   "execution_count": 112,
   "metadata": {},
   "outputs": [],
   "source": [
    "import sys"
   ]
  },
  {
   "cell_type": "code",
   "execution_count": 113,
   "metadata": {},
   "outputs": [
    {
     "data": {
      "text/plain": [
       "['c:\\\\ubion_2025\\\\python\\\\250318',\n",
       " 'C:\\\\pyCode\\\\packages',\n",
       " 'C:\\\\pyCode\\\\modules',\n",
       " 'c:\\\\Users\\\\moons\\\\AppData\\\\Local\\\\Programs\\\\Python\\\\Python311\\\\python311.zip',\n",
       " 'c:\\\\Users\\\\moons\\\\AppData\\\\Local\\\\Programs\\\\Python\\\\Python311\\\\Lib',\n",
       " 'c:\\\\Users\\\\moons\\\\AppData\\\\Local\\\\Programs\\\\Python\\\\Python311\\\\DLLs',\n",
       " '',\n",
       " 'C:\\\\Users\\\\moons\\\\AppData\\\\Roaming\\\\Python\\\\Python311\\\\site-packages',\n",
       " 'C:\\\\Users\\\\moons\\\\AppData\\\\Roaming\\\\Python\\\\Python311\\\\site-packages\\\\win32',\n",
       " 'C:\\\\Users\\\\moons\\\\AppData\\\\Roaming\\\\Python\\\\Python311\\\\site-packages\\\\win32\\\\lib',\n",
       " 'C:\\\\Users\\\\moons\\\\AppData\\\\Roaming\\\\Python\\\\Python311\\\\site-packages\\\\Pythonwin',\n",
       " 'c:\\\\Users\\\\moons\\\\AppData\\\\Local\\\\Programs\\\\Python\\\\Python311',\n",
       " 'c:\\\\Users\\\\moons\\\\AppData\\\\Local\\\\Programs\\\\Python\\\\Python311\\\\Lib\\\\site-packages']"
      ]
     },
     "execution_count": 113,
     "metadata": {},
     "output_type": "execute_result"
    }
   ],
   "source": [
    "sys.path"
   ]
  },
  {
   "cell_type": "code",
   "execution_count": null,
   "metadata": {},
   "outputs": [],
   "source": []
  }
 ],
 "metadata": {
  "kernelspec": {
   "display_name": "Python 3",
   "language": "python",
   "name": "python3"
  },
  "language_info": {
   "codemirror_mode": {
    "name": "ipython",
    "version": 3
   },
   "file_extension": ".py",
   "mimetype": "text/x-python",
   "name": "python",
   "nbconvert_exporter": "python",
   "pygments_lexer": "ipython3",
   "version": "3.11.1"
  }
 },
 "nbformat": 4,
 "nbformat_minor": 2
}
