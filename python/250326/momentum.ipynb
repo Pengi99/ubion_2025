{
 "cells": [
  {
   "cell_type": "markdown",
   "metadata": {},
   "source": [
    "### 절대 모멘텀 \n",
    "- 파생변수 'STD-YM' 생성 -> index에서 년-월 추출하여 대입\n",
    "- 'STD-YM'별 마지막날의 데이터를 month_last_df 저장\n",
    "- 전월의 기준이되는 컬럼의 값을 가진 파생변수 생성 \n",
    "- 전년도의 기준이 되는 컬럼의 값을 가진 파생변수 생성\n",
    "- 전월의 데이터와 전년도의 데이터를 기준으로 거래 내역 생성\n",
    "- 수익율 계산"
   ]
  },
  {
   "cell_type": "code",
   "execution_count": null,
   "metadata": {},
   "outputs": [],
   "source": [
    "import pandas as pd\n",
    "import numpy as np \n",
    "from datetime import datetime"
   ]
  },
  {
   "cell_type": "code",
   "execution_count": null,
   "metadata": {},
   "outputs": [],
   "source": [
    "# 데이터 로드 \n",
    "df = pd.read_csv(\"../../csv/AAPL.csv\", index_col='Date')"
   ]
  },
  {
   "cell_type": "code",
   "execution_count": null,
   "metadata": {},
   "outputs": [],
   "source": [
    "df.head(2)"
   ]
  },
  {
   "cell_type": "code",
   "execution_count": null,
   "metadata": {},
   "outputs": [],
   "source": [
    "# index를 시계열 데이터로 변경 \n",
    "df.index = pd.to_datetime(df.index, utc=True)"
   ]
  },
  {
   "cell_type": "code",
   "execution_count": null,
   "metadata": {},
   "outputs": [],
   "source": [
    "# STD-YM 파생변수를 생성해서 index에서 년-월 추출 대입\n",
    "# 컬럼의 데이터였다면 -> df['Date'].dt.strftime(format)\n",
    "# index에서는 strftime() 바로 적용용\n",
    "df['STD-YM'] = df.index.strftime('%Y-%m')"
   ]
  },
  {
   "cell_type": "code",
   "execution_count": null,
   "metadata": {},
   "outputs": [],
   "source": [
    "df.iloc[10:20]"
   ]
  },
  {
   "cell_type": "code",
   "execution_count": null,
   "metadata": {},
   "outputs": [],
   "source": [
    "# 월말의 데이터를 출력하는 방법 \n",
    "# case1\n",
    "df.loc['1981-1'].tail(1)\n",
    "test_df = pd.DataFrame()\n",
    "for year in range(1980, 2026): # 년도를 반복\n",
    "    for month in range(1, 13): # 월을 반복\n",
    "        try:\n",
    "            idx = f\"{year}-{month}\"\n",
    "            df2 = df.loc[idx].tail(1)\n",
    "            test_df = pd.concat( [test_df, df2], axis=0 )\n",
    "        except Exception as e:\n",
    "            print(e)\n",
    "            continue\n"
   ]
  },
  {
   "cell_type": "code",
   "execution_count": null,
   "metadata": {},
   "outputs": [],
   "source": [
    "test_df"
   ]
  },
  {
   "cell_type": "code",
   "execution_count": null,
   "metadata": {},
   "outputs": [],
   "source": [
    "# case2 \n",
    "# STD-YM이용 : 현재의 STD-YM 데이터와 다음 인덱스의 STD-YM이 다른 경우\n",
    "flag = df['STD-YM'] != df.shift(-1)['STD-YM']\n",
    "df.loc[flag]"
   ]
  },
  {
   "cell_type": "code",
   "execution_count": 18,
   "metadata": {},
   "outputs": [],
   "source": [
    "# case3 \n",
    "# unique() 함수를 이용\n",
    "ym_list = df['STD-YM'].unique()\n",
    "# 빈 데이터프레임 생성\n",
    "month_last_df = pd.DataFrame()\n",
    "for ym in ym_list:\n",
    "    data = df.loc[ym].tail(1)\n",
    "    month_last_df = pd.concat([month_last_df, data], axis=0)"
   ]
  },
  {
   "cell_type": "code",
   "execution_count": 19,
   "metadata": {},
   "outputs": [
    {
     "data": {
      "text/html": [
       "<div>\n",
       "<style scoped>\n",
       "    .dataframe tbody tr th:only-of-type {\n",
       "        vertical-align: middle;\n",
       "    }\n",
       "\n",
       "    .dataframe tbody tr th {\n",
       "        vertical-align: top;\n",
       "    }\n",
       "\n",
       "    .dataframe thead th {\n",
       "        text-align: right;\n",
       "    }\n",
       "</style>\n",
       "<table border=\"1\" class=\"dataframe\">\n",
       "  <thead>\n",
       "    <tr style=\"text-align: right;\">\n",
       "      <th></th>\n",
       "      <th>Open</th>\n",
       "      <th>High</th>\n",
       "      <th>Low</th>\n",
       "      <th>Close</th>\n",
       "      <th>Adj Close</th>\n",
       "      <th>Volume</th>\n",
       "      <th>STD-YM</th>\n",
       "    </tr>\n",
       "    <tr>\n",
       "      <th>Date</th>\n",
       "      <th></th>\n",
       "      <th></th>\n",
       "      <th></th>\n",
       "      <th></th>\n",
       "      <th></th>\n",
       "      <th></th>\n",
       "      <th></th>\n",
       "    </tr>\n",
       "  </thead>\n",
       "  <tbody>\n",
       "    <tr>\n",
       "      <th>1980-12-31 00:00:00+00:00</th>\n",
       "      <td>0.611607</td>\n",
       "      <td>0.611607</td>\n",
       "      <td>0.609375</td>\n",
       "      <td>0.609375</td>\n",
       "      <td>0.487276</td>\n",
       "      <td>8937600.0</td>\n",
       "      <td>1980-12</td>\n",
       "    </tr>\n",
       "    <tr>\n",
       "      <th>1981-01-30 00:00:00+00:00</th>\n",
       "      <td>0.508929</td>\n",
       "      <td>0.508929</td>\n",
       "      <td>0.504464</td>\n",
       "      <td>0.504464</td>\n",
       "      <td>0.403385</td>\n",
       "      <td>11547200.0</td>\n",
       "      <td>1981-01</td>\n",
       "    </tr>\n",
       "    <tr>\n",
       "      <th>1981-02-27 00:00:00+00:00</th>\n",
       "      <td>0.473214</td>\n",
       "      <td>0.477679</td>\n",
       "      <td>0.473214</td>\n",
       "      <td>0.473214</td>\n",
       "      <td>0.378397</td>\n",
       "      <td>3690400.0</td>\n",
       "      <td>1981-02</td>\n",
       "    </tr>\n",
       "    <tr>\n",
       "      <th>1981-03-31 00:00:00+00:00</th>\n",
       "      <td>0.441964</td>\n",
       "      <td>0.441964</td>\n",
       "      <td>0.437500</td>\n",
       "      <td>0.437500</td>\n",
       "      <td>0.349839</td>\n",
       "      <td>3998400.0</td>\n",
       "      <td>1981-03</td>\n",
       "    </tr>\n",
       "    <tr>\n",
       "      <th>1981-04-30 00:00:00+00:00</th>\n",
       "      <td>0.506696</td>\n",
       "      <td>0.511161</td>\n",
       "      <td>0.506696</td>\n",
       "      <td>0.506696</td>\n",
       "      <td>0.405170</td>\n",
       "      <td>3152800.0</td>\n",
       "      <td>1981-04</td>\n",
       "    </tr>\n",
       "    <tr>\n",
       "      <th>...</th>\n",
       "      <td>...</td>\n",
       "      <td>...</td>\n",
       "      <td>...</td>\n",
       "      <td>...</td>\n",
       "      <td>...</td>\n",
       "      <td>...</td>\n",
       "      <td>...</td>\n",
       "    </tr>\n",
       "    <tr>\n",
       "      <th>2019-02-28 00:00:00+00:00</th>\n",
       "      <td>174.320007</td>\n",
       "      <td>174.910004</td>\n",
       "      <td>172.919998</td>\n",
       "      <td>173.149994</td>\n",
       "      <td>172.485748</td>\n",
       "      <td>28215400.0</td>\n",
       "      <td>2019-02</td>\n",
       "    </tr>\n",
       "    <tr>\n",
       "      <th>2019-03-29 00:00:00+00:00</th>\n",
       "      <td>189.830002</td>\n",
       "      <td>190.080002</td>\n",
       "      <td>188.539993</td>\n",
       "      <td>189.949997</td>\n",
       "      <td>189.221313</td>\n",
       "      <td>23564000.0</td>\n",
       "      <td>2019-03</td>\n",
       "    </tr>\n",
       "    <tr>\n",
       "      <th>2019-04-30 00:00:00+00:00</th>\n",
       "      <td>203.059998</td>\n",
       "      <td>203.399994</td>\n",
       "      <td>199.110001</td>\n",
       "      <td>200.669998</td>\n",
       "      <td>199.900192</td>\n",
       "      <td>46534900.0</td>\n",
       "      <td>2019-04</td>\n",
       "    </tr>\n",
       "    <tr>\n",
       "      <th>2019-05-31 00:00:00+00:00</th>\n",
       "      <td>176.229996</td>\n",
       "      <td>177.990005</td>\n",
       "      <td>174.990005</td>\n",
       "      <td>175.070007</td>\n",
       "      <td>175.070007</td>\n",
       "      <td>27043600.0</td>\n",
       "      <td>2019-05</td>\n",
       "    </tr>\n",
       "    <tr>\n",
       "      <th>2019-06-24 00:00:00+00:00</th>\n",
       "      <td>198.539993</td>\n",
       "      <td>200.160004</td>\n",
       "      <td>198.169998</td>\n",
       "      <td>199.169998</td>\n",
       "      <td>199.169998</td>\n",
       "      <td>9025362.0</td>\n",
       "      <td>2019-06</td>\n",
       "    </tr>\n",
       "  </tbody>\n",
       "</table>\n",
       "<p>463 rows × 7 columns</p>\n",
       "</div>"
      ],
      "text/plain": [
       "                                 Open        High         Low       Close  \\\n",
       "Date                                                                        \n",
       "1980-12-31 00:00:00+00:00    0.611607    0.611607    0.609375    0.609375   \n",
       "1981-01-30 00:00:00+00:00    0.508929    0.508929    0.504464    0.504464   \n",
       "1981-02-27 00:00:00+00:00    0.473214    0.477679    0.473214    0.473214   \n",
       "1981-03-31 00:00:00+00:00    0.441964    0.441964    0.437500    0.437500   \n",
       "1981-04-30 00:00:00+00:00    0.506696    0.511161    0.506696    0.506696   \n",
       "...                               ...         ...         ...         ...   \n",
       "2019-02-28 00:00:00+00:00  174.320007  174.910004  172.919998  173.149994   \n",
       "2019-03-29 00:00:00+00:00  189.830002  190.080002  188.539993  189.949997   \n",
       "2019-04-30 00:00:00+00:00  203.059998  203.399994  199.110001  200.669998   \n",
       "2019-05-31 00:00:00+00:00  176.229996  177.990005  174.990005  175.070007   \n",
       "2019-06-24 00:00:00+00:00  198.539993  200.160004  198.169998  199.169998   \n",
       "\n",
       "                            Adj Close      Volume   STD-YM  \n",
       "Date                                                        \n",
       "1980-12-31 00:00:00+00:00    0.487276   8937600.0  1980-12  \n",
       "1981-01-30 00:00:00+00:00    0.403385  11547200.0  1981-01  \n",
       "1981-02-27 00:00:00+00:00    0.378397   3690400.0  1981-02  \n",
       "1981-03-31 00:00:00+00:00    0.349839   3998400.0  1981-03  \n",
       "1981-04-30 00:00:00+00:00    0.405170   3152800.0  1981-04  \n",
       "...                               ...         ...      ...  \n",
       "2019-02-28 00:00:00+00:00  172.485748  28215400.0  2019-02  \n",
       "2019-03-29 00:00:00+00:00  189.221313  23564000.0  2019-03  \n",
       "2019-04-30 00:00:00+00:00  199.900192  46534900.0  2019-04  \n",
       "2019-05-31 00:00:00+00:00  175.070007  27043600.0  2019-05  \n",
       "2019-06-24 00:00:00+00:00  199.169998   9025362.0  2019-06  \n",
       "\n",
       "[463 rows x 7 columns]"
      ]
     },
     "execution_count": 19,
     "metadata": {},
     "output_type": "execute_result"
    }
   ],
   "source": [
    "month_last_df"
   ]
  },
  {
   "cell_type": "code",
   "execution_count": 20,
   "metadata": {},
   "outputs": [],
   "source": [
    "# month_last_df에서 \n",
    "# 전월(인덱스가 1칸 밑으로 이동된 데이터)의 수정종가 데이터를 BF_1M에 대입 \n",
    "# 전년도(인덱스가 12칸 밑으로 이동된 데이터)의 수정종가 데이터를 BF_12M에 대입 \n",
    "month_last_df['BF_1M'] = month_last_df.shift(1)['Adj Close']\n",
    "month_last_df['BF_12M'] = month_last_df.shift(12)['Adj Close']"
   ]
  },
  {
   "cell_type": "code",
   "execution_count": null,
   "metadata": {},
   "outputs": [],
   "source": [
    "month_last_df.iloc[10:15]"
   ]
  },
  {
   "cell_type": "markdown",
   "metadata": {},
   "source": [
    "#### 거래내역 생성 \n",
    "- 모멘텀 인덱스 : (전월의 수정종가 / 전년도의 수정종가) - 1\n",
    "- 모멘텀 인덱스가 0보다는 크고 무한대가 아닌경우 -> 매수 "
   ]
  },
  {
   "cell_type": "code",
   "execution_count": null,
   "metadata": {},
   "outputs": [],
   "source": [
    "# 거래내역은 df에 생성\n",
    "df['trade'] = ''\n",
    "\n",
    "for idx in month_last_df.index:\n",
    "    signal = ''\n",
    "\n",
    "    # 절대 모멘텀 계산식\n",
    "    momentum_index = month_last_df.loc[idx, 'BF_1M'] / \\\n",
    "          month_last_df.loc[idx, 'BF_12M'] - 1\n",
    "    flag = (momentum_index > 0) & (momentum_index != np.inf)\n",
    "    # flag가 True인 경우 -> 매수\n",
    "    if flag:\n",
    "        signal = 'buy'\n",
    "    # 2010-01에 signal이 buy 측정이 되면 -> 2010-01 말일에 보유 2월 말일 전까지 \n",
    "    print(f\"날짜 : {idx}, 모멘텀 인덱스 : {momentum_index}, signal : {signal}\")\n",
    "    df.loc[idx:, 'trade'] = signal"
   ]
  },
  {
   "cell_type": "code",
   "execution_count": 23,
   "metadata": {},
   "outputs": [
    {
     "data": {
      "text/plain": [
       "trade\n",
       "buy    6092\n",
       "       3623\n",
       "Name: count, dtype: int64"
      ]
     },
     "execution_count": 23,
     "metadata": {},
     "output_type": "execute_result"
    }
   ],
   "source": [
    "df['trade'].value_counts()"
   ]
  },
  {
   "cell_type": "code",
   "execution_count": 25,
   "metadata": {},
   "outputs": [],
   "source": [
    "df.to_csv('test1.csv')\n",
    "month_last_df.to_csv('test2.csv')"
   ]
  },
  {
   "cell_type": "code",
   "execution_count": null,
   "metadata": {},
   "outputs": [],
   "source": [
    "# 수익율 계산\n",
    "df['rtn'] = 1\n",
    "\n",
    "for idx in df.index:\n",
    "    # 매수 조건식 : 전날의 trade가 '' 오늘의 trade가 'buy'\n",
    "    if (df.shift().loc[idx, 'trade'] == '') & \\\n",
    "        (df.loc[idx, 'trade'] == 'buy'):\n",
    "        buy = df.loc[idx, 'Adj Close']\n",
    "        print(f\"매수일 : {idx}, 매수가 : {buy}\")\n",
    "    # 매도 조건식 : 전날의 trade가 'buy' 오늘의 trade가 ''\n",
    "    elif (df.shift().loc[idx, 'trade'] == 'buy') & \\\n",
    "        (df.loc[idx, 'trade'] == ''):\n",
    "        sell = df.loc[idx, 'Adj Close']\n",
    "        print(f\"매도일 : {idx}, 매도가 : {sell}\")\n",
    "        # 수익율 계산\n",
    "        rtn = sell / buy\n",
    "        df.loc[idx, 'rtn'] = rtn\n",
    "        print(f\"수익율 : {rtn}\")"
   ]
  },
  {
   "cell_type": "code",
   "execution_count": 27,
   "metadata": {},
   "outputs": [
    {
     "name": "stdout",
     "output_type": "stream",
     "text": [
      "75.26608134071219\n"
     ]
    }
   ],
   "source": [
    "df['acc_rtn'] = df['rtn'].cumprod()\n",
    "print(df.iloc[-1, -1])"
   ]
  },
  {
   "cell_type": "markdown",
   "metadata": {},
   "source": [
    "### 절대 모멘텀 함수화 \n",
    "1. create_ym 함수 \n",
    "    - 매개변수 2개 \n",
    "        - 데이터프레임 (_df)\n",
    "        - 기준이 되는 컬럼의 이름 (_col = 'Adj Close')\n",
    "    - 데이터프레임의 복사본을 생성해서 작업 \n",
    "    - 컬럼에 Date가 존재하는가? 존재한다면 Date를 인덱스로 변환\n",
    "    - index를 시계열 데이터로 변경\n",
    "    - 데이터 중 결측치나 양의 무한대, 음의 무한대를 제외\n",
    "    - 기준이되는 컬럼을 제외하고 모두 삭제\n",
    "    - 'STD-YM' 파생변수를 생성하여 index에서 '년-월'을 추출하여 대입\n",
    "    - 위에서 작업된 데이터프레임을 되돌려준다. "
   ]
  },
  {
   "cell_type": "code",
   "execution_count": 29,
   "metadata": {},
   "outputs": [],
   "source": [
    "def create_ym(\n",
    "        _df, \n",
    "        _col = 'Adj Close'\n",
    "):\n",
    "    # 복사본 생성 \n",
    "    result = _df.copy()\n",
    "    # Date 컬럼이 존재하는가?\n",
    "    if 'Date' in result.columns:\n",
    "        # Date를 인덱스로 변경\n",
    "        result.set_index('Date', inplace=True)\n",
    "    # index를 시계열로 변경\n",
    "    result.index = pd.to_datetime(result.index, utc=True)\n",
    "    # 결측치 무한대 값들은 제외\n",
    "    flag = result.isin( [np.nan, np.inf, -np.inf] ).any(axis=1)\n",
    "    result = result.loc[~flag, [_col] ]\n",
    "    # 파생변수를 생성 \n",
    "    result['STD-YM'] = result.index.strftime('%Y-%m')\n",
    "    return result\n",
    "    "
   ]
  },
  {
   "cell_type": "code",
   "execution_count": 30,
   "metadata": {},
   "outputs": [],
   "source": [
    "amzn_df = pd.read_csv(\"../../csv/AMZN.csv\")"
   ]
  },
  {
   "cell_type": "code",
   "execution_count": 32,
   "metadata": {},
   "outputs": [],
   "source": [
    "ym_df = create_ym(amzn_df)"
   ]
  },
  {
   "cell_type": "markdown",
   "metadata": {},
   "source": [
    "- 두번째 함수 생성 (create_month)\n",
    "    - 매개변수 5개 \n",
    "        - STD-YM 컬럼이 존재하는 데이터프레임 (_df)\n",
    "        - 시작 시간 (_start = '2010-01-01')\n",
    "        - 종료 시간 (_end = datetime.now() )\n",
    "        - 모멘텀 기간 ( _momentum = 12 )\n",
    "        - 기준시점[월말, 월초] ( _select = 1 ) : 1인 경우 월말, 0인 경우 월초\n",
    "    - _select가 1이라면 \n",
    "        - _df에서 월말의 데이터들을 result에 대입\n",
    "    - 0이라면\n",
    "        - _df에서 월초의 데이터들을 result에 대입\n",
    "    - 둘다 아니라면 \n",
    "        - return을 이용해서 함수 종료, print를 이용하여 select 타입이 잘못되었다 출력\n",
    "    - 기준이 되는 컬럼의 이름[_df에서 첫번째 컬럼의 이름]을 변수에 저장\n",
    "    - 전월의 기준이되는 컬럼의 값을 BF1 컬럼에 대입 \n",
    "    - _momentum 개월 전 데이터를 BF2 컬럼에 대입 \n",
    "    - 시작시간과 종료시간을 기준으로 인덱스 필터링 \n",
    "    - 결과(result)를 되돌려준다.  : ym_df는 변경이 되지 않은 상태\n"
   ]
  },
  {
   "cell_type": "code",
   "execution_count": 40,
   "metadata": {},
   "outputs": [],
   "source": [
    "def create_month(\n",
    "        _df, \n",
    "        _start = '2010-01-01', \n",
    "        _end = datetime.now(), \n",
    "        _momentum = 12, \n",
    "        _select = 1\n",
    "):\n",
    "    # _select가 1과 같다면\n",
    "    if _select == 1:\n",
    "        # 월말 데이터의 조건식을 생성\n",
    "        flag = _df['STD-YM'] != _df.shift(-1)['STD-YM']\n",
    "        # result = _df.loc[flag]\n",
    "    elif _select == 0:\n",
    "        # 월초 데이터의 조건식 생성\n",
    "        flag = _df['STD-YM'] != _df.shift(1)['STD-YM']\n",
    "        # result = _df.loc[flag]\n",
    "    else:\n",
    "        return \"_select의 값은 0 아니면 1 입니다.\"\n",
    "    result = _df.loc[flag]\n",
    "    # 기준이 되는 컬럼의 이름을 변수에 저장 \n",
    "    col = result.columns[0]\n",
    "    # BF1컬럼을 생성\n",
    "    # 전월의 데이터를 대입\n",
    "    result['BF1'] = result.shift(1)[col]\n",
    "    # _momentum 값의 과거의 개월수 데이터 대입 \n",
    "    result['BF2'] = result.shift(_momentum)[col]\n",
    "    try:\n",
    "        result.index = result.index.tz_localize(None)\n",
    "    except Exception as e:\n",
    "        print(e)\n",
    "    # 시작 시간과 종료시간을 기준으로 데이터 필터링 \n",
    "    result = result.loc[_start : _end]\n",
    "    return result\n",
    "    \n",
    "    "
   ]
  },
  {
   "cell_type": "code",
   "execution_count": 42,
   "metadata": {},
   "outputs": [],
   "source": [
    "# warning 메시지 출력 금지 \n",
    "import warnings\n",
    "warnings.filterwarnings('ignore')"
   ]
  },
  {
   "cell_type": "code",
   "execution_count": 47,
   "metadata": {},
   "outputs": [],
   "source": [
    "month_df = create_month(ym_df, _select=1)"
   ]
  },
  {
   "cell_type": "markdown",
   "metadata": {},
   "source": [
    "- 세번째 함수 \n",
    "    - 매개변수 3개 \n",
    "        - trade 컬럼이 추가될 데이터프레임(_df1) -> create_ym의 결과값\n",
    "        - 월말/월초의 데이터프레임(_df2) -> create_month함수의 결과값\n",
    "        - 모멘텀 스코어 (_score = 1)\n",
    "    - _df1의 복사본을 생성 (result)\n",
    "    - result에 trade 컬럼을 생성하고 '' 대입\n",
    "    - 반복문을 이용하여 구매내역 추가 \n",
    "        - _df2 데이터프레임 이용하여 momentum_index를 생성\n",
    "            - BF1 / BF2 - _socre\n",
    "        - 구매 신호 (signal)을 생성\n",
    "        - result에 있는 trade 컬럼에 buy를 대입\n",
    "    - 구매내역이 추가된 데이터프레임을 되돌려준다. "
   ]
  },
  {
   "cell_type": "code",
   "execution_count": 51,
   "metadata": {},
   "outputs": [],
   "source": [
    "def create_trade(\n",
    "        _df1, \n",
    "        _df2, \n",
    "        _score = 1\n",
    "):\n",
    "    # 복사본 생성\n",
    "    result = _df1.copy()\n",
    "    # trade 컬럼을 추가 \n",
    "    result['trade'] = ''\n",
    "    try:\n",
    "        result.index = result.index.tz_localize(None)\n",
    "    except Exception as e:\n",
    "        print(e)\n",
    "\n",
    "    # 반복문 생성 -> _df2를 기준으로 반복\n",
    "    for idx in _df2.index:\n",
    "        signal = ''\n",
    "        # 모멘텀 인덱스를 계산\n",
    "        momentum_index = _df2.loc[idx, 'BF1'] / \\\n",
    "              _df2.loc[idx,'BF2'] - _score\n",
    "        # 모멘텀 인덱스를 이용하여 구매 신호 생성\n",
    "        flag = (momentum_index > 0) & (momentum_index != np.inf)\n",
    "        if flag :\n",
    "            signal = 'buy'\n",
    "        # 출력 \n",
    "        print(f\"날짜 : {idx}, 모멘텀 인덱스 : {momentum_index}, signal : {signal}\")\n",
    "        # 구매 신호를 result에 대입 \n",
    "        result.loc[idx:, 'trade'] = signal\n",
    "    \n",
    "    return result\n"
   ]
  },
  {
   "cell_type": "code",
   "execution_count": null,
   "metadata": {},
   "outputs": [],
   "source": [
    "trade_df = create_trade(ym_df, month_df)"
   ]
  },
  {
   "cell_type": "code",
   "execution_count": 54,
   "metadata": {},
   "outputs": [],
   "source": [
    "# 수익율을 계산하는 함수 \n",
    "def create_rtn(_df):\n",
    "    # 복사본 생성 \n",
    "    result = _df.copy()\n",
    "    # 기준이 되는 컬럼의 이름 \n",
    "    col = result.columns[0]\n",
    "\n",
    "    # rtn 컬럼을 생성 1을 대입 \n",
    "    result['rtn'] = 1\n",
    "\n",
    "    for idx in result.index:\n",
    "        # 매수 \n",
    "        if (result.shift().loc[idx, 'trade'] == '') &\\\n",
    "            (result.loc[idx, 'trade'] == 'buy'):\n",
    "            buy = result.loc[idx, col]\n",
    "            print(f\"매수일 : {idx}, 매수가 : {buy}\")\n",
    "        # 매도\n",
    "        elif (result.shift().loc[idx, 'trade'] == 'buy') &\\\n",
    "            (result.loc[idx, 'trade'] == ''):\n",
    "            sell = result.loc[idx, col]\n",
    "            print(f\"매도일 : {idx}, 매도가 : {sell}\")\n",
    "            # 수익율 계산\n",
    "            rtn = sell / buy\n",
    "            # 수익율을 데이터프레임에 대입 \n",
    "            result.loc[idx, 'rtn'] = rtn\n",
    "            print(f\"수익율 : {rtn}\")\n",
    "    # 누적수익율 계산하고 대입 \n",
    "    result['acc_rtn'] = result['rtn'].cumprod()\n",
    "    # 총 누적수익율을 변수에 저장 \n",
    "    acc_rtn = result.iloc[-1, -1]\n",
    "    return result, acc_rtn\n"
   ]
  },
  {
   "cell_type": "code",
   "execution_count": 55,
   "metadata": {},
   "outputs": [
    {
     "name": "stdout",
     "output_type": "stream",
     "text": [
      "매수일 : 2010-01-29 00:00:00, 매수가 : 125.410004\n",
      "매도일 : 2012-03-30 00:00:00, 매도가 : 202.509995\n",
      "수익율 : 1.6147834187135501\n",
      "매수일 : 2012-04-30 00:00:00, 매수가 : 231.899994\n",
      "매도일 : 2014-10-31 00:00:00, 매도가 : 305.459991\n",
      "수익율 : 1.31720568737919\n",
      "매수일 : 2015-03-31 00:00:00, 매수가 : 372.100006\n"
     ]
    },
    {
     "data": {
      "text/plain": [
       "(              Adj Close   STD-YM trade  rtn   acc_rtn\n",
       " Date                                                 \n",
       " 1997-05-15     1.958333  1997-05        1.0  1.000000\n",
       " 1997-05-16     1.729167  1997-05        1.0  1.000000\n",
       " 1997-05-19     1.708333  1997-05        1.0  1.000000\n",
       " 1997-05-20     1.635417  1997-05        1.0  1.000000\n",
       " 1997-05-21     1.427083  1997-05        1.0  1.000000\n",
       " ...                 ...      ...   ...  ...       ...\n",
       " 2019-06-18  1901.369995  2019-06   buy  1.0  2.127002\n",
       " 2019-06-19  1908.790039  2019-06   buy  1.0  2.127002\n",
       " 2019-06-20  1918.189941  2019-06   buy  1.0  2.127002\n",
       " 2019-06-21  1911.300049  2019-06   buy  1.0  2.127002\n",
       " 2019-06-24  1907.953857  2019-06   buy  1.0  2.127002\n",
       " \n",
       " [5563 rows x 5 columns],\n",
       " 2.1270019030151)"
      ]
     },
     "execution_count": 55,
     "metadata": {},
     "output_type": "execute_result"
    }
   ],
   "source": [
    "create_rtn(trade_df)"
   ]
  }
 ],
 "metadata": {
  "kernelspec": {
   "display_name": "Python 3",
   "language": "python",
   "name": "python3"
  },
  "language_info": {
   "codemirror_mode": {
    "name": "ipython",
    "version": 3
   },
   "file_extension": ".py",
   "mimetype": "text/x-python",
   "name": "python",
   "nbconvert_exporter": "python",
   "pygments_lexer": "ipython3",
   "version": "3.11.1"
  }
 },
 "nbformat": 4,
 "nbformat_minor": 2
}
